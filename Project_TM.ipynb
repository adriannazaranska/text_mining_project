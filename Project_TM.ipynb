{
 "cells": [
  {
   "cell_type": "markdown",
   "id": "7ff05913-5ea1-42a5-9df4-eaf159900930",
   "metadata": {},
   "source": [
    "# Text Mining Project: AUC Courses Recommender\n",
    "## Desrciption\n",
    "In this notebook you will find the source code for the Amsterdam University College (AUC) Course Recommender which was made for a Project for the course called Text Mining. (Dalszy opis ...)"
   ]
  },
  {
   "cell_type": "markdown",
   "id": "8414d2e0-5945-4c37-91d7-5515d7abb683",
   "metadata": {},
   "source": [
    "## Code\n",
    "Imports:"
   ]
  },
  {
   "cell_type": "code",
   "execution_count": 37,
   "id": "d266089f-734d-452d-a09a-13e1cf8a8dcc",
   "metadata": {},
   "outputs": [],
   "source": [
    "import pandas as pd\n",
    "from sklearn.feature_extraction.text import TfidfVectorizer\n",
    "from sklearn.metrics.pairwise import cosine_similarity\n",
    "from gensim.parsing.preprocessing import remove_stopwords"
   ]
  },
  {
   "cell_type": "markdown",
   "id": "3d51f181-e3e9-4d8e-97d9-1b088c3a0fba",
   "metadata": {},
   "source": [
    "Loading and dealing with the dataset"
   ]
  },
  {
   "cell_type": "code",
   "execution_count": 11,
   "id": "43a67314-7843-4fdb-b320-8ff3dd0cccc0",
   "metadata": {},
   "outputs": [],
   "source": [
    "#Loading the data in as a DataFrame.\n",
    "data = pd.read_csv(\"datasets/recommender_dataset.csv\")\n",
    "\n",
    "#Droping the rows which had noting in the row in the course_catalogue_number column.\n",
    "courses = data.dropna(subset=['course_catalogue_number'])\n",
    "\n",
    "#Getting out all of the duplicates form the data, just in case there are any.\n",
    "indices = pd.Series(courses.index, index=courses['course_catalogue_number']).drop_duplicates()"
   ]
  },
  {
   "cell_type": "code",
   "execution_count": 13,
   "id": "20959f1c-f2c5-4256-a2ed-2f3e15fcf073",
   "metadata": {},
   "outputs": [
    {
     "name": "stdout",
     "output_type": "stream",
     "text": [
      "master's cultural and social anthropology\n"
     ]
    }
   ],
   "source": [
    "print(courses['is_part_of'][1].lower())"
   ]
  },
  {
   "cell_type": "code",
   "execution_count": 43,
   "id": "e6a324b2-1717-4ca5-b845-6b241eb914a3",
   "metadata": {},
   "outputs": [],
   "source": [
    "#Removing the stop words from columns: \"is_part_of\" and \"course_description\"\n",
    "stop = set(stopwords.words('english'))\n",
    "for i in range(len(courses.count())):\n",
    "    courses.loc[i, 'course_name'] = courses.loc[i, 'course_name'].lower()\n",
    "    courses.loc[i, 'college_graduate'] = courses.loc[i, 'college_graduate'].lower()\n",
    "    courses.loc[i, 'language_of_instruction'] = courses.loc[i, 'language_of_instruction'].lower()\n",
    "    courses.loc[i, 'is_part_of'] = courses.loc[i, 'is_part_of'].lower()\n",
    "    courses.loc[i, 'is_part_of'] = remove_stopwords(courses.loc[i, 'is_part_of'].lower())\n",
    "    courses.loc[i, 'course_description'] = courses.loc[i, 'course_description'].lower()\n",
    "    courses.loc[i, 'course_description'] = remove_stopwords(courses.loc[i, 'course_description'].lower())"
   ]
  },
  {
   "cell_type": "code",
   "execution_count": 45,
   "id": "aa6731c6-e891-45f7-8594-7f609e80b3a9",
   "metadata": {},
   "outputs": [
    {
     "name": "stdout",
     "output_type": "stream",
     "text": [
      "english\n"
     ]
    }
   ],
   "source": [
    "print(courses['language_of_instruction'][0])"
   ]
  },
  {
   "cell_type": "code",
   "execution_count": 49,
   "id": "18e8f5b6-0b6d-42b7-88a3-d3e214c202c0",
   "metadata": {},
   "outputs": [
    {
     "name": "stderr",
     "output_type": "stream",
     "text": [
      "/var/folders/nz/8r1yxrw92259wsg5lql4t6hm0000gn/T/ipykernel_65388/3429331287.py:2: SettingWithCopyWarning: \n",
      "A value is trying to be set on a copy of a slice from a DataFrame.\n",
      "Try using .loc[row_indexer,col_indexer] = value instead\n",
      "\n",
      "See the caveats in the documentation: https://pandas.pydata.org/pandas-docs/stable/user_guide/indexing.html#returning-a-view-versus-a-copy\n",
      "  courses['combined_text'] = courses[['course_name', 'is_part_of', 'college_graduate', 'course_description']].fillna('').agg(' '.join, axis=1)\n"
     ]
    }
   ],
   "source": [
    "#Making a new column with all of the text from the row.\n",
    "courses['combined_text'] = courses[['course_name', 'is_part_of', 'college_graduate', 'course_description']].fillna('').agg(' '.join, axis=1)"
   ]
  },
  {
   "cell_type": "code",
   "execution_count": 27,
   "id": "8733d2b5-321b-4954-b55b-7b45142515ff",
   "metadata": {},
   "outputs": [],
   "source": [
    "#Vectorizing the column courses['combined_text'].\n",
    "vectorizer = TfidfVectorizer(stop_words='english')\n",
    "tfidf_matrix = vectorizer.fit_transform(courses['combined_text'])"
   ]
  },
  {
   "cell_type": "code",
   "execution_count": 29,
   "id": "b0a3eb93-4167-4b8b-9cf3-aa8b398a870a",
   "metadata": {},
   "outputs": [],
   "source": [
    "#Getting the cosine similarities between the rows of the matrix (these are besically the similiarities between the courses).\n",
    "cosine_sim = cosine_similarity(tfidf_matrix, tfidf_matrix)"
   ]
  },
  {
   "cell_type": "code",
   "execution_count": 31,
   "id": "2cd23408-c237-4d00-b43e-767f1176d205",
   "metadata": {},
   "outputs": [],
   "source": [
    "#Test of the cosine similarities to make the first predictions and see if they \n",
    "#are somewhat correct.\n",
    "def recommend_courses(course_id, cosine_sim=cosine_sim, top_n=5):\n",
    "    idx = indices.get(course_id)\n",
    "    if idx is None:\n",
    "        return []\n",
    "    sim_scores = list(enumerate(cosine_sim[idx]))\n",
    "    sim_scores = sorted(sim_scores, key=lambda x: x[1], reverse=True)\n",
    "    sim_scores = sim_scores[1:top_n+1] \n",
    "    course_indices = [i[0] for i in sim_scores]\n",
    "    return courses.iloc[course_indices][['course_name', 'course_catalogue_number']]"
   ]
  },
  {
   "cell_type": "code",
   "execution_count": 33,
   "id": "b147b816-5643-4599-9baf-f393eb87ccc3",
   "metadata": {},
   "outputs": [
    {
     "data": {
      "text/html": [
       "<div>\n",
       "<style scoped>\n",
       "    .dataframe tbody tr th:only-of-type {\n",
       "        vertical-align: middle;\n",
       "    }\n",
       "\n",
       "    .dataframe tbody tr th {\n",
       "        vertical-align: top;\n",
       "    }\n",
       "\n",
       "    .dataframe thead th {\n",
       "        text-align: right;\n",
       "    }\n",
       "</style>\n",
       "<table border=\"1\" class=\"dataframe\">\n",
       "  <thead>\n",
       "    <tr style=\"text-align: right;\">\n",
       "      <th></th>\n",
       "      <th>course_name</th>\n",
       "      <th>course_catalogue_number</th>\n",
       "    </tr>\n",
       "  </thead>\n",
       "  <tbody>\n",
       "    <tr>\n",
       "      <th>1999</th>\n",
       "      <td>Light on Matter</td>\n",
       "      <td>5113LIOM6Y</td>\n",
       "    </tr>\n",
       "    <tr>\n",
       "      <th>2304</th>\n",
       "      <td>Materials for Light-Energy Conversion</td>\n",
       "      <td>5354MFLE6Y</td>\n",
       "    </tr>\n",
       "    <tr>\n",
       "      <th>2444</th>\n",
       "      <td>Molecular Spectroscopy</td>\n",
       "      <td>5112MOSS6Y</td>\n",
       "    </tr>\n",
       "    <tr>\n",
       "      <th>1890</th>\n",
       "      <td>Introduction to the Energy Transition</td>\n",
       "      <td>900109SCIY</td>\n",
       "    </tr>\n",
       "    <tr>\n",
       "      <th>2673</th>\n",
       "      <td>Physics of Sustainable Energy</td>\n",
       "      <td>5092PHSE6Y</td>\n",
       "    </tr>\n",
       "  </tbody>\n",
       "</table>\n",
       "</div>"
      ],
      "text/plain": [
       "                                course_name course_catalogue_number\n",
       "1999                        Light on Matter              5113LIOM6Y\n",
       "2304  Materials for Light-Energy Conversion              5354MFLE6Y\n",
       "2444                 Molecular Spectroscopy              5112MOSS6Y\n",
       "1890  Introduction to the Energy Transition              900109SCIY\n",
       "2673          Physics of Sustainable Energy              5092PHSE6Y"
      ]
     },
     "execution_count": 33,
     "metadata": {},
     "output_type": "execute_result"
    }
   ],
   "source": [
    "recommend_courses('118110146Y')"
   ]
  },
  {
   "cell_type": "code",
   "execution_count": 35,
   "id": "a440d2c0-56d3-4817-a484-20e0733c1508",
   "metadata": {},
   "outputs": [
    {
     "data": {
      "text/html": [
       "<div>\n",
       "<style scoped>\n",
       "    .dataframe tbody tr th:only-of-type {\n",
       "        vertical-align: middle;\n",
       "    }\n",
       "\n",
       "    .dataframe tbody tr th {\n",
       "        vertical-align: top;\n",
       "    }\n",
       "\n",
       "    .dataframe thead th {\n",
       "        text-align: right;\n",
       "    }\n",
       "</style>\n",
       "<table border=\"1\" class=\"dataframe\">\n",
       "  <thead>\n",
       "    <tr style=\"text-align: right;\">\n",
       "      <th></th>\n",
       "      <th>course_name</th>\n",
       "      <th>course_catalogue_number</th>\n",
       "    </tr>\n",
       "  </thead>\n",
       "  <tbody>\n",
       "    <tr>\n",
       "      <th>477</th>\n",
       "      <td>Business Law and Ethics</td>\n",
       "      <td>6012B0428Y</td>\n",
       "    </tr>\n",
       "    <tr>\n",
       "      <th>785</th>\n",
       "      <td>Corporate Law</td>\n",
       "      <td>6012B0458Y</td>\n",
       "    </tr>\n",
       "    <tr>\n",
       "      <th>1738</th>\n",
       "      <td>International Law of Military Operations</td>\n",
       "      <td>3854INQ8VY</td>\n",
       "    </tr>\n",
       "    <tr>\n",
       "      <th>188</th>\n",
       "      <td>Amsterdam Law Clinics</td>\n",
       "      <td>3554ALCLKY</td>\n",
       "    </tr>\n",
       "    <tr>\n",
       "      <th>2783</th>\n",
       "      <td>Principles and Foundations of International Law</td>\n",
       "      <td>3554PRFIVY</td>\n",
       "    </tr>\n",
       "  </tbody>\n",
       "</table>\n",
       "</div>"
      ],
      "text/plain": [
       "                                          course_name course_catalogue_number\n",
       "477                           Business Law and Ethics              6012B0428Y\n",
       "785                                     Corporate Law              6012B0458Y\n",
       "1738         International Law of Military Operations              3854INQ8VY\n",
       "188                             Amsterdam Law Clinics              3554ALCLKY\n",
       "2783  Principles and Foundations of International Law              3554PRFIVY"
      ]
     },
     "execution_count": 35,
     "metadata": {},
     "output_type": "execute_result"
    }
   ],
   "source": [
    "recommend_courses('900264SCIY')"
   ]
  },
  {
   "cell_type": "code",
   "execution_count": null,
   "id": "6ca67234-a2d0-4d7e-ad09-c8a39d6d807a",
   "metadata": {},
   "outputs": [],
   "source": []
  }
 ],
 "metadata": {
  "kernelspec": {
   "display_name": "Python 3 (ipykernel)",
   "language": "python",
   "name": "python3"
  },
  "language_info": {
   "codemirror_mode": {
    "name": "ipython",
    "version": 3
   },
   "file_extension": ".py",
   "mimetype": "text/x-python",
   "name": "python",
   "nbconvert_exporter": "python",
   "pygments_lexer": "ipython3",
   "version": "3.11.8"
  }
 },
 "nbformat": 4,
 "nbformat_minor": 5
}
