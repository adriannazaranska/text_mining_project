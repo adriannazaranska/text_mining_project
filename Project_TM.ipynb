{
 "cells": [
  {
   "cell_type": "markdown",
   "id": "7ff05913-5ea1-42a5-9df4-eaf159900930",
   "metadata": {},
   "source": [
    "# AUC Course Recommender\n",
    "## Description\n",
    "In this notebook is the source code for the Amsterdam University College (AUC) Course Recommender. This course recommender is part of a project for the Text Mining course."
   ]
  },
  {
   "cell_type": "markdown",
   "id": "8414d2e0-5945-4c37-91d7-5515d7abb683",
   "metadata": {},
   "source": [
    "## Code\n",
    "### Imports:"
   ]
  },
  {
   "cell_type": "code",
   "execution_count": 20,
   "id": "d266089f-734d-452d-a09a-13e1cf8a8dcc",
   "metadata": {
    "tags": []
   },
   "outputs": [],
   "source": [
    "import pandas as pd\n",
    "import numpy as np\n",
    "import nltk\n",
    "import re\n",
    "import string\n",
    "from sklearn.metrics.pairwise import cosine_similarity\n",
    "from gensim.parsing.preprocessing import remove_stopwords\n",
    "from gensim.models.doc2vec import Doc2Vec, TaggedDocument\n",
    "from nltk.tokenize import word_tokenize\n",
    "from sklearn.metrics import ndcg_score"
   ]
  },
  {
   "cell_type": "markdown",
   "id": "2582a417-d31d-45ad-8a7f-57f0fe06122a",
   "metadata": {},
   "source": [
    "### Loading and Preprocessing the Data"
   ]
  },
  {
   "cell_type": "markdown",
   "id": "5b0fcd2a-72d4-4372-9603-47c2ad5295ac",
   "metadata": {},
   "source": [
    "Loading the data in as a pandas dataframe:"
   ]
  },
  {
   "cell_type": "code",
   "execution_count": 24,
   "id": "ee728795-e823-47b3-9745-bae932c185b8",
   "metadata": {
    "tags": []
   },
   "outputs": [],
   "source": [
    "data = pd.read_csv(\"datasets/recommender_dataset.csv\")"
   ]
  },
  {
   "cell_type": "markdown",
   "id": "810590b6-12b1-4323-9a5b-402db671595f",
   "metadata": {},
   "source": [
    "Next we drop the rows which have nothing in the course_catalogue_number column. These rows are empty because the course scraper did not scrape information from courses whose websites were not written in English, meaning that after dropping these rows all courses in the dataset are taught in English."
   ]
  },
  {
   "cell_type": "code",
   "execution_count": 26,
   "id": "39e5cb04-6d99-4f92-8702-39a0887a376b",
   "metadata": {
    "tags": []
   },
   "outputs": [],
   "source": [
    "courses = data.dropna(subset=['course_catalogue_number', 'is_part_of', 'language_of_instruction', 'course_description'])"
   ]
  },
  {
   "cell_type": "markdown",
   "id": "7f043a79-e1e8-45de-989f-fc5c3827e200",
   "metadata": {},
   "source": [
    "Now we remove the stop words from dataframe's columns, as these act as noise that do not add much discriminative value in terms of similarity. "
   ]
  },
  {
   "cell_type": "code",
   "execution_count": 30,
   "id": "e6a324b2-1717-4ca5-b845-6b241eb914a3",
   "metadata": {
    "tags": []
   },
   "outputs": [],
   "source": [
    "courses = courses.reset_index(drop=True)\n",
    "for i in range(1, int(len(courses))):\n",
    "    courses.loc[i, 'course_name'] = courses.loc[i, 'course_name'].lower()\n",
    "    courses.loc[i, 'college_graduate'] = courses.loc[i, 'college_graduate'].lower()\n",
    "    courses.loc[i, 'language_of_instruction'] = courses.loc[i, 'language_of_instruction'].lower()\n",
    "    courses.loc[i, 'is_part_of'] = courses['is_part_of'][i].lower()\n",
    "    courses.loc[i, 'is_part_of'] = remove_stopwords(courses.loc[i, 'is_part_of'])\n",
    "    courses.loc[i, 'course_description'] = courses.iloc[i, 7].lower()\n",
    "    courses.loc[i, 'course_description'] = remove_stopwords(courses.loc[i, 'course_description'])"
   ]
  },
  {
   "cell_type": "markdown",
   "id": "77a74281-cac0-47c2-a55b-7b5ac707c019",
   "metadata": {},
   "source": [
    "We also remove punctuation from the text, as this also acts as noise:"
   ]
  },
  {
   "cell_type": "code",
   "execution_count": 32,
   "id": "b346da1b-8c9b-4be4-9d10-9f807d5d03b6",
   "metadata": {
    "tags": []
   },
   "outputs": [],
   "source": [
    "for i in range(len(courses)):\n",
    "    courses.loc[i, 'course_name'] = re.sub(r'[^\\w\\s]+', '', courses['course_name'][i])\n",
    "    courses.loc[i, 'is_part_of'] = re.sub(r'[^\\w\\s]+', '', courses['is_part_of'][i])\n",
    "    courses.loc[i, 'college_graduate'] = re.sub(r'[^\\w\\s]+', '', courses['college_graduate'][i])\n",
    "    courses.loc[i, 'course_description'] = re.sub(r'[^\\w\\s]+', '', courses['course_description'][i])"
   ]
  },
  {
   "cell_type": "markdown",
   "id": "c1108a63-be32-4126-b67e-25c4fe0c5fc7",
   "metadata": {},
   "source": [
    "Sources for this part of the code:\n",
    "* https://pandas.pydata.org/docs/reference/api/pandas.DataFrame.loc.html\n",
    "* https://www.w3schools.com/python/pandas/ref_df_reset_index.asp#:~:text=Definition%20and%20Usage,this%2C%20use%20the%20drop%20parameter.\n",
    "* https://pandas.pydata.org/docs/reference/api/pandas.DataFrame.reset_index.html\n",
    "* https://www.geeksforgeeks.org/removing-stop-words-nltk-python/\n",
    "* https://towardsdatascience.com/remove-punctuation-pandas-3e461efe9584/\n",
    "* https://www.geeksforgeeks.org/python-remove-punctuation-from-string/"
   ]
  },
  {
   "cell_type": "markdown",
   "id": "695f9a6a-4a25-42a0-baf3-cdeb0780dcd6",
   "metadata": {},
   "source": [
    "### Tokenization"
   ]
  },
  {
   "cell_type": "markdown",
   "id": "b4382f74-9aa1-4b65-a53d-7488a8a36301",
   "metadata": {},
   "source": [
    "Before vectoring the data, we tokenise it. We do this for the 'course_name', 'is_part_of', 'college_graduate', and 'course_description' columns."
   ]
  },
  {
   "cell_type": "code",
   "execution_count": 36,
   "id": "af545fd2-c87a-44a6-bb56-f24f92b2c457",
   "metadata": {
    "tags": []
   },
   "outputs": [],
   "source": [
    "for i in range(len(courses)):\n",
    "    courses.loc[i, 'course_name'] = nltk.tokenize.WordPunctTokenizer().tokenize(courses['course_name'][i])\n",
    "    courses.loc[i, 'is_part_of'] = nltk.tokenize.WordPunctTokenizer().tokenize(courses['is_part_of'][i])\n",
    "    courses.loc[i, 'college_graduate'] = nltk.tokenize.WordPunctTokenizer().tokenize(courses['college_graduate'][i])\n",
    "    courses.loc[i, 'course_description'] = nltk.tokenize.WordPunctTokenizer().tokenize(courses['course_description'][i])"
   ]
  },
  {
   "cell_type": "markdown",
   "id": "8cabb998-fe48-4c36-8621-e0eaec63b0bc",
   "metadata": {},
   "source": [
    "We now create a new column with the text from all three columns joined together, which we will soon vectorise and use in the recommender system."
   ]
  },
  {
   "cell_type": "code",
   "execution_count": 38,
   "id": "18e8f5b6-0b6d-42b7-88a3-d3e214c202c0",
   "metadata": {
    "tags": []
   },
   "outputs": [],
   "source": [
    "courses['combined_text'] = courses['course_name'] + courses['is_part_of'] + courses['college_graduate'] + courses['course_description']"
   ]
  },
  {
   "cell_type": "markdown",
   "id": "7bb5e9bc-7ede-4325-a7d2-f597f998c1c7",
   "metadata": {},
   "source": [
    "Sources for this part of the code:\n",
    "* https://www.nltk.org/api/nltk.tokenize.regexp.html\n",
    "* https://www.kaggle.com/code/kanikanarang94/tokenization-using-nltk\n",
    "* https://saturncloud.io/blog/how-to-combine-two-columns-in-a-pandas-dataframe/"
   ]
  },
  {
   "cell_type": "markdown",
   "id": "4c0d70e0-3567-42a7-a2d1-597a2df78c4f",
   "metadata": {},
   "source": [
    "### Vectorization"
   ]
  },
  {
   "cell_type": "markdown",
   "id": "2081209c-d4ad-44ab-80ac-bc14aba28b1a",
   "metadata": {},
   "source": [
    "First we tag the \"combined_text\" column in order to be able to vectorize it with doc2vec."
   ]
  },
  {
   "cell_type": "code",
   "execution_count": 42,
   "id": "8733d2b5-321b-4954-b55b-7b45142515ff",
   "metadata": {
    "tags": []
   },
   "outputs": [],
   "source": [
    "tagged_data = [TaggedDocument(words=doc, tags=[cid]) for doc, cid in zip(courses['combined_text'], courses['course_catalogue_number'])]"
   ]
  },
  {
   "cell_type": "markdown",
   "id": "68cae78b-90f7-4181-8351-a5776501a5e9",
   "metadata": {},
   "source": [
    "Next we vectorise the \"combined_text\" column."
   ]
  },
  {
   "cell_type": "code",
   "execution_count": 44,
   "id": "59e70b85-51d0-459d-80d8-33ccd1055d0c",
   "metadata": {
    "tags": []
   },
   "outputs": [
    {
     "name": "stdout",
     "output_type": "stream",
     "text": [
      "iteration 0\n",
      "iteration 1\n",
      "iteration 2\n",
      "iteration 3\n",
      "iteration 4\n",
      "iteration 5\n",
      "iteration 6\n",
      "iteration 7\n",
      "iteration 8\n",
      "iteration 9\n",
      "iteration 10\n",
      "iteration 11\n",
      "iteration 12\n",
      "iteration 13\n",
      "iteration 14\n",
      "iteration 15\n",
      "iteration 16\n",
      "iteration 17\n",
      "iteration 18\n",
      "iteration 19\n",
      "iteration 20\n",
      "iteration 21\n",
      "iteration 22\n",
      "iteration 23\n",
      "iteration 24\n",
      "iteration 25\n",
      "iteration 26\n",
      "iteration 27\n",
      "iteration 28\n",
      "iteration 29\n",
      "iteration 30\n",
      "iteration 31\n",
      "iteration 32\n",
      "iteration 33\n",
      "iteration 34\n",
      "iteration 35\n",
      "iteration 36\n",
      "iteration 37\n",
      "iteration 38\n",
      "iteration 39\n",
      "iteration 40\n",
      "iteration 41\n",
      "iteration 42\n",
      "iteration 43\n",
      "iteration 44\n",
      "iteration 45\n",
      "iteration 46\n",
      "iteration 47\n",
      "iteration 48\n",
      "iteration 49\n",
      "iteration 50\n",
      "iteration 51\n",
      "iteration 52\n",
      "iteration 53\n",
      "iteration 54\n",
      "iteration 55\n",
      "iteration 56\n",
      "iteration 57\n",
      "iteration 58\n",
      "iteration 59\n",
      "iteration 60\n",
      "iteration 61\n",
      "iteration 62\n",
      "iteration 63\n",
      "iteration 64\n",
      "iteration 65\n",
      "iteration 66\n",
      "iteration 67\n",
      "iteration 68\n",
      "iteration 69\n",
      "iteration 70\n",
      "iteration 71\n",
      "iteration 72\n",
      "iteration 73\n",
      "iteration 74\n",
      "iteration 75\n",
      "iteration 76\n",
      "iteration 77\n",
      "iteration 78\n",
      "iteration 79\n",
      "iteration 80\n",
      "iteration 81\n",
      "iteration 82\n",
      "iteration 83\n",
      "iteration 84\n",
      "iteration 85\n",
      "iteration 86\n",
      "iteration 87\n",
      "iteration 88\n",
      "iteration 89\n",
      "iteration 90\n",
      "iteration 91\n",
      "iteration 92\n",
      "iteration 93\n",
      "iteration 94\n",
      "iteration 95\n",
      "iteration 96\n",
      "iteration 97\n",
      "iteration 98\n",
      "iteration 99\n"
     ]
    }
   ],
   "source": [
    "params = {\n",
    "    'vector_size': 100, # dimension of embeddings\n",
    "    'window': 5, # window -/+ before and after focus word\n",
    "    'epochs': 5, # number of iterations over the corpus\n",
    "    'min_count': 5, # filter on words whose frequency is below this count\n",
    "    'workers': 4, # how many cores to use\n",
    "    'alpha': 0.05 # initial learning rate for SGD. This is lambda in the class notes\n",
    "}\n",
    "\n",
    "model = Doc2Vec(**params)\n",
    "  \n",
    "model.build_vocab(tagged_data)\n",
    "\n",
    "max_epochs = 100\n",
    "\n",
    "for epoch in range(max_epochs):\n",
    "    print('iteration {0}'.format(epoch))\n",
    "    model.train(tagged_data,\n",
    "                total_examples=model.corpus_count,\n",
    "                epochs=1)\n",
    "    model.alpha = 0.175\n",
    "    model.min_alpha = model.alpha"
   ]
  },
  {
   "cell_type": "markdown",
   "id": "220eac8d-fa67-4c0e-9fd1-fc159374f2b6",
   "metadata": {},
   "source": [
    "Sources for this part of the code (these sources are also relevent for the following part of this notebook):\n",
    "* https://radimrehurek.com/gensim/models/doc2vec.html\n",
    "* https://radimrehurek.com/gensim/auto_examples/tutorials/run_doc2vec_lee.html\n",
    "* https://medium.com/@mishra.thedeepak/doc2vec-simple-implementation-example-df2afbbfbad5\n",
    "* https://spotintelligence.com/2023/09/06/doc2vec/#What_is_Doc2Vec\n",
    "* The parameters in the code were taken from the notebook where Word2Vec was introduced."
   ]
  },
  {
   "cell_type": "markdown",
   "id": "f26ca921-6255-42e8-8d00-cbd80aa2379b",
   "metadata": {},
   "source": [
    "### Recommender"
   ]
  },
  {
   "cell_type": "code",
   "execution_count": 47,
   "id": "2cd23408-c237-4d00-b43e-767f1176d205",
   "metadata": {
    "tags": []
   },
   "outputs": [],
   "source": [
    "def recommend_courses(li_course_ids, model, courses_df, top_n=5):\n",
    "    #getting the vectors in form the doc2vec model and making one vector out of all the courses in the li_course_ids\n",
    "    vectors = [model.dv[tag] for tag in li_course_ids]\n",
    "    av_vector = np.mean(vectors, axis=0).reshape(1, -1)\n",
    "    all_vectors = np.array([model.dv[i] for i in range(len(model.dv)) if i not in li_course_ids])\n",
    "    \n",
    "    #calculating the cosine similarities and flattening them to one dimension\n",
    "    cosine_sim = cosine_similarity(av_vector, all_vectors).flatten()\n",
    "    \n",
    "    #making the cosine similarities a list and sorting it\n",
    "    sim_scores = list(enumerate(cosine_sim))\n",
    "    sim_scores = sorted(sim_scores, key=lambda x: x[1], reverse=True)\n",
    "    \n",
    "    #removing the courses from the sim_scores which were in the li_course_ids - might be worng\n",
    "    idex_to_id = courses_df['course_catalogue_number'].tolist()\n",
    "    selected_indicies = [idex_to_id.index(cid) for cid in li_course_ids if cid in idex_to_id]\n",
    "    sim_scores = [s for s in sim_scores if s[0] not in selected_indicies]\n",
    "    \n",
    "    #getting the top 5 courses from the similaritie scores - also might be wrong\n",
    "    course_indices = [i[0] for i in sim_scores[:top_n]]\n",
    "    \n",
    "    #returning the \n",
    "    return courses_df.iloc[course_indices][['course_name', 'course_catalogue_number']]"
   ]
  },
  {
   "cell_type": "markdown",
   "id": "de34b9a1-84f7-4936-9603-58b2f5ff4195",
   "metadata": {},
   "source": [
    "Sources for this part of the code:\n",
    "* https://scikit-learn.org/stable/modules/generated/sklearn.metrics.pairwise.cosine_similarity.html\n",
    "* https://numpy.org/doc/stable/reference/generated/numpy.matrix.flatten.html\n",
    "* https://ioflood.com/blog/dataframe-to-list-pandas/#:~:text=You%20can%20use%20the%20toList,tolist()%20.&text=In%20the%20example%20above%2C%20we,1%2C%202%2C%203%5D.\n",
    "* https://www.programiz.com/python-programming/methods/list/index"
   ]
  },
  {
   "cell_type": "markdown",
   "id": "79842d7b-7966-4c4f-87a1-225485d64377",
   "metadata": {
    "tags": []
   },
   "source": [
    "### Testing"
   ]
  },
  {
   "cell_type": "markdown",
   "id": "b7e7c787-45f8-48fe-af44-05c6623529bd",
   "metadata": {},
   "source": [
    "Opening the test dataset:"
   ]
  },
  {
   "cell_type": "code",
   "execution_count": 51,
   "id": "4d59bb99-d501-41cc-9290-bcf7ccb0d1ab",
   "metadata": {
    "tags": []
   },
   "outputs": [],
   "source": [
    "majors = []\n",
    "tracks = []\n",
    "li_coourse_ids = []\n",
    "with open(\"datasets/test_set.txt\", 'r') as f:\n",
    "    for l in f:\n",
    "        if l[0] == '[':\n",
    "            li_coourse_ids.append(eval(l))\n",
    "        elif l.isupper():\n",
    "            majors.append(l)\n",
    "        elif l.islower():\n",
    "            tracks.append(l)"
   ]
  },
  {
   "cell_type": "code",
   "execution_count": 52,
   "id": "b147b816-5643-4599-9baf-f393eb87ccc3",
   "metadata": {
    "scrolled": true,
    "tags": []
   },
   "outputs": [
    {
     "name": "stdout",
     "output_type": "stream",
     "text": [
      "SCIENCE\n",
      "\n",
      "math\n",
      "\n"
     ]
    },
    {
     "data": {
      "text/html": [
       "<div>\n",
       "<style scoped>\n",
       "    .dataframe tbody tr th:only-of-type {\n",
       "        vertical-align: middle;\n",
       "    }\n",
       "\n",
       "    .dataframe tbody tr th {\n",
       "        vertical-align: top;\n",
       "    }\n",
       "\n",
       "    .dataframe thead th {\n",
       "        text-align: right;\n",
       "    }\n",
       "</style>\n",
       "<table border=\"1\" class=\"dataframe\">\n",
       "  <thead>\n",
       "    <tr style=\"text-align: right;\">\n",
       "      <th></th>\n",
       "      <th>course_name</th>\n",
       "      <th>course_catalogue_number</th>\n",
       "    </tr>\n",
       "  </thead>\n",
       "  <tbody>\n",
       "    <tr>\n",
       "      <th>2208</th>\n",
       "      <td>[operator, algebras]</td>\n",
       "      <td>53348OPA8Y</td>\n",
       "    </tr>\n",
       "    <tr>\n",
       "      <th>72</th>\n",
       "      <td>[advanced, computational, condensed, matter]</td>\n",
       "      <td>5354ACCM3Y</td>\n",
       "    </tr>\n",
       "    <tr>\n",
       "      <th>3279</th>\n",
       "      <td>[varieties, of, peacebuilding]</td>\n",
       "      <td>7323C150FY</td>\n",
       "    </tr>\n",
       "    <tr>\n",
       "      <th>377</th>\n",
       "      <td>[big, data, and, automated, content, analysis]</td>\n",
       "      <td>776500115Y</td>\n",
       "    </tr>\n",
       "    <tr>\n",
       "      <th>1792</th>\n",
       "      <td>[managerial, economics]</td>\n",
       "      <td>6314M0261Y</td>\n",
       "    </tr>\n",
       "  </tbody>\n",
       "</table>\n",
       "</div>"
      ],
      "text/plain": [
       "                                         course_name course_catalogue_number\n",
       "2208                            [operator, algebras]              53348OPA8Y\n",
       "72      [advanced, computational, condensed, matter]              5354ACCM3Y\n",
       "3279                  [varieties, of, peacebuilding]              7323C150FY\n",
       "377   [big, data, and, automated, content, analysis]              776500115Y\n",
       "1792                         [managerial, economics]              6314M0261Y"
      ]
     },
     "execution_count": 52,
     "metadata": {},
     "output_type": "execute_result"
    }
   ],
   "source": [
    "print(majors[0])\n",
    "print(tracks[0])\n",
    "recommend_courses(li_coourse_ids[0], model, courses)"
   ]
  },
  {
   "cell_type": "code",
   "execution_count": 53,
   "id": "a440d2c0-56d3-4817-a484-20e0733c1508",
   "metadata": {
    "tags": []
   },
   "outputs": [
    {
     "name": "stdout",
     "output_type": "stream",
     "text": [
      "biomed\n",
      "\n"
     ]
    },
    {
     "data": {
      "text/html": [
       "<div>\n",
       "<style scoped>\n",
       "    .dataframe tbody tr th:only-of-type {\n",
       "        vertical-align: middle;\n",
       "    }\n",
       "\n",
       "    .dataframe tbody tr th {\n",
       "        vertical-align: top;\n",
       "    }\n",
       "\n",
       "    .dataframe thead th {\n",
       "        text-align: right;\n",
       "    }\n",
       "</style>\n",
       "<table border=\"1\" class=\"dataframe\">\n",
       "  <thead>\n",
       "    <tr style=\"text-align: right;\">\n",
       "      <th></th>\n",
       "      <th>course_name</th>\n",
       "      <th>course_catalogue_number</th>\n",
       "    </tr>\n",
       "  </thead>\n",
       "  <tbody>\n",
       "    <tr>\n",
       "      <th>162</th>\n",
       "      <td>[algebraic, topology, ii]</td>\n",
       "      <td>53342ALT8Y</td>\n",
       "    </tr>\n",
       "    <tr>\n",
       "      <th>2491</th>\n",
       "      <td>[public, presentation, of, the, past, an, intr...</td>\n",
       "      <td>110221096Y</td>\n",
       "    </tr>\n",
       "    <tr>\n",
       "      <th>2373</th>\n",
       "      <td>[postgrowth, entrepreneurship]</td>\n",
       "      <td>6013B0553Y</td>\n",
       "    </tr>\n",
       "    <tr>\n",
       "      <th>1349</th>\n",
       "      <td>[historical, and, comparative, sociology]</td>\n",
       "      <td>7312E0020Y</td>\n",
       "    </tr>\n",
       "    <tr>\n",
       "      <th>609</th>\n",
       "      <td>[conservation, and, restoration, for, audiovis...</td>\n",
       "      <td>158621046Y</td>\n",
       "    </tr>\n",
       "  </tbody>\n",
       "</table>\n",
       "</div>"
      ],
      "text/plain": [
       "                                            course_name  \\\n",
       "162                           [algebraic, topology, ii]   \n",
       "2491  [public, presentation, of, the, past, an, intr...   \n",
       "2373                     [postgrowth, entrepreneurship]   \n",
       "1349          [historical, and, comparative, sociology]   \n",
       "609   [conservation, and, restoration, for, audiovis...   \n",
       "\n",
       "     course_catalogue_number  \n",
       "162               53342ALT8Y  \n",
       "2491              110221096Y  \n",
       "2373              6013B0553Y  \n",
       "1349              7312E0020Y  \n",
       "609               158621046Y  "
      ]
     },
     "execution_count": 53,
     "metadata": {},
     "output_type": "execute_result"
    }
   ],
   "source": [
    "print(tracks[1])\n",
    "recommend_courses(li_coourse_ids[1], model, courses)"
   ]
  },
  {
   "cell_type": "code",
   "execution_count": 54,
   "id": "6ca67234-a2d0-4d7e-ad09-c8a39d6d807a",
   "metadata": {
    "tags": []
   },
   "outputs": [
    {
     "name": "stdout",
     "output_type": "stream",
     "text": [
      "physics\n",
      "\n"
     ]
    },
    {
     "data": {
      "text/html": [
       "<div>\n",
       "<style scoped>\n",
       "    .dataframe tbody tr th:only-of-type {\n",
       "        vertical-align: middle;\n",
       "    }\n",
       "\n",
       "    .dataframe tbody tr th {\n",
       "        vertical-align: top;\n",
       "    }\n",
       "\n",
       "    .dataframe thead th {\n",
       "        text-align: right;\n",
       "    }\n",
       "</style>\n",
       "<table border=\"1\" class=\"dataframe\">\n",
       "  <thead>\n",
       "    <tr style=\"text-align: right;\">\n",
       "      <th></th>\n",
       "      <th>course_name</th>\n",
       "      <th>course_catalogue_number</th>\n",
       "    </tr>\n",
       "  </thead>\n",
       "  <tbody>\n",
       "    <tr>\n",
       "      <th>1389</th>\n",
       "      <td>[hydrodynamics]</td>\n",
       "      <td>5354HYDR6Y</td>\n",
       "    </tr>\n",
       "    <tr>\n",
       "      <th>1350</th>\n",
       "      <td>[historical, sources]</td>\n",
       "      <td>138121016Y</td>\n",
       "    </tr>\n",
       "    <tr>\n",
       "      <th>3170</th>\n",
       "      <td>[topology, in, physics]</td>\n",
       "      <td>5354TOIP6Y</td>\n",
       "    </tr>\n",
       "    <tr>\n",
       "      <th>286</th>\n",
       "      <td>[atmospheric, sciences]</td>\n",
       "      <td>900384SCIY</td>\n",
       "    </tr>\n",
       "    <tr>\n",
       "      <th>1115</th>\n",
       "      <td>[extreme, astrophysics]</td>\n",
       "      <td>5354EXAS6Y</td>\n",
       "    </tr>\n",
       "  </tbody>\n",
       "</table>\n",
       "</div>"
      ],
      "text/plain": [
       "                  course_name course_catalogue_number\n",
       "1389          [hydrodynamics]              5354HYDR6Y\n",
       "1350    [historical, sources]              138121016Y\n",
       "3170  [topology, in, physics]              5354TOIP6Y\n",
       "286   [atmospheric, sciences]              900384SCIY\n",
       "1115  [extreme, astrophysics]              5354EXAS6Y"
      ]
     },
     "execution_count": 54,
     "metadata": {},
     "output_type": "execute_result"
    }
   ],
   "source": [
    "print(tracks[2])\n",
    "recommend_courses(li_coourse_ids[2], model, courses)"
   ]
  },
  {
   "cell_type": "code",
   "execution_count": 55,
   "id": "af37cba0-0d9d-4f01-95ab-7fec095426d6",
   "metadata": {
    "tags": []
   },
   "outputs": [
    {
     "name": "stdout",
     "output_type": "stream",
     "text": [
      "bio/environment\n",
      "\n"
     ]
    },
    {
     "data": {
      "text/html": [
       "<div>\n",
       "<style scoped>\n",
       "    .dataframe tbody tr th:only-of-type {\n",
       "        vertical-align: middle;\n",
       "    }\n",
       "\n",
       "    .dataframe tbody tr th {\n",
       "        vertical-align: top;\n",
       "    }\n",
       "\n",
       "    .dataframe thead th {\n",
       "        text-align: right;\n",
       "    }\n",
       "</style>\n",
       "<table border=\"1\" class=\"dataframe\">\n",
       "  <thead>\n",
       "    <tr style=\"text-align: right;\">\n",
       "      <th></th>\n",
       "      <th>course_name</th>\n",
       "      <th>course_catalogue_number</th>\n",
       "    </tr>\n",
       "  </thead>\n",
       "  <tbody>\n",
       "    <tr>\n",
       "      <th>1184</th>\n",
       "      <td>[food, governance, and, systemic, transformati...</td>\n",
       "      <td>5132GOST6Y</td>\n",
       "    </tr>\n",
       "    <tr>\n",
       "      <th>210</th>\n",
       "      <td>[app, internships, period, 1]</td>\n",
       "      <td>19042E132Y</td>\n",
       "    </tr>\n",
       "    <tr>\n",
       "      <th>2942</th>\n",
       "      <td>[violence, security, paradigms, and, debates]</td>\n",
       "      <td>73220041FY</td>\n",
       "    </tr>\n",
       "    <tr>\n",
       "      <th>2985</th>\n",
       "      <td>[texts, in, the, 21st, century, forms, of, wri...</td>\n",
       "      <td>178421216Y</td>\n",
       "    </tr>\n",
       "    <tr>\n",
       "      <th>3028</th>\n",
       "      <td>[the, history, of, ideas]</td>\n",
       "      <td>9002600HUY</td>\n",
       "    </tr>\n",
       "  </tbody>\n",
       "</table>\n",
       "</div>"
      ],
      "text/plain": [
       "                                            course_name  \\\n",
       "1184  [food, governance, and, systemic, transformati...   \n",
       "210                       [app, internships, period, 1]   \n",
       "2942      [violence, security, paradigms, and, debates]   \n",
       "2985  [texts, in, the, 21st, century, forms, of, wri...   \n",
       "3028                          [the, history, of, ideas]   \n",
       "\n",
       "     course_catalogue_number  \n",
       "1184              5132GOST6Y  \n",
       "210               19042E132Y  \n",
       "2942              73220041FY  \n",
       "2985              178421216Y  \n",
       "3028              9002600HUY  "
      ]
     },
     "execution_count": 55,
     "metadata": {},
     "output_type": "execute_result"
    }
   ],
   "source": [
    "print(tracks[3])\n",
    "recommend_courses(li_coourse_ids[3], model, courses)"
   ]
  },
  {
   "cell_type": "code",
   "execution_count": 56,
   "id": "30a465eb-cb03-4f50-b0bb-56551e4b421f",
   "metadata": {
    "tags": []
   },
   "outputs": [
    {
     "name": "stdout",
     "output_type": "stream",
     "text": [
      "information/neuro\n",
      "\n"
     ]
    },
    {
     "data": {
      "text/html": [
       "<div>\n",
       "<style scoped>\n",
       "    .dataframe tbody tr th:only-of-type {\n",
       "        vertical-align: middle;\n",
       "    }\n",
       "\n",
       "    .dataframe tbody tr th {\n",
       "        vertical-align: top;\n",
       "    }\n",
       "\n",
       "    .dataframe thead th {\n",
       "        text-align: right;\n",
       "    }\n",
       "</style>\n",
       "<table border=\"1\" class=\"dataframe\">\n",
       "  <thead>\n",
       "    <tr style=\"text-align: right;\">\n",
       "      <th></th>\n",
       "      <th>course_name</th>\n",
       "      <th>course_catalogue_number</th>\n",
       "    </tr>\n",
       "  </thead>\n",
       "  <tbody>\n",
       "    <tr>\n",
       "      <th>525</th>\n",
       "      <td>[clinical, psychology, neuropsychology]</td>\n",
       "      <td>7201701PXY</td>\n",
       "    </tr>\n",
       "    <tr>\n",
       "      <th>162</th>\n",
       "      <td>[algebraic, topology, ii]</td>\n",
       "      <td>53342ALT8Y</td>\n",
       "    </tr>\n",
       "    <tr>\n",
       "      <th>791</th>\n",
       "      <td>[data, futures, lab]</td>\n",
       "      <td>900208SSCY</td>\n",
       "    </tr>\n",
       "    <tr>\n",
       "      <th>2208</th>\n",
       "      <td>[operator, algebras]</td>\n",
       "      <td>53348OPA8Y</td>\n",
       "    </tr>\n",
       "    <tr>\n",
       "      <th>2491</th>\n",
       "      <td>[public, presentation, of, the, past, an, intr...</td>\n",
       "      <td>110221096Y</td>\n",
       "    </tr>\n",
       "  </tbody>\n",
       "</table>\n",
       "</div>"
      ],
      "text/plain": [
       "                                            course_name  \\\n",
       "525             [clinical, psychology, neuropsychology]   \n",
       "162                           [algebraic, topology, ii]   \n",
       "791                                [data, futures, lab]   \n",
       "2208                               [operator, algebras]   \n",
       "2491  [public, presentation, of, the, past, an, intr...   \n",
       "\n",
       "     course_catalogue_number  \n",
       "525               7201701PXY  \n",
       "162               53342ALT8Y  \n",
       "791               900208SSCY  \n",
       "2208              53348OPA8Y  \n",
       "2491              110221096Y  "
      ]
     },
     "execution_count": 56,
     "metadata": {},
     "output_type": "execute_result"
    }
   ],
   "source": [
    "print(tracks[4])\n",
    "recommend_courses(li_coourse_ids[4], model, courses)"
   ]
  },
  {
   "cell_type": "code",
   "execution_count": 57,
   "id": "dee7ef28-a418-4dd3-b592-a12c52bc12b4",
   "metadata": {
    "tags": []
   },
   "outputs": [
    {
     "name": "stdout",
     "output_type": "stream",
     "text": [
      "SOCIAL SCIENCE\n",
      "\n",
      "economics\n",
      "\n"
     ]
    },
    {
     "data": {
      "text/html": [
       "<div>\n",
       "<style scoped>\n",
       "    .dataframe tbody tr th:only-of-type {\n",
       "        vertical-align: middle;\n",
       "    }\n",
       "\n",
       "    .dataframe tbody tr th {\n",
       "        vertical-align: top;\n",
       "    }\n",
       "\n",
       "    .dataframe thead th {\n",
       "        text-align: right;\n",
       "    }\n",
       "</style>\n",
       "<table border=\"1\" class=\"dataframe\">\n",
       "  <thead>\n",
       "    <tr style=\"text-align: right;\">\n",
       "      <th></th>\n",
       "      <th>course_name</th>\n",
       "      <th>course_catalogue_number</th>\n",
       "    </tr>\n",
       "  </thead>\n",
       "  <tbody>\n",
       "    <tr>\n",
       "      <th>162</th>\n",
       "      <td>[algebraic, topology, ii]</td>\n",
       "      <td>53342ALT8Y</td>\n",
       "    </tr>\n",
       "    <tr>\n",
       "      <th>2322</th>\n",
       "      <td>[poetics, of, protest]</td>\n",
       "      <td>900209HUMY</td>\n",
       "    </tr>\n",
       "    <tr>\n",
       "      <th>2434</th>\n",
       "      <td>[professional, skills, educational, skills]</td>\n",
       "      <td>5224PSES2Y</td>\n",
       "    </tr>\n",
       "    <tr>\n",
       "      <th>2942</th>\n",
       "      <td>[violence, security, paradigms, and, debates]</td>\n",
       "      <td>73220041FY</td>\n",
       "    </tr>\n",
       "    <tr>\n",
       "      <th>113</th>\n",
       "      <td>[advanced, quantum, algorithms]</td>\n",
       "      <td>5334ADQA6Y</td>\n",
       "    </tr>\n",
       "  </tbody>\n",
       "</table>\n",
       "</div>"
      ],
      "text/plain": [
       "                                        course_name course_catalogue_number\n",
       "162                       [algebraic, topology, ii]              53342ALT8Y\n",
       "2322                         [poetics, of, protest]              900209HUMY\n",
       "2434    [professional, skills, educational, skills]              5224PSES2Y\n",
       "2942  [violence, security, paradigms, and, debates]              73220041FY\n",
       "113                 [advanced, quantum, algorithms]              5334ADQA6Y"
      ]
     },
     "execution_count": 57,
     "metadata": {},
     "output_type": "execute_result"
    }
   ],
   "source": [
    "print(majors[1])\n",
    "print(tracks[5])\n",
    "recommend_courses(li_coourse_ids[5], model, courses)"
   ]
  },
  {
   "cell_type": "code",
   "execution_count": 58,
   "id": "267d689b-00f3-4845-a0b8-e8a452b8bde0",
   "metadata": {
    "tags": []
   },
   "outputs": [
    {
     "name": "stdout",
     "output_type": "stream",
     "text": [
      "psychology/economics\n",
      "\n"
     ]
    },
    {
     "data": {
      "text/html": [
       "<div>\n",
       "<style scoped>\n",
       "    .dataframe tbody tr th:only-of-type {\n",
       "        vertical-align: middle;\n",
       "    }\n",
       "\n",
       "    .dataframe tbody tr th {\n",
       "        vertical-align: top;\n",
       "    }\n",
       "\n",
       "    .dataframe thead th {\n",
       "        text-align: right;\n",
       "    }\n",
       "</style>\n",
       "<table border=\"1\" class=\"dataframe\">\n",
       "  <thead>\n",
       "    <tr style=\"text-align: right;\">\n",
       "      <th></th>\n",
       "      <th>course_name</th>\n",
       "      <th>course_catalogue_number</th>\n",
       "    </tr>\n",
       "  </thead>\n",
       "  <tbody>\n",
       "    <tr>\n",
       "      <th>284</th>\n",
       "      <td>[asymptotic, statistics]</td>\n",
       "      <td>5374ASST8Y</td>\n",
       "    </tr>\n",
       "    <tr>\n",
       "      <th>3173</th>\n",
       "      <td>[toric, varieties]</td>\n",
       "      <td>5334TOVA6Y</td>\n",
       "    </tr>\n",
       "    <tr>\n",
       "      <th>794</th>\n",
       "      <td>[data, literacy]</td>\n",
       "      <td>5512DALI6Y</td>\n",
       "    </tr>\n",
       "    <tr>\n",
       "      <th>3220</th>\n",
       "      <td>[tutoring, and, study, guidance, masters, in, ...</td>\n",
       "      <td>14202A025Y</td>\n",
       "    </tr>\n",
       "    <tr>\n",
       "      <th>1457</th>\n",
       "      <td>[international, criminal, tribunals, procedura...</td>\n",
       "      <td>3854I1Q8GY</td>\n",
       "    </tr>\n",
       "  </tbody>\n",
       "</table>\n",
       "</div>"
      ],
      "text/plain": [
       "                                            course_name  \\\n",
       "284                            [asymptotic, statistics]   \n",
       "3173                                 [toric, varieties]   \n",
       "794                                    [data, literacy]   \n",
       "3220  [tutoring, and, study, guidance, masters, in, ...   \n",
       "1457  [international, criminal, tribunals, procedura...   \n",
       "\n",
       "     course_catalogue_number  \n",
       "284               5374ASST8Y  \n",
       "3173              5334TOVA6Y  \n",
       "794               5512DALI6Y  \n",
       "3220              14202A025Y  \n",
       "1457              3854I1Q8GY  "
      ]
     },
     "execution_count": 58,
     "metadata": {},
     "output_type": "execute_result"
    }
   ],
   "source": [
    "print(tracks[6])\n",
    "recommend_courses(li_coourse_ids[6], model, courses)"
   ]
  },
  {
   "cell_type": "code",
   "execution_count": 59,
   "id": "1f34b2e4-97c0-4404-ad0d-bc7e23b55988",
   "metadata": {
    "tags": []
   },
   "outputs": [
    {
     "name": "stdout",
     "output_type": "stream",
     "text": [
      "political science/law\n",
      "\n"
     ]
    },
    {
     "data": {
      "text/html": [
       "<div>\n",
       "<style scoped>\n",
       "    .dataframe tbody tr th:only-of-type {\n",
       "        vertical-align: middle;\n",
       "    }\n",
       "\n",
       "    .dataframe tbody tr th {\n",
       "        vertical-align: top;\n",
       "    }\n",
       "\n",
       "    .dataframe thead th {\n",
       "        text-align: right;\n",
       "    }\n",
       "</style>\n",
       "<table border=\"1\" class=\"dataframe\">\n",
       "  <thead>\n",
       "    <tr style=\"text-align: right;\">\n",
       "      <th></th>\n",
       "      <th>course_name</th>\n",
       "      <th>course_catalogue_number</th>\n",
       "    </tr>\n",
       "  </thead>\n",
       "  <tbody>\n",
       "    <tr>\n",
       "      <th>770</th>\n",
       "      <td>[current, topics, clinical, developmental, and]</td>\n",
       "      <td>7203BO48XY</td>\n",
       "    </tr>\n",
       "    <tr>\n",
       "      <th>2208</th>\n",
       "      <td>[operator, algebras]</td>\n",
       "      <td>53348OPA8Y</td>\n",
       "    </tr>\n",
       "    <tr>\n",
       "      <th>162</th>\n",
       "      <td>[algebraic, topology, ii]</td>\n",
       "      <td>53342ALT8Y</td>\n",
       "    </tr>\n",
       "    <tr>\n",
       "      <th>64</th>\n",
       "      <td>[advanced, algebraic, geometry]</td>\n",
       "      <td>5334AAGR8Y</td>\n",
       "    </tr>\n",
       "    <tr>\n",
       "      <th>2491</th>\n",
       "      <td>[public, presentation, of, the, past, an, intr...</td>\n",
       "      <td>110221096Y</td>\n",
       "    </tr>\n",
       "  </tbody>\n",
       "</table>\n",
       "</div>"
      ],
      "text/plain": [
       "                                            course_name  \\\n",
       "770     [current, topics, clinical, developmental, and]   \n",
       "2208                               [operator, algebras]   \n",
       "162                           [algebraic, topology, ii]   \n",
       "64                      [advanced, algebraic, geometry]   \n",
       "2491  [public, presentation, of, the, past, an, intr...   \n",
       "\n",
       "     course_catalogue_number  \n",
       "770               7203BO48XY  \n",
       "2208              53348OPA8Y  \n",
       "162               53342ALT8Y  \n",
       "64                5334AAGR8Y  \n",
       "2491              110221096Y  "
      ]
     },
     "execution_count": 59,
     "metadata": {},
     "output_type": "execute_result"
    }
   ],
   "source": [
    "print(tracks[7])\n",
    "recommend_courses(li_coourse_ids[7], model, courses)"
   ]
  },
  {
   "cell_type": "code",
   "execution_count": 60,
   "id": "4b4f3ea8-6012-4d65-bd27-7d516ab8dbdf",
   "metadata": {
    "tags": []
   },
   "outputs": [
    {
     "name": "stdout",
     "output_type": "stream",
     "text": [
      "HUMANITIES\n",
      "\n",
      "history/philosophy\n",
      "\n"
     ]
    },
    {
     "data": {
      "text/html": [
       "<div>\n",
       "<style scoped>\n",
       "    .dataframe tbody tr th:only-of-type {\n",
       "        vertical-align: middle;\n",
       "    }\n",
       "\n",
       "    .dataframe tbody tr th {\n",
       "        vertical-align: top;\n",
       "    }\n",
       "\n",
       "    .dataframe thead th {\n",
       "        text-align: right;\n",
       "    }\n",
       "</style>\n",
       "<table border=\"1\" class=\"dataframe\">\n",
       "  <thead>\n",
       "    <tr style=\"text-align: right;\">\n",
       "      <th></th>\n",
       "      <th>course_name</th>\n",
       "      <th>course_catalogue_number</th>\n",
       "    </tr>\n",
       "  </thead>\n",
       "  <tbody>\n",
       "    <tr>\n",
       "      <th>1350</th>\n",
       "      <td>[historical, sources]</td>\n",
       "      <td>138121016Y</td>\n",
       "    </tr>\n",
       "    <tr>\n",
       "      <th>162</th>\n",
       "      <td>[algebraic, topology, ii]</td>\n",
       "      <td>53342ALT8Y</td>\n",
       "    </tr>\n",
       "    <tr>\n",
       "      <th>284</th>\n",
       "      <td>[asymptotic, statistics]</td>\n",
       "      <td>5374ASST8Y</td>\n",
       "    </tr>\n",
       "    <tr>\n",
       "      <th>441</th>\n",
       "      <td>[capstone, interdisciplinary, literature, review]</td>\n",
       "      <td>7303S2000Y</td>\n",
       "    </tr>\n",
       "    <tr>\n",
       "      <th>2202</th>\n",
       "      <td>[ontwikkelen, van, trainingen]</td>\n",
       "      <td>7204MS40XY</td>\n",
       "    </tr>\n",
       "  </tbody>\n",
       "</table>\n",
       "</div>"
      ],
      "text/plain": [
       "                                            course_name  \\\n",
       "1350                              [historical, sources]   \n",
       "162                           [algebraic, topology, ii]   \n",
       "284                            [asymptotic, statistics]   \n",
       "441   [capstone, interdisciplinary, literature, review]   \n",
       "2202                     [ontwikkelen, van, trainingen]   \n",
       "\n",
       "     course_catalogue_number  \n",
       "1350              138121016Y  \n",
       "162               53342ALT8Y  \n",
       "284               5374ASST8Y  \n",
       "441               7303S2000Y  \n",
       "2202              7204MS40XY  "
      ]
     },
     "execution_count": 60,
     "metadata": {},
     "output_type": "execute_result"
    }
   ],
   "source": [
    "print(majors[2])\n",
    "print(tracks[8])\n",
    "recommend_courses(li_coourse_ids[8], model, courses)"
   ]
  },
  {
   "cell_type": "code",
   "execution_count": 61,
   "id": "b396fcee-1ea5-41cb-a6bf-9a489a7181e9",
   "metadata": {
    "tags": []
   },
   "outputs": [
    {
     "name": "stdout",
     "output_type": "stream",
     "text": [
      "cultural analysis\n",
      "\n"
     ]
    },
    {
     "data": {
      "text/html": [
       "<div>\n",
       "<style scoped>\n",
       "    .dataframe tbody tr th:only-of-type {\n",
       "        vertical-align: middle;\n",
       "    }\n",
       "\n",
       "    .dataframe tbody tr th {\n",
       "        vertical-align: top;\n",
       "    }\n",
       "\n",
       "    .dataframe thead th {\n",
       "        text-align: right;\n",
       "    }\n",
       "</style>\n",
       "<table border=\"1\" class=\"dataframe\">\n",
       "  <thead>\n",
       "    <tr style=\"text-align: right;\">\n",
       "      <th></th>\n",
       "      <th>course_name</th>\n",
       "      <th>course_catalogue_number</th>\n",
       "    </tr>\n",
       "  </thead>\n",
       "  <tbody>\n",
       "    <tr>\n",
       "      <th>201</th>\n",
       "      <td>[anthropology, of, contemporary, south, asia]</td>\n",
       "      <td>7312R0022Y</td>\n",
       "    </tr>\n",
       "    <tr>\n",
       "      <th>3173</th>\n",
       "      <td>[toric, varieties]</td>\n",
       "      <td>5334TOVA6Y</td>\n",
       "    </tr>\n",
       "    <tr>\n",
       "      <th>2643</th>\n",
       "      <td>[research, project, 2the, value, of, gold, and...</td>\n",
       "      <td>172421196Y</td>\n",
       "    </tr>\n",
       "    <tr>\n",
       "      <th>2211</th>\n",
       "      <td>[oral, history, and, artwork, life, stories]</td>\n",
       "      <td>146421726Y</td>\n",
       "    </tr>\n",
       "    <tr>\n",
       "      <th>2202</th>\n",
       "      <td>[ontwikkelen, van, trainingen]</td>\n",
       "      <td>7204MS40XY</td>\n",
       "    </tr>\n",
       "  </tbody>\n",
       "</table>\n",
       "</div>"
      ],
      "text/plain": [
       "                                            course_name  \\\n",
       "201       [anthropology, of, contemporary, south, asia]   \n",
       "3173                                 [toric, varieties]   \n",
       "2643  [research, project, 2the, value, of, gold, and...   \n",
       "2211       [oral, history, and, artwork, life, stories]   \n",
       "2202                     [ontwikkelen, van, trainingen]   \n",
       "\n",
       "     course_catalogue_number  \n",
       "201               7312R0022Y  \n",
       "3173              5334TOVA6Y  \n",
       "2643              172421196Y  \n",
       "2211              146421726Y  \n",
       "2202              7204MS40XY  "
      ]
     },
     "execution_count": 61,
     "metadata": {},
     "output_type": "execute_result"
    }
   ],
   "source": [
    "print(tracks[9])\n",
    "recommend_courses(li_coourse_ids[9], model, courses)"
   ]
  },
  {
   "cell_type": "code",
   "execution_count": 62,
   "id": "df950569-b984-4110-9004-63eeffe9355d",
   "metadata": {
    "tags": []
   },
   "outputs": [
    {
     "name": "stdout",
     "output_type": "stream",
     "text": [
      "media/film\n",
      "\n"
     ]
    },
    {
     "data": {
      "text/html": [
       "<div>\n",
       "<style scoped>\n",
       "    .dataframe tbody tr th:only-of-type {\n",
       "        vertical-align: middle;\n",
       "    }\n",
       "\n",
       "    .dataframe tbody tr th {\n",
       "        vertical-align: top;\n",
       "    }\n",
       "\n",
       "    .dataframe thead th {\n",
       "        text-align: right;\n",
       "    }\n",
       "</style>\n",
       "<table border=\"1\" class=\"dataframe\">\n",
       "  <thead>\n",
       "    <tr style=\"text-align: right;\">\n",
       "      <th></th>\n",
       "      <th>course_name</th>\n",
       "      <th>course_catalogue_number</th>\n",
       "    </tr>\n",
       "  </thead>\n",
       "  <tbody>\n",
       "    <tr>\n",
       "      <th>2202</th>\n",
       "      <td>[ontwikkelen, van, trainingen]</td>\n",
       "      <td>7204MS40XY</td>\n",
       "    </tr>\n",
       "    <tr>\n",
       "      <th>451</th>\n",
       "      <td>[case, study, project, preservation, and, pres...</td>\n",
       "      <td>158621036Y</td>\n",
       "    </tr>\n",
       "    <tr>\n",
       "      <th>1864</th>\n",
       "      <td>[masters, thesis, cultural, data, and, ai]</td>\n",
       "      <td>159429000Y</td>\n",
       "    </tr>\n",
       "    <tr>\n",
       "      <th>3173</th>\n",
       "      <td>[toric, varieties]</td>\n",
       "      <td>5334TOVA6Y</td>\n",
       "    </tr>\n",
       "    <tr>\n",
       "      <th>2373</th>\n",
       "      <td>[postgrowth, entrepreneurship]</td>\n",
       "      <td>6013B0553Y</td>\n",
       "    </tr>\n",
       "  </tbody>\n",
       "</table>\n",
       "</div>"
      ],
      "text/plain": [
       "                                            course_name  \\\n",
       "2202                     [ontwikkelen, van, trainingen]   \n",
       "451   [case, study, project, preservation, and, pres...   \n",
       "1864         [masters, thesis, cultural, data, and, ai]   \n",
       "3173                                 [toric, varieties]   \n",
       "2373                     [postgrowth, entrepreneurship]   \n",
       "\n",
       "     course_catalogue_number  \n",
       "2202              7204MS40XY  \n",
       "451               158621036Y  \n",
       "1864              159429000Y  \n",
       "3173              5334TOVA6Y  \n",
       "2373              6013B0553Y  "
      ]
     },
     "execution_count": 62,
     "metadata": {},
     "output_type": "execute_result"
    }
   ],
   "source": [
    "print(tracks[10])\n",
    "recommend_courses(li_coourse_ids[10], model, courses)"
   ]
  },
  {
   "cell_type": "code",
   "execution_count": 63,
   "id": "86c0c4be-ba3b-42c5-a1a8-48866bc86d04",
   "metadata": {
    "tags": []
   },
   "outputs": [
    {
     "name": "stdout",
     "output_type": "stream",
     "text": [
      "art history/history\n",
      "\n"
     ]
    },
    {
     "data": {
      "text/html": [
       "<div>\n",
       "<style scoped>\n",
       "    .dataframe tbody tr th:only-of-type {\n",
       "        vertical-align: middle;\n",
       "    }\n",
       "\n",
       "    .dataframe tbody tr th {\n",
       "        vertical-align: top;\n",
       "    }\n",
       "\n",
       "    .dataframe thead th {\n",
       "        text-align: right;\n",
       "    }\n",
       "</style>\n",
       "<table border=\"1\" class=\"dataframe\">\n",
       "  <thead>\n",
       "    <tr style=\"text-align: right;\">\n",
       "      <th></th>\n",
       "      <th>course_name</th>\n",
       "      <th>course_catalogue_number</th>\n",
       "    </tr>\n",
       "  </thead>\n",
       "  <tbody>\n",
       "    <tr>\n",
       "      <th>284</th>\n",
       "      <td>[asymptotic, statistics]</td>\n",
       "      <td>5374ASST8Y</td>\n",
       "    </tr>\n",
       "    <tr>\n",
       "      <th>537</th>\n",
       "      <td>[cognitive, musicology]</td>\n",
       "      <td>115215496Y</td>\n",
       "    </tr>\n",
       "    <tr>\n",
       "      <th>2202</th>\n",
       "      <td>[ontwikkelen, van, trainingen]</td>\n",
       "      <td>7204MS40XY</td>\n",
       "    </tr>\n",
       "    <tr>\n",
       "      <th>403</th>\n",
       "      <td>[bodies, and, the, posthuman]</td>\n",
       "      <td>178421036Y</td>\n",
       "    </tr>\n",
       "    <tr>\n",
       "      <th>2430</th>\n",
       "      <td>[product, management]</td>\n",
       "      <td>6614ZM041Y</td>\n",
       "    </tr>\n",
       "  </tbody>\n",
       "</table>\n",
       "</div>"
      ],
      "text/plain": [
       "                         course_name course_catalogue_number\n",
       "284         [asymptotic, statistics]              5374ASST8Y\n",
       "537          [cognitive, musicology]              115215496Y\n",
       "2202  [ontwikkelen, van, trainingen]              7204MS40XY\n",
       "403    [bodies, and, the, posthuman]              178421036Y\n",
       "2430           [product, management]              6614ZM041Y"
      ]
     },
     "execution_count": 63,
     "metadata": {},
     "output_type": "execute_result"
    }
   ],
   "source": [
    "print(tracks[11])\n",
    "recommend_courses(li_coourse_ids[11], model, courses)"
   ]
  },
  {
   "cell_type": "markdown",
   "id": "98dc908f-1794-41da-aa06-ef40682c918a",
   "metadata": {},
   "source": [
    "Sources for this part of the code:\n",
    "* https://www.geeksforgeeks.org/python-convert-a-string-representation-of-list-into-list/"
   ]
  },
  {
   "cell_type": "markdown",
   "id": "a30a5d7a-5486-4804-b2e8-b559a0e8f53e",
   "metadata": {},
   "source": [
    "## Evaluation"
   ]
  },
  {
   "cell_type": "markdown",
   "id": "ca0d6b8b-f7e2-4799-86e2-a1211a947f35",
   "metadata": {},
   "source": [
    "**Normalised Discounted Cumulative Gain Metric**\n",
    "\n",
    "Takes as an input the relevance score obtained manually, and conputes the ndcg score. "
   ]
  },
  {
   "cell_type": "code",
   "execution_count": null,
   "id": "12a90fc6-1614-480e-b067-c3f4068dea6a",
   "metadata": {},
   "outputs": [],
   "source": [
    "#the relevance order in which the program recommends the courses\n",
    "y_score = np.array([[5,4,3,2,1]])\n",
    "\n",
    "def ndcg_metric (ground_truth, k=5):\n",
    "    y_true = np.array([ground_truth])\n",
    "    return ndcg_score(y_true, y_score, k=k)"
   ]
  },
  {
   "cell_type": "code",
   "execution_count": null,
   "id": "40608ded-d57a-4c26-991e-577c1e2a16c4",
   "metadata": {},
   "outputs": [],
   "source": [
    "#manually labeled accuracy"
   ]
  },
  {
   "cell_type": "markdown",
   "id": "7d9a29cf-7f49-4526-88c0-5145aca5f963",
   "metadata": {},
   "source": [
    "**Diversity Metric**"
   ]
  },
  {
   "cell_type": "code",
   "execution_count": 89,
   "id": "ce274de6-9869-46f9-bd9f-597111c0d0ec",
   "metadata": {
    "tags": []
   },
   "outputs": [],
   "source": [
    "def get_cos_distances(li_course_ids, model):\n",
    "    #getting the vectors in form the doc2vec model and making one vector out of all the courses in the li_course_ids\n",
    "        vectors = [model.dv[tag] for tag in li_course_ids]\n",
    "        av_vector = np.mean(vectors, axis=0).reshape(1, -1)\n",
    "        all_vectors = np.array([model.dv[i] for i in range(len(model.dv)) if i not in li_course_ids])\n",
    "\n",
    "        #calculating the cosine similarities and flattening them to one dimension\n",
    "        cosine_sim = cosine_similarity(av_vector, all_vectors).flatten()\n",
    "        print(cosine_sim)"
   ]
  },
  {
   "cell_type": "code",
   "execution_count": 95,
   "id": "a7aaedfe-af16-4be4-bdae-f25c334336fa",
   "metadata": {
    "tags": []
   },
   "outputs": [
    {
     "name": "stdout",
     "output_type": "stream",
     "text": [
      "[0.16390654 0.33204544 0.10238466 ... 0.03284438 0.02828562 0.30534863]\n"
     ]
    }
   ],
   "source": [
    "get_cos_distances(li_coourse_ids[0], model)"
   ]
  },
  {
   "cell_type": "code",
   "execution_count": 153,
   "id": "ec990ac4-57b7-4d06-8e59-c9ff06ca81d9",
   "metadata": {
    "tags": []
   },
   "outputs": [],
   "source": [
    "def compute_ild (recommended_ids, model,  k=5):\n",
    "    \n",
    "    test_ids = [tag for tag in recommended_ids if tag in model.dv]\n",
    "    \n",
    "    #raw vectors from all the recommender courses \n",
    "    vectors = np.array([model.dv[tag] for tag in test_ids])\n",
    "    \n",
    "    #cosine similarities\n",
    "    cos_sim_matrix = cosine_similarity(vectors)\n",
    "    \n",
    "    #cosine distance (1-cos_similarity)\n",
    "    cos_dist_matrix = 1 - cos_sim_matrix\n",
    "    \n",
    "    #remove the diagnoal (self-distance)\n",
    "    total_distance = np.sum(cos_dist_matrix) - np.trace(cos_dist_matrix)\n",
    "    \n",
    "    ild_score = total_distance / (k * (k - 1))\n",
    "    \n",
    "    return ild_score"
   ]
  },
  {
   "cell_type": "code",
   "execution_count": 155,
   "id": "6eba371f-64c1-4608-8ad1-696cf2cd0ab0",
   "metadata": {
    "tags": []
   },
   "outputs": [
    {
     "ename": "KeyError",
     "evalue": "\"Key '900211HUMY' not present\"",
     "output_type": "error",
     "traceback": [
      "\u001b[1;31m---------------------------------------------------------------------------\u001b[0m",
      "\u001b[1;31mKeyError\u001b[0m                                  Traceback (most recent call last)",
      "Cell \u001b[1;32mIn[155], line 13\u001b[0m\n\u001b[0;32m      9\u001b[0m         ild_results\u001b[38;5;241m.\u001b[39mappend(ild)\n\u001b[0;32m     11\u001b[0m     \u001b[38;5;28;01mreturn\u001b[39;00m ild_results\n\u001b[1;32m---> 13\u001b[0m ild_scores \u001b[38;5;241m=\u001b[39m evaluate_ild(li_coourse_ids, model, courses)\n",
      "Cell \u001b[1;32mIn[155], line 5\u001b[0m, in \u001b[0;36mevaluate_ild\u001b[1;34m(test_sets, model, courses)\u001b[0m\n\u001b[0;32m      2\u001b[0m ild_results \u001b[38;5;241m=\u001b[39m []\n\u001b[0;32m      4\u001b[0m \u001b[38;5;28;01mfor\u001b[39;00m i, test_input \u001b[38;5;129;01min\u001b[39;00m \u001b[38;5;28menumerate\u001b[39m(test_sets):\n\u001b[1;32m----> 5\u001b[0m     df_rec \u001b[38;5;241m=\u001b[39m recommend_courses(test_input, model, courses)\n\u001b[0;32m      7\u001b[0m     ids \u001b[38;5;241m=\u001b[39m [tag \u001b[38;5;28;01mfor\u001b[39;00m tag \u001b[38;5;129;01min\u001b[39;00m df_rec[\u001b[38;5;124m\"\u001b[39m\u001b[38;5;124mcourse_catalogue_number\u001b[39m\u001b[38;5;124m\"\u001b[39m] \u001b[38;5;28;01mif\u001b[39;00m tag \u001b[38;5;129;01min\u001b[39;00m model\u001b[38;5;241m.\u001b[39mdv]\n\u001b[0;32m      8\u001b[0m     ild \u001b[38;5;241m=\u001b[39m compute_ild(ids, model)\n",
      "Cell \u001b[1;32mIn[47], line 3\u001b[0m, in \u001b[0;36mrecommend_courses\u001b[1;34m(li_course_ids, model, courses_df, top_n)\u001b[0m\n\u001b[0;32m      1\u001b[0m \u001b[38;5;28;01mdef\u001b[39;00m \u001b[38;5;21mrecommend_courses\u001b[39m(li_course_ids, model, courses_df, top_n\u001b[38;5;241m=\u001b[39m\u001b[38;5;241m5\u001b[39m):\n\u001b[0;32m      2\u001b[0m     \u001b[38;5;66;03m#getting the vectors in form the doc2vec model and making one vector out of all the courses in the li_course_ids\u001b[39;00m\n\u001b[1;32m----> 3\u001b[0m     vectors \u001b[38;5;241m=\u001b[39m [model\u001b[38;5;241m.\u001b[39mdv[tag] \u001b[38;5;28;01mfor\u001b[39;00m tag \u001b[38;5;129;01min\u001b[39;00m li_course_ids]\n\u001b[0;32m      4\u001b[0m     av_vector \u001b[38;5;241m=\u001b[39m np\u001b[38;5;241m.\u001b[39mmean(vectors, axis\u001b[38;5;241m=\u001b[39m\u001b[38;5;241m0\u001b[39m)\u001b[38;5;241m.\u001b[39mreshape(\u001b[38;5;241m1\u001b[39m, \u001b[38;5;241m-\u001b[39m\u001b[38;5;241m1\u001b[39m)\n\u001b[0;32m      5\u001b[0m     all_vectors \u001b[38;5;241m=\u001b[39m np\u001b[38;5;241m.\u001b[39marray([model\u001b[38;5;241m.\u001b[39mdv[i] \u001b[38;5;28;01mfor\u001b[39;00m i \u001b[38;5;129;01min\u001b[39;00m \u001b[38;5;28mrange\u001b[39m(\u001b[38;5;28mlen\u001b[39m(model\u001b[38;5;241m.\u001b[39mdv)) \u001b[38;5;28;01mif\u001b[39;00m i \u001b[38;5;129;01mnot\u001b[39;00m \u001b[38;5;129;01min\u001b[39;00m li_course_ids])\n",
      "Cell \u001b[1;32mIn[47], line 3\u001b[0m, in \u001b[0;36m<listcomp>\u001b[1;34m(.0)\u001b[0m\n\u001b[0;32m      1\u001b[0m \u001b[38;5;28;01mdef\u001b[39;00m \u001b[38;5;21mrecommend_courses\u001b[39m(li_course_ids, model, courses_df, top_n\u001b[38;5;241m=\u001b[39m\u001b[38;5;241m5\u001b[39m):\n\u001b[0;32m      2\u001b[0m     \u001b[38;5;66;03m#getting the vectors in form the doc2vec model and making one vector out of all the courses in the li_course_ids\u001b[39;00m\n\u001b[1;32m----> 3\u001b[0m     vectors \u001b[38;5;241m=\u001b[39m [model\u001b[38;5;241m.\u001b[39mdv[tag] \u001b[38;5;28;01mfor\u001b[39;00m tag \u001b[38;5;129;01min\u001b[39;00m li_course_ids]\n\u001b[0;32m      4\u001b[0m     av_vector \u001b[38;5;241m=\u001b[39m np\u001b[38;5;241m.\u001b[39mmean(vectors, axis\u001b[38;5;241m=\u001b[39m\u001b[38;5;241m0\u001b[39m)\u001b[38;5;241m.\u001b[39mreshape(\u001b[38;5;241m1\u001b[39m, \u001b[38;5;241m-\u001b[39m\u001b[38;5;241m1\u001b[39m)\n\u001b[0;32m      5\u001b[0m     all_vectors \u001b[38;5;241m=\u001b[39m np\u001b[38;5;241m.\u001b[39marray([model\u001b[38;5;241m.\u001b[39mdv[i] \u001b[38;5;28;01mfor\u001b[39;00m i \u001b[38;5;129;01min\u001b[39;00m \u001b[38;5;28mrange\u001b[39m(\u001b[38;5;28mlen\u001b[39m(model\u001b[38;5;241m.\u001b[39mdv)) \u001b[38;5;28;01mif\u001b[39;00m i \u001b[38;5;129;01mnot\u001b[39;00m \u001b[38;5;129;01min\u001b[39;00m li_course_ids])\n",
      "File \u001b[1;32m~\\anaconda3\\Lib\\site-packages\\gensim\\models\\keyedvectors.py:403\u001b[0m, in \u001b[0;36mKeyedVectors.__getitem__\u001b[1;34m(self, key_or_keys)\u001b[0m\n\u001b[0;32m    389\u001b[0m \u001b[38;5;250m\u001b[39m\u001b[38;5;124;03m\"\"\"Get vector representation of `key_or_keys`.\u001b[39;00m\n\u001b[0;32m    390\u001b[0m \n\u001b[0;32m    391\u001b[0m \u001b[38;5;124;03mParameters\u001b[39;00m\n\u001b[1;32m   (...)\u001b[0m\n\u001b[0;32m    400\u001b[0m \n\u001b[0;32m    401\u001b[0m \u001b[38;5;124;03m\"\"\"\u001b[39;00m\n\u001b[0;32m    402\u001b[0m \u001b[38;5;28;01mif\u001b[39;00m \u001b[38;5;28misinstance\u001b[39m(key_or_keys, _KEY_TYPES):\n\u001b[1;32m--> 403\u001b[0m     \u001b[38;5;28;01mreturn\u001b[39;00m \u001b[38;5;28mself\u001b[39m\u001b[38;5;241m.\u001b[39mget_vector(key_or_keys)\n\u001b[0;32m    405\u001b[0m \u001b[38;5;28;01mreturn\u001b[39;00m vstack([\u001b[38;5;28mself\u001b[39m\u001b[38;5;241m.\u001b[39mget_vector(key) \u001b[38;5;28;01mfor\u001b[39;00m key \u001b[38;5;129;01min\u001b[39;00m key_or_keys])\n",
      "File \u001b[1;32m~\\anaconda3\\Lib\\site-packages\\gensim\\models\\keyedvectors.py:446\u001b[0m, in \u001b[0;36mKeyedVectors.get_vector\u001b[1;34m(self, key, norm)\u001b[0m\n\u001b[0;32m    422\u001b[0m \u001b[38;5;28;01mdef\u001b[39;00m \u001b[38;5;21mget_vector\u001b[39m(\u001b[38;5;28mself\u001b[39m, key, norm\u001b[38;5;241m=\u001b[39m\u001b[38;5;28;01mFalse\u001b[39;00m):\n\u001b[0;32m    423\u001b[0m \u001b[38;5;250m    \u001b[39m\u001b[38;5;124;03m\"\"\"Get the key's vector, as a 1D numpy array.\u001b[39;00m\n\u001b[0;32m    424\u001b[0m \n\u001b[0;32m    425\u001b[0m \u001b[38;5;124;03m    Parameters\u001b[39;00m\n\u001b[1;32m   (...)\u001b[0m\n\u001b[0;32m    444\u001b[0m \n\u001b[0;32m    445\u001b[0m \u001b[38;5;124;03m    \"\"\"\u001b[39;00m\n\u001b[1;32m--> 446\u001b[0m     index \u001b[38;5;241m=\u001b[39m \u001b[38;5;28mself\u001b[39m\u001b[38;5;241m.\u001b[39mget_index(key)\n\u001b[0;32m    447\u001b[0m     \u001b[38;5;28;01mif\u001b[39;00m norm:\n\u001b[0;32m    448\u001b[0m         \u001b[38;5;28mself\u001b[39m\u001b[38;5;241m.\u001b[39mfill_norms()\n",
      "File \u001b[1;32m~\\anaconda3\\Lib\\site-packages\\gensim\\models\\keyedvectors.py:420\u001b[0m, in \u001b[0;36mKeyedVectors.get_index\u001b[1;34m(self, key, default)\u001b[0m\n\u001b[0;32m    418\u001b[0m     \u001b[38;5;28;01mreturn\u001b[39;00m default\n\u001b[0;32m    419\u001b[0m \u001b[38;5;28;01melse\u001b[39;00m:\n\u001b[1;32m--> 420\u001b[0m     \u001b[38;5;28;01mraise\u001b[39;00m \u001b[38;5;167;01mKeyError\u001b[39;00m(\u001b[38;5;124mf\u001b[39m\u001b[38;5;124m\"\u001b[39m\u001b[38;5;124mKey \u001b[39m\u001b[38;5;124m'\u001b[39m\u001b[38;5;132;01m{\u001b[39;00mkey\u001b[38;5;132;01m}\u001b[39;00m\u001b[38;5;124m'\u001b[39m\u001b[38;5;124m not present\u001b[39m\u001b[38;5;124m\"\u001b[39m)\n",
      "\u001b[1;31mKeyError\u001b[0m: \"Key '900211HUMY' not present\""
     ]
    }
   ],
   "source": [
    "def evaluate_ild(test_sets, model, courses):\n",
    "    ild_results = []\n",
    "    \n",
    "    for i, test_input in enumerate(test_sets):\n",
    "        df_rec = recommend_courses(test_input, model, courses)\n",
    "\n",
    "        ids = [tag for tag in df_rec[\"course_catalogue_number\"] if tag in model.dv]\n",
    "        ild = compute_ild(ids, model)\n",
    "        ild_results.append(ild)\n",
    "        \n",
    "    return ild_results\n",
    "\n",
    "ild_scores = evaluate_ild(li_coourse_ids, model, courses)"
   ]
  },
  {
   "cell_type": "markdown",
   "id": "ce7033df-49e9-4c44-a8ec-08dbfb2837ca",
   "metadata": {},
   "source": [
    "https://scikit-learn.org/stable/modules/generated/sklearn.metrics.ndcg_score.html\n",
    "\n",
    "https://dl.acm.org/doi/full/10.1145/3664928?utm_source=chatgpt.com"
   ]
  }
 ],
 "metadata": {
  "kernelspec": {
   "display_name": "Python 3 (ipykernel)",
   "language": "python",
   "name": "python3"
  },
  "language_info": {
   "codemirror_mode": {
    "name": "ipython",
    "version": 3
   },
   "file_extension": ".py",
   "mimetype": "text/x-python",
   "name": "python",
   "nbconvert_exporter": "python",
   "pygments_lexer": "ipython3",
   "version": "3.11.7"
  }
 },
 "nbformat": 4,
 "nbformat_minor": 5
}
