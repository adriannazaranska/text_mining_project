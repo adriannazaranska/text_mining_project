{
 "cells": [
  {
   "cell_type": "markdown",
   "id": "7ff05913-5ea1-42a5-9df4-eaf159900930",
   "metadata": {},
   "source": [
    "# Text Mining Project: AUC Courses Recommender\n",
    "## Desrciption\n",
    "In this notebook you will find the source code for the Amsterdam University College (AUC) Course Recommender which was made for a Project for the course called Text Mining. "
   ]
  },
  {
   "cell_type": "markdown",
   "id": "8414d2e0-5945-4c37-91d7-5515d7abb683",
   "metadata": {},
   "source": [
    "## Code\n",
    "Imports:"
   ]
  },
  {
   "cell_type": "code",
   "execution_count": 1,
   "id": "d266089f-734d-452d-a09a-13e1cf8a8dcc",
   "metadata": {},
   "outputs": [],
   "source": [
    "import pandas as pd\n",
    "import numpy as np\n",
    "import nltk\n",
    "import re\n",
    "import string\n",
    "from sklearn.metrics.pairwise import cosine_similarity\n",
    "from gensim.parsing.preprocessing import remove_stopwords\n",
    "from gensim.models.doc2vec import Doc2Vec, TaggedDocument\n",
    "from nltk.tokenize import word_tokenize"
   ]
  },
  {
   "cell_type": "code",
   "execution_count": 2,
   "id": "f8cba196-31c5-41a3-85e0-f678cc151cc5",
   "metadata": {},
   "outputs": [],
   "source": [
    "pd.options.mode.chained_assignment = None"
   ]
  },
  {
   "cell_type": "markdown",
   "id": "2582a417-d31d-45ad-8a7f-57f0fe06122a",
   "metadata": {},
   "source": [
    "### Loading and Preprocessing the Data"
   ]
  },
  {
   "cell_type": "markdown",
   "id": "5b0fcd2a-72d4-4372-9603-47c2ad5295ac",
   "metadata": {},
   "source": [
    "Loading the data in as a DataFrame"
   ]
  },
  {
   "cell_type": "code",
   "execution_count": 5,
   "id": "ee728795-e823-47b3-9745-bae932c185b8",
   "metadata": {},
   "outputs": [],
   "source": [
    "data = pd.read_csv(\"datasets/recommender_dataset.csv\")"
   ]
  },
  {
   "cell_type": "code",
   "execution_count": 7,
   "id": "0bde0c9b-01b2-4239-857a-4060e9665021",
   "metadata": {},
   "outputs": [
    {
     "name": "stdout",
     "output_type": "stream",
     "text": [
      "3812\n"
     ]
    }
   ],
   "source": [
    "print(len(data))"
   ]
  },
  {
   "cell_type": "markdown",
   "id": "810590b6-12b1-4323-9a5b-402db671595f",
   "metadata": {},
   "source": [
    "Droping the rows which had noting in the row in the course_catalogue_number column."
   ]
  },
  {
   "cell_type": "code",
   "execution_count": 9,
   "id": "39e5cb04-6d99-4f92-8702-39a0887a376b",
   "metadata": {},
   "outputs": [],
   "source": [
    "courses = data.dropna(subset=['course_catalogue_number', 'is_part_of', 'language_of_instruction', 'course_description'])"
   ]
  },
  {
   "cell_type": "code",
   "execution_count": 11,
   "id": "21df11fc-93dd-404c-a0ef-51c46919b552",
   "metadata": {},
   "outputs": [
    {
     "name": "stdout",
     "output_type": "stream",
     "text": [
      "3345\n"
     ]
    }
   ],
   "source": [
    "print(len(courses))"
   ]
  },
  {
   "cell_type": "markdown",
   "id": "e688e136-dc74-4bca-ab84-1293338e4897",
   "metadata": {},
   "source": [
    "Getting out all of the duplicates form the data, just in case there are any."
   ]
  },
  {
   "cell_type": "code",
   "execution_count": 14,
   "id": "56cf1c5f-69c8-4010-b327-780155fdb990",
   "metadata": {},
   "outputs": [],
   "source": [
    "indices = pd.Series(courses.index, index=courses['course_catalogue_number']).drop_duplicates()"
   ]
  },
  {
   "cell_type": "markdown",
   "id": "7f043a79-e1e8-45de-989f-fc5c3827e200",
   "metadata": {},
   "source": [
    "Removing the stop words from columns: \"is_part_of\" and \"course_description\""
   ]
  },
  {
   "cell_type": "code",
   "execution_count": 19,
   "id": "e6a324b2-1717-4ca5-b845-6b241eb914a3",
   "metadata": {},
   "outputs": [],
   "source": [
    "courses = courses.reset_index(drop=True)\n",
    "for i in range(1, int(len(courses))):\n",
    "    courses.loc[i, 'course_name'] = courses.loc[i, 'course_name'].lower()\n",
    "    courses.loc[i, 'college_graduate'] = courses.loc[i, 'college_graduate'].lower()\n",
    "    courses.loc[i, 'language_of_instruction'] = courses.loc[i, 'language_of_instruction'].lower()\n",
    "    courses.loc[i, 'is_part_of'] = courses['is_part_of'][i].lower()\n",
    "    courses.loc[i, 'is_part_of'] = remove_stopwords(courses.loc[i, 'is_part_of'])\n",
    "    courses.loc[i, 'course_description'] = courses.iloc[i, 7].lower()\n",
    "    courses.loc[i, 'course_description'] = remove_stopwords(courses.loc[i, 'course_description'])"
   ]
  },
  {
   "cell_type": "code",
   "execution_count": 21,
   "id": "1a623490-9f60-49be-909f-58bcc568c377",
   "metadata": {},
   "outputs": [
    {
     "name": "stdout",
     "output_type": "stream",
     "text": [
      "the climate emergency. the history of a crisis\n"
     ]
    }
   ],
   "source": [
    "print(courses['course_name'][3000])"
   ]
  },
  {
   "cell_type": "markdown",
   "id": "77a74281-cac0-47c2-a55b-7b5ac707c019",
   "metadata": {},
   "source": [
    "Removing punctuation from the text"
   ]
  },
  {
   "cell_type": "code",
   "execution_count": 24,
   "id": "b346da1b-8c9b-4be4-9d10-9f807d5d03b6",
   "metadata": {},
   "outputs": [],
   "source": [
    "for i in range(len(courses)):\n",
    "    courses.loc[i, 'course_name'] = re.sub(r'[^\\w\\s]+', '', courses['course_name'][i])\n",
    "    courses.loc[i, 'is_part_of'] = re.sub(r'[^\\w\\s]+', '', courses['is_part_of'][i])\n",
    "    courses.loc[i, 'college_graduate'] = re.sub(r'[^\\w\\s]+', '', courses['college_graduate'][i])\n",
    "    courses.loc[i, 'course_description'] = re.sub(r'[^\\w\\s]+', '', courses['course_description'][i])"
   ]
  },
  {
   "cell_type": "code",
   "execution_count": 26,
   "id": "d6c8f4ab-bc7a-43eb-8829-32292b8e4498",
   "metadata": {},
   "outputs": [
    {
     "name": "stdout",
     "output_type": "stream",
     "text": [
      "3345\n"
     ]
    }
   ],
   "source": [
    "print(len(courses))"
   ]
  },
  {
   "cell_type": "code",
   "execution_count": 28,
   "id": "3507e474-94f8-4e44-8670-13f12e90007a",
   "metadata": {},
   "outputs": [
    {
     "name": "stdout",
     "output_type": "stream",
     "text": [
      "the climate emergency the history of a crisis\n"
     ]
    }
   ],
   "source": [
    "print(courses['course_name'][3000])"
   ]
  },
  {
   "cell_type": "markdown",
   "id": "695f9a6a-4a25-42a0-baf3-cdeb0780dcd6",
   "metadata": {},
   "source": [
    "### Tokenization"
   ]
  },
  {
   "cell_type": "markdown",
   "id": "b4382f74-9aa1-4b65-a53d-7488a8a36301",
   "metadata": {},
   "source": [
    "Tokenization of columns: 'course_name', 'is_part_of', 'college_graduate', and 'course_description'"
   ]
  },
  {
   "cell_type": "code",
   "execution_count": 30,
   "id": "af545fd2-c87a-44a6-bb56-f24f92b2c457",
   "metadata": {},
   "outputs": [],
   "source": [
    "for i in range(len(courses)):\n",
    "    courses.loc[i, 'course_name'] = nltk.tokenize.WordPunctTokenizer().tokenize(courses['course_name'][i])\n",
    "    courses.loc[i, 'is_part_of'] = nltk.tokenize.WordPunctTokenizer().tokenize(courses['is_part_of'][i])\n",
    "    courses.loc[i, 'college_graduate'] = nltk.tokenize.WordPunctTokenizer().tokenize(courses['college_graduate'][i])\n",
    "    courses.loc[i, 'course_description'] = nltk.tokenize.WordPunctTokenizer().tokenize(courses['course_description'][i])"
   ]
  },
  {
   "cell_type": "markdown",
   "id": "8cabb998-fe48-4c36-8621-e0eaec63b0bc",
   "metadata": {},
   "source": [
    "Making a new column with all of the text from the row."
   ]
  },
  {
   "cell_type": "code",
   "execution_count": 32,
   "id": "18e8f5b6-0b6d-42b7-88a3-d3e214c202c0",
   "metadata": {},
   "outputs": [],
   "source": [
    "courses['combined_text'] = courses['course_name'] + courses['is_part_of'] + courses['college_graduate'] + courses['course_description']"
   ]
  },
  {
   "cell_type": "markdown",
   "id": "4c0d70e0-3567-42a7-a2d1-597a2df78c4f",
   "metadata": {},
   "source": [
    "### Vectorization"
   ]
  },
  {
   "cell_type": "markdown",
   "id": "2081209c-d4ad-44ab-80ac-bc14aba28b1a",
   "metadata": {},
   "source": [
    "Tagging the column courses['combined_text'] in order to be able to vectorize it with doc2vec."
   ]
  },
  {
   "cell_type": "code",
   "execution_count": 36,
   "id": "8733d2b5-321b-4954-b55b-7b45142515ff",
   "metadata": {},
   "outputs": [],
   "source": [
    "tagged_data = [TaggedDocument(words=word_tokenize(str(_d)), tags=[str(i)]) for i, _d in enumerate(courses['combined_text'])]"
   ]
  },
  {
   "cell_type": "markdown",
   "id": "68cae78b-90f7-4181-8351-a5776501a5e9",
   "metadata": {},
   "source": [
    "Below I am vectorizing the column courses['combined_text']."
   ]
  },
  {
   "cell_type": "code",
   "execution_count": 38,
   "id": "59e70b85-51d0-459d-80d8-33ccd1055d0c",
   "metadata": {},
   "outputs": [
    {
     "name": "stdout",
     "output_type": "stream",
     "text": [
      "iteration 0\n",
      "iteration 1\n",
      "iteration 2\n",
      "iteration 3\n",
      "iteration 4\n",
      "iteration 5\n",
      "iteration 6\n",
      "iteration 7\n",
      "iteration 8\n",
      "iteration 9\n",
      "iteration 10\n",
      "iteration 11\n",
      "iteration 12\n",
      "iteration 13\n",
      "iteration 14\n",
      "iteration 15\n",
      "iteration 16\n",
      "iteration 17\n",
      "iteration 18\n",
      "iteration 19\n",
      "iteration 20\n",
      "iteration 21\n",
      "iteration 22\n",
      "iteration 23\n",
      "iteration 24\n",
      "iteration 25\n",
      "iteration 26\n",
      "iteration 27\n",
      "iteration 28\n",
      "iteration 29\n",
      "iteration 30\n",
      "iteration 31\n",
      "iteration 32\n",
      "iteration 33\n",
      "iteration 34\n",
      "iteration 35\n",
      "iteration 36\n",
      "iteration 37\n",
      "iteration 38\n",
      "iteration 39\n",
      "iteration 40\n",
      "iteration 41\n",
      "iteration 42\n",
      "iteration 43\n",
      "iteration 44\n",
      "iteration 45\n",
      "iteration 46\n",
      "iteration 47\n",
      "iteration 48\n",
      "iteration 49\n",
      "iteration 50\n",
      "iteration 51\n",
      "iteration 52\n",
      "iteration 53\n",
      "iteration 54\n",
      "iteration 55\n",
      "iteration 56\n",
      "iteration 57\n",
      "iteration 58\n",
      "iteration 59\n",
      "iteration 60\n",
      "iteration 61\n",
      "iteration 62\n",
      "iteration 63\n",
      "iteration 64\n",
      "iteration 65\n",
      "iteration 66\n",
      "iteration 67\n",
      "iteration 68\n",
      "iteration 69\n",
      "iteration 70\n",
      "iteration 71\n",
      "iteration 72\n",
      "iteration 73\n",
      "iteration 74\n",
      "iteration 75\n",
      "iteration 76\n",
      "iteration 77\n",
      "iteration 78\n",
      "iteration 79\n",
      "iteration 80\n",
      "iteration 81\n",
      "iteration 82\n",
      "iteration 83\n",
      "iteration 84\n",
      "iteration 85\n",
      "iteration 86\n",
      "iteration 87\n",
      "iteration 88\n",
      "iteration 89\n",
      "iteration 90\n",
      "iteration 91\n",
      "iteration 92\n",
      "iteration 93\n",
      "iteration 94\n",
      "iteration 95\n",
      "iteration 96\n",
      "iteration 97\n",
      "iteration 98\n",
      "iteration 99\n"
     ]
    }
   ],
   "source": [
    "params = {\n",
    "    'vector_size': 100, # dimension of embeddings\n",
    "    'window': 5, # window -/+ before and after focus word\n",
    "    'epochs': 5, # number of iterations over the corpus\n",
    "    'min_count': 5, # filter on words whose frequency is below this count\n",
    "    'workers': 4, # how many cores to use\n",
    "    'alpha': 0.05 # initial learning rate for SGD. This is lambda in the class notes\n",
    "}\n",
    "\n",
    "model = Doc2Vec(**params)\n",
    "  \n",
    "model.build_vocab(tagged_data)\n",
    "\n",
    "max_epochs = 100\n",
    "\n",
    "for epoch in range(max_epochs):\n",
    "    print('iteration {0}'.format(epoch))\n",
    "    model.train(tagged_data,\n",
    "                total_examples=model.corpus_count,\n",
    "                epochs=1)\n",
    "    model.alpha = 0.2\n",
    "    model.min_alpha = model.alpha"
   ]
  },
  {
   "cell_type": "markdown",
   "id": "f26ca921-6255-42e8-8d00-cbd80aa2379b",
   "metadata": {},
   "source": [
    "### Recommender"
   ]
  },
  {
   "cell_type": "code",
   "execution_count": 87,
   "id": "2cd23408-c237-4d00-b43e-767f1176d205",
   "metadata": {},
   "outputs": [],
   "source": [
    "def recommend_courses(li_course_ids, model, courses_df, top_n=5):\n",
    "    #selecting the courses from the data\n",
    "    selected_texts = []\n",
    "    for cid in li_course_ids:\n",
    "        row = courses_df[courses_df['course_catalogue_number'] == cid]\n",
    "        if not (len(row) == 0):\n",
    "            selected_texts.append(word_tokenize(str(row.iloc[0]['combined_text'])))\n",
    "\n",
    "    #getting the vectors in form the doc2vec model and making one vector out of all the courses in the li_course_ids\n",
    "    vectors = [model.infer_vector(tokens) for tokens in selected_texts]\n",
    "    av_vector = np.mean(vectors, axis=0).reshape(1, -1)\n",
    "    all_vectors = np.array([model.dv[i] for i in range(len(model.dv))])\n",
    "    \n",
    "    #calculating the cosine similarities and flattening them to one dimension\n",
    "    cosine_sim = cosine_similarity(av_vector, all_vectors).flatten()\n",
    "    \n",
    "    #making the cosine similarities a list and sorting it\n",
    "    sim_scores = list(enumerate(cosine_sim))\n",
    "    sim_scores = sorted(sim_scores, key=lambda x: x[1], reverse=True)\n",
    "    \n",
    "    #removing the courses from the sim_scores which were in the li_course_ids\n",
    "    idex_to_id = courses_df['course_catalogue_number'].tolist()\n",
    "    selected_indicies = [idex_to_id.index(cid) for cid in li_course_ids if cid in idex_to_id]\n",
    "    sim_scores = [s for s in sim_scores if s[0] not in selected_indicies]\n",
    "    \n",
    "    #getting the top 5 courses from the similaritie scores\n",
    "    course_indices = [i[0] for i in sim_scores[:top_n]]\n",
    "    \n",
    "    #returning the \n",
    "    return courses_df.iloc[course_indices][['course_name', 'course_catalogue_number']]"
   ]
  },
  {
   "cell_type": "markdown",
   "id": "79842d7b-7966-4c4f-87a1-225485d64377",
   "metadata": {},
   "source": [
    "### Testing"
   ]
  },
  {
   "cell_type": "markdown",
   "id": "b7e7c787-45f8-48fe-af44-05c6623529bd",
   "metadata": {},
   "source": [
    "Opening of the test dataset."
   ]
  },
  {
   "cell_type": "code",
   "execution_count": 79,
   "id": "4d59bb99-d501-41cc-9290-bcf7ccb0d1ab",
   "metadata": {},
   "outputs": [],
   "source": [
    "majors = []\n",
    "tracks = []\n",
    "li_coourse_ids = []\n",
    "with open(\"datasets/test_set.txt\", 'r') as f:\n",
    "    for l in f:\n",
    "        if l[0] == '[':\n",
    "            li_coourse_ids.append(eval(l))\n",
    "        elif l.isupper():\n",
    "            majors.append(l)\n",
    "        elif l.islower():\n",
    "            tracks.append(l)"
   ]
  },
  {
   "cell_type": "code",
   "execution_count": 131,
   "id": "b147b816-5643-4599-9baf-f393eb87ccc3",
   "metadata": {
    "scrolled": true
   },
   "outputs": [
    {
     "name": "stdout",
     "output_type": "stream",
     "text": [
      "SCIENCE\n",
      "\n",
      "math\n",
      "\n"
     ]
    },
    {
     "data": {
      "text/html": [
       "<div>\n",
       "<style scoped>\n",
       "    .dataframe tbody tr th:only-of-type {\n",
       "        vertical-align: middle;\n",
       "    }\n",
       "\n",
       "    .dataframe tbody tr th {\n",
       "        vertical-align: top;\n",
       "    }\n",
       "\n",
       "    .dataframe thead th {\n",
       "        text-align: right;\n",
       "    }\n",
       "</style>\n",
       "<table border=\"1\" class=\"dataframe\">\n",
       "  <thead>\n",
       "    <tr style=\"text-align: right;\">\n",
       "      <th></th>\n",
       "      <th>course_name</th>\n",
       "      <th>course_catalogue_number</th>\n",
       "    </tr>\n",
       "  </thead>\n",
       "  <tbody>\n",
       "    <tr>\n",
       "      <th>1741</th>\n",
       "      <td>[machine, learning]</td>\n",
       "      <td>6012B0809Y</td>\n",
       "    </tr>\n",
       "    <tr>\n",
       "      <th>1746</th>\n",
       "      <td>[machine, learning, 2]</td>\n",
       "      <td>52042MAL6Y</td>\n",
       "    </tr>\n",
       "    <tr>\n",
       "      <th>554</th>\n",
       "      <td>[community, project]</td>\n",
       "      <td>900201CICY</td>\n",
       "    </tr>\n",
       "    <tr>\n",
       "      <th>1572</th>\n",
       "      <td>[introduction, to, machine, learning, 2]</td>\n",
       "      <td>50824ITM6Y</td>\n",
       "    </tr>\n",
       "    <tr>\n",
       "      <th>1206</th>\n",
       "      <td>[french, 2, advanced]</td>\n",
       "      <td>11112L366Y</td>\n",
       "    </tr>\n",
       "  </tbody>\n",
       "</table>\n",
       "</div>"
      ],
      "text/plain": [
       "                                   course_name course_catalogue_number\n",
       "1741                       [machine, learning]              6012B0809Y\n",
       "1746                    [machine, learning, 2]              52042MAL6Y\n",
       "554                       [community, project]              900201CICY\n",
       "1572  [introduction, to, machine, learning, 2]              50824ITM6Y\n",
       "1206                     [french, 2, advanced]              11112L366Y"
      ]
     },
     "execution_count": 131,
     "metadata": {},
     "output_type": "execute_result"
    }
   ],
   "source": [
    "print(majors[0])\n",
    "print(tracks[0])\n",
    "recommend_courses(li_coourse_ids[0], model, courses)"
   ]
  },
  {
   "cell_type": "code",
   "execution_count": 123,
   "id": "a440d2c0-56d3-4817-a484-20e0733c1508",
   "metadata": {},
   "outputs": [
    {
     "name": "stdout",
     "output_type": "stream",
     "text": [
      "biomed\n",
      "\n"
     ]
    },
    {
     "data": {
      "text/html": [
       "<div>\n",
       "<style scoped>\n",
       "    .dataframe tbody tr th:only-of-type {\n",
       "        vertical-align: middle;\n",
       "    }\n",
       "\n",
       "    .dataframe tbody tr th {\n",
       "        vertical-align: top;\n",
       "    }\n",
       "\n",
       "    .dataframe thead th {\n",
       "        text-align: right;\n",
       "    }\n",
       "</style>\n",
       "<table border=\"1\" class=\"dataframe\">\n",
       "  <thead>\n",
       "    <tr style=\"text-align: right;\">\n",
       "      <th></th>\n",
       "      <th>course_name</th>\n",
       "      <th>course_catalogue_number</th>\n",
       "    </tr>\n",
       "  </thead>\n",
       "  <tbody>\n",
       "    <tr>\n",
       "      <th>394</th>\n",
       "      <td>[biomedical, systems, biology]</td>\n",
       "      <td>5234BISB6Y</td>\n",
       "    </tr>\n",
       "    <tr>\n",
       "      <th>2181</th>\n",
       "      <td>[nutrition, and, health]</td>\n",
       "      <td>900271SCIY</td>\n",
       "    </tr>\n",
       "    <tr>\n",
       "      <th>2592</th>\n",
       "      <td>[research, master, thesis]</td>\n",
       "      <td>7055R301KY</td>\n",
       "    </tr>\n",
       "    <tr>\n",
       "      <th>3330</th>\n",
       "      <td>[workshop, selfcare, in, academia, and, beyond]</td>\n",
       "      <td>7525W008AY</td>\n",
       "    </tr>\n",
       "    <tr>\n",
       "      <th>1298</th>\n",
       "      <td>[global, mental, health]</td>\n",
       "      <td>739400140Y</td>\n",
       "    </tr>\n",
       "  </tbody>\n",
       "</table>\n",
       "</div>"
      ],
      "text/plain": [
       "                                          course_name course_catalogue_number\n",
       "394                    [biomedical, systems, biology]              5234BISB6Y\n",
       "2181                         [nutrition, and, health]              900271SCIY\n",
       "2592                       [research, master, thesis]              7055R301KY\n",
       "3330  [workshop, selfcare, in, academia, and, beyond]              7525W008AY\n",
       "1298                         [global, mental, health]              739400140Y"
      ]
     },
     "execution_count": 123,
     "metadata": {},
     "output_type": "execute_result"
    }
   ],
   "source": [
    "print(tracks[1])\n",
    "recommend_courses(li_coourse_ids[1], model, courses)"
   ]
  },
  {
   "cell_type": "code",
   "execution_count": 143,
   "id": "6ca67234-a2d0-4d7e-ad09-c8a39d6d807a",
   "metadata": {},
   "outputs": [
    {
     "name": "stdout",
     "output_type": "stream",
     "text": [
      "physics\n",
      "\n"
     ]
    },
    {
     "data": {
      "text/html": [
       "<div>\n",
       "<style scoped>\n",
       "    .dataframe tbody tr th:only-of-type {\n",
       "        vertical-align: middle;\n",
       "    }\n",
       "\n",
       "    .dataframe tbody tr th {\n",
       "        vertical-align: top;\n",
       "    }\n",
       "\n",
       "    .dataframe thead th {\n",
       "        text-align: right;\n",
       "    }\n",
       "</style>\n",
       "<table border=\"1\" class=\"dataframe\">\n",
       "  <thead>\n",
       "    <tr style=\"text-align: right;\">\n",
       "      <th></th>\n",
       "      <th>course_name</th>\n",
       "      <th>course_catalogue_number</th>\n",
       "    </tr>\n",
       "  </thead>\n",
       "  <tbody>\n",
       "    <tr>\n",
       "      <th>2209</th>\n",
       "      <td>[optimisation, of, business, processes]</td>\n",
       "      <td>53348OPB6Y</td>\n",
       "    </tr>\n",
       "    <tr>\n",
       "      <th>2274</th>\n",
       "      <td>[philosophy, of, science]</td>\n",
       "      <td>5354PHSC6Y</td>\n",
       "    </tr>\n",
       "    <tr>\n",
       "      <th>2142</th>\n",
       "      <td>[natural, resource, economics]</td>\n",
       "      <td>6414M0505Y</td>\n",
       "    </tr>\n",
       "    <tr>\n",
       "      <th>2604</th>\n",
       "      <td>[research, masters, internship, linguistics, and]</td>\n",
       "      <td>176527036Y</td>\n",
       "    </tr>\n",
       "    <tr>\n",
       "      <th>1703</th>\n",
       "      <td>[literary, ecologies]</td>\n",
       "      <td>900202HUMY</td>\n",
       "    </tr>\n",
       "  </tbody>\n",
       "</table>\n",
       "</div>"
      ],
      "text/plain": [
       "                                            course_name  \\\n",
       "2209            [optimisation, of, business, processes]   \n",
       "2274                          [philosophy, of, science]   \n",
       "2142                     [natural, resource, economics]   \n",
       "2604  [research, masters, internship, linguistics, and]   \n",
       "1703                              [literary, ecologies]   \n",
       "\n",
       "     course_catalogue_number  \n",
       "2209              53348OPB6Y  \n",
       "2274              5354PHSC6Y  \n",
       "2142              6414M0505Y  \n",
       "2604              176527036Y  \n",
       "1703              900202HUMY  "
      ]
     },
     "execution_count": 143,
     "metadata": {},
     "output_type": "execute_result"
    }
   ],
   "source": [
    "print(tracks[2])\n",
    "recommend_courses(li_coourse_ids[2], model, courses)"
   ]
  },
  {
   "cell_type": "code",
   "execution_count": 167,
   "id": "af37cba0-0d9d-4f01-95ab-7fec095426d6",
   "metadata": {},
   "outputs": [
    {
     "name": "stdout",
     "output_type": "stream",
     "text": [
      "bio/environment\n",
      "\n"
     ]
    },
    {
     "data": {
      "text/html": [
       "<div>\n",
       "<style scoped>\n",
       "    .dataframe tbody tr th:only-of-type {\n",
       "        vertical-align: middle;\n",
       "    }\n",
       "\n",
       "    .dataframe tbody tr th {\n",
       "        vertical-align: top;\n",
       "    }\n",
       "\n",
       "    .dataframe thead th {\n",
       "        text-align: right;\n",
       "    }\n",
       "</style>\n",
       "<table border=\"1\" class=\"dataframe\">\n",
       "  <thead>\n",
       "    <tr style=\"text-align: right;\">\n",
       "      <th></th>\n",
       "      <th>course_name</th>\n",
       "      <th>course_catalogue_number</th>\n",
       "    </tr>\n",
       "  </thead>\n",
       "  <tbody>\n",
       "    <tr>\n",
       "      <th>2276</th>\n",
       "      <td>[philosophy, of, science]</td>\n",
       "      <td>7311E0030Y</td>\n",
       "    </tr>\n",
       "    <tr>\n",
       "      <th>399</th>\n",
       "      <td>[biotechnology]</td>\n",
       "      <td>5234BIOT6Y</td>\n",
       "    </tr>\n",
       "    <tr>\n",
       "      <th>3317</th>\n",
       "      <td>[words, sounds, images, the, anthropology, of,...</td>\n",
       "      <td>7312E0056Y</td>\n",
       "    </tr>\n",
       "    <tr>\n",
       "      <th>2524</th>\n",
       "      <td>[quantum, information, theory]</td>\n",
       "      <td>5334QUIT8Y</td>\n",
       "    </tr>\n",
       "    <tr>\n",
       "      <th>445</th>\n",
       "      <td>[care, and, capitalism, the, welfare, state, a...</td>\n",
       "      <td>111221316Y</td>\n",
       "    </tr>\n",
       "  </tbody>\n",
       "</table>\n",
       "</div>"
      ],
      "text/plain": [
       "                                            course_name  \\\n",
       "2276                          [philosophy, of, science]   \n",
       "399                                     [biotechnology]   \n",
       "3317  [words, sounds, images, the, anthropology, of,...   \n",
       "2524                     [quantum, information, theory]   \n",
       "445   [care, and, capitalism, the, welfare, state, a...   \n",
       "\n",
       "     course_catalogue_number  \n",
       "2276              7311E0030Y  \n",
       "399               5234BIOT6Y  \n",
       "3317              7312E0056Y  \n",
       "2524              5334QUIT8Y  \n",
       "445               111221316Y  "
      ]
     },
     "execution_count": 167,
     "metadata": {},
     "output_type": "execute_result"
    }
   ],
   "source": [
    "print(tracks[3])\n",
    "recommend_courses(li_coourse_ids[3], model, courses)"
   ]
  },
  {
   "cell_type": "code",
   "execution_count": 169,
   "id": "30a465eb-cb03-4f50-b0bb-56551e4b421f",
   "metadata": {},
   "outputs": [
    {
     "name": "stdout",
     "output_type": "stream",
     "text": [
      "information/neuro\n",
      "\n"
     ]
    },
    {
     "data": {
      "text/html": [
       "<div>\n",
       "<style scoped>\n",
       "    .dataframe tbody tr th:only-of-type {\n",
       "        vertical-align: middle;\n",
       "    }\n",
       "\n",
       "    .dataframe tbody tr th {\n",
       "        vertical-align: top;\n",
       "    }\n",
       "\n",
       "    .dataframe thead th {\n",
       "        text-align: right;\n",
       "    }\n",
       "</style>\n",
       "<table border=\"1\" class=\"dataframe\">\n",
       "  <thead>\n",
       "    <tr style=\"text-align: right;\">\n",
       "      <th></th>\n",
       "      <th>course_name</th>\n",
       "      <th>course_catalogue_number</th>\n",
       "    </tr>\n",
       "  </thead>\n",
       "  <tbody>\n",
       "    <tr>\n",
       "      <th>2194</th>\n",
       "      <td>[objects, in, context, an, interdisciplinary]</td>\n",
       "      <td>138120016Y</td>\n",
       "    </tr>\n",
       "    <tr>\n",
       "      <th>1024</th>\n",
       "      <td>[esg, advanced, environment]</td>\n",
       "      <td>6614ZE015Y</td>\n",
       "    </tr>\n",
       "    <tr>\n",
       "      <th>1947</th>\n",
       "      <td>[masterclasses, green, life, sciences]</td>\n",
       "      <td>5224MGLS3Y</td>\n",
       "    </tr>\n",
       "    <tr>\n",
       "      <th>2969</th>\n",
       "      <td>[team, development, through, action, research]</td>\n",
       "      <td>7204MA33XY</td>\n",
       "    </tr>\n",
       "    <tr>\n",
       "      <th>110</th>\n",
       "      <td>[advanced, private, law, in, context]</td>\n",
       "      <td>3254AVLCVY</td>\n",
       "    </tr>\n",
       "  </tbody>\n",
       "</table>\n",
       "</div>"
      ],
      "text/plain": [
       "                                         course_name course_catalogue_number\n",
       "2194   [objects, in, context, an, interdisciplinary]              138120016Y\n",
       "1024                    [esg, advanced, environment]              6614ZE015Y\n",
       "1947          [masterclasses, green, life, sciences]              5224MGLS3Y\n",
       "2969  [team, development, through, action, research]              7204MA33XY\n",
       "110            [advanced, private, law, in, context]              3254AVLCVY"
      ]
     },
     "execution_count": 169,
     "metadata": {},
     "output_type": "execute_result"
    }
   ],
   "source": [
    "print(tracks[4])\n",
    "recommend_courses(li_coourse_ids[4], model, courses)"
   ]
  },
  {
   "cell_type": "code",
   "execution_count": 153,
   "id": "dee7ef28-a418-4dd3-b592-a12c52bc12b4",
   "metadata": {},
   "outputs": [
    {
     "name": "stdout",
     "output_type": "stream",
     "text": [
      "SOCIAL SCIENCE\n",
      "\n",
      "economics\n",
      "\n"
     ]
    },
    {
     "data": {
      "text/html": [
       "<div>\n",
       "<style scoped>\n",
       "    .dataframe tbody tr th:only-of-type {\n",
       "        vertical-align: middle;\n",
       "    }\n",
       "\n",
       "    .dataframe tbody tr th {\n",
       "        vertical-align: top;\n",
       "    }\n",
       "\n",
       "    .dataframe thead th {\n",
       "        text-align: right;\n",
       "    }\n",
       "</style>\n",
       "<table border=\"1\" class=\"dataframe\">\n",
       "  <thead>\n",
       "    <tr style=\"text-align: right;\">\n",
       "      <th></th>\n",
       "      <th>course_name</th>\n",
       "      <th>course_catalogue_number</th>\n",
       "    </tr>\n",
       "  </thead>\n",
       "  <tbody>\n",
       "    <tr>\n",
       "      <th>1923</th>\n",
       "      <td>[masters, thesis, philosophy, of, the, humanit...</td>\n",
       "      <td>189429002Y</td>\n",
       "    </tr>\n",
       "    <tr>\n",
       "      <th>2392</th>\n",
       "      <td>[presentation, anthropology, of, health, care,...</td>\n",
       "      <td>7313TP090Y</td>\n",
       "    </tr>\n",
       "    <tr>\n",
       "      <th>2082</th>\n",
       "      <td>[modern, hebrew, language, acquisition, 1]</td>\n",
       "      <td>126111046Y</td>\n",
       "    </tr>\n",
       "    <tr>\n",
       "      <th>754</th>\n",
       "      <td>[curating, art, and, cultures, internship]</td>\n",
       "      <td>151618055Y</td>\n",
       "    </tr>\n",
       "    <tr>\n",
       "      <th>3210</th>\n",
       "      <td>[tutoring, and, study, guidance, bachelors, in...</td>\n",
       "      <td>11802A025Y</td>\n",
       "    </tr>\n",
       "  </tbody>\n",
       "</table>\n",
       "</div>"
      ],
      "text/plain": [
       "                                            course_name  \\\n",
       "1923  [masters, thesis, philosophy, of, the, humanit...   \n",
       "2392  [presentation, anthropology, of, health, care,...   \n",
       "2082         [modern, hebrew, language, acquisition, 1]   \n",
       "754          [curating, art, and, cultures, internship]   \n",
       "3210  [tutoring, and, study, guidance, bachelors, in...   \n",
       "\n",
       "     course_catalogue_number  \n",
       "1923              189429002Y  \n",
       "2392              7313TP090Y  \n",
       "2082              126111046Y  \n",
       "754               151618055Y  \n",
       "3210              11802A025Y  "
      ]
     },
     "execution_count": 153,
     "metadata": {},
     "output_type": "execute_result"
    }
   ],
   "source": [
    "print(majors[1])\n",
    "print(tracks[5])\n",
    "recommend_courses(li_coourse_ids[5], model, courses)"
   ]
  },
  {
   "cell_type": "code",
   "execution_count": 155,
   "id": "267d689b-00f3-4845-a0b8-e8a452b8bde0",
   "metadata": {},
   "outputs": [
    {
     "name": "stdout",
     "output_type": "stream",
     "text": [
      "psychology/economics\n",
      "\n"
     ]
    },
    {
     "data": {
      "text/html": [
       "<div>\n",
       "<style scoped>\n",
       "    .dataframe tbody tr th:only-of-type {\n",
       "        vertical-align: middle;\n",
       "    }\n",
       "\n",
       "    .dataframe tbody tr th {\n",
       "        vertical-align: top;\n",
       "    }\n",
       "\n",
       "    .dataframe thead th {\n",
       "        text-align: right;\n",
       "    }\n",
       "</style>\n",
       "<table border=\"1\" class=\"dataframe\">\n",
       "  <thead>\n",
       "    <tr style=\"text-align: right;\">\n",
       "      <th></th>\n",
       "      <th>course_name</th>\n",
       "      <th>course_catalogue_number</th>\n",
       "    </tr>\n",
       "  </thead>\n",
       "  <tbody>\n",
       "    <tr>\n",
       "      <th>1191</th>\n",
       "      <td>[foundation, appreciating, the, complexity, of]</td>\n",
       "      <td>738100001Y</td>\n",
       "    </tr>\n",
       "    <tr>\n",
       "      <th>2569</th>\n",
       "      <td>[religion, violence, conflict, resolution]</td>\n",
       "      <td>153416027Y</td>\n",
       "    </tr>\n",
       "    <tr>\n",
       "      <th>1355</th>\n",
       "      <td>[history, and, philosophy, of, the, humanities]</td>\n",
       "      <td>187421516Y</td>\n",
       "    </tr>\n",
       "    <tr>\n",
       "      <th>2080</th>\n",
       "      <td>[modern, greek, language, and, literature, 1]</td>\n",
       "      <td>130221106Y</td>\n",
       "    </tr>\n",
       "    <tr>\n",
       "      <th>2860</th>\n",
       "      <td>[spectroscopic, analysis]</td>\n",
       "      <td>5254SPAN6Y</td>\n",
       "    </tr>\n",
       "  </tbody>\n",
       "</table>\n",
       "</div>"
      ],
      "text/plain": [
       "                                          course_name course_catalogue_number\n",
       "1191  [foundation, appreciating, the, complexity, of]              738100001Y\n",
       "2569       [religion, violence, conflict, resolution]              153416027Y\n",
       "1355  [history, and, philosophy, of, the, humanities]              187421516Y\n",
       "2080    [modern, greek, language, and, literature, 1]              130221106Y\n",
       "2860                        [spectroscopic, analysis]              5254SPAN6Y"
      ]
     },
     "execution_count": 155,
     "metadata": {},
     "output_type": "execute_result"
    }
   ],
   "source": [
    "print(tracks[6])\n",
    "recommend_courses(li_coourse_ids[6], model, courses)"
   ]
  },
  {
   "cell_type": "code",
   "execution_count": 161,
   "id": "1f34b2e4-97c0-4404-ad0d-bc7e23b55988",
   "metadata": {},
   "outputs": [
    {
     "name": "stdout",
     "output_type": "stream",
     "text": [
      "political science/law\n",
      "\n"
     ]
    },
    {
     "data": {
      "text/html": [
       "<div>\n",
       "<style scoped>\n",
       "    .dataframe tbody tr th:only-of-type {\n",
       "        vertical-align: middle;\n",
       "    }\n",
       "\n",
       "    .dataframe tbody tr th {\n",
       "        vertical-align: top;\n",
       "    }\n",
       "\n",
       "    .dataframe thead th {\n",
       "        text-align: right;\n",
       "    }\n",
       "</style>\n",
       "<table border=\"1\" class=\"dataframe\">\n",
       "  <thead>\n",
       "    <tr style=\"text-align: right;\">\n",
       "      <th></th>\n",
       "      <th>course_name</th>\n",
       "      <th>course_catalogue_number</th>\n",
       "    </tr>\n",
       "  </thead>\n",
       "  <tbody>\n",
       "    <tr>\n",
       "      <th>758</th>\n",
       "      <td>[curatorial, practices, in, the, contemporary,...</td>\n",
       "      <td>15161E036Y</td>\n",
       "    </tr>\n",
       "    <tr>\n",
       "      <th>3054</th>\n",
       "      <td>[the, politics, of, choreography]</td>\n",
       "      <td>145423106Y</td>\n",
       "    </tr>\n",
       "    <tr>\n",
       "      <th>2856</th>\n",
       "      <td>[specialisation, urban, geography]</td>\n",
       "      <td>73435E521Y</td>\n",
       "    </tr>\n",
       "    <tr>\n",
       "      <th>1447</th>\n",
       "      <td>[internal, conflict, in, clan, societies, peace]</td>\n",
       "      <td>73230233LY</td>\n",
       "    </tr>\n",
       "    <tr>\n",
       "      <th>2161</th>\n",
       "      <td>[neurosystems]</td>\n",
       "      <td>5052NEU12Y</td>\n",
       "    </tr>\n",
       "  </tbody>\n",
       "</table>\n",
       "</div>"
      ],
      "text/plain": [
       "                                            course_name  \\\n",
       "758   [curatorial, practices, in, the, contemporary,...   \n",
       "3054                  [the, politics, of, choreography]   \n",
       "2856                 [specialisation, urban, geography]   \n",
       "1447   [internal, conflict, in, clan, societies, peace]   \n",
       "2161                                     [neurosystems]   \n",
       "\n",
       "     course_catalogue_number  \n",
       "758               15161E036Y  \n",
       "3054              145423106Y  \n",
       "2856              73435E521Y  \n",
       "1447              73230233LY  \n",
       "2161              5052NEU12Y  "
      ]
     },
     "execution_count": 161,
     "metadata": {},
     "output_type": "execute_result"
    }
   ],
   "source": [
    "print(tracks[7])\n",
    "recommend_courses(li_coourse_ids[7], model, courses)"
   ]
  },
  {
   "cell_type": "code",
   "execution_count": 145,
   "id": "cede2c29-351a-4eb0-8cdb-2c977474727a",
   "metadata": {},
   "outputs": [
    {
     "name": "stdout",
     "output_type": "stream",
     "text": [
      "history/philosophy\n",
      "\n"
     ]
    },
    {
     "data": {
      "text/html": [
       "<div>\n",
       "<style scoped>\n",
       "    .dataframe tbody tr th:only-of-type {\n",
       "        vertical-align: middle;\n",
       "    }\n",
       "\n",
       "    .dataframe tbody tr th {\n",
       "        vertical-align: top;\n",
       "    }\n",
       "\n",
       "    .dataframe thead th {\n",
       "        text-align: right;\n",
       "    }\n",
       "</style>\n",
       "<table border=\"1\" class=\"dataframe\">\n",
       "  <thead>\n",
       "    <tr style=\"text-align: right;\">\n",
       "      <th></th>\n",
       "      <th>course_name</th>\n",
       "      <th>course_catalogue_number</th>\n",
       "    </tr>\n",
       "  </thead>\n",
       "  <tbody>\n",
       "    <tr>\n",
       "      <th>1533</th>\n",
       "      <td>[interventions, in, sport, and, performance, p...</td>\n",
       "      <td>7204MA36XY</td>\n",
       "    </tr>\n",
       "    <tr>\n",
       "      <th>2443</th>\n",
       "      <td>[professional, skills, science, connect]</td>\n",
       "      <td>5224PSSC2Y</td>\n",
       "    </tr>\n",
       "    <tr>\n",
       "      <th>2502</th>\n",
       "      <td>[research, skills, ethnography, and, beyond]</td>\n",
       "      <td>75250075FY</td>\n",
       "    </tr>\n",
       "    <tr>\n",
       "      <th>714</th>\n",
       "      <td>[criminalistics, applied, to, forensic, chemis...</td>\n",
       "      <td>5274CATF6Y</td>\n",
       "    </tr>\n",
       "    <tr>\n",
       "      <th>2423</th>\n",
       "      <td>[probability, and, statistics]</td>\n",
       "      <td>900229SCIY</td>\n",
       "    </tr>\n",
       "  </tbody>\n",
       "</table>\n",
       "</div>"
      ],
      "text/plain": [
       "                                            course_name  \\\n",
       "1533  [interventions, in, sport, and, performance, p...   \n",
       "2443           [professional, skills, science, connect]   \n",
       "2502       [research, skills, ethnography, and, beyond]   \n",
       "714   [criminalistics, applied, to, forensic, chemis...   \n",
       "2423                     [probability, and, statistics]   \n",
       "\n",
       "     course_catalogue_number  \n",
       "1533              7204MA36XY  \n",
       "2443              5224PSSC2Y  \n",
       "2502              75250075FY  \n",
       "714               5274CATF6Y  \n",
       "2423              900229SCIY  "
      ]
     },
     "execution_count": 145,
     "metadata": {},
     "output_type": "execute_result"
    }
   ],
   "source": [
    "print(tracks[8])\n",
    "recommend_courses(li_coourse_ids[8], model, courses)"
   ]
  },
  {
   "cell_type": "code",
   "execution_count": 121,
   "id": "4b4f3ea8-6012-4d65-bd27-7d516ab8dbdf",
   "metadata": {},
   "outputs": [
    {
     "name": "stdout",
     "output_type": "stream",
     "text": [
      "HUMANITIES\n",
      "\n",
      "history/philosophy\n",
      "\n"
     ]
    },
    {
     "data": {
      "text/html": [
       "<div>\n",
       "<style scoped>\n",
       "    .dataframe tbody tr th:only-of-type {\n",
       "        vertical-align: middle;\n",
       "    }\n",
       "\n",
       "    .dataframe tbody tr th {\n",
       "        vertical-align: top;\n",
       "    }\n",
       "\n",
       "    .dataframe thead th {\n",
       "        text-align: right;\n",
       "    }\n",
       "</style>\n",
       "<table border=\"1\" class=\"dataframe\">\n",
       "  <thead>\n",
       "    <tr style=\"text-align: right;\">\n",
       "      <th></th>\n",
       "      <th>course_name</th>\n",
       "      <th>course_catalogue_number</th>\n",
       "    </tr>\n",
       "  </thead>\n",
       "  <tbody>\n",
       "    <tr>\n",
       "      <th>10</th>\n",
       "      <td>[1, current, issues, in, medical, informatics,...</td>\n",
       "      <td>4604MM101Y</td>\n",
       "    </tr>\n",
       "    <tr>\n",
       "      <th>167</th>\n",
       "      <td>[algorithms, beyond, the, worst, case]</td>\n",
       "      <td>5334ABTW6Y</td>\n",
       "    </tr>\n",
       "    <tr>\n",
       "      <th>1820</th>\n",
       "      <td>[master, thesis, ai]</td>\n",
       "      <td>5204MTA48Y</td>\n",
       "    </tr>\n",
       "    <tr>\n",
       "      <th>2765</th>\n",
       "      <td>[seminar, heritage, and, public, history]</td>\n",
       "      <td>13832E016Y</td>\n",
       "    </tr>\n",
       "    <tr>\n",
       "      <th>2173</th>\n",
       "      <td>[nonlinear, partial, differential, equations]</td>\n",
       "      <td>5334NPDE8Y</td>\n",
       "    </tr>\n",
       "  </tbody>\n",
       "</table>\n",
       "</div>"
      ],
      "text/plain": [
       "                                            course_name  \\\n",
       "10    [1, current, issues, in, medical, informatics,...   \n",
       "167              [algorithms, beyond, the, worst, case]   \n",
       "1820                               [master, thesis, ai]   \n",
       "2765          [seminar, heritage, and, public, history]   \n",
       "2173      [nonlinear, partial, differential, equations]   \n",
       "\n",
       "     course_catalogue_number  \n",
       "10                4604MM101Y  \n",
       "167               5334ABTW6Y  \n",
       "1820              5204MTA48Y  \n",
       "2765              13832E016Y  \n",
       "2173              5334NPDE8Y  "
      ]
     },
     "execution_count": 121,
     "metadata": {},
     "output_type": "execute_result"
    }
   ],
   "source": [
    "print(majors[2])\n",
    "print(tracks[8])\n",
    "recommend_courses(li_coourse_ids[8], model, courses)"
   ]
  },
  {
   "cell_type": "code",
   "execution_count": 123,
   "id": "b396fcee-1ea5-41cb-a6bf-9a489a7181e9",
   "metadata": {},
   "outputs": [
    {
     "name": "stdout",
     "output_type": "stream",
     "text": [
      "cultural analysis\n",
      "\n"
     ]
    },
    {
     "data": {
      "text/html": [
       "<div>\n",
       "<style scoped>\n",
       "    .dataframe tbody tr th:only-of-type {\n",
       "        vertical-align: middle;\n",
       "    }\n",
       "\n",
       "    .dataframe tbody tr th {\n",
       "        vertical-align: top;\n",
       "    }\n",
       "\n",
       "    .dataframe thead th {\n",
       "        text-align: right;\n",
       "    }\n",
       "</style>\n",
       "<table border=\"1\" class=\"dataframe\">\n",
       "  <thead>\n",
       "    <tr style=\"text-align: right;\">\n",
       "      <th></th>\n",
       "      <th>course_name</th>\n",
       "      <th>course_catalogue_number</th>\n",
       "    </tr>\n",
       "  </thead>\n",
       "  <tbody>\n",
       "    <tr>\n",
       "      <th>167</th>\n",
       "      <td>[algorithms, beyond, the, worst, case]</td>\n",
       "      <td>5334ABTW6Y</td>\n",
       "    </tr>\n",
       "    <tr>\n",
       "      <th>10</th>\n",
       "      <td>[1, current, issues, in, medical, informatics,...</td>\n",
       "      <td>4604MM101Y</td>\n",
       "    </tr>\n",
       "    <tr>\n",
       "      <th>2765</th>\n",
       "      <td>[seminar, heritage, and, public, history]</td>\n",
       "      <td>13832E016Y</td>\n",
       "    </tr>\n",
       "    <tr>\n",
       "      <th>2173</th>\n",
       "      <td>[nonlinear, partial, differential, equations]</td>\n",
       "      <td>5334NPDE8Y</td>\n",
       "    </tr>\n",
       "    <tr>\n",
       "      <th>1615</th>\n",
       "      <td>[inverse, problems, in, imaging]</td>\n",
       "      <td>5334IPII6Y</td>\n",
       "    </tr>\n",
       "  </tbody>\n",
       "</table>\n",
       "</div>"
      ],
      "text/plain": [
       "                                            course_name  \\\n",
       "167              [algorithms, beyond, the, worst, case]   \n",
       "10    [1, current, issues, in, medical, informatics,...   \n",
       "2765          [seminar, heritage, and, public, history]   \n",
       "2173      [nonlinear, partial, differential, equations]   \n",
       "1615                   [inverse, problems, in, imaging]   \n",
       "\n",
       "     course_catalogue_number  \n",
       "167               5334ABTW6Y  \n",
       "10                4604MM101Y  \n",
       "2765              13832E016Y  \n",
       "2173              5334NPDE8Y  \n",
       "1615              5334IPII6Y  "
      ]
     },
     "execution_count": 123,
     "metadata": {},
     "output_type": "execute_result"
    }
   ],
   "source": [
    "print(tracks[9])\n",
    "recommend_courses(li_coourse_ids[9], model, courses)"
   ]
  },
  {
   "cell_type": "code",
   "execution_count": 203,
   "id": "df950569-b984-4110-9004-63eeffe9355d",
   "metadata": {},
   "outputs": [
    {
     "name": "stdout",
     "output_type": "stream",
     "text": [
      "media/film\n",
      "\n"
     ]
    },
    {
     "data": {
      "text/html": [
       "<div>\n",
       "<style scoped>\n",
       "    .dataframe tbody tr th:only-of-type {\n",
       "        vertical-align: middle;\n",
       "    }\n",
       "\n",
       "    .dataframe tbody tr th {\n",
       "        vertical-align: top;\n",
       "    }\n",
       "\n",
       "    .dataframe thead th {\n",
       "        text-align: right;\n",
       "    }\n",
       "</style>\n",
       "<table border=\"1\" class=\"dataframe\">\n",
       "  <thead>\n",
       "    <tr style=\"text-align: right;\">\n",
       "      <th></th>\n",
       "      <th>course_name</th>\n",
       "      <th>course_catalogue_number</th>\n",
       "    </tr>\n",
       "  </thead>\n",
       "  <tbody>\n",
       "    <tr>\n",
       "      <th>936</th>\n",
       "      <td>[economic, methodology]</td>\n",
       "      <td>6012B0454Y</td>\n",
       "    </tr>\n",
       "    <tr>\n",
       "      <th>2946</th>\n",
       "      <td>[sustainable, and, inclusive, economics]</td>\n",
       "      <td>74040007FY</td>\n",
       "    </tr>\n",
       "    <tr>\n",
       "      <th>2807</th>\n",
       "      <td>[social, movements, change, from, below]</td>\n",
       "      <td>7303S4002Y</td>\n",
       "    </tr>\n",
       "    <tr>\n",
       "      <th>786</th>\n",
       "      <td>[data, analytics]</td>\n",
       "      <td>6314M0413Y</td>\n",
       "    </tr>\n",
       "    <tr>\n",
       "      <th>1663</th>\n",
       "      <td>[language, proficiency, sign, language, of, the]</td>\n",
       "      <td>135221106Y</td>\n",
       "    </tr>\n",
       "  </tbody>\n",
       "</table>\n",
       "</div>"
      ],
      "text/plain": [
       "                                           course_name course_catalogue_number\n",
       "936                            [economic, methodology]              6012B0454Y\n",
       "2946          [sustainable, and, inclusive, economics]              74040007FY\n",
       "2807          [social, movements, change, from, below]              7303S4002Y\n",
       "786                                  [data, analytics]              6314M0413Y\n",
       "1663  [language, proficiency, sign, language, of, the]              135221106Y"
      ]
     },
     "execution_count": 203,
     "metadata": {},
     "output_type": "execute_result"
    }
   ],
   "source": [
    "print(tracks[10])\n",
    "recommend_courses(li_coourse_ids[10], model, courses)"
   ]
  },
  {
   "cell_type": "code",
   "execution_count": 205,
   "id": "86c0c4be-ba3b-42c5-a1a8-48866bc86d04",
   "metadata": {},
   "outputs": [
    {
     "name": "stdout",
     "output_type": "stream",
     "text": [
      "art history/history\n",
      "\n"
     ]
    },
    {
     "data": {
      "text/html": [
       "<div>\n",
       "<style scoped>\n",
       "    .dataframe tbody tr th:only-of-type {\n",
       "        vertical-align: middle;\n",
       "    }\n",
       "\n",
       "    .dataframe tbody tr th {\n",
       "        vertical-align: top;\n",
       "    }\n",
       "\n",
       "    .dataframe thead th {\n",
       "        text-align: right;\n",
       "    }\n",
       "</style>\n",
       "<table border=\"1\" class=\"dataframe\">\n",
       "  <thead>\n",
       "    <tr style=\"text-align: right;\">\n",
       "      <th></th>\n",
       "      <th>course_name</th>\n",
       "      <th>course_catalogue_number</th>\n",
       "    </tr>\n",
       "  </thead>\n",
       "  <tbody>\n",
       "    <tr>\n",
       "      <th>1357</th>\n",
       "      <td>[history, lab]</td>\n",
       "      <td>9002601HUY</td>\n",
       "    </tr>\n",
       "    <tr>\n",
       "      <th>2537</th>\n",
       "      <td>[race, class, and, gender, intersectionality]</td>\n",
       "      <td>900374SSCY</td>\n",
       "    </tr>\n",
       "    <tr>\n",
       "      <th>2044</th>\n",
       "      <td>[migration, citizenship]</td>\n",
       "      <td>7332B005AY</td>\n",
       "    </tr>\n",
       "    <tr>\n",
       "      <th>2372</th>\n",
       "      <td>[postcolonial, encounters, in, arts, and, cult...</td>\n",
       "      <td>111221596Y</td>\n",
       "    </tr>\n",
       "    <tr>\n",
       "      <th>1635</th>\n",
       "      <td>[journalism]</td>\n",
       "      <td>900258HUMY</td>\n",
       "    </tr>\n",
       "  </tbody>\n",
       "</table>\n",
       "</div>"
      ],
      "text/plain": [
       "                                            course_name  \\\n",
       "1357                                     [history, lab]   \n",
       "2537      [race, class, and, gender, intersectionality]   \n",
       "2044                           [migration, citizenship]   \n",
       "2372  [postcolonial, encounters, in, arts, and, cult...   \n",
       "1635                                       [journalism]   \n",
       "\n",
       "     course_catalogue_number  \n",
       "1357              9002601HUY  \n",
       "2537              900374SSCY  \n",
       "2044              7332B005AY  \n",
       "2372              111221596Y  \n",
       "1635              900258HUMY  "
      ]
     },
     "execution_count": 205,
     "metadata": {},
     "output_type": "execute_result"
    }
   ],
   "source": [
    "print(tracks[11])\n",
    "recommend_courses(li_coourse_ids[11], model, courses)"
   ]
  },
  {
   "cell_type": "code",
   "execution_count": null,
   "id": "347aab1a-34b6-490a-8d31-64644cac4c13",
   "metadata": {},
   "outputs": [],
   "source": []
  },
  {
   "cell_type": "code",
   "execution_count": null,
   "id": "50a34149-7a9c-41f6-aa9d-c80cb3e1bbd0",
   "metadata": {},
   "outputs": [],
   "source": []
  }
 ],
 "metadata": {
  "kernelspec": {
   "display_name": "Python 3 (ipykernel)",
   "language": "python",
   "name": "python3"
  },
  "language_info": {
   "codemirror_mode": {
    "name": "ipython",
    "version": 3
   },
   "file_extension": ".py",
   "mimetype": "text/x-python",
   "name": "python",
   "nbconvert_exporter": "python",
   "pygments_lexer": "ipython3",
   "version": "3.11.8"
  }
 },
 "nbformat": 4,
 "nbformat_minor": 5
}
