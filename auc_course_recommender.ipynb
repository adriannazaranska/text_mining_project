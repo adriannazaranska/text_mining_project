{
 "cells": [
  {
   "cell_type": "markdown",
   "id": "7ff05913-5ea1-42a5-9df4-eaf159900930",
   "metadata": {},
   "source": [
    "# AUC Course Recommender\n",
    "## Description\n",
    "In this notebook is the source code for the Amsterdam University College (AUC) Course Recommender. This course recommender is part of a project for the Text Mining course."
   ]
  },
  {
   "cell_type": "markdown",
   "id": "8414d2e0-5945-4c37-91d7-5515d7abb683",
   "metadata": {},
   "source": [
    "## Code\n",
    "### Imports:"
   ]
  },
  {
   "cell_type": "code",
   "execution_count": 247,
   "id": "d266089f-734d-452d-a09a-13e1cf8a8dcc",
   "metadata": {},
   "outputs": [],
   "source": [
    "import pandas as pd\n",
    "import numpy as np\n",
    "import nltk\n",
    "import re\n",
    "import string\n",
    "from sklearn.metrics.pairwise import cosine_similarity\n",
    "from gensim.parsing.preprocessing import remove_stopwords\n",
    "from gensim.models.doc2vec import Doc2Vec, TaggedDocument\n",
    "from nltk.tokenize import word_tokenize"
   ]
  },
  {
   "cell_type": "markdown",
   "id": "2582a417-d31d-45ad-8a7f-57f0fe06122a",
   "metadata": {},
   "source": [
    "### Loading and Preprocessing the Data"
   ]
  },
  {
   "cell_type": "markdown",
   "id": "5b0fcd2a-72d4-4372-9603-47c2ad5295ac",
   "metadata": {},
   "source": [
    "Loading the data in as a pandas dataframe:"
   ]
  },
  {
   "cell_type": "code",
   "execution_count": 248,
   "id": "ee728795-e823-47b3-9745-bae932c185b8",
   "metadata": {},
   "outputs": [
    {
     "name": "stdout",
     "output_type": "stream",
     "text": [
      "(3812, 8)\n"
     ]
    }
   ],
   "source": [
    "data = pd.read_csv(\"datasets/recommender_dataset.csv\")\n",
    "print(data.shape)"
   ]
  },
  {
   "cell_type": "markdown",
   "id": "810590b6-12b1-4323-9a5b-402db671595f",
   "metadata": {},
   "source": [
    "Next we drop the rows which have nothing in the course_catalogue_number column. These rows are empty because the course scraper did not scrape information from courses whose websites were not written in English, meaning that after dropping these rows all courses in the dataset are taught in English."
   ]
  },
  {
   "cell_type": "code",
   "execution_count": 249,
   "id": "39e5cb04-6d99-4f92-8702-39a0887a376b",
   "metadata": {},
   "outputs": [
    {
     "name": "stdout",
     "output_type": "stream",
     "text": [
      "(3345, 8)\n"
     ]
    }
   ],
   "source": [
    "courses = data.dropna(subset=['course_catalogue_number', 'is_part_of', 'language_of_instruction', 'course_description'])\n",
    "print(courses.shape)"
   ]
  },
  {
   "cell_type": "markdown",
   "id": "0ea291ae-aa38-4abe-aa84-a7a0eb13b58f",
   "metadata": {},
   "source": [
    "Example of course description before preprocessing:"
   ]
  },
  {
   "cell_type": "code",
   "execution_count": 250,
   "id": "d8f5a483-1fe2-486a-afc4-00c91adf7020",
   "metadata": {},
   "outputs": [
    {
     "name": "stdout",
     "output_type": "stream",
     "text": [
      "Upon completing this course, you should be able to: identify and use different schools of thought in strategic management based on a solid understanding of their assumptions, strengths and weaknesses; critically reflect on different theories and perspectives in relation to competitive and cooperative strategy and compare them with alternative views; select, apply and combine analytical tools in diagnosing or addressing strategic issues at the business and network level in real-life cases; analyse the competitive, cooperative and coopetitive strategies of organizations, assess the impact of changes in these strategies, and formulate recommendations for improvement; adequately analyse the external and internal environment of an organization to derive relevant insights that can inform strategic decision-making; identify when and how to change or modify a business model over time and recognize relevant enabling and inhibiting factors; map the ecosystem(s) and alliance networks in which organizations operate and identify potential strategy blindspots; apply ‘parallel thinking’: what should a strategy look like and how to make sure that it is effectuated.\n",
      "This course is about competitive and cooperative strategy. Competitive strategy is concerned with making choices on how to create and maintain a competitive advantage in a particular business area (industry or product market), resulting in above-average returns, by delivering a unique value proposition. This value proposition can derive from choosing a set of activities that differ from those of competitors or that are performed differently. The course focuses on both pipeline and platform businesses and their strategic choices in the context of competitive dynamics. Firms are typically not fully independently operating entities that strive to enhance their competitive advantage entirely on their own strength. After all, most firms are embedded in networks of interdependent and cooperative relationships with other organizations. Hence, this course pays attention also to strategic choices at the network level, where firms are part of ecosystems and engage in cooperative arrangements to further their goals. The course fosters an integrative view of strategy, covering strategic analysis, strategy formulation and strategy implementation. By examining what makes some strategies strong and viable, while others remain weak and vulnerable, you enhance your ability to consider the impact of particular changes and adjustments on the opportunities for strengthening competitiveness.\n",
      "LENGTH: 2561\n"
     ]
    }
   ],
   "source": [
    "print(courses.iloc[0][\"course_description\"])\n",
    "print(\"LENGTH:\" ,len(courses.iloc[0][\"course_description\"]))"
   ]
  },
  {
   "cell_type": "markdown",
   "id": "7f043a79-e1e8-45de-989f-fc5c3827e200",
   "metadata": {},
   "source": [
    "Now we remove the stop words from dataframe's columns, as these act as noise that do not add much discriminative value in terms of similarity. "
   ]
  },
  {
   "cell_type": "code",
   "execution_count": 251,
   "id": "e6a324b2-1717-4ca5-b845-6b241eb914a3",
   "metadata": {},
   "outputs": [],
   "source": [
    "courses = courses.reset_index(drop=True)\n",
    "for i in range(len(courses)):\n",
    "    courses.loc[i, 'course_name'] = courses.loc[i, 'course_name'].lower()\n",
    "    courses.loc[i, 'college_graduate'] = courses.loc[i, 'college_graduate'].lower()\n",
    "    courses.loc[i, 'language_of_instruction'] = courses.loc[i, 'language_of_instruction'].lower()\n",
    "    courses.loc[i, 'is_part_of'] = courses['is_part_of'][i].lower()\n",
    "    courses.loc[i, 'is_part_of'] = remove_stopwords(courses.loc[i, 'is_part_of'])\n",
    "    courses.loc[i, 'course_description'] = courses.loc[i, \"course_description\"].lower()\n",
    "    courses.loc[i, 'course_description'] = remove_stopwords(courses.loc[i, 'course_description'])"
   ]
  },
  {
   "cell_type": "markdown",
   "id": "77a74281-cac0-47c2-a55b-7b5ac707c019",
   "metadata": {},
   "source": [
    "We also remove punctuation from the text, as this also acts as noise:"
   ]
  },
  {
   "cell_type": "code",
   "execution_count": 252,
   "id": "b346da1b-8c9b-4be4-9d10-9f807d5d03b6",
   "metadata": {},
   "outputs": [],
   "source": [
    "for i in range(len(courses)):\n",
    "    courses.loc[i, 'course_name'] = re.sub(r'[^\\w\\s]+', '', courses['course_name'][i])\n",
    "    courses.loc[i, 'is_part_of'] = re.sub(r'[^\\w\\s]+', '', courses['is_part_of'][i])\n",
    "    courses.loc[i, 'college_graduate'] = re.sub(r'[^\\w\\s]+', '', courses['college_graduate'][i])\n",
    "    courses.loc[i, 'course_description'] = re.sub(r'[^\\w\\s]+', '', courses['course_description'][i])"
   ]
  },
  {
   "cell_type": "markdown",
   "id": "4762a23d-1b9f-428c-a52a-83c4736a392f",
   "metadata": {},
   "source": [
    "Example of course description after preprocessing:"
   ]
  },
  {
   "cell_type": "code",
   "execution_count": 253,
   "id": "c02cd68f-47da-44bf-91a9-1ef6ede0ade3",
   "metadata": {},
   "outputs": [
    {
     "name": "stdout",
     "output_type": "stream",
     "text": [
      "completing course able to identify use different schools thought strategic management based solid understanding assumptions strengths weaknesses critically reflect different theories perspectives relation competitive cooperative strategy compare alternative views select apply combine analytical tools diagnosing addressing strategic issues business network level reallife cases analyse competitive cooperative coopetitive strategies organizations assess impact changes strategies formulate recommendations improvement adequately analyse external internal environment organization derive relevant insights inform strategic decisionmaking identify change modify business model time recognize relevant enabling inhibiting factors map ecosystems alliance networks organizations operate identify potential strategy blindspots apply parallel thinking strategy look like sure effectuated course competitive cooperative strategy competitive strategy concerned making choices create maintain competitive advantage particular business area industry product market resulting aboveaverage returns delivering unique value proposition value proposition derive choosing set activities differ competitors performed differently course focuses pipeline platform businesses strategic choices context competitive dynamics firms typically fully independently operating entities strive enhance competitive advantage entirely strength all firms embedded networks interdependent cooperative relationships organizations hence course pays attention strategic choices network level firms ecosystems engage cooperative arrangements goals course fosters integrative view strategy covering strategic analysis strategy formulation strategy implementation examining makes strategies strong viable remain weak vulnerable enhance ability consider impact particular changes adjustments opportunities strengthening competitiveness\n",
      "LENGTH:  1895\n"
     ]
    }
   ],
   "source": [
    "print(courses.iloc[0][\"course_description\"])\n",
    "print(\"LENGTH: \", len(courses.iloc[0][\"course_description\"]))"
   ]
  },
  {
   "cell_type": "markdown",
   "id": "c1108a63-be32-4126-b67e-25c4fe0c5fc7",
   "metadata": {},
   "source": [
    "Sources for this part of the code:\n",
    "* https://pandas.pydata.org/docs/reference/api/pandas.DataFrame.loc.html\n",
    "* https://www.w3schools.com/python/pandas/ref_df_reset_index.asp#:~:text=Definition%20and%20Usage,this%2C%20use%20the%20drop%20parameter.\n",
    "* https://pandas.pydata.org/docs/reference/api/pandas.DataFrame.reset_index.html\n",
    "* https://www.geeksforgeeks.org/removing-stop-words-nltk-python/\n",
    "* https://towardsdatascience.com/remove-punctuation-pandas-3e461efe9584/\n",
    "* https://www.geeksforgeeks.org/python-remove-punctuation-from-string/"
   ]
  },
  {
   "cell_type": "markdown",
   "id": "695f9a6a-4a25-42a0-baf3-cdeb0780dcd6",
   "metadata": {},
   "source": [
    "### Tokenization"
   ]
  },
  {
   "cell_type": "markdown",
   "id": "b4382f74-9aa1-4b65-a53d-7488a8a36301",
   "metadata": {},
   "source": [
    "Before vectoring the data, we tokenise it. We do this for the 'course_name', 'is_part_of', 'college_graduate', and 'course_description' columns."
   ]
  },
  {
   "cell_type": "code",
   "execution_count": 254,
   "id": "af545fd2-c87a-44a6-bb56-f24f92b2c457",
   "metadata": {},
   "outputs": [],
   "source": [
    "for i in range(len(courses)):\n",
    "    courses.loc[i, 'course_name'] = nltk.tokenize.WordPunctTokenizer().tokenize(courses['course_name'][i])\n",
    "    courses.loc[i, 'is_part_of'] = nltk.tokenize.WordPunctTokenizer().tokenize(courses['is_part_of'][i])\n",
    "    courses.loc[i, 'college_graduate'] = nltk.tokenize.WordPunctTokenizer().tokenize(courses['college_graduate'][i])\n",
    "    courses.loc[i, 'course_description'] = nltk.tokenize.WordPunctTokenizer().tokenize(courses['course_description'][i])"
   ]
  },
  {
   "cell_type": "markdown",
   "id": "8cabb998-fe48-4c36-8621-e0eaec63b0bc",
   "metadata": {},
   "source": [
    "We now create a new column with the text from all three columns joined together, which we will soon vectorise and use in the recommender system."
   ]
  },
  {
   "cell_type": "code",
   "execution_count": 255,
   "id": "18e8f5b6-0b6d-42b7-88a3-d3e214c202c0",
   "metadata": {},
   "outputs": [],
   "source": [
    "courses['combined_text'] = courses['course_name'] + courses['is_part_of'] + courses['college_graduate'] + courses['course_description']"
   ]
  },
  {
   "cell_type": "markdown",
   "id": "0201d48b-9b3f-4be1-9c87-1910a1d7bbfb",
   "metadata": {},
   "source": [
    "Example of an entry inside this column:"
   ]
  },
  {
   "cell_type": "code",
   "execution_count": 256,
   "id": "c3067377-f879-4c3e-91ee-7d9c0ff66dfe",
   "metadata": {},
   "outputs": [
    {
     "name": "stdout",
     "output_type": "stream",
     "text": [
      "['competitive', 'cooperative', 'strategy', 'masters', 'business', 'administration', 'mba', 'institute', 'of', 'executive', 'programmes', 'completing', 'course', 'able', 'to', 'identify', 'use', 'different', 'schools', 'thought', 'strategic', 'management', 'based', 'solid', 'understanding', 'assumptions', 'strengths', 'weaknesses', 'critically', 'reflect', 'different', 'theories', 'perspectives', 'relation', 'competitive', 'cooperative', 'strategy', 'compare', 'alternative', 'views', 'select', 'apply', 'combine', 'analytical', 'tools', 'diagnosing', 'addressing', 'strategic', 'issues', 'business', 'network', 'level', 'reallife', 'cases', 'analyse', 'competitive', 'cooperative', 'coopetitive', 'strategies', 'organizations', 'assess', 'impact', 'changes', 'strategies', 'formulate', 'recommendations', 'improvement', 'adequately', 'analyse', 'external', 'internal', 'environment', 'organization', 'derive', 'relevant', 'insights', 'inform', 'strategic', 'decisionmaking', 'identify', 'change', 'modify', 'business', 'model', 'time', 'recognize', 'relevant', 'enabling', 'inhibiting', 'factors', 'map', 'ecosystems', 'alliance', 'networks', 'organizations', 'operate', 'identify', 'potential', 'strategy', 'blindspots', 'apply', 'parallel', 'thinking', 'strategy', 'look', 'like', 'sure', 'effectuated', 'course', 'competitive', 'cooperative', 'strategy', 'competitive', 'strategy', 'concerned', 'making', 'choices', 'create', 'maintain', 'competitive', 'advantage', 'particular', 'business', 'area', 'industry', 'product', 'market', 'resulting', 'aboveaverage', 'returns', 'delivering', 'unique', 'value', 'proposition', 'value', 'proposition', 'derive', 'choosing', 'set', 'activities', 'differ', 'competitors', 'performed', 'differently', 'course', 'focuses', 'pipeline', 'platform', 'businesses', 'strategic', 'choices', 'context', 'competitive', 'dynamics', 'firms', 'typically', 'fully', 'independently', 'operating', 'entities', 'strive', 'enhance', 'competitive', 'advantage', 'entirely', 'strength', 'all', 'firms', 'embedded', 'networks', 'interdependent', 'cooperative', 'relationships', 'organizations', 'hence', 'course', 'pays', 'attention', 'strategic', 'choices', 'network', 'level', 'firms', 'ecosystems', 'engage', 'cooperative', 'arrangements', 'goals', 'course', 'fosters', 'integrative', 'view', 'strategy', 'covering', 'strategic', 'analysis', 'strategy', 'formulation', 'strategy', 'implementation', 'examining', 'makes', 'strategies', 'strong', 'viable', 'remain', 'weak', 'vulnerable', 'enhance', 'ability', 'consider', 'impact', 'particular', 'changes', 'adjustments', 'opportunities', 'strengthening', 'competitiveness']\n",
      "LENGTH: 218\n"
     ]
    }
   ],
   "source": [
    "print(courses.iloc[0][\"combined_text\"])\n",
    "print(\"LENGTH:\", len(courses.iloc[0][\"combined_text\"]))"
   ]
  },
  {
   "cell_type": "markdown",
   "id": "b8c905ed-429d-4354-90fc-643b3073d7ac",
   "metadata": {},
   "source": [
    "Next we want to truncate documents that are too long, and remove documents that do not have enough tokens to be discriminative enough."
   ]
  },
  {
   "cell_type": "code",
   "execution_count": 257,
   "id": "693ffd9f-9f98-45c8-a290-2cdc2164be6d",
   "metadata": {},
   "outputs": [],
   "source": [
    "import matplotlib.pyplot as plt"
   ]
  },
  {
   "cell_type": "code",
   "execution_count": 258,
   "id": "bfd95aa7-172a-4bb3-b1a9-37ae9bed728f",
   "metadata": {},
   "outputs": [
    {
     "data": {
      "image/png": "[encoded data removed]",
      "text/plain": [
       "<Figure size 800x500 with 1 Axes>"
      ]
     },
     "metadata": {},
     "output_type": "display_data"
    }
   ],
   "source": [
    "plt.figure(figsize=(8, 5))\n",
    "plt.hist(courses['combined_text'].apply(len), bins=100, color='skyblue', edgecolor='black')\n",
    "plt.title('Token Count per Document')\n",
    "plt.xlabel('Number of Tokens')\n",
    "plt.xticks(ticks=range(0, 2500, 250))\n",
    "plt.ylabel('Number of Documents')\n",
    "plt.grid(True)\n",
    "plt.show()"
   ]
  },
  {
   "cell_type": "markdown",
   "id": "732f198b-a713-4372-bf09-c07ff2e01b98",
   "metadata": {},
   "source": [
    "First we'll truncate courses that have a combined_text over 300:"
   ]
  },
  {
   "cell_type": "code",
   "execution_count": 259,
   "id": "c0778ccc-1cf8-42e3-8e91-97c84db01edc",
   "metadata": {},
   "outputs": [],
   "source": [
    "courses[\"combined_text\"] = courses[\"combined_text\"].apply(lambda x: x[:300])"
   ]
  },
  {
   "cell_type": "markdown",
   "id": "1f82b5c5-2b06-454b-9a64-66800f38b159",
   "metadata": {},
   "source": [
    "To remove noise, we will at this point filter out courses that have a combined text less than 30."
   ]
  },
  {
   "cell_type": "code",
   "execution_count": 260,
   "id": "fc767385-e13c-472d-b433-cf5b1324a4b2",
   "metadata": {},
   "outputs": [
    {
     "name": "stdout",
     "output_type": "stream",
     "text": [
      "(3133, 9)\n"
     ]
    }
   ],
   "source": [
    "courses = courses[courses[\"combined_text\"].apply(lambda x: len(x) >= 50)]\n",
    "print(courses.shape)"
   ]
  },
  {
   "cell_type": "markdown",
   "id": "966d07d2-86e0-434b-a876-f5aa7600acd6",
   "metadata": {},
   "source": [
    "Although this plot might look a bit weird, it is fine."
   ]
  },
  {
   "cell_type": "code",
   "execution_count": 263,
   "id": "34d3b251-65be-468c-b36d-97831901b5d2",
   "metadata": {},
   "outputs": [
    {
     "data": {
      "image/png": "[encoded data removed]",
      "text/plain": [
       "<Figure size 800x500 with 1 Axes>"
      ]
     },
     "metadata": {},
     "output_type": "display_data"
    }
   ],
   "source": [
    "plt.figure(figsize=(8, 5))\n",
    "plt.hist(courses['combined_text'].apply(len), bins=100, color='skyblue', edgecolor='black')\n",
    "plt.title('Token Count per Document')\n",
    "plt.xlabel('Number of Tokens')\n",
    "plt.xticks(ticks=range(50, 301, 50))\n",
    "plt.ylabel('Number of Documents')\n",
    "plt.grid(True)\n",
    "plt.show()"
   ]
  },
  {
   "cell_type": "markdown",
   "id": "7bb5e9bc-7ede-4325-a7d2-f597f998c1c7",
   "metadata": {},
   "source": [
    "Sources for this part of the code:\n",
    "* https://www.nltk.org/api/nltk.tokenize.regexp.html\n",
    "* https://www.kaggle.com/code/kanikanarang94/tokenization-using-nltk\n",
    "* https://saturncloud.io/blog/how-to-combine-two-columns-in-a-pandas-dataframe/"
   ]
  },
  {
   "cell_type": "markdown",
   "id": "4c0d70e0-3567-42a7-a2d1-597a2df78c4f",
   "metadata": {},
   "source": [
    "### Vectorization"
   ]
  },
  {
   "cell_type": "markdown",
   "id": "2081209c-d4ad-44ab-80ac-bc14aba28b1a",
   "metadata": {},
   "source": [
    "First we tag the \"combined_text\" column in order to be able to vectorize it with Doc2Vec."
   ]
  },
  {
   "cell_type": "code",
   "execution_count": 264,
   "id": "8733d2b5-321b-4954-b55b-7b45142515ff",
   "metadata": {},
   "outputs": [],
   "source": [
    "tagged_data = [TaggedDocument(words=doc, tags=[cid]) for doc, cid in zip(courses['combined_text'], courses['course_catalogue_number'])]"
   ]
  },
  {
   "cell_type": "code",
   "execution_count": 265,
   "id": "7b9dce51-b8b3-473d-8574-f98906d9afd0",
   "metadata": {},
   "outputs": [
    {
     "name": "stdout",
     "output_type": "stream",
     "text": [
      "TaggedDocument<['competitive', 'cooperative', 'strategy', 'masters', 'business', 'administration', 'mba', 'institute', 'of', 'executive', 'programmes', 'completing', 'course', 'able', 'to', 'identify', 'use', 'different', 'schools', 'thought', 'strategic', 'management', 'based', 'solid', 'understanding', 'assumptions', 'strengths', 'weaknesses', 'critically', 'reflect', 'different', 'theories', 'perspectives', 'relation', 'competitive', 'cooperative', 'strategy', 'compare', 'alternative', 'views', 'select', 'apply', 'combine', 'analytical', 'tools', 'diagnosing', 'addressing', 'strategic', 'issues', 'business', 'network', 'level', 'reallife', 'cases', 'analyse', 'competitive', 'cooperative', 'coopetitive', 'strategies', 'organizations', 'assess', 'impact', 'changes', 'strategies', 'formulate', 'recommendations', 'improvement', 'adequately', 'analyse', 'external', 'internal', 'environment', 'organization', 'derive', 'relevant', 'insights', 'inform', 'strategic', 'decisionmaking', 'identify', 'change', 'modify', 'business', 'model', 'time', 'recognize', 'relevant', 'enabling', 'inhibiting', 'factors', 'map', 'ecosystems', 'alliance', 'networks', 'organizations', 'operate', 'identify', 'potential', 'strategy', 'blindspots', 'apply', 'parallel', 'thinking', 'strategy', 'look', 'like', 'sure', 'effectuated', 'course', 'competitive', 'cooperative', 'strategy', 'competitive', 'strategy', 'concerned', 'making', 'choices', 'create', 'maintain', 'competitive', 'advantage', 'particular', 'business', 'area', 'industry', 'product', 'market', 'resulting', 'aboveaverage', 'returns', 'delivering', 'unique', 'value', 'proposition', 'value', 'proposition', 'derive', 'choosing', 'set', 'activities', 'differ', 'competitors', 'performed', 'differently', 'course', 'focuses', 'pipeline', 'platform', 'businesses', 'strategic', 'choices', 'context', 'competitive', 'dynamics', 'firms', 'typically', 'fully', 'independently', 'operating', 'entities', 'strive', 'enhance', 'competitive', 'advantage', 'entirely', 'strength', 'all', 'firms', 'embedded', 'networks', 'interdependent', 'cooperative', 'relationships', 'organizations', 'hence', 'course', 'pays', 'attention', 'strategic', 'choices', 'network', 'level', 'firms', 'ecosystems', 'engage', 'cooperative', 'arrangements', 'goals', 'course', 'fosters', 'integrative', 'view', 'strategy', 'covering', 'strategic', 'analysis', 'strategy', 'formulation', 'strategy', 'implementation', 'examining', 'makes', 'strategies', 'strong', 'viable', 'remain', 'weak', 'vulnerable', 'enhance', 'ability', 'consider', 'impact', 'particular', 'changes', 'adjustments', 'opportunities', 'strengthening', 'competitiveness'], ['6614ZM058Y']>\n"
     ]
    }
   ],
   "source": [
    "print(tagged_data[0])"
   ]
  },
  {
   "cell_type": "markdown",
   "id": "68cae78b-90f7-4181-8351-a5776501a5e9",
   "metadata": {},
   "source": [
    "Next we vectorise it using the Doc2Vec model:"
   ]
  },
  {
   "cell_type": "code",
   "execution_count": 268,
   "id": "59e70b85-51d0-459d-80d8-33ccd1055d0c",
   "metadata": {},
   "outputs": [],
   "source": [
    "params = {\n",
    "    'vector_size': 150, # dimension of embeddings\n",
    "    'window': 15, # window -/+ before and after focus word\n",
    "    'epochs': 50, # number of iterations over the corpus\n",
    "    'min_count': 5, # filter on words whose frequency is below this count\n",
    "    'workers': -1, # how many cores to use\n",
    "    'alpha': 0.05, # initial learning rate for SGD. This is lambda in the class notes\n",
    "    'min_alpha': 0.0001,\n",
    "    'seed': 24\n",
    "}\n",
    "\n",
    "model = Doc2Vec(**params)\n",
    "  \n",
    "model.build_vocab(tagged_data)\n",
    "\n",
    "model.train(tagged_data, total_examples = model.corpus_count, epochs = model.epochs)"
   ]
  },
  {
   "cell_type": "markdown",
   "id": "220eac8d-fa67-4c0e-9fd1-fc159374f2b6",
   "metadata": {},
   "source": [
    "Sources for this part of the code (these sources are also relevent for the following part of this notebook):\n",
    "* https://radimrehurek.com/gensim/models/doc2vec.html\n",
    "* https://radimrehurek.com/gensim/auto_examples/tutorials/run_doc2vec_lee.html\n",
    "* https://medium.com/@mishra.thedeepak/doc2vec-simple-implementation-example-df2afbbfbad5\n",
    "* https://spotintelligence.com/2023/09/06/doc2vec/#What_is_Doc2Vec\n",
    "* The parameters in the code were taken from the notebook where Word2Vec was introduced."
   ]
  },
  {
   "cell_type": "markdown",
   "id": "f26ca921-6255-42e8-8d00-cbd80aa2379b",
   "metadata": {},
   "source": [
    "### Recommender"
   ]
  },
  {
   "cell_type": "code",
   "execution_count": 269,
   "id": "2cd23408-c237-4d00-b43e-767f1176d205",
   "metadata": {},
   "outputs": [],
   "source": [
    "def recommend_courses(li_course_ids, model, courses_df, top_n=5):\n",
    "    #getting the vectors in form the doc2vec model and making one vector out of all the courses in the li_course_ids\n",
    "    vectors = [model.dv[tag] for tag in li_course_ids]\n",
    "    \n",
    "    av_vector = np.mean(vectors, axis=0).reshape(1, -1)\n",
    "    \n",
    "    all_vectors = np.array([model.dv[i] for i in range(len(model.dv)) if i not in li_course_ids])\n",
    "    \n",
    "    #calculating the cosine similarities and flattening them to one dimension\n",
    "    cosine_sim = cosine_similarity(av_vector, all_vectors).flatten()\n",
    "    \n",
    "    #making the cosine similarities a list and sorting it\n",
    "    sim_scores = list(enumerate(cosine_sim))\n",
    "    sim_scores = sorted(sim_scores, key=lambda x: x[1], reverse=True)\n",
    "    \n",
    "    #removing the courses from the sim_scores which were in the li_course_ids - might be worng\n",
    "    index_to_id = courses_df['course_catalogue_number'].tolist()\n",
    "    \n",
    "    selected_indicies = [index_to_id.index(cid) for cid in li_course_ids if cid in index_to_id]\n",
    "    \n",
    "    sim_scores = [s for s in sim_scores if s[0] not in selected_indicies]\n",
    "    \n",
    "    #getting the top 5 courses from the similaritie scores - also might be wrong\n",
    "    course_indices = [i[0] for i in sim_scores[:top_n]]\n",
    "    \n",
    "    \n",
    "    #returning the \n",
    "    return courses_df.iloc[course_indices][['course_name', 'course_catalogue_number']]"
   ]
  },
  {
   "cell_type": "markdown",
   "id": "de34b9a1-84f7-4936-9603-58b2f5ff4195",
   "metadata": {},
   "source": [
    "Sources for this part of the code:\n",
    "* https://scikit-learn.org/stable/modules/generated/sklearn.metrics.pairwise.cosine_similarity.html\n",
    "* https://numpy.org/doc/stable/reference/generated/numpy.matrix.flatten.html\n",
    "* https://ioflood.com/blog/dataframe-to-list-pandas/#:~:text=You%20can%20use%20the%20toList,tolist()%20.&text=In%20the%20example%20above%2C%20we,1%2C%202%2C%203%5D.\n",
    "* https://www.programiz.com/python-programming/methods/list/index"
   ]
  },
  {
   "cell_type": "markdown",
   "id": "79842d7b-7966-4c4f-87a1-225485d64377",
   "metadata": {},
   "source": [
    "### Testing"
   ]
  },
  {
   "cell_type": "markdown",
   "id": "b7e7c787-45f8-48fe-af44-05c6623529bd",
   "metadata": {},
   "source": [
    "Opening the test dataset:"
   ]
  },
  {
   "cell_type": "code",
   "execution_count": 270,
   "id": "4d59bb99-d501-41cc-9290-bcf7ccb0d1ab",
   "metadata": {},
   "outputs": [],
   "source": [
    "majors = []\n",
    "tracks = []\n",
    "li_course_ids = []\n",
    "with open(\"datasets/test_set.txt\", 'r') as f:\n",
    "    for l in f:\n",
    "        if l[0] == '[':\n",
    "            li_course_ids.append(eval(l))\n",
    "        elif l.isupper():\n",
    "            majors.append(l)\n",
    "        elif l.islower():\n",
    "            tracks.append(l)"
   ]
  },
  {
   "cell_type": "code",
   "execution_count": 271,
   "id": "b147b816-5643-4599-9baf-f393eb87ccc3",
   "metadata": {
    "scrolled": true
   },
   "outputs": [
    {
     "name": "stdout",
     "output_type": "stream",
     "text": [
      "SCIENCE\n",
      "\n",
      "math\n",
      "\n"
     ]
    },
    {
     "data": {
      "text/html": [
       "<div>\n",
       "<style scoped>\n",
       "    .dataframe tbody tr th:only-of-type {\n",
       "        vertical-align: middle;\n",
       "    }\n",
       "\n",
       "    .dataframe tbody tr th {\n",
       "        vertical-align: top;\n",
       "    }\n",
       "\n",
       "    .dataframe thead th {\n",
       "        text-align: right;\n",
       "    }\n",
       "</style>\n",
       "<table border=\"1\" class=\"dataframe\">\n",
       "  <thead>\n",
       "    <tr style=\"text-align: right;\">\n",
       "      <th></th>\n",
       "      <th>course_name</th>\n",
       "      <th>course_catalogue_number</th>\n",
       "    </tr>\n",
       "  </thead>\n",
       "  <tbody>\n",
       "    <tr>\n",
       "      <th>1355</th>\n",
       "      <td>[history, and, philosophy, of, the, humanities]</td>\n",
       "      <td>187421516Y</td>\n",
       "    </tr>\n",
       "    <tr>\n",
       "      <th>467</th>\n",
       "      <td>[cern, research, project]</td>\n",
       "      <td>5354CERP6Y</td>\n",
       "    </tr>\n",
       "    <tr>\n",
       "      <th>142</th>\n",
       "      <td>[aesthetics, and, metaphysics]</td>\n",
       "      <td>187421096Y</td>\n",
       "    </tr>\n",
       "    <tr>\n",
       "      <th>1077</th>\n",
       "      <td>[european, security, politics]</td>\n",
       "      <td>73230269LY</td>\n",
       "    </tr>\n",
       "    <tr>\n",
       "      <th>1681</th>\n",
       "      <td>[leading, digital, business, transformation]</td>\n",
       "      <td>6614ZB058Y</td>\n",
       "    </tr>\n",
       "  </tbody>\n",
       "</table>\n",
       "</div>"
      ],
      "text/plain": [
       "                                          course_name course_catalogue_number\n",
       "1355  [history, and, philosophy, of, the, humanities]              187421516Y\n",
       "467                         [cern, research, project]              5354CERP6Y\n",
       "142                    [aesthetics, and, metaphysics]              187421096Y\n",
       "1077                   [european, security, politics]              73230269LY\n",
       "1681     [leading, digital, business, transformation]              6614ZB058Y"
      ]
     },
     "execution_count": 271,
     "metadata": {},
     "output_type": "execute_result"
    }
   ],
   "source": [
    "print(majors[0])\n",
    "print(tracks[0])\n",
    "recommend_courses(li_course_ids[0], model, courses)"
   ]
  },
  {
   "cell_type": "code",
   "execution_count": 272,
   "id": "a440d2c0-56d3-4817-a484-20e0733c1508",
   "metadata": {},
   "outputs": [
    {
     "name": "stdout",
     "output_type": "stream",
     "text": [
      "biomed\n",
      "\n"
     ]
    },
    {
     "data": {
      "text/html": [
       "<div>\n",
       "<style scoped>\n",
       "    .dataframe tbody tr th:only-of-type {\n",
       "        vertical-align: middle;\n",
       "    }\n",
       "\n",
       "    .dataframe tbody tr th {\n",
       "        vertical-align: top;\n",
       "    }\n",
       "\n",
       "    .dataframe thead th {\n",
       "        text-align: right;\n",
       "    }\n",
       "</style>\n",
       "<table border=\"1\" class=\"dataframe\">\n",
       "  <thead>\n",
       "    <tr style=\"text-align: right;\">\n",
       "      <th></th>\n",
       "      <th>course_name</th>\n",
       "      <th>course_catalogue_number</th>\n",
       "    </tr>\n",
       "  </thead>\n",
       "  <tbody>\n",
       "    <tr>\n",
       "      <th>2115</th>\n",
       "      <td>[multilevel, politics, in, the, european, unio...</td>\n",
       "      <td>111221012Y</td>\n",
       "    </tr>\n",
       "    <tr>\n",
       "      <th>632</th>\n",
       "      <td>[conservation, principles, and, practice, 5, p...</td>\n",
       "      <td>146421186Y</td>\n",
       "    </tr>\n",
       "    <tr>\n",
       "      <th>718</th>\n",
       "      <td>[critical, debates, in, english, studies]</td>\n",
       "      <td>178421176Y</td>\n",
       "    </tr>\n",
       "    <tr>\n",
       "      <th>1922</th>\n",
       "      <td>[masters, thesis, philosophy]</td>\n",
       "      <td>187419000Y</td>\n",
       "    </tr>\n",
       "    <tr>\n",
       "      <th>2277</th>\n",
       "      <td>[philosophy, of, science, methodology]</td>\n",
       "      <td>774212001Y</td>\n",
       "    </tr>\n",
       "  </tbody>\n",
       "</table>\n",
       "</div>"
      ],
      "text/plain": [
       "                                            course_name  \\\n",
       "2115  [multilevel, politics, in, the, european, unio...   \n",
       "632   [conservation, principles, and, practice, 5, p...   \n",
       "718           [critical, debates, in, english, studies]   \n",
       "1922                      [masters, thesis, philosophy]   \n",
       "2277             [philosophy, of, science, methodology]   \n",
       "\n",
       "     course_catalogue_number  \n",
       "2115              111221012Y  \n",
       "632               146421186Y  \n",
       "718               178421176Y  \n",
       "1922              187419000Y  \n",
       "2277              774212001Y  "
      ]
     },
     "execution_count": 272,
     "metadata": {},
     "output_type": "execute_result"
    }
   ],
   "source": [
    "print(tracks[1])\n",
    "recommend_courses(li_course_ids[1], model, courses)"
   ]
  },
  {
   "cell_type": "code",
   "execution_count": 273,
   "id": "6ca67234-a2d0-4d7e-ad09-c8a39d6d807a",
   "metadata": {},
   "outputs": [
    {
     "name": "stdout",
     "output_type": "stream",
     "text": [
      "physics\n",
      "\n"
     ]
    },
    {
     "data": {
      "text/html": [
       "<div>\n",
       "<style scoped>\n",
       "    .dataframe tbody tr th:only-of-type {\n",
       "        vertical-align: middle;\n",
       "    }\n",
       "\n",
       "    .dataframe tbody tr th {\n",
       "        vertical-align: top;\n",
       "    }\n",
       "\n",
       "    .dataframe thead th {\n",
       "        text-align: right;\n",
       "    }\n",
       "</style>\n",
       "<table border=\"1\" class=\"dataframe\">\n",
       "  <thead>\n",
       "    <tr style=\"text-align: right;\">\n",
       "      <th></th>\n",
       "      <th>course_name</th>\n",
       "      <th>course_catalogue_number</th>\n",
       "    </tr>\n",
       "  </thead>\n",
       "  <tbody>\n",
       "    <tr>\n",
       "      <th>2865</th>\n",
       "      <td>[spirituality, and, religion, lived, practices]</td>\n",
       "      <td>153421066Y</td>\n",
       "    </tr>\n",
       "    <tr>\n",
       "      <th>164</th>\n",
       "      <td>[algorithms, complexity]</td>\n",
       "      <td>5062ALCO6Y</td>\n",
       "    </tr>\n",
       "    <tr>\n",
       "      <th>1245</th>\n",
       "      <td>[galoistheorie]</td>\n",
       "      <td>5122GALO6Y</td>\n",
       "    </tr>\n",
       "    <tr>\n",
       "      <th>1120</th>\n",
       "      <td>[fashion, culture, and, media]</td>\n",
       "      <td>119221106Y</td>\n",
       "    </tr>\n",
       "    <tr>\n",
       "      <th>2089</th>\n",
       "      <td>[modernism, and, postmodernism]</td>\n",
       "      <td>900227HUMY</td>\n",
       "    </tr>\n",
       "  </tbody>\n",
       "</table>\n",
       "</div>"
      ],
      "text/plain": [
       "                                          course_name course_catalogue_number\n",
       "2865  [spirituality, and, religion, lived, practices]              153421066Y\n",
       "164                          [algorithms, complexity]              5062ALCO6Y\n",
       "1245                                  [galoistheorie]              5122GALO6Y\n",
       "1120                   [fashion, culture, and, media]              119221106Y\n",
       "2089                  [modernism, and, postmodernism]              900227HUMY"
      ]
     },
     "execution_count": 273,
     "metadata": {},
     "output_type": "execute_result"
    }
   ],
   "source": [
    "print(tracks[2])\n",
    "recommend_courses(li_course_ids[2], model, courses)"
   ]
  },
  {
   "cell_type": "code",
   "execution_count": 274,
   "id": "af37cba0-0d9d-4f01-95ab-7fec095426d6",
   "metadata": {},
   "outputs": [
    {
     "name": "stdout",
     "output_type": "stream",
     "text": [
      "bio/environment\n",
      "\n"
     ]
    },
    {
     "data": {
      "text/html": [
       "<div>\n",
       "<style scoped>\n",
       "    .dataframe tbody tr th:only-of-type {\n",
       "        vertical-align: middle;\n",
       "    }\n",
       "\n",
       "    .dataframe tbody tr th {\n",
       "        vertical-align: top;\n",
       "    }\n",
       "\n",
       "    .dataframe thead th {\n",
       "        text-align: right;\n",
       "    }\n",
       "</style>\n",
       "<table border=\"1\" class=\"dataframe\">\n",
       "  <thead>\n",
       "    <tr style=\"text-align: right;\">\n",
       "      <th></th>\n",
       "      <th>course_name</th>\n",
       "      <th>course_catalogue_number</th>\n",
       "    </tr>\n",
       "  </thead>\n",
       "  <tbody>\n",
       "    <tr>\n",
       "      <th>84</th>\n",
       "      <td>[advanced, forensic, biology]</td>\n",
       "      <td>5274ADFB6Y</td>\n",
       "    </tr>\n",
       "    <tr>\n",
       "      <th>344</th>\n",
       "      <td>[back, to, the, object, unfolding, case, studies]</td>\n",
       "      <td>129221136Y</td>\n",
       "    </tr>\n",
       "    <tr>\n",
       "      <th>3331</th>\n",
       "      <td>[world, culture, conservation, and, communities]</td>\n",
       "      <td>146421736Y</td>\n",
       "    </tr>\n",
       "    <tr>\n",
       "      <th>2021</th>\n",
       "      <td>[metaphysics]</td>\n",
       "      <td>136214143Y</td>\n",
       "    </tr>\n",
       "    <tr>\n",
       "      <th>2805</th>\n",
       "      <td>[social, media, and, contemporary, issues]</td>\n",
       "      <td>159424032Y</td>\n",
       "    </tr>\n",
       "  </tbody>\n",
       "</table>\n",
       "</div>"
      ],
      "text/plain": [
       "                                            course_name  \\\n",
       "84                        [advanced, forensic, biology]   \n",
       "344   [back, to, the, object, unfolding, case, studies]   \n",
       "3331   [world, culture, conservation, and, communities]   \n",
       "2021                                      [metaphysics]   \n",
       "2805         [social, media, and, contemporary, issues]   \n",
       "\n",
       "     course_catalogue_number  \n",
       "84                5274ADFB6Y  \n",
       "344               129221136Y  \n",
       "3331              146421736Y  \n",
       "2021              136214143Y  \n",
       "2805              159424032Y  "
      ]
     },
     "execution_count": 274,
     "metadata": {},
     "output_type": "execute_result"
    }
   ],
   "source": [
    "print(tracks[3])\n",
    "recommend_courses(li_course_ids[3], model, courses)"
   ]
  },
  {
   "cell_type": "code",
   "execution_count": 275,
   "id": "30a465eb-cb03-4f50-b0bb-56551e4b421f",
   "metadata": {},
   "outputs": [
    {
     "name": "stdout",
     "output_type": "stream",
     "text": [
      "information/neuro\n",
      "\n"
     ]
    },
    {
     "data": {
      "text/html": [
       "<div>\n",
       "<style scoped>\n",
       "    .dataframe tbody tr th:only-of-type {\n",
       "        vertical-align: middle;\n",
       "    }\n",
       "\n",
       "    .dataframe tbody tr th {\n",
       "        vertical-align: top;\n",
       "    }\n",
       "\n",
       "    .dataframe thead th {\n",
       "        text-align: right;\n",
       "    }\n",
       "</style>\n",
       "<table border=\"1\" class=\"dataframe\">\n",
       "  <thead>\n",
       "    <tr style=\"text-align: right;\">\n",
       "      <th></th>\n",
       "      <th>course_name</th>\n",
       "      <th>course_catalogue_number</th>\n",
       "    </tr>\n",
       "  </thead>\n",
       "  <tbody>\n",
       "    <tr>\n",
       "      <th>1273</th>\n",
       "      <td>[geographies, of, inequality]</td>\n",
       "      <td>73421B008Y</td>\n",
       "    </tr>\n",
       "    <tr>\n",
       "      <th>1961</th>\n",
       "      <td>[thesis, proposal, consumer, marketing]</td>\n",
       "      <td>6314M0548Y</td>\n",
       "    </tr>\n",
       "    <tr>\n",
       "      <th>1133</th>\n",
       "      <td>[fieldwork, mas]</td>\n",
       "      <td>73940005AY</td>\n",
       "    </tr>\n",
       "    <tr>\n",
       "      <th>3087</th>\n",
       "      <td>[theories, of, digital, business]</td>\n",
       "      <td>6614ZB036Y</td>\n",
       "    </tr>\n",
       "    <tr>\n",
       "      <th>2070</th>\n",
       "      <td>[modelling, system, dynamics]</td>\n",
       "      <td>5294MOSD6Y</td>\n",
       "    </tr>\n",
       "  </tbody>\n",
       "</table>\n",
       "</div>"
      ],
      "text/plain": [
       "                                  course_name course_catalogue_number\n",
       "1273            [geographies, of, inequality]              73421B008Y\n",
       "1961  [thesis, proposal, consumer, marketing]              6314M0548Y\n",
       "1133                         [fieldwork, mas]              73940005AY\n",
       "3087        [theories, of, digital, business]              6614ZB036Y\n",
       "2070            [modelling, system, dynamics]              5294MOSD6Y"
      ]
     },
     "execution_count": 275,
     "metadata": {},
     "output_type": "execute_result"
    }
   ],
   "source": [
    "print(tracks[4])\n",
    "recommend_courses(li_course_ids[4], model, courses)"
   ]
  },
  {
   "cell_type": "code",
   "execution_count": 276,
   "id": "dee7ef28-a418-4dd3-b592-a12c52bc12b4",
   "metadata": {},
   "outputs": [
    {
     "name": "stdout",
     "output_type": "stream",
     "text": [
      "SOCIAL SCIENCE\n",
      "\n",
      "economics\n",
      "\n"
     ]
    },
    {
     "data": {
      "text/html": [
       "<div>\n",
       "<style scoped>\n",
       "    .dataframe tbody tr th:only-of-type {\n",
       "        vertical-align: middle;\n",
       "    }\n",
       "\n",
       "    .dataframe tbody tr th {\n",
       "        vertical-align: top;\n",
       "    }\n",
       "\n",
       "    .dataframe thead th {\n",
       "        text-align: right;\n",
       "    }\n",
       "</style>\n",
       "<table border=\"1\" class=\"dataframe\">\n",
       "  <thead>\n",
       "    <tr style=\"text-align: right;\">\n",
       "      <th></th>\n",
       "      <th>course_name</th>\n",
       "      <th>course_catalogue_number</th>\n",
       "    </tr>\n",
       "  </thead>\n",
       "  <tbody>\n",
       "    <tr>\n",
       "      <th>1060</th>\n",
       "      <td>[european, and, international, environmental, ...</td>\n",
       "      <td>111221656Y</td>\n",
       "    </tr>\n",
       "    <tr>\n",
       "      <th>3196</th>\n",
       "      <td>[tutorial, rma, linguistics, and, communicatio...</td>\n",
       "      <td>176528036Y</td>\n",
       "    </tr>\n",
       "    <tr>\n",
       "      <th>729</th>\n",
       "      <td>[crossmedia, research, seminar, i]</td>\n",
       "      <td>15942A000Y</td>\n",
       "    </tr>\n",
       "    <tr>\n",
       "      <th>3278</th>\n",
       "      <td>[variation, and, change, in, scandinavian, lan...</td>\n",
       "      <td>184416096Y</td>\n",
       "    </tr>\n",
       "    <tr>\n",
       "      <th>1839</th>\n",
       "      <td>[masters, internship, health, promotion, behav...</td>\n",
       "      <td>7204MSDHXY</td>\n",
       "    </tr>\n",
       "  </tbody>\n",
       "</table>\n",
       "</div>"
      ],
      "text/plain": [
       "                                            course_name  \\\n",
       "1060  [european, and, international, environmental, ...   \n",
       "3196  [tutorial, rma, linguistics, and, communicatio...   \n",
       "729                  [crossmedia, research, seminar, i]   \n",
       "3278  [variation, and, change, in, scandinavian, lan...   \n",
       "1839  [masters, internship, health, promotion, behav...   \n",
       "\n",
       "     course_catalogue_number  \n",
       "1060              111221656Y  \n",
       "3196              176528036Y  \n",
       "729               15942A000Y  \n",
       "3278              184416096Y  \n",
       "1839              7204MSDHXY  "
      ]
     },
     "execution_count": 276,
     "metadata": {},
     "output_type": "execute_result"
    }
   ],
   "source": [
    "print(majors[1])\n",
    "print(tracks[5])\n",
    "recommend_courses(li_course_ids[5], model, courses)"
   ]
  },
  {
   "cell_type": "code",
   "execution_count": 277,
   "id": "267d689b-00f3-4845-a0b8-e8a452b8bde0",
   "metadata": {},
   "outputs": [
    {
     "name": "stdout",
     "output_type": "stream",
     "text": [
      "psychology/economics\n",
      "\n"
     ]
    },
    {
     "data": {
      "text/html": [
       "<div>\n",
       "<style scoped>\n",
       "    .dataframe tbody tr th:only-of-type {\n",
       "        vertical-align: middle;\n",
       "    }\n",
       "\n",
       "    .dataframe tbody tr th {\n",
       "        vertical-align: top;\n",
       "    }\n",
       "\n",
       "    .dataframe thead th {\n",
       "        text-align: right;\n",
       "    }\n",
       "</style>\n",
       "<table border=\"1\" class=\"dataframe\">\n",
       "  <thead>\n",
       "    <tr style=\"text-align: right;\">\n",
       "      <th></th>\n",
       "      <th>course_name</th>\n",
       "      <th>course_catalogue_number</th>\n",
       "    </tr>\n",
       "  </thead>\n",
       "  <tbody>\n",
       "    <tr>\n",
       "      <th>1182</th>\n",
       "      <td>[food, and, the, city]</td>\n",
       "      <td>5132FOTC6Y</td>\n",
       "    </tr>\n",
       "    <tr>\n",
       "      <th>1775</th>\n",
       "      <td>[making, the, european, marketplace, capita, s...</td>\n",
       "      <td>111221766Y</td>\n",
       "    </tr>\n",
       "    <tr>\n",
       "      <th>43</th>\n",
       "      <td>[academic, skills, premasters]</td>\n",
       "      <td>109221062Y</td>\n",
       "    </tr>\n",
       "    <tr>\n",
       "      <th>3335</th>\n",
       "      <td>[writing, and, dissemination, course]</td>\n",
       "      <td>750501009Y</td>\n",
       "    </tr>\n",
       "    <tr>\n",
       "      <th>1433</th>\n",
       "      <td>[integrated, coastal, dune, management]</td>\n",
       "      <td>5264ICDM6Y</td>\n",
       "    </tr>\n",
       "  </tbody>\n",
       "</table>\n",
       "</div>"
      ],
      "text/plain": [
       "                                            course_name  \\\n",
       "1182                             [food, and, the, city]   \n",
       "1775  [making, the, european, marketplace, capita, s...   \n",
       "43                       [academic, skills, premasters]   \n",
       "3335              [writing, and, dissemination, course]   \n",
       "1433            [integrated, coastal, dune, management]   \n",
       "\n",
       "     course_catalogue_number  \n",
       "1182              5132FOTC6Y  \n",
       "1775              111221766Y  \n",
       "43                109221062Y  \n",
       "3335              750501009Y  \n",
       "1433              5264ICDM6Y  "
      ]
     },
     "execution_count": 277,
     "metadata": {},
     "output_type": "execute_result"
    }
   ],
   "source": [
    "print(tracks[6])\n",
    "recommend_courses(li_course_ids[6], model, courses)"
   ]
  },
  {
   "cell_type": "code",
   "execution_count": 278,
   "id": "1f34b2e4-97c0-4404-ad0d-bc7e23b55988",
   "metadata": {},
   "outputs": [
    {
     "name": "stdout",
     "output_type": "stream",
     "text": [
      "political science/law\n",
      "\n"
     ]
    },
    {
     "data": {
      "text/html": [
       "<div>\n",
       "<style scoped>\n",
       "    .dataframe tbody tr th:only-of-type {\n",
       "        vertical-align: middle;\n",
       "    }\n",
       "\n",
       "    .dataframe tbody tr th {\n",
       "        vertical-align: top;\n",
       "    }\n",
       "\n",
       "    .dataframe thead th {\n",
       "        text-align: right;\n",
       "    }\n",
       "</style>\n",
       "<table border=\"1\" class=\"dataframe\">\n",
       "  <thead>\n",
       "    <tr style=\"text-align: right;\">\n",
       "      <th></th>\n",
       "      <th>course_name</th>\n",
       "      <th>course_catalogue_number</th>\n",
       "    </tr>\n",
       "  </thead>\n",
       "  <tbody>\n",
       "    <tr>\n",
       "      <th>2213</th>\n",
       "      <td>[organic, chemistry]</td>\n",
       "      <td>51121ORC6Y</td>\n",
       "    </tr>\n",
       "    <tr>\n",
       "      <th>1112</th>\n",
       "      <td>[extending, reality, design, and, applications...</td>\n",
       "      <td>77642K016Y</td>\n",
       "    </tr>\n",
       "    <tr>\n",
       "      <th>1442</th>\n",
       "      <td>[interest, rate, models]</td>\n",
       "      <td>5374INRM6Y</td>\n",
       "    </tr>\n",
       "    <tr>\n",
       "      <th>264</th>\n",
       "      <td>[artificial, intelligence, dreams, dangers, and]</td>\n",
       "      <td>118221126Y</td>\n",
       "    </tr>\n",
       "    <tr>\n",
       "      <th>1609</th>\n",
       "      <td>[introduction, to, the, philosophy, of, mathem...</td>\n",
       "      <td>136213086Y</td>\n",
       "    </tr>\n",
       "  </tbody>\n",
       "</table>\n",
       "</div>"
      ],
      "text/plain": [
       "                                            course_name  \\\n",
       "2213                               [organic, chemistry]   \n",
       "1112  [extending, reality, design, and, applications...   \n",
       "1442                           [interest, rate, models]   \n",
       "264    [artificial, intelligence, dreams, dangers, and]   \n",
       "1609  [introduction, to, the, philosophy, of, mathem...   \n",
       "\n",
       "     course_catalogue_number  \n",
       "2213              51121ORC6Y  \n",
       "1112              77642K016Y  \n",
       "1442              5374INRM6Y  \n",
       "264               118221126Y  \n",
       "1609              136213086Y  "
      ]
     },
     "execution_count": 278,
     "metadata": {},
     "output_type": "execute_result"
    }
   ],
   "source": [
    "print(tracks[7])\n",
    "recommend_courses(li_course_ids[7], model, courses)"
   ]
  },
  {
   "cell_type": "code",
   "execution_count": 279,
   "id": "4b4f3ea8-6012-4d65-bd27-7d516ab8dbdf",
   "metadata": {},
   "outputs": [
    {
     "name": "stdout",
     "output_type": "stream",
     "text": [
      "HUMANITIES\n",
      "\n",
      "history/philosophy\n",
      "\n"
     ]
    },
    {
     "data": {
      "text/html": [
       "<div>\n",
       "<style scoped>\n",
       "    .dataframe tbody tr th:only-of-type {\n",
       "        vertical-align: middle;\n",
       "    }\n",
       "\n",
       "    .dataframe tbody tr th {\n",
       "        vertical-align: top;\n",
       "    }\n",
       "\n",
       "    .dataframe thead th {\n",
       "        text-align: right;\n",
       "    }\n",
       "</style>\n",
       "<table border=\"1\" class=\"dataframe\">\n",
       "  <thead>\n",
       "    <tr style=\"text-align: right;\">\n",
       "      <th></th>\n",
       "      <th>course_name</th>\n",
       "      <th>course_catalogue_number</th>\n",
       "    </tr>\n",
       "  </thead>\n",
       "  <tbody>\n",
       "    <tr>\n",
       "      <th>3289</th>\n",
       "      <td>[violence, 3, structural, violence]</td>\n",
       "      <td>7013K334AY</td>\n",
       "    </tr>\n",
       "    <tr>\n",
       "      <th>2233</th>\n",
       "      <td>[partnerships, for, sustainable, innovation]</td>\n",
       "      <td>6314M0505Y</td>\n",
       "    </tr>\n",
       "    <tr>\n",
       "      <th>2199</th>\n",
       "      <td>[oil, politics, and, state, capitalism, in, the]</td>\n",
       "      <td>7324E111IY</td>\n",
       "    </tr>\n",
       "    <tr>\n",
       "      <th>1167</th>\n",
       "      <td>[financial, institutions, and, banking]</td>\n",
       "      <td>6414M0155Y</td>\n",
       "    </tr>\n",
       "    <tr>\n",
       "      <th>2059</th>\n",
       "      <td>[mixed, methods, design, and, analysis, course]</td>\n",
       "      <td>75250083IY</td>\n",
       "    </tr>\n",
       "  </tbody>\n",
       "</table>\n",
       "</div>"
      ],
      "text/plain": [
       "                                           course_name course_catalogue_number\n",
       "3289               [violence, 3, structural, violence]              7013K334AY\n",
       "2233      [partnerships, for, sustainable, innovation]              6314M0505Y\n",
       "2199  [oil, politics, and, state, capitalism, in, the]              7324E111IY\n",
       "1167           [financial, institutions, and, banking]              6414M0155Y\n",
       "2059   [mixed, methods, design, and, analysis, course]              75250083IY"
      ]
     },
     "execution_count": 279,
     "metadata": {},
     "output_type": "execute_result"
    }
   ],
   "source": [
    "print(majors[2])\n",
    "print(tracks[8])\n",
    "recommend_courses(li_course_ids[8], model, courses)"
   ]
  },
  {
   "cell_type": "code",
   "execution_count": 280,
   "id": "b396fcee-1ea5-41cb-a6bf-9a489a7181e9",
   "metadata": {},
   "outputs": [
    {
     "name": "stdout",
     "output_type": "stream",
     "text": [
      "cultural analysis\n",
      "\n"
     ]
    },
    {
     "data": {
      "text/html": [
       "<div>\n",
       "<style scoped>\n",
       "    .dataframe tbody tr th:only-of-type {\n",
       "        vertical-align: middle;\n",
       "    }\n",
       "\n",
       "    .dataframe tbody tr th {\n",
       "        vertical-align: top;\n",
       "    }\n",
       "\n",
       "    .dataframe thead th {\n",
       "        text-align: right;\n",
       "    }\n",
       "</style>\n",
       "<table border=\"1\" class=\"dataframe\">\n",
       "  <thead>\n",
       "    <tr style=\"text-align: right;\">\n",
       "      <th></th>\n",
       "      <th>course_name</th>\n",
       "      <th>course_catalogue_number</th>\n",
       "    </tr>\n",
       "  </thead>\n",
       "  <tbody>\n",
       "    <tr>\n",
       "      <th>2644</th>\n",
       "      <td>[research, project, and, research, paper]</td>\n",
       "      <td>19042E120Y</td>\n",
       "    </tr>\n",
       "    <tr>\n",
       "      <th>80</th>\n",
       "      <td>[advanced, digital, economic, geography]</td>\n",
       "      <td>735420241Y</td>\n",
       "    </tr>\n",
       "    <tr>\n",
       "      <th>861</th>\n",
       "      <td>[developmental, psychology]</td>\n",
       "      <td>7201705PXY</td>\n",
       "    </tr>\n",
       "    <tr>\n",
       "      <th>1751</th>\n",
       "      <td>[machine, learning, for, psychologists]</td>\n",
       "      <td>7202BM09XY</td>\n",
       "    </tr>\n",
       "    <tr>\n",
       "      <th>1541</th>\n",
       "      <td>[introduction, to, biology]</td>\n",
       "      <td>900152SCIY</td>\n",
       "    </tr>\n",
       "  </tbody>\n",
       "</table>\n",
       "</div>"
      ],
      "text/plain": [
       "                                    course_name course_catalogue_number\n",
       "2644  [research, project, and, research, paper]              19042E120Y\n",
       "80     [advanced, digital, economic, geography]              735420241Y\n",
       "861                 [developmental, psychology]              7201705PXY\n",
       "1751    [machine, learning, for, psychologists]              7202BM09XY\n",
       "1541                [introduction, to, biology]              900152SCIY"
      ]
     },
     "execution_count": 280,
     "metadata": {},
     "output_type": "execute_result"
    }
   ],
   "source": [
    "print(tracks[9])\n",
    "recommend_courses(li_course_ids[9], model, courses)"
   ]
  },
  {
   "cell_type": "code",
   "execution_count": 281,
   "id": "df950569-b984-4110-9004-63eeffe9355d",
   "metadata": {},
   "outputs": [
    {
     "name": "stdout",
     "output_type": "stream",
     "text": [
      "media/film\n",
      "\n"
     ]
    },
    {
     "data": {
      "text/html": [
       "<div>\n",
       "<style scoped>\n",
       "    .dataframe tbody tr th:only-of-type {\n",
       "        vertical-align: middle;\n",
       "    }\n",
       "\n",
       "    .dataframe tbody tr th {\n",
       "        vertical-align: top;\n",
       "    }\n",
       "\n",
       "    .dataframe thead th {\n",
       "        text-align: right;\n",
       "    }\n",
       "</style>\n",
       "<table border=\"1\" class=\"dataframe\">\n",
       "  <thead>\n",
       "    <tr style=\"text-align: right;\">\n",
       "      <th></th>\n",
       "      <th>course_name</th>\n",
       "      <th>course_catalogue_number</th>\n",
       "    </tr>\n",
       "  </thead>\n",
       "  <tbody>\n",
       "    <tr>\n",
       "      <th>2860</th>\n",
       "      <td>[spectroscopic, analysis]</td>\n",
       "      <td>5254SPAN6Y</td>\n",
       "    </tr>\n",
       "    <tr>\n",
       "      <th>1245</th>\n",
       "      <td>[galoistheorie]</td>\n",
       "      <td>5122GALO6Y</td>\n",
       "    </tr>\n",
       "    <tr>\n",
       "      <th>1485</th>\n",
       "      <td>[international, relations, theory, and, practice]</td>\n",
       "      <td>900161SSCY</td>\n",
       "    </tr>\n",
       "    <tr>\n",
       "      <th>2544</th>\n",
       "      <td>[rereading, the, graphic, design, archiverefra...</td>\n",
       "      <td>145422146Y</td>\n",
       "    </tr>\n",
       "    <tr>\n",
       "      <th>3028</th>\n",
       "      <td>[the, history, of, ideas]</td>\n",
       "      <td>9002600HUY</td>\n",
       "    </tr>\n",
       "  </tbody>\n",
       "</table>\n",
       "</div>"
      ],
      "text/plain": [
       "                                            course_name  \\\n",
       "2860                          [spectroscopic, analysis]   \n",
       "1245                                    [galoistheorie]   \n",
       "1485  [international, relations, theory, and, practice]   \n",
       "2544  [rereading, the, graphic, design, archiverefra...   \n",
       "3028                          [the, history, of, ideas]   \n",
       "\n",
       "     course_catalogue_number  \n",
       "2860              5254SPAN6Y  \n",
       "1245              5122GALO6Y  \n",
       "1485              900161SSCY  \n",
       "2544              145422146Y  \n",
       "3028              9002600HUY  "
      ]
     },
     "execution_count": 281,
     "metadata": {},
     "output_type": "execute_result"
    }
   ],
   "source": [
    "print(tracks[10])\n",
    "recommend_courses(li_course_ids[10], model, courses)"
   ]
  },
  {
   "cell_type": "code",
   "execution_count": 282,
   "id": "86c0c4be-ba3b-42c5-a1a8-48866bc86d04",
   "metadata": {},
   "outputs": [
    {
     "name": "stdout",
     "output_type": "stream",
     "text": [
      "art history/history\n",
      "\n"
     ]
    },
    {
     "data": {
      "text/html": [
       "<div>\n",
       "<style scoped>\n",
       "    .dataframe tbody tr th:only-of-type {\n",
       "        vertical-align: middle;\n",
       "    }\n",
       "\n",
       "    .dataframe tbody tr th {\n",
       "        vertical-align: top;\n",
       "    }\n",
       "\n",
       "    .dataframe thead th {\n",
       "        text-align: right;\n",
       "    }\n",
       "</style>\n",
       "<table border=\"1\" class=\"dataframe\">\n",
       "  <thead>\n",
       "    <tr style=\"text-align: right;\">\n",
       "      <th></th>\n",
       "      <th>course_name</th>\n",
       "      <th>course_catalogue_number</th>\n",
       "    </tr>\n",
       "  </thead>\n",
       "  <tbody>\n",
       "    <tr>\n",
       "      <th>440</th>\n",
       "      <td>[capstone]</td>\n",
       "      <td>900301CICY</td>\n",
       "    </tr>\n",
       "    <tr>\n",
       "      <th>1031</th>\n",
       "      <td>[esg, skills, ii]</td>\n",
       "      <td>6614ZE008Y</td>\n",
       "    </tr>\n",
       "    <tr>\n",
       "      <th>463</th>\n",
       "      <td>[causality]</td>\n",
       "      <td>5204CAUS6Y</td>\n",
       "    </tr>\n",
       "    <tr>\n",
       "      <th>2003</th>\n",
       "      <td>[media, aesthetics]</td>\n",
       "      <td>119121002Y</td>\n",
       "    </tr>\n",
       "    <tr>\n",
       "      <th>1457</th>\n",
       "      <td>[international, criminal, tribunals, procedura...</td>\n",
       "      <td>3854I1Q8GY</td>\n",
       "    </tr>\n",
       "  </tbody>\n",
       "</table>\n",
       "</div>"
      ],
      "text/plain": [
       "                                            course_name  \\\n",
       "440                                          [capstone]   \n",
       "1031                                  [esg, skills, ii]   \n",
       "463                                         [causality]   \n",
       "2003                                [media, aesthetics]   \n",
       "1457  [international, criminal, tribunals, procedura...   \n",
       "\n",
       "     course_catalogue_number  \n",
       "440               900301CICY  \n",
       "1031              6614ZE008Y  \n",
       "463               5204CAUS6Y  \n",
       "2003              119121002Y  \n",
       "1457              3854I1Q8GY  "
      ]
     },
     "execution_count": 282,
     "metadata": {},
     "output_type": "execute_result"
    }
   ],
   "source": [
    "print(tracks[11])\n",
    "recommend_courses(li_course_ids[11], model, courses)"
   ]
  },
  {
   "cell_type": "markdown",
   "id": "98dc908f-1794-41da-aa06-ef40682c918a",
   "metadata": {},
   "source": [
    "Sources for this part of the code:\n",
    "* https://www.geeksforgeeks.org/python-convert-a-string-representation-of-list-into-list/"
   ]
  }
 ],
 "metadata": {
  "kernelspec": {
   "display_name": "Python 3 (ipykernel)",
   "language": "python",
   "name": "python3"
  },
  "language_info": {
   "codemirror_mode": {
    "name": "ipython",
    "version": 3
   },
   "file_extension": ".py",
   "mimetype": "text/x-python",
   "name": "python",
   "nbconvert_exporter": "python",
   "pygments_lexer": "ipython3",
   "version": "3.10.12"
  }
 },
 "nbformat": 4,
 "nbformat_minor": 5
}
