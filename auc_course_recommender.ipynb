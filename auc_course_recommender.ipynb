{
 "cells": [
  {
   "cell_type": "markdown",
   "id": "7ff05913-5ea1-42a5-9df4-eaf159900930",
   "metadata": {},
   "source": [
    "# AUC Course Recommender\n",
    "## Description\n",
    "In this notebook is the source code for the Amsterdam University College (AUC) Course Recommender. This course recommender is part of a project for the Text Mining course at AUC."
   ]
  },
  {
   "cell_type": "markdown",
   "id": "8414d2e0-5945-4c37-91d7-5515d7abb683",
   "metadata": {},
   "source": [
    "## Code\n",
    "### Imports:"
   ]
  },
  {
   "cell_type": "code",
   "execution_count": 1,
   "id": "6a12df87-7241-402c-950c-3d927157abf6",
   "metadata": {},
   "outputs": [],
   "source": [
    "#pip install sentence_transformers"
   ]
  },
  {
   "cell_type": "code",
   "execution_count": 2,
   "id": "d266089f-734d-452d-a09a-13e1cf8a8dcc",
   "metadata": {},
   "outputs": [
    {
     "name": "stderr",
     "output_type": "stream",
     "text": [
      "/home/pluseal/.local/lib/python3.10/site-packages/tqdm/auto.py:21: TqdmWarning: IProgress not found. Please update jupyter and ipywidgets. See https://ipywidgets.readthedocs.io/en/stable/user_install.html\n",
      "  from .autonotebook import tqdm as notebook_tqdm\n"
     ]
    }
   ],
   "source": [
    "import pandas as pd\n",
    "import numpy as np\n",
    "import re\n",
    "from sklearn.metrics.pairwise import cosine_similarity\n",
    "from sklearn.feature_extraction.text import TfidfVectorizer\n",
    "from gensim.parsing.preprocessing import remove_stopwords\n",
    "from sentence_transformers import SentenceTransformer"
   ]
  },
  {
   "cell_type": "markdown",
   "id": "2582a417-d31d-45ad-8a7f-57f0fe06122a",
   "metadata": {},
   "source": [
    "### Loading and Preprocessing the Data"
   ]
  },
  {
   "cell_type": "markdown",
   "id": "5b0fcd2a-72d4-4372-9603-47c2ad5295ac",
   "metadata": {},
   "source": [
    "Loading the data in as a pandas dataframe:"
   ]
  },
  {
   "cell_type": "code",
   "execution_count": 3,
   "id": "ee728795-e823-47b3-9745-bae932c185b8",
   "metadata": {},
   "outputs": [
    {
     "name": "stdout",
     "output_type": "stream",
     "text": [
      "(3812, 8)\n"
     ]
    }
   ],
   "source": [
    "data = pd.read_csv(\"datasets/recommender_dataset.csv\")\n",
    "print(data.shape)"
   ]
  },
  {
   "cell_type": "markdown",
   "id": "810590b6-12b1-4323-9a5b-402db671595f",
   "metadata": {},
   "source": [
    "Next we drop the rows which have nothing in the course_catalogue_number column. These rows are empty because the course scraper did not scrape information from courses whose websites were not written in English, meaning that after dropping these rows all courses in the dataset are taught in English."
   ]
  },
  {
   "cell_type": "code",
   "execution_count": 4,
   "id": "39e5cb04-6d99-4f92-8702-39a0887a376b",
   "metadata": {},
   "outputs": [
    {
     "name": "stdout",
     "output_type": "stream",
     "text": [
      "(3345, 8)\n"
     ]
    }
   ],
   "source": [
    "courses = data.dropna(subset=['course_catalogue_number', 'is_part_of', 'language_of_instruction', 'course_description'])\n",
    "print(courses.shape)"
   ]
  },
  {
   "cell_type": "markdown",
   "id": "6c825356-c6fd-43da-93e1-e39be931e34b",
   "metadata": {},
   "source": [
    "Although we will be using sentBERT and TF-IDF as our vectorisers, both of which handle stopwords and punctuation themselves, we found better results when we manually removed the stopwords and punctuation ourselves"
   ]
  },
  {
   "cell_type": "markdown",
   "id": "0ea291ae-aa38-4abe-aa84-a7a0eb13b58f",
   "metadata": {},
   "source": [
    "Example of course description before preprocessing:"
   ]
  },
  {
   "cell_type": "code",
   "execution_count": 5,
   "id": "d8f5a483-1fe2-486a-afc4-00c91adf7020",
   "metadata": {},
   "outputs": [
    {
     "name": "stdout",
     "output_type": "stream",
     "text": [
      "Upon completing this course, you should be able to: identify and use different schools of thought in strategic management based on a solid understanding of their assumptions, strengths and weaknesses; critically reflect on different theories and perspectives in relation to competitive and cooperative strategy and compare them with alternative views; select, apply and combine analytical tools in diagnosing or addressing strategic issues at the business and network level in real-life cases; analyse the competitive, cooperative and coopetitive strategies of organizations, assess the impact of changes in these strategies, and formulate recommendations for improvement; adequately analyse the external and internal environment of an organization to derive relevant insights that can inform strategic decision-making; identify when and how to change or modify a business model over time and recognize relevant enabling and inhibiting factors; map the ecosystem(s) and alliance networks in which organizations operate and identify potential strategy blindspots; apply ‘parallel thinking’: what should a strategy look like and how to make sure that it is effectuated.\n",
      "This course is about competitive and cooperative strategy. Competitive strategy is concerned with making choices on how to create and maintain a competitive advantage in a particular business area (industry or product market), resulting in above-average returns, by delivering a unique value proposition. This value proposition can derive from choosing a set of activities that differ from those of competitors or that are performed differently. The course focuses on both pipeline and platform businesses and their strategic choices in the context of competitive dynamics. Firms are typically not fully independently operating entities that strive to enhance their competitive advantage entirely on their own strength. After all, most firms are embedded in networks of interdependent and cooperative relationships with other organizations. Hence, this course pays attention also to strategic choices at the network level, where firms are part of ecosystems and engage in cooperative arrangements to further their goals. The course fosters an integrative view of strategy, covering strategic analysis, strategy formulation and strategy implementation. By examining what makes some strategies strong and viable, while others remain weak and vulnerable, you enhance your ability to consider the impact of particular changes and adjustments on the opportunities for strengthening competitiveness.\n",
      "LENGTH: 2561\n"
     ]
    }
   ],
   "source": [
    "print(courses.iloc[0][\"course_description\"])\n",
    "print(\"LENGTH:\" ,len(courses.iloc[0][\"course_description\"]))"
   ]
  },
  {
   "cell_type": "markdown",
   "id": "7f043a79-e1e8-45de-989f-fc5c3827e200",
   "metadata": {},
   "source": [
    "Now we remove the stop words from dataframe's columns, as these act as noise that do not add much discriminative value in terms of similarity. "
   ]
  },
  {
   "cell_type": "code",
   "execution_count": 6,
   "id": "e6a324b2-1717-4ca5-b845-6b241eb914a3",
   "metadata": {},
   "outputs": [],
   "source": [
    "courses = courses.reset_index(drop=True)\n",
    "for i in range(len(courses)):\n",
    "    courses.loc[i, 'course_name'] = courses.loc[i, 'course_name'].lower()\n",
    "    courses.loc[i, 'college_graduate'] = courses.loc[i, 'college_graduate'].lower()\n",
    "    courses.loc[i, 'language_of_instruction'] = courses.loc[i, 'language_of_instruction'].lower()\n",
    "    courses.loc[i, 'is_part_of'] = courses['is_part_of'][i].lower()\n",
    "    courses.loc[i, 'is_part_of'] = remove_stopwords(courses.loc[i, 'is_part_of'])\n",
    "    courses.loc[i, 'course_description'] = courses.loc[i, \"course_description\"].lower()\n",
    "    courses.loc[i, 'course_description'] = remove_stopwords(courses.loc[i, 'course_description'])"
   ]
  },
  {
   "cell_type": "markdown",
   "id": "77a74281-cac0-47c2-a55b-7b5ac707c019",
   "metadata": {},
   "source": [
    "We also remove punctuation from the text, as this also acts as noise:"
   ]
  },
  {
   "cell_type": "code",
   "execution_count": 7,
   "id": "b346da1b-8c9b-4be4-9d10-9f807d5d03b6",
   "metadata": {},
   "outputs": [],
   "source": [
    "for i in range(len(courses)):\n",
    "    courses.loc[i, 'course_name'] = re.sub(r'[^\\w\\s]+', '', courses['course_name'][i])\n",
    "    courses.loc[i, 'is_part_of'] = re.sub(r'[^\\w\\s]+', '', courses['is_part_of'][i])\n",
    "    courses.loc[i, 'college_graduate'] = re.sub(r'[^\\w\\s]+', '', courses['college_graduate'][i])\n",
    "    courses.loc[i, 'course_description'] = re.sub(r'[^\\w\\s]+', '', courses['course_description'][i])"
   ]
  },
  {
   "cell_type": "markdown",
   "id": "4762a23d-1b9f-428c-a52a-83c4736a392f",
   "metadata": {},
   "source": [
    "Example of course description after preprocessing:"
   ]
  },
  {
   "cell_type": "code",
   "execution_count": 8,
   "id": "c02cd68f-47da-44bf-91a9-1ef6ede0ade3",
   "metadata": {},
   "outputs": [
    {
     "name": "stdout",
     "output_type": "stream",
     "text": [
      "completing course able to identify use different schools thought strategic management based solid understanding assumptions strengths weaknesses critically reflect different theories perspectives relation competitive cooperative strategy compare alternative views select apply combine analytical tools diagnosing addressing strategic issues business network level reallife cases analyse competitive cooperative coopetitive strategies organizations assess impact changes strategies formulate recommendations improvement adequately analyse external internal environment organization derive relevant insights inform strategic decisionmaking identify change modify business model time recognize relevant enabling inhibiting factors map ecosystems alliance networks organizations operate identify potential strategy blindspots apply parallel thinking strategy look like sure effectuated course competitive cooperative strategy competitive strategy concerned making choices create maintain competitive advantage particular business area industry product market resulting aboveaverage returns delivering unique value proposition value proposition derive choosing set activities differ competitors performed differently course focuses pipeline platform businesses strategic choices context competitive dynamics firms typically fully independently operating entities strive enhance competitive advantage entirely strength all firms embedded networks interdependent cooperative relationships organizations hence course pays attention strategic choices network level firms ecosystems engage cooperative arrangements goals course fosters integrative view strategy covering strategic analysis strategy formulation strategy implementation examining makes strategies strong viable remain weak vulnerable enhance ability consider impact particular changes adjustments opportunities strengthening competitiveness\n",
      "LENGTH:  1895\n"
     ]
    }
   ],
   "source": [
    "print(courses.iloc[0][\"course_description\"])\n",
    "print(\"LENGTH: \", len(courses.iloc[0][\"course_description\"]))"
   ]
  },
  {
   "cell_type": "markdown",
   "id": "10ae1791-90c9-4bc9-8b37-d4f69ef6b135",
   "metadata": {},
   "source": [
    "Combining the colunmns which have the main informations about the courses just into one column as one text:"
   ]
  },
  {
   "cell_type": "code",
   "execution_count": 9,
   "id": "f4faa2b9-f9de-470a-864d-9d8584057064",
   "metadata": {},
   "outputs": [],
   "source": [
    "courses['combined_text'] = courses['course_name'] + courses['is_part_of'] + courses['college_graduate'] + courses['course_description']"
   ]
  },
  {
   "cell_type": "markdown",
   "id": "c1108a63-be32-4126-b67e-25c4fe0c5fc7",
   "metadata": {},
   "source": [
    "Sources for this part of the code:\n",
    "* https://pandas.pydata.org/docs/reference/api/pandas.DataFrame.loc.html\n",
    "* https://www.w3schools.com/python/pandas/ref_df_reset_index.asp#:~:text=Definition%20and%20Usage,this%2C%20use%20the%20drop%20parameter.\n",
    "* https://pandas.pydata.org/docs/reference/api/pandas.DataFrame.reset_index.html\n",
    "* https://www.geeksforgeeks.org/removing-stop-words-nltk-python/\n",
    "* https://towardsdatascience.com/remove-punctuation-pandas-3e461efe9584/\n",
    "* https://www.geeksforgeeks.org/python-remove-punctuation-from-string/"
   ]
  },
  {
   "cell_type": "markdown",
   "id": "6ac85099-f352-4683-9992-be95bc754aea",
   "metadata": {},
   "source": [
    "## Base Model: TF-IDF Vectorizer"
   ]
  },
  {
   "cell_type": "code",
   "execution_count": 10,
   "id": "451926e3-ff79-46a0-b057-27ae767c93dd",
   "metadata": {},
   "outputs": [],
   "source": [
    "vectorizer = TfidfVectorizer()"
   ]
  },
  {
   "cell_type": "code",
   "execution_count": 11,
   "id": "789416c3-96bc-4de0-9b38-35f32c65324d",
   "metadata": {},
   "outputs": [
    {
     "name": "stdout",
     "output_type": "stream",
     "text": [
      "(3345, 30273)\n"
     ]
    }
   ],
   "source": [
    "tfidf_embeddings = vectorizer.fit_transform(courses[\"combined_text\"])\n",
    "tfidf_embeddings = tfidf_embeddings.toarray()\n",
    "print(tfidf_embeddings.shape)"
   ]
  },
  {
   "cell_type": "markdown",
   "id": "f3980316-4090-4660-b7bb-d818c4ca3aa9",
   "metadata": {},
   "source": [
    "Next we create a function that recommends the courses based off of the input course ids, the embeddings, and the course dataframe itself. We can also choose how many courses the recommend using the top_n parameter."
   ]
  },
  {
   "cell_type": "code",
   "execution_count": 12,
   "id": "2cd23408-c237-4d00-b43e-767f1176d205",
   "metadata": {},
   "outputs": [],
   "source": [
    "def recommend_courses(li_course_ids, embeddings, courses_df, top_n=5):\n",
    "    #making a dictionary which will have the course catalogue numbers and the idexes of the vectors\n",
    "    ids_idx = {}\n",
    "    for idx, cid in enumerate(courses_df['course_catalogue_number']):\n",
    "        ids_idx[cid] = idx\n",
    "\n",
    "    #getting the indexes of the courses in the li_course_ids\n",
    "    course_idx = []\n",
    "    for cid in li_course_ids:\n",
    "        course_idx.append(ids_idx[cid])\n",
    "\n",
    "    #getting the embbedings of the courses in the li_course_ids - soruice\n",
    "    course_emb = embeddings[course_idx]\n",
    "\n",
    "    #taking the mean of the course_emb\n",
    "    av_emb = np.mean(course_emb, axis=0).reshape(1, -1)\n",
    "    \n",
    "    #calculating the cosine similarities and flattening them to one dimension\n",
    "    cosine_sim = cosine_similarity(av_emb, embeddings).flatten()\n",
    "    \n",
    "    #making the cosine similarities a list and sorting it\n",
    "    sim_scores = list(enumerate(cosine_sim))\n",
    "    sim_scores = sorted(sim_scores, key=lambda x: x[1], reverse=True)\n",
    "    \n",
    "    #removing the courses from the sim_scores which were in the li_course_ids - might be worng\n",
    "    index_to_id = courses_df['course_catalogue_number'].tolist()\n",
    "    \n",
    "    selected_indicies = [index_to_id.index(cid) for cid in li_course_ids if cid in index_to_id]\n",
    "    \n",
    "    sim_scores = [s for s in sim_scores if s[0] not in selected_indicies]\n",
    "    \n",
    "    #getting the top 5 courses from the similaritie scores\n",
    "    course_indices = [i[0] for i in sim_scores[:top_n]]\n",
    "    \n",
    "    \n",
    "    #returning the name of the course and it's course catalogue number\n",
    "    return courses_df.iloc[course_indices][['course_name', 'course_catalogue_number']]"
   ]
  },
  {
   "cell_type": "markdown",
   "id": "55a01547-77b6-4ca8-9a2f-db3e444a5dbc",
   "metadata": {},
   "source": [
    "Sources for this part of the code:\n",
    "* https://scikit-learn.org/stable/modules/generated/sklearn.metrics.pairwise.cosine_similarity.html\n",
    "* https://numpy.org/doc/stable/reference/generated/numpy.matrix.flatten.html\n",
    "* https://ioflood.com/blog/dataframe-to-list-pandas/#:~:text=You%20can%20use%20the%20toList,tolist()%20.&text=In%20the%20example%20above%2C%20we,1%2C%202%2C%203%5D.\n",
    "* https://www.programiz.com/python-programming/methods/list/index"
   ]
  },
  {
   "cell_type": "markdown",
   "id": "6d618e07-91e9-4db1-98ef-838f6555bd53",
   "metadata": {},
   "source": [
    "### Testing"
   ]
  },
  {
   "cell_type": "markdown",
   "id": "b7e7c787-45f8-48fe-af44-05c6623529bd",
   "metadata": {},
   "source": [
    "Opening the test dataset:"
   ]
  },
  {
   "cell_type": "code",
   "execution_count": 13,
   "id": "4d59bb99-d501-41cc-9290-bcf7ccb0d1ab",
   "metadata": {},
   "outputs": [],
   "source": [
    "majors = []\n",
    "tracks = []\n",
    "li_course_ids = []\n",
    "with open(\"datasets/test_set.txt\", 'r') as f:\n",
    "    for l in f:\n",
    "        if l[0] == '[':\n",
    "            li_course_ids.append(eval(l))\n",
    "        elif l.isupper():\n",
    "            majors.append(l)\n",
    "        elif l.islower():\n",
    "            tracks.append(l)"
   ]
  },
  {
   "cell_type": "markdown",
   "id": "1c367f23-a4f4-4f68-ad0a-c7a1540abfe9",
   "metadata": {},
   "source": [
    "Using the recommender function to on the test dataset to evaluate performance by-eye:"
   ]
  },
  {
   "cell_type": "code",
   "execution_count": 14,
   "id": "25c62d4f-828f-46ba-9685-2e31cab8a6ff",
   "metadata": {},
   "outputs": [
    {
     "name": "stdout",
     "output_type": "stream",
     "text": [
      "SCIENCE\n",
      "\n",
      "math/information\n",
      "\n"
     ]
    },
    {
     "data": {
      "text/html": [
       "<div>\n",
       "<style scoped>\n",
       "    .dataframe tbody tr th:only-of-type {\n",
       "        vertical-align: middle;\n",
       "    }\n",
       "\n",
       "    .dataframe tbody tr th {\n",
       "        vertical-align: top;\n",
       "    }\n",
       "\n",
       "    .dataframe thead th {\n",
       "        text-align: right;\n",
       "    }\n",
       "</style>\n",
       "<table border=\"1\" class=\"dataframe\">\n",
       "  <thead>\n",
       "    <tr style=\"text-align: right;\">\n",
       "      <th></th>\n",
       "      <th>course_name</th>\n",
       "      <th>course_catalogue_number</th>\n",
       "    </tr>\n",
       "  </thead>\n",
       "  <tbody>\n",
       "    <tr>\n",
       "      <th>1241</th>\n",
       "      <td>fundamentals of psychology</td>\n",
       "      <td>3802FUQPVY</td>\n",
       "    </tr>\n",
       "    <tr>\n",
       "      <th>1613</th>\n",
       "      <td>introductory psychology and brain  cognition</td>\n",
       "      <td>7201702PXY</td>\n",
       "    </tr>\n",
       "    <tr>\n",
       "      <th>2272</th>\n",
       "      <td>philosophy of science</td>\n",
       "      <td>900274HUMY</td>\n",
       "    </tr>\n",
       "    <tr>\n",
       "      <th>2739</th>\n",
       "      <td>scientific programming 1</td>\n",
       "      <td>50621SCP3Y</td>\n",
       "    </tr>\n",
       "    <tr>\n",
       "      <th>2029</th>\n",
       "      <td>methods for social sciences research</td>\n",
       "      <td>900102ACCY</td>\n",
       "    </tr>\n",
       "  </tbody>\n",
       "</table>\n",
       "</div>"
      ],
      "text/plain": [
       "                                       course_name course_catalogue_number\n",
       "1241                    fundamentals of psychology              3802FUQPVY\n",
       "1613  introductory psychology and brain  cognition              7201702PXY\n",
       "2272                         philosophy of science              900274HUMY\n",
       "2739                      scientific programming 1              50621SCP3Y\n",
       "2029          methods for social sciences research              900102ACCY"
      ]
     },
     "execution_count": 14,
     "metadata": {},
     "output_type": "execute_result"
    }
   ],
   "source": [
    "print(majors[0])\n",
    "print(tracks[0])\n",
    "recommend_courses(li_course_ids[0], tfidf_embeddings, courses)"
   ]
  },
  {
   "cell_type": "code",
   "execution_count": 15,
   "id": "b293b406-bb23-415a-9133-4354b92cf17f",
   "metadata": {},
   "outputs": [
    {
     "name": "stdout",
     "output_type": "stream",
     "text": [
      "biomed\n",
      "\n"
     ]
    },
    {
     "data": {
      "text/html": [
       "<div>\n",
       "<style scoped>\n",
       "    .dataframe tbody tr th:only-of-type {\n",
       "        vertical-align: middle;\n",
       "    }\n",
       "\n",
       "    .dataframe tbody tr th {\n",
       "        vertical-align: top;\n",
       "    }\n",
       "\n",
       "    .dataframe thead th {\n",
       "        text-align: right;\n",
       "    }\n",
       "</style>\n",
       "<table border=\"1\" class=\"dataframe\">\n",
       "  <thead>\n",
       "    <tr style=\"text-align: right;\">\n",
       "      <th></th>\n",
       "      <th>course_name</th>\n",
       "      <th>course_catalogue_number</th>\n",
       "    </tr>\n",
       "  </thead>\n",
       "  <tbody>\n",
       "    <tr>\n",
       "      <th>1561</th>\n",
       "      <td>introduction to health and wellbeing</td>\n",
       "      <td>900106SCIY</td>\n",
       "    </tr>\n",
       "    <tr>\n",
       "      <th>1298</th>\n",
       "      <td>global mental health</td>\n",
       "      <td>739400140Y</td>\n",
       "    </tr>\n",
       "    <tr>\n",
       "      <th>1613</th>\n",
       "      <td>introductory psychology and brain  cognition</td>\n",
       "      <td>7201702PXY</td>\n",
       "    </tr>\n",
       "    <tr>\n",
       "      <th>2160</th>\n",
       "      <td>neuroscience from cell to behaviour</td>\n",
       "      <td>5244NCTB5Y</td>\n",
       "    </tr>\n",
       "    <tr>\n",
       "      <th>1338</th>\n",
       "      <td>health econometrics empirical research</td>\n",
       "      <td>6414M0405Y</td>\n",
       "    </tr>\n",
       "  </tbody>\n",
       "</table>\n",
       "</div>"
      ],
      "text/plain": [
       "                                       course_name course_catalogue_number\n",
       "1561          introduction to health and wellbeing              900106SCIY\n",
       "1298                          global mental health              739400140Y\n",
       "1613  introductory psychology and brain  cognition              7201702PXY\n",
       "2160           neuroscience from cell to behaviour              5244NCTB5Y\n",
       "1338        health econometrics empirical research              6414M0405Y"
      ]
     },
     "execution_count": 15,
     "metadata": {},
     "output_type": "execute_result"
    }
   ],
   "source": [
    "print(tracks[1])\n",
    "recommend_courses(li_course_ids[1], tfidf_embeddings, courses)"
   ]
  },
  {
   "cell_type": "code",
   "execution_count": 16,
   "id": "dbe32425-2d11-40f2-ae75-38c6c0d7120e",
   "metadata": {},
   "outputs": [
    {
     "name": "stdout",
     "output_type": "stream",
     "text": [
      "physics\n",
      "\n"
     ]
    },
    {
     "data": {
      "text/html": [
       "<div>\n",
       "<style scoped>\n",
       "    .dataframe tbody tr th:only-of-type {\n",
       "        vertical-align: middle;\n",
       "    }\n",
       "\n",
       "    .dataframe tbody tr th {\n",
       "        vertical-align: top;\n",
       "    }\n",
       "\n",
       "    .dataframe thead th {\n",
       "        text-align: right;\n",
       "    }\n",
       "</style>\n",
       "<table border=\"1\" class=\"dataframe\">\n",
       "  <thead>\n",
       "    <tr style=\"text-align: right;\">\n",
       "      <th></th>\n",
       "      <th>course_name</th>\n",
       "      <th>course_catalogue_number</th>\n",
       "    </tr>\n",
       "  </thead>\n",
       "  <tbody>\n",
       "    <tr>\n",
       "      <th>2308</th>\n",
       "      <td>physics of sustainable energy</td>\n",
       "      <td>5092PHSE6Y</td>\n",
       "    </tr>\n",
       "    <tr>\n",
       "      <th>2882</th>\n",
       "      <td>statistical theory of complex molecular systems</td>\n",
       "      <td>5254STTC6Y</td>\n",
       "    </tr>\n",
       "    <tr>\n",
       "      <th>1984</th>\n",
       "      <td>mathematics 1 calculus</td>\n",
       "      <td>6011P0166Y</td>\n",
       "    </tr>\n",
       "    <tr>\n",
       "      <th>448</th>\n",
       "      <td>case studies in energy climate and sustainability</td>\n",
       "      <td>900319SCIY</td>\n",
       "    </tr>\n",
       "    <tr>\n",
       "      <th>1982</th>\n",
       "      <td>mathematics</td>\n",
       "      <td>3802M1QPVY</td>\n",
       "    </tr>\n",
       "  </tbody>\n",
       "</table>\n",
       "</div>"
      ],
      "text/plain": [
       "                                            course_name  \\\n",
       "2308                      physics of sustainable energy   \n",
       "2882    statistical theory of complex molecular systems   \n",
       "1984                             mathematics 1 calculus   \n",
       "448   case studies in energy climate and sustainability   \n",
       "1982                                        mathematics   \n",
       "\n",
       "     course_catalogue_number  \n",
       "2308              5092PHSE6Y  \n",
       "2882              5254STTC6Y  \n",
       "1984              6011P0166Y  \n",
       "448               900319SCIY  \n",
       "1982              3802M1QPVY  "
      ]
     },
     "execution_count": 16,
     "metadata": {},
     "output_type": "execute_result"
    }
   ],
   "source": [
    "print(tracks[2])\n",
    "recommend_courses(li_course_ids[2], tfidf_embeddings, courses)"
   ]
  },
  {
   "cell_type": "code",
   "execution_count": 17,
   "id": "9d5692e1-18bc-4700-acd6-757f03b04075",
   "metadata": {},
   "outputs": [
    {
     "name": "stdout",
     "output_type": "stream",
     "text": [
      "bio/environment\n",
      "\n"
     ]
    },
    {
     "data": {
      "text/html": [
       "<div>\n",
       "<style scoped>\n",
       "    .dataframe tbody tr th:only-of-type {\n",
       "        vertical-align: middle;\n",
       "    }\n",
       "\n",
       "    .dataframe tbody tr th {\n",
       "        vertical-align: top;\n",
       "    }\n",
       "\n",
       "    .dataframe thead th {\n",
       "        text-align: right;\n",
       "    }\n",
       "</style>\n",
       "<table border=\"1\" class=\"dataframe\">\n",
       "  <thead>\n",
       "    <tr style=\"text-align: right;\">\n",
       "      <th></th>\n",
       "      <th>course_name</th>\n",
       "      <th>course_catalogue_number</th>\n",
       "    </tr>\n",
       "  </thead>\n",
       "  <tbody>\n",
       "    <tr>\n",
       "      <th>448</th>\n",
       "      <td>case studies in energy climate and sustainability</td>\n",
       "      <td>900319SCIY</td>\n",
       "    </tr>\n",
       "    <tr>\n",
       "      <th>2960</th>\n",
       "      <td>system earth</td>\n",
       "      <td>900283SCIY</td>\n",
       "    </tr>\n",
       "    <tr>\n",
       "      <th>513</th>\n",
       "      <td>climate change</td>\n",
       "      <td>5264CLCH6Y</td>\n",
       "    </tr>\n",
       "    <tr>\n",
       "      <th>859</th>\n",
       "      <td>developmental biology</td>\n",
       "      <td>5224DEBI6Y</td>\n",
       "    </tr>\n",
       "    <tr>\n",
       "      <th>3255</th>\n",
       "      <td>urban anthropology lab</td>\n",
       "      <td>900381SSCY</td>\n",
       "    </tr>\n",
       "  </tbody>\n",
       "</table>\n",
       "</div>"
      ],
      "text/plain": [
       "                                            course_name  \\\n",
       "448   case studies in energy climate and sustainability   \n",
       "2960                                       system earth   \n",
       "513                                      climate change   \n",
       "859                               developmental biology   \n",
       "3255                             urban anthropology lab   \n",
       "\n",
       "     course_catalogue_number  \n",
       "448               900319SCIY  \n",
       "2960              900283SCIY  \n",
       "513               5264CLCH6Y  \n",
       "859               5224DEBI6Y  \n",
       "3255              900381SSCY  "
      ]
     },
     "execution_count": 17,
     "metadata": {},
     "output_type": "execute_result"
    }
   ],
   "source": [
    "print(tracks[3])\n",
    "recommend_courses(li_course_ids[3], tfidf_embeddings, courses)"
   ]
  },
  {
   "cell_type": "code",
   "execution_count": 18,
   "id": "96ae9e5b-1de1-48bc-b2fb-1fe97027d251",
   "metadata": {},
   "outputs": [
    {
     "name": "stdout",
     "output_type": "stream",
     "text": [
      "information/neuro\n",
      "\n"
     ]
    },
    {
     "data": {
      "text/html": [
       "<div>\n",
       "<style scoped>\n",
       "    .dataframe tbody tr th:only-of-type {\n",
       "        vertical-align: middle;\n",
       "    }\n",
       "\n",
       "    .dataframe tbody tr th {\n",
       "        vertical-align: top;\n",
       "    }\n",
       "\n",
       "    .dataframe thead th {\n",
       "        text-align: right;\n",
       "    }\n",
       "</style>\n",
       "<table border=\"1\" class=\"dataframe\">\n",
       "  <thead>\n",
       "    <tr style=\"text-align: right;\">\n",
       "      <th></th>\n",
       "      <th>course_name</th>\n",
       "      <th>course_catalogue_number</th>\n",
       "    </tr>\n",
       "  </thead>\n",
       "  <tbody>\n",
       "    <tr>\n",
       "      <th>2160</th>\n",
       "      <td>neuroscience from cell to behaviour</td>\n",
       "      <td>5244NCTB5Y</td>\n",
       "    </tr>\n",
       "    <tr>\n",
       "      <th>1376</th>\n",
       "      <td>human body  anatomy and physiology ii</td>\n",
       "      <td>900261SCIY</td>\n",
       "    </tr>\n",
       "    <tr>\n",
       "      <th>1613</th>\n",
       "      <td>introductory psychology and brain  cognition</td>\n",
       "      <td>7201702PXY</td>\n",
       "    </tr>\n",
       "    <tr>\n",
       "      <th>1240</th>\n",
       "      <td>fundamentals of neuroscience</td>\n",
       "      <td>5053FUN12Y</td>\n",
       "    </tr>\n",
       "    <tr>\n",
       "      <th>3032</th>\n",
       "      <td>the integrated brain</td>\n",
       "      <td>5102THIB6Y</td>\n",
       "    </tr>\n",
       "  </tbody>\n",
       "</table>\n",
       "</div>"
      ],
      "text/plain": [
       "                                       course_name course_catalogue_number\n",
       "2160           neuroscience from cell to behaviour              5244NCTB5Y\n",
       "1376         human body  anatomy and physiology ii              900261SCIY\n",
       "1613  introductory psychology and brain  cognition              7201702PXY\n",
       "1240                  fundamentals of neuroscience              5053FUN12Y\n",
       "3032                          the integrated brain              5102THIB6Y"
      ]
     },
     "execution_count": 18,
     "metadata": {},
     "output_type": "execute_result"
    }
   ],
   "source": [
    "print(tracks[4])\n",
    "recommend_courses(li_course_ids[4], tfidf_embeddings, courses)"
   ]
  },
  {
   "cell_type": "code",
   "execution_count": 19,
   "id": "0921b221-5a98-4432-a2e4-495afa0e0721",
   "metadata": {},
   "outputs": [
    {
     "name": "stdout",
     "output_type": "stream",
     "text": [
      "SOCIAL SCIENCE\n",
      "\n",
      "economics\n",
      "\n"
     ]
    },
    {
     "data": {
      "text/html": [
       "<div>\n",
       "<style scoped>\n",
       "    .dataframe tbody tr th:only-of-type {\n",
       "        vertical-align: middle;\n",
       "    }\n",
       "\n",
       "    .dataframe tbody tr th {\n",
       "        vertical-align: top;\n",
       "    }\n",
       "\n",
       "    .dataframe thead th {\n",
       "        text-align: right;\n",
       "    }\n",
       "</style>\n",
       "<table border=\"1\" class=\"dataframe\">\n",
       "  <thead>\n",
       "    <tr style=\"text-align: right;\">\n",
       "      <th></th>\n",
       "      <th>course_name</th>\n",
       "      <th>course_catalogue_number</th>\n",
       "    </tr>\n",
       "  </thead>\n",
       "  <tbody>\n",
       "    <tr>\n",
       "      <th>448</th>\n",
       "      <td>case studies in energy climate and sustainability</td>\n",
       "      <td>900319SCIY</td>\n",
       "    </tr>\n",
       "    <tr>\n",
       "      <th>1010</th>\n",
       "      <td>environmental economics and policies</td>\n",
       "      <td>6414M0503Y</td>\n",
       "    </tr>\n",
       "    <tr>\n",
       "      <th>1007</th>\n",
       "      <td>environmental econometrics empirical research</td>\n",
       "      <td>6414M0404Y</td>\n",
       "    </tr>\n",
       "    <tr>\n",
       "      <th>118</th>\n",
       "      <td>advanced research methods and statistics</td>\n",
       "      <td>900323ACCY</td>\n",
       "    </tr>\n",
       "    <tr>\n",
       "      <th>2890</th>\n",
       "      <td>statistics for sciences</td>\n",
       "      <td>900128ACCY</td>\n",
       "    </tr>\n",
       "  </tbody>\n",
       "</table>\n",
       "</div>"
      ],
      "text/plain": [
       "                                            course_name  \\\n",
       "448   case studies in energy climate and sustainability   \n",
       "1010               environmental economics and policies   \n",
       "1007      environmental econometrics empirical research   \n",
       "118            advanced research methods and statistics   \n",
       "2890                            statistics for sciences   \n",
       "\n",
       "     course_catalogue_number  \n",
       "448               900319SCIY  \n",
       "1010              6414M0503Y  \n",
       "1007              6414M0404Y  \n",
       "118               900323ACCY  \n",
       "2890              900128ACCY  "
      ]
     },
     "execution_count": 19,
     "metadata": {},
     "output_type": "execute_result"
    }
   ],
   "source": [
    "print(majors[1])\n",
    "print(tracks[5])\n",
    "recommend_courses(li_course_ids[5], tfidf_embeddings, courses)"
   ]
  },
  {
   "cell_type": "code",
   "execution_count": 20,
   "id": "22a1cb2b-0e5a-475b-a2fb-7ff43c516975",
   "metadata": {},
   "outputs": [
    {
     "name": "stdout",
     "output_type": "stream",
     "text": [
      "law, ir\n",
      "\n"
     ]
    },
    {
     "data": {
      "text/html": [
       "<div>\n",
       "<style scoped>\n",
       "    .dataframe tbody tr th:only-of-type {\n",
       "        vertical-align: middle;\n",
       "    }\n",
       "\n",
       "    .dataframe tbody tr th {\n",
       "        vertical-align: top;\n",
       "    }\n",
       "\n",
       "    .dataframe thead th {\n",
       "        text-align: right;\n",
       "    }\n",
       "</style>\n",
       "<table border=\"1\" class=\"dataframe\">\n",
       "  <thead>\n",
       "    <tr style=\"text-align: right;\">\n",
       "      <th></th>\n",
       "      <th>course_name</th>\n",
       "      <th>course_catalogue_number</th>\n",
       "    </tr>\n",
       "  </thead>\n",
       "  <tbody>\n",
       "    <tr>\n",
       "      <th>1475</th>\n",
       "      <td>international law of military operations</td>\n",
       "      <td>3854INQ8VY</td>\n",
       "    </tr>\n",
       "    <tr>\n",
       "      <th>2357</th>\n",
       "      <td>politics and practices of international law</td>\n",
       "      <td>7324F101IY</td>\n",
       "    </tr>\n",
       "    <tr>\n",
       "      <th>2489</th>\n",
       "      <td>public international law</td>\n",
       "      <td>3802PUQPVY</td>\n",
       "    </tr>\n",
       "    <tr>\n",
       "      <th>3057</th>\n",
       "      <td>the politics of international law</td>\n",
       "      <td>7324P261ZY</td>\n",
       "    </tr>\n",
       "    <tr>\n",
       "      <th>2410</th>\n",
       "      <td>principles and foundations of international law</td>\n",
       "      <td>3554PRFIVY</td>\n",
       "    </tr>\n",
       "  </tbody>\n",
       "</table>\n",
       "</div>"
      ],
      "text/plain": [
       "                                          course_name course_catalogue_number\n",
       "1475         international law of military operations              3854INQ8VY\n",
       "2357      politics and practices of international law              7324F101IY\n",
       "2489                         public international law              3802PUQPVY\n",
       "3057                the politics of international law              7324P261ZY\n",
       "2410  principles and foundations of international law              3554PRFIVY"
      ]
     },
     "execution_count": 20,
     "metadata": {},
     "output_type": "execute_result"
    }
   ],
   "source": [
    "print(tracks[6])\n",
    "recommend_courses(li_course_ids[6], tfidf_embeddings, courses)"
   ]
  },
  {
   "cell_type": "code",
   "execution_count": 21,
   "id": "c6a17e1d-e845-4806-a245-cc603c3b7950",
   "metadata": {},
   "outputs": [
    {
     "name": "stdout",
     "output_type": "stream",
     "text": [
      "psychology/economics\n",
      "\n"
     ]
    },
    {
     "data": {
      "text/html": [
       "<div>\n",
       "<style scoped>\n",
       "    .dataframe tbody tr th:only-of-type {\n",
       "        vertical-align: middle;\n",
       "    }\n",
       "\n",
       "    .dataframe tbody tr th {\n",
       "        vertical-align: top;\n",
       "    }\n",
       "\n",
       "    .dataframe thead th {\n",
       "        text-align: right;\n",
       "    }\n",
       "</style>\n",
       "<table border=\"1\" class=\"dataframe\">\n",
       "  <thead>\n",
       "    <tr style=\"text-align: right;\">\n",
       "      <th></th>\n",
       "      <th>course_name</th>\n",
       "      <th>course_catalogue_number</th>\n",
       "    </tr>\n",
       "  </thead>\n",
       "  <tbody>\n",
       "    <tr>\n",
       "      <th>1241</th>\n",
       "      <td>fundamentals of psychology</td>\n",
       "      <td>3802FUQPVY</td>\n",
       "    </tr>\n",
       "    <tr>\n",
       "      <th>1613</th>\n",
       "      <td>introductory psychology and brain  cognition</td>\n",
       "      <td>7201702PXY</td>\n",
       "    </tr>\n",
       "    <tr>\n",
       "      <th>1589</th>\n",
       "      <td>introduction to psychology minor programme</td>\n",
       "      <td>7201718PXY</td>\n",
       "    </tr>\n",
       "    <tr>\n",
       "      <th>359</th>\n",
       "      <td>behavioural economics</td>\n",
       "      <td>900325SSCY</td>\n",
       "    </tr>\n",
       "    <tr>\n",
       "      <th>2152</th>\n",
       "      <td>neuroeconomics</td>\n",
       "      <td>6414M0167Y</td>\n",
       "    </tr>\n",
       "  </tbody>\n",
       "</table>\n",
       "</div>"
      ],
      "text/plain": [
       "                                       course_name course_catalogue_number\n",
       "1241                    fundamentals of psychology              3802FUQPVY\n",
       "1613  introductory psychology and brain  cognition              7201702PXY\n",
       "1589    introduction to psychology minor programme              7201718PXY\n",
       "359                          behavioural economics              900325SSCY\n",
       "2152                                neuroeconomics              6414M0167Y"
      ]
     },
     "execution_count": 21,
     "metadata": {},
     "output_type": "execute_result"
    }
   ],
   "source": [
    "print(tracks[7])\n",
    "recommend_courses(li_course_ids[7], tfidf_embeddings, courses)"
   ]
  },
  {
   "cell_type": "code",
   "execution_count": 22,
   "id": "bc520df1-74a9-43d0-adff-66d74c1a579a",
   "metadata": {},
   "outputs": [
    {
     "name": "stdout",
     "output_type": "stream",
     "text": [
      "political science/law\n",
      "\n"
     ]
    },
    {
     "data": {
      "text/html": [
       "<div>\n",
       "<style scoped>\n",
       "    .dataframe tbody tr th:only-of-type {\n",
       "        vertical-align: middle;\n",
       "    }\n",
       "\n",
       "    .dataframe tbody tr th {\n",
       "        vertical-align: top;\n",
       "    }\n",
       "\n",
       "    .dataframe thead th {\n",
       "        text-align: right;\n",
       "    }\n",
       "</style>\n",
       "<table border=\"1\" class=\"dataframe\">\n",
       "  <thead>\n",
       "    <tr style=\"text-align: right;\">\n",
       "      <th></th>\n",
       "      <th>course_name</th>\n",
       "      <th>course_catalogue_number</th>\n",
       "    </tr>\n",
       "  </thead>\n",
       "  <tbody>\n",
       "    <tr>\n",
       "      <th>1384</th>\n",
       "      <td>human rights in private law</td>\n",
       "      <td>3254HRP6KY</td>\n",
       "    </tr>\n",
       "    <tr>\n",
       "      <th>1360</th>\n",
       "      <td>history of legal theory</td>\n",
       "      <td>3802HIQPVY</td>\n",
       "    </tr>\n",
       "    <tr>\n",
       "      <th>1466</th>\n",
       "      <td>international human rights law</td>\n",
       "      <td>3854HUQ4KY</td>\n",
       "    </tr>\n",
       "    <tr>\n",
       "      <th>1435</th>\n",
       "      <td>integrative seminar i human rights</td>\n",
       "      <td>3801I1QPVY</td>\n",
       "    </tr>\n",
       "    <tr>\n",
       "      <th>1070</th>\n",
       "      <td>european human rights law</td>\n",
       "      <td>3554H1Q4KY</td>\n",
       "    </tr>\n",
       "  </tbody>\n",
       "</table>\n",
       "</div>"
      ],
      "text/plain": [
       "                             course_name course_catalogue_number\n",
       "1384         human rights in private law              3254HRP6KY\n",
       "1360             history of legal theory              3802HIQPVY\n",
       "1466      international human rights law              3854HUQ4KY\n",
       "1435  integrative seminar i human rights              3801I1QPVY\n",
       "1070           european human rights law              3554H1Q4KY"
      ]
     },
     "execution_count": 22,
     "metadata": {},
     "output_type": "execute_result"
    }
   ],
   "source": [
    "print(tracks[8])\n",
    "recommend_courses(li_course_ids[8], tfidf_embeddings, courses)"
   ]
  },
  {
   "cell_type": "code",
   "execution_count": 23,
   "id": "1e9984d3-7418-4120-9b48-0890e8edff02",
   "metadata": {},
   "outputs": [
    {
     "name": "stdout",
     "output_type": "stream",
     "text": [
      "HUMANITIES\n",
      "\n",
      "history/philosophy\n",
      "\n"
     ]
    },
    {
     "data": {
      "text/html": [
       "<div>\n",
       "<style scoped>\n",
       "    .dataframe tbody tr th:only-of-type {\n",
       "        vertical-align: middle;\n",
       "    }\n",
       "\n",
       "    .dataframe tbody tr th {\n",
       "        vertical-align: top;\n",
       "    }\n",
       "\n",
       "    .dataframe thead th {\n",
       "        text-align: right;\n",
       "    }\n",
       "</style>\n",
       "<table border=\"1\" class=\"dataframe\">\n",
       "  <thead>\n",
       "    <tr style=\"text-align: right;\">\n",
       "      <th></th>\n",
       "      <th>course_name</th>\n",
       "      <th>course_catalogue_number</th>\n",
       "    </tr>\n",
       "  </thead>\n",
       "  <tbody>\n",
       "    <tr>\n",
       "      <th>1582</th>\n",
       "      <td>introduction to philosophy ii</td>\n",
       "      <td>900108HUMY</td>\n",
       "    </tr>\n",
       "    <tr>\n",
       "      <th>2029</th>\n",
       "      <td>methods for social sciences research</td>\n",
       "      <td>900102ACCY</td>\n",
       "    </tr>\n",
       "    <tr>\n",
       "      <th>706</th>\n",
       "      <td>creating objects defining methods philosophy</td>\n",
       "      <td>189421036Y</td>\n",
       "    </tr>\n",
       "    <tr>\n",
       "      <th>2272</th>\n",
       "      <td>philosophy of science</td>\n",
       "      <td>900274HUMY</td>\n",
       "    </tr>\n",
       "    <tr>\n",
       "      <th>3043</th>\n",
       "      <td>the netherlands in the seventeenth century</td>\n",
       "      <td>112221346Y</td>\n",
       "    </tr>\n",
       "  </tbody>\n",
       "</table>\n",
       "</div>"
      ],
      "text/plain": [
       "                                       course_name course_catalogue_number\n",
       "1582                 introduction to philosophy ii              900108HUMY\n",
       "2029          methods for social sciences research              900102ACCY\n",
       "706   creating objects defining methods philosophy              189421036Y\n",
       "2272                         philosophy of science              900274HUMY\n",
       "3043  the netherlands in the seventeenth century                112221346Y"
      ]
     },
     "execution_count": 23,
     "metadata": {},
     "output_type": "execute_result"
    }
   ],
   "source": [
    "print(majors[2])\n",
    "print(tracks[9])\n",
    "recommend_courses(li_course_ids[9], tfidf_embeddings, courses)"
   ]
  },
  {
   "cell_type": "code",
   "execution_count": 24,
   "id": "92b2d991-b4e7-44fb-a50c-c7f5901a1639",
   "metadata": {},
   "outputs": [
    {
     "name": "stdout",
     "output_type": "stream",
     "text": [
      "cultural analysis\n",
      "\n"
     ]
    },
    {
     "data": {
      "text/html": [
       "<div>\n",
       "<style scoped>\n",
       "    .dataframe tbody tr th:only-of-type {\n",
       "        vertical-align: middle;\n",
       "    }\n",
       "\n",
       "    .dataframe tbody tr th {\n",
       "        vertical-align: top;\n",
       "    }\n",
       "\n",
       "    .dataframe thead th {\n",
       "        text-align: right;\n",
       "    }\n",
       "</style>\n",
       "<table border=\"1\" class=\"dataframe\">\n",
       "  <thead>\n",
       "    <tr style=\"text-align: right;\">\n",
       "      <th></th>\n",
       "      <th>course_name</th>\n",
       "      <th>course_catalogue_number</th>\n",
       "    </tr>\n",
       "  </thead>\n",
       "  <tbody>\n",
       "    <tr>\n",
       "      <th>1582</th>\n",
       "      <td>introduction to philosophy ii</td>\n",
       "      <td>900108HUMY</td>\n",
       "    </tr>\n",
       "    <tr>\n",
       "      <th>1643</th>\n",
       "      <td>key debates in gender  sexuality</td>\n",
       "      <td>7334E003FY</td>\n",
       "    </tr>\n",
       "    <tr>\n",
       "      <th>1259</th>\n",
       "      <td>introduction to gender and sexuality studies</td>\n",
       "      <td>7302A4001Y</td>\n",
       "    </tr>\n",
       "    <tr>\n",
       "      <th>1256</th>\n",
       "      <td>gender in modern europe realities and</td>\n",
       "      <td>111211226Y</td>\n",
       "    </tr>\n",
       "    <tr>\n",
       "      <th>2537</th>\n",
       "      <td>race class and gender intersectionality</td>\n",
       "      <td>900374SSCY</td>\n",
       "    </tr>\n",
       "  </tbody>\n",
       "</table>\n",
       "</div>"
      ],
      "text/plain": [
       "                                       course_name course_catalogue_number\n",
       "1582                 introduction to philosophy ii              900108HUMY\n",
       "1643              key debates in gender  sexuality              7334E003FY\n",
       "1259  introduction to gender and sexuality studies              7302A4001Y\n",
       "1256         gender in modern europe realities and              111211226Y\n",
       "2537       race class and gender intersectionality              900374SSCY"
      ]
     },
     "execution_count": 24,
     "metadata": {},
     "output_type": "execute_result"
    }
   ],
   "source": [
    "print(tracks[10])\n",
    "recommend_courses(li_course_ids[10], tfidf_embeddings, courses)"
   ]
  },
  {
   "cell_type": "code",
   "execution_count": 25,
   "id": "26fd63b9-18b2-4b9f-9642-6bb731872f2f",
   "metadata": {},
   "outputs": [
    {
     "name": "stdout",
     "output_type": "stream",
     "text": [
      "media/film\n",
      "\n"
     ]
    },
    {
     "data": {
      "text/html": [
       "<div>\n",
       "<style scoped>\n",
       "    .dataframe tbody tr th:only-of-type {\n",
       "        vertical-align: middle;\n",
       "    }\n",
       "\n",
       "    .dataframe tbody tr th {\n",
       "        vertical-align: top;\n",
       "    }\n",
       "\n",
       "    .dataframe thead th {\n",
       "        text-align: right;\n",
       "    }\n",
       "</style>\n",
       "<table border=\"1\" class=\"dataframe\">\n",
       "  <thead>\n",
       "    <tr style=\"text-align: right;\">\n",
       "      <th></th>\n",
       "      <th>course_name</th>\n",
       "      <th>course_catalogue_number</th>\n",
       "    </tr>\n",
       "  </thead>\n",
       "  <tbody>\n",
       "    <tr>\n",
       "      <th>1146</th>\n",
       "      <td>film theories</td>\n",
       "      <td>159421036Y</td>\n",
       "    </tr>\n",
       "    <tr>\n",
       "      <th>1138</th>\n",
       "      <td>film analysis</td>\n",
       "      <td>119221012Y</td>\n",
       "    </tr>\n",
       "    <tr>\n",
       "      <th>3144</th>\n",
       "      <td>this is film film heritage in practice</td>\n",
       "      <td>158421012Y</td>\n",
       "    </tr>\n",
       "    <tr>\n",
       "      <th>1144</th>\n",
       "      <td>film research seminar i</td>\n",
       "      <td>15941A006Y</td>\n",
       "    </tr>\n",
       "    <tr>\n",
       "      <th>1145</th>\n",
       "      <td>film research seminar ii</td>\n",
       "      <td>15941A016Y</td>\n",
       "    </tr>\n",
       "  </tbody>\n",
       "</table>\n",
       "</div>"
      ],
      "text/plain": [
       "                                 course_name course_catalogue_number\n",
       "1146                           film theories              159421036Y\n",
       "1138                           film analysis              119221012Y\n",
       "3144  this is film film heritage in practice              158421012Y\n",
       "1144                 film research seminar i              15941A006Y\n",
       "1145                film research seminar ii              15941A016Y"
      ]
     },
     "execution_count": 25,
     "metadata": {},
     "output_type": "execute_result"
    }
   ],
   "source": [
    "print(tracks[11])\n",
    "recommend_courses(li_course_ids[11], tfidf_embeddings, courses)"
   ]
  },
  {
   "cell_type": "code",
   "execution_count": 26,
   "id": "3e9a240e-458e-4a1c-9f6e-2113416f1d22",
   "metadata": {},
   "outputs": [
    {
     "name": "stdout",
     "output_type": "stream",
     "text": [
      "art history/history\n",
      "\n"
     ]
    },
    {
     "data": {
      "text/html": [
       "<div>\n",
       "<style scoped>\n",
       "    .dataframe tbody tr th:only-of-type {\n",
       "        vertical-align: middle;\n",
       "    }\n",
       "\n",
       "    .dataframe tbody tr th {\n",
       "        vertical-align: top;\n",
       "    }\n",
       "\n",
       "    .dataframe thead th {\n",
       "        text-align: right;\n",
       "    }\n",
       "</style>\n",
       "<table border=\"1\" class=\"dataframe\">\n",
       "  <thead>\n",
       "    <tr style=\"text-align: right;\">\n",
       "      <th></th>\n",
       "      <th>course_name</th>\n",
       "      <th>course_catalogue_number</th>\n",
       "    </tr>\n",
       "  </thead>\n",
       "  <tbody>\n",
       "    <tr>\n",
       "      <th>2990</th>\n",
       "      <td>the art market and culture industry</td>\n",
       "      <td>900341HUMY</td>\n",
       "    </tr>\n",
       "    <tr>\n",
       "      <th>27</th>\n",
       "      <td>a material history of art</td>\n",
       "      <td>146410726Y</td>\n",
       "    </tr>\n",
       "    <tr>\n",
       "      <th>256</th>\n",
       "      <td>art and thought in the dutch republic</td>\n",
       "      <td>151621086Y</td>\n",
       "    </tr>\n",
       "    <tr>\n",
       "      <th>2072</th>\n",
       "      <td>modern art globally oriented ii</td>\n",
       "      <td>109221276Y</td>\n",
       "    </tr>\n",
       "    <tr>\n",
       "      <th>145</th>\n",
       "      <td>aesthetics of decolonization modern art and</td>\n",
       "      <td>114221496Y</td>\n",
       "    </tr>\n",
       "  </tbody>\n",
       "</table>\n",
       "</div>"
      ],
      "text/plain": [
       "                                      course_name course_catalogue_number\n",
       "2990          the art market and culture industry              900341HUMY\n",
       "27                      a material history of art              146410726Y\n",
       "256         art and thought in the dutch republic              151621086Y\n",
       "2072              modern art globally oriented ii              109221276Y\n",
       "145   aesthetics of decolonization modern art and              114221496Y"
      ]
     },
     "execution_count": 26,
     "metadata": {},
     "output_type": "execute_result"
    }
   ],
   "source": [
    "print(tracks[12])\n",
    "recommend_courses(li_course_ids[12], tfidf_embeddings, courses)"
   ]
  },
  {
   "cell_type": "markdown",
   "id": "4c0d70e0-3567-42a7-a2d1-597a2df78c4f",
   "metadata": {},
   "source": [
    "### Alternate Model: SentenceBERT Transformer"
   ]
  },
  {
   "cell_type": "markdown",
   "id": "145d0156-68fc-4193-888d-7e9480f16435",
   "metadata": {},
   "source": [
    "Loading in the SentenceTransformer model."
   ]
  },
  {
   "cell_type": "code",
   "execution_count": 27,
   "id": "1238160c-f744-4e1a-9eb2-c330b26697f2",
   "metadata": {},
   "outputs": [
    {
     "name": "stdout",
     "output_type": "stream",
     "text": [
      "Defaulting to user installation because normal site-packages is not writeable\n",
      "Requirement already satisfied: hf_xet in /home/pluseal/.local/lib/python3.10/site-packages (1.1.2)\n",
      "\n",
      "\u001b[1m[\u001b[0m\u001b[34;49mnotice\u001b[0m\u001b[1;39;49m]\u001b[0m\u001b[39;49m A new release of pip is available: \u001b[0m\u001b[31;49m25.0.1\u001b[0m\u001b[39;49m -> \u001b[0m\u001b[32;49m25.1.1\u001b[0m\n",
      "\u001b[1m[\u001b[0m\u001b[34;49mnotice\u001b[0m\u001b[1;39;49m]\u001b[0m\u001b[39;49m To update, run: \u001b[0m\u001b[32;49mpython3 -m pip install --upgrade pip\u001b[0m\n",
      "Note: you may need to restart the kernel to use updated packages.\n"
     ]
    }
   ],
   "source": [
    "pip install hf_xet"
   ]
  },
  {
   "cell_type": "code",
   "execution_count": 28,
   "id": "3fc1bca0-066e-480d-8f28-9ef57353c1c8",
   "metadata": {},
   "outputs": [],
   "source": [
    "model = SentenceTransformer(\"all-MiniLM-L6-v2\")"
   ]
  },
  {
   "cell_type": "markdown",
   "id": "d877ba3c-2d13-4d75-8e47-365c33f8ea89",
   "metadata": {},
   "source": [
    "encoding the combined_text column into the model and checkin it shape"
   ]
  },
  {
   "cell_type": "code",
   "execution_count": 29,
   "id": "12c50ee5-7720-41ab-9590-8b0008f44d0f",
   "metadata": {},
   "outputs": [
    {
     "name": "stdout",
     "output_type": "stream",
     "text": [
      "(3345, 384)\n"
     ]
    }
   ],
   "source": [
    "sentbert_embeddings = model.encode(courses['combined_text'])\n",
    "print(sentbert_embeddings.shape)"
   ]
  },
  {
   "cell_type": "markdown",
   "id": "11a1e711-5d37-4cae-b39d-3ffcf07e0b14",
   "metadata": {},
   "source": [
    "Sources for this part of the code:\n",
    "* https://sbert.net/docs/quickstart.html#sentence-transformer\n",
    "* https://peaceful0907.medium.com/sentence-embedding-by-bert-and-sentence-similarity-759f7beccbf1"
   ]
  },
  {
   "cell_type": "markdown",
   "id": "79842d7b-7966-4c4f-87a1-225485d64377",
   "metadata": {},
   "source": [
    "### Testing"
   ]
  },
  {
   "cell_type": "markdown",
   "id": "15b89b9a-f012-48b7-8d43-1cde934bf319",
   "metadata": {},
   "source": [
    "Using the recommender function on the test dataset to test it's preformance:"
   ]
  },
  {
   "cell_type": "code",
   "execution_count": 30,
   "id": "b147b816-5643-4599-9baf-f393eb87ccc3",
   "metadata": {
    "scrolled": true
   },
   "outputs": [
    {
     "name": "stdout",
     "output_type": "stream",
     "text": [
      "SCIENCE\n",
      "\n",
      "math/information\n",
      "\n"
     ]
    },
    {
     "data": {
      "text/html": [
       "<div>\n",
       "<style scoped>\n",
       "    .dataframe tbody tr th:only-of-type {\n",
       "        vertical-align: middle;\n",
       "    }\n",
       "\n",
       "    .dataframe tbody tr th {\n",
       "        vertical-align: top;\n",
       "    }\n",
       "\n",
       "    .dataframe thead th {\n",
       "        text-align: right;\n",
       "    }\n",
       "</style>\n",
       "<table border=\"1\" class=\"dataframe\">\n",
       "  <thead>\n",
       "    <tr style=\"text-align: right;\">\n",
       "      <th></th>\n",
       "      <th>course_name</th>\n",
       "      <th>course_catalogue_number</th>\n",
       "    </tr>\n",
       "  </thead>\n",
       "  <tbody>\n",
       "    <tr>\n",
       "      <th>2452</th>\n",
       "      <td>programming in psychological science</td>\n",
       "      <td>7205RM39XY</td>\n",
       "    </tr>\n",
       "    <tr>\n",
       "      <th>775</th>\n",
       "      <td>current topics psychology and ai</td>\n",
       "      <td>7203BM45XY</td>\n",
       "    </tr>\n",
       "    <tr>\n",
       "      <th>118</th>\n",
       "      <td>advanced research methods and statistics</td>\n",
       "      <td>900323ACCY</td>\n",
       "    </tr>\n",
       "    <tr>\n",
       "      <th>2542</th>\n",
       "      <td>rationality cognition and reasoning</td>\n",
       "      <td>187413086Y</td>\n",
       "    </tr>\n",
       "    <tr>\n",
       "      <th>1553</th>\n",
       "      <td>introduction to digital methods  programming</td>\n",
       "      <td>113221416Y</td>\n",
       "    </tr>\n",
       "  </tbody>\n",
       "</table>\n",
       "</div>"
      ],
      "text/plain": [
       "                                       course_name course_catalogue_number\n",
       "2452          programming in psychological science              7205RM39XY\n",
       "775               current topics psychology and ai              7203BM45XY\n",
       "118       advanced research methods and statistics              900323ACCY\n",
       "2542           rationality cognition and reasoning              187413086Y\n",
       "1553  introduction to digital methods  programming              113221416Y"
      ]
     },
     "execution_count": 30,
     "metadata": {},
     "output_type": "execute_result"
    }
   ],
   "source": [
    "print(majors[0])\n",
    "print(tracks[0])\n",
    "recommend_courses(li_course_ids[0], sentbert_embeddings, courses)"
   ]
  },
  {
   "cell_type": "code",
   "execution_count": 31,
   "id": "a440d2c0-56d3-4817-a484-20e0733c1508",
   "metadata": {},
   "outputs": [
    {
     "name": "stdout",
     "output_type": "stream",
     "text": [
      "biomed\n",
      "\n"
     ]
    },
    {
     "data": {
      "text/html": [
       "<div>\n",
       "<style scoped>\n",
       "    .dataframe tbody tr th:only-of-type {\n",
       "        vertical-align: middle;\n",
       "    }\n",
       "\n",
       "    .dataframe tbody tr th {\n",
       "        vertical-align: top;\n",
       "    }\n",
       "\n",
       "    .dataframe thead th {\n",
       "        text-align: right;\n",
       "    }\n",
       "</style>\n",
       "<table border=\"1\" class=\"dataframe\">\n",
       "  <thead>\n",
       "    <tr style=\"text-align: right;\">\n",
       "      <th></th>\n",
       "      <th>course_name</th>\n",
       "      <th>course_catalogue_number</th>\n",
       "    </tr>\n",
       "  </thead>\n",
       "  <tbody>\n",
       "    <tr>\n",
       "      <th>394</th>\n",
       "      <td>biomedical systems biology</td>\n",
       "      <td>5234BISB6Y</td>\n",
       "    </tr>\n",
       "    <tr>\n",
       "      <th>2161</th>\n",
       "      <td>neurosystems</td>\n",
       "      <td>5052NEU12Y</td>\n",
       "    </tr>\n",
       "    <tr>\n",
       "      <th>1561</th>\n",
       "      <td>introduction to health and wellbeing</td>\n",
       "      <td>900106SCIY</td>\n",
       "    </tr>\n",
       "    <tr>\n",
       "      <th>2160</th>\n",
       "      <td>neuroscience from cell to behaviour</td>\n",
       "      <td>5244NCTB5Y</td>\n",
       "    </tr>\n",
       "    <tr>\n",
       "      <th>1369</th>\n",
       "      <td>hormones and homeostasis</td>\n",
       "      <td>900262SCIY</td>\n",
       "    </tr>\n",
       "  </tbody>\n",
       "</table>\n",
       "</div>"
      ],
      "text/plain": [
       "                               course_name course_catalogue_number\n",
       "394             biomedical systems biology              5234BISB6Y\n",
       "2161                          neurosystems              5052NEU12Y\n",
       "1561  introduction to health and wellbeing              900106SCIY\n",
       "2160   neuroscience from cell to behaviour              5244NCTB5Y\n",
       "1369              hormones and homeostasis              900262SCIY"
      ]
     },
     "execution_count": 31,
     "metadata": {},
     "output_type": "execute_result"
    }
   ],
   "source": [
    "print(tracks[1])\n",
    "recommend_courses(li_course_ids[1], sentbert_embeddings, courses)"
   ]
  },
  {
   "cell_type": "code",
   "execution_count": 32,
   "id": "6ca67234-a2d0-4d7e-ad09-c8a39d6d807a",
   "metadata": {},
   "outputs": [
    {
     "name": "stdout",
     "output_type": "stream",
     "text": [
      "physics\n",
      "\n"
     ]
    },
    {
     "data": {
      "text/html": [
       "<div>\n",
       "<style scoped>\n",
       "    .dataframe tbody tr th:only-of-type {\n",
       "        vertical-align: middle;\n",
       "    }\n",
       "\n",
       "    .dataframe tbody tr th {\n",
       "        vertical-align: top;\n",
       "    }\n",
       "\n",
       "    .dataframe thead th {\n",
       "        text-align: right;\n",
       "    }\n",
       "</style>\n",
       "<table border=\"1\" class=\"dataframe\">\n",
       "  <thead>\n",
       "    <tr style=\"text-align: right;\">\n",
       "      <th></th>\n",
       "      <th>course_name</th>\n",
       "      <th>course_catalogue_number</th>\n",
       "    </tr>\n",
       "  </thead>\n",
       "  <tbody>\n",
       "    <tr>\n",
       "      <th>594</th>\n",
       "      <td>condensed matter theory 1</td>\n",
       "      <td>53541CMT3Y</td>\n",
       "    </tr>\n",
       "    <tr>\n",
       "      <th>1991</th>\n",
       "      <td>mathematics of physics</td>\n",
       "      <td>900334SCIY</td>\n",
       "    </tr>\n",
       "    <tr>\n",
       "      <th>2178</th>\n",
       "      <td>numerical mathematics</td>\n",
       "      <td>900228SCIY</td>\n",
       "    </tr>\n",
       "    <tr>\n",
       "      <th>893</th>\n",
       "      <td>discrete mathematics and algebra</td>\n",
       "      <td>900397SCIY</td>\n",
       "    </tr>\n",
       "    <tr>\n",
       "      <th>72</th>\n",
       "      <td>advanced computational condensed matter</td>\n",
       "      <td>5354ACCM3Y</td>\n",
       "    </tr>\n",
       "  </tbody>\n",
       "</table>\n",
       "</div>"
      ],
      "text/plain": [
       "                                  course_name course_catalogue_number\n",
       "594                 condensed matter theory 1              53541CMT3Y\n",
       "1991                   mathematics of physics              900334SCIY\n",
       "2178                    numerical mathematics              900228SCIY\n",
       "893          discrete mathematics and algebra              900397SCIY\n",
       "72    advanced computational condensed matter              5354ACCM3Y"
      ]
     },
     "execution_count": 32,
     "metadata": {},
     "output_type": "execute_result"
    }
   ],
   "source": [
    "print(tracks[2])\n",
    "recommend_courses(li_course_ids[2], sentbert_embeddings, courses)"
   ]
  },
  {
   "cell_type": "code",
   "execution_count": 33,
   "id": "af37cba0-0d9d-4f01-95ab-7fec095426d6",
   "metadata": {},
   "outputs": [
    {
     "name": "stdout",
     "output_type": "stream",
     "text": [
      "bio/environment\n",
      "\n"
     ]
    },
    {
     "data": {
      "text/html": [
       "<div>\n",
       "<style scoped>\n",
       "    .dataframe tbody tr th:only-of-type {\n",
       "        vertical-align: middle;\n",
       "    }\n",
       "\n",
       "    .dataframe tbody tr th {\n",
       "        vertical-align: top;\n",
       "    }\n",
       "\n",
       "    .dataframe thead th {\n",
       "        text-align: right;\n",
       "    }\n",
       "</style>\n",
       "<table border=\"1\" class=\"dataframe\">\n",
       "  <thead>\n",
       "    <tr style=\"text-align: right;\">\n",
       "      <th></th>\n",
       "      <th>course_name</th>\n",
       "      <th>course_catalogue_number</th>\n",
       "    </tr>\n",
       "  </thead>\n",
       "  <tbody>\n",
       "    <tr>\n",
       "      <th>1555</th>\n",
       "      <td>introduction to environmental sciences</td>\n",
       "      <td>900181SCIY</td>\n",
       "    </tr>\n",
       "    <tr>\n",
       "      <th>2960</th>\n",
       "      <td>system earth</td>\n",
       "      <td>900283SCIY</td>\n",
       "    </tr>\n",
       "    <tr>\n",
       "      <th>766</th>\n",
       "      <td>current topics in biology</td>\n",
       "      <td>5224CTIB6Y</td>\n",
       "    </tr>\n",
       "    <tr>\n",
       "      <th>1554</th>\n",
       "      <td>introduction to environmental humanities</td>\n",
       "      <td>129221066Y</td>\n",
       "    </tr>\n",
       "    <tr>\n",
       "      <th>1378</th>\n",
       "      <td>human environment interactions</td>\n",
       "      <td>5264HUEI6Y</td>\n",
       "    </tr>\n",
       "  </tbody>\n",
       "</table>\n",
       "</div>"
      ],
      "text/plain": [
       "                                   course_name course_catalogue_number\n",
       "1555    introduction to environmental sciences              900181SCIY\n",
       "2960                              system earth              900283SCIY\n",
       "766                  current topics in biology              5224CTIB6Y\n",
       "1554  introduction to environmental humanities              129221066Y\n",
       "1378            human environment interactions              5264HUEI6Y"
      ]
     },
     "execution_count": 33,
     "metadata": {},
     "output_type": "execute_result"
    }
   ],
   "source": [
    "print(tracks[3])\n",
    "recommend_courses(li_course_ids[3], sentbert_embeddings, courses)"
   ]
  },
  {
   "cell_type": "code",
   "execution_count": 34,
   "id": "30a465eb-cb03-4f50-b0bb-56551e4b421f",
   "metadata": {},
   "outputs": [
    {
     "name": "stdout",
     "output_type": "stream",
     "text": [
      "information/neuro\n",
      "\n"
     ]
    },
    {
     "data": {
      "text/html": [
       "<div>\n",
       "<style scoped>\n",
       "    .dataframe tbody tr th:only-of-type {\n",
       "        vertical-align: middle;\n",
       "    }\n",
       "\n",
       "    .dataframe tbody tr th {\n",
       "        vertical-align: top;\n",
       "    }\n",
       "\n",
       "    .dataframe thead th {\n",
       "        text-align: right;\n",
       "    }\n",
       "</style>\n",
       "<table border=\"1\" class=\"dataframe\">\n",
       "  <thead>\n",
       "    <tr style=\"text-align: right;\">\n",
       "      <th></th>\n",
       "      <th>course_name</th>\n",
       "      <th>course_catalogue_number</th>\n",
       "    </tr>\n",
       "  </thead>\n",
       "  <tbody>\n",
       "    <tr>\n",
       "      <th>540</th>\n",
       "      <td>cognitive neurobiology</td>\n",
       "      <td>5052CONE6Y</td>\n",
       "    </tr>\n",
       "    <tr>\n",
       "      <th>2161</th>\n",
       "      <td>neurosystems</td>\n",
       "      <td>5052NEU12Y</td>\n",
       "    </tr>\n",
       "    <tr>\n",
       "      <th>1240</th>\n",
       "      <td>fundamentals of neuroscience</td>\n",
       "      <td>5053FUN12Y</td>\n",
       "    </tr>\n",
       "    <tr>\n",
       "      <th>261</th>\n",
       "      <td>artificial cognition pattern recognition</td>\n",
       "      <td>900102SSCY</td>\n",
       "    </tr>\n",
       "    <tr>\n",
       "      <th>1107</th>\n",
       "      <td>experimental neurobiology</td>\n",
       "      <td>5244EXNE5Y</td>\n",
       "    </tr>\n",
       "  </tbody>\n",
       "</table>\n",
       "</div>"
      ],
      "text/plain": [
       "                                   course_name course_catalogue_number\n",
       "540                     cognitive neurobiology              5052CONE6Y\n",
       "2161                              neurosystems              5052NEU12Y\n",
       "1240              fundamentals of neuroscience              5053FUN12Y\n",
       "261   artificial cognition pattern recognition              900102SSCY\n",
       "1107                 experimental neurobiology              5244EXNE5Y"
      ]
     },
     "execution_count": 34,
     "metadata": {},
     "output_type": "execute_result"
    }
   ],
   "source": [
    "print(tracks[4])\n",
    "recommend_courses(li_course_ids[4], sentbert_embeddings, courses)"
   ]
  },
  {
   "cell_type": "code",
   "execution_count": 35,
   "id": "dee7ef28-a418-4dd3-b592-a12c52bc12b4",
   "metadata": {},
   "outputs": [
    {
     "name": "stdout",
     "output_type": "stream",
     "text": [
      "SOCIAL SCIENCE\n",
      "\n",
      "economics\n",
      "\n"
     ]
    },
    {
     "data": {
      "text/html": [
       "<div>\n",
       "<style scoped>\n",
       "    .dataframe tbody tr th:only-of-type {\n",
       "        vertical-align: middle;\n",
       "    }\n",
       "\n",
       "    .dataframe tbody tr th {\n",
       "        vertical-align: top;\n",
       "    }\n",
       "\n",
       "    .dataframe thead th {\n",
       "        text-align: right;\n",
       "    }\n",
       "</style>\n",
       "<table border=\"1\" class=\"dataframe\">\n",
       "  <thead>\n",
       "    <tr style=\"text-align: right;\">\n",
       "      <th></th>\n",
       "      <th>course_name</th>\n",
       "      <th>course_catalogue_number</th>\n",
       "    </tr>\n",
       "  </thead>\n",
       "  <tbody>\n",
       "    <tr>\n",
       "      <th>512</th>\n",
       "      <td>climate and environmental conflicts in the</td>\n",
       "      <td>73230268LY</td>\n",
       "    </tr>\n",
       "    <tr>\n",
       "      <th>1378</th>\n",
       "      <td>human environment interactions</td>\n",
       "      <td>5264HUEI6Y</td>\n",
       "    </tr>\n",
       "    <tr>\n",
       "      <th>2959</th>\n",
       "      <td>system change how to navigate complex societal</td>\n",
       "      <td>3803SYNSKY</td>\n",
       "    </tr>\n",
       "    <tr>\n",
       "      <th>516</th>\n",
       "      <td>climate change economics</td>\n",
       "      <td>6414M0504Y</td>\n",
       "    </tr>\n",
       "    <tr>\n",
       "      <th>1000</th>\n",
       "      <td>environment  international sustainable develop...</td>\n",
       "      <td>73433E509Y</td>\n",
       "    </tr>\n",
       "  </tbody>\n",
       "</table>\n",
       "</div>"
      ],
      "text/plain": [
       "                                            course_name  \\\n",
       "512          climate and environmental conflicts in the   \n",
       "1378                     human environment interactions   \n",
       "2959     system change how to navigate complex societal   \n",
       "516                            climate change economics   \n",
       "1000  environment  international sustainable develop...   \n",
       "\n",
       "     course_catalogue_number  \n",
       "512               73230268LY  \n",
       "1378              5264HUEI6Y  \n",
       "2959              3803SYNSKY  \n",
       "516               6414M0504Y  \n",
       "1000              73433E509Y  "
      ]
     },
     "execution_count": 35,
     "metadata": {},
     "output_type": "execute_result"
    }
   ],
   "source": [
    "print(majors[1])\n",
    "print(tracks[5])\n",
    "recommend_courses(li_course_ids[5], sentbert_embeddings, courses)"
   ]
  },
  {
   "cell_type": "code",
   "execution_count": 36,
   "id": "267d689b-00f3-4845-a0b8-e8a452b8bde0",
   "metadata": {},
   "outputs": [
    {
     "name": "stdout",
     "output_type": "stream",
     "text": [
      "law, ir\n",
      "\n"
     ]
    },
    {
     "data": {
      "text/html": [
       "<div>\n",
       "<style scoped>\n",
       "    .dataframe tbody tr th:only-of-type {\n",
       "        vertical-align: middle;\n",
       "    }\n",
       "\n",
       "    .dataframe tbody tr th {\n",
       "        vertical-align: top;\n",
       "    }\n",
       "\n",
       "    .dataframe thead th {\n",
       "        text-align: right;\n",
       "    }\n",
       "</style>\n",
       "<table border=\"1\" class=\"dataframe\">\n",
       "  <thead>\n",
       "    <tr style=\"text-align: right;\">\n",
       "      <th></th>\n",
       "      <th>course_name</th>\n",
       "      <th>course_catalogue_number</th>\n",
       "    </tr>\n",
       "  </thead>\n",
       "  <tbody>\n",
       "    <tr>\n",
       "      <th>2489</th>\n",
       "      <td>public international law</td>\n",
       "      <td>3802PUQPVY</td>\n",
       "    </tr>\n",
       "    <tr>\n",
       "      <th>2410</th>\n",
       "      <td>principles and foundations of international law</td>\n",
       "      <td>3554PRFIVY</td>\n",
       "    </tr>\n",
       "    <tr>\n",
       "      <th>1472</th>\n",
       "      <td>international law and contemporary challenges</td>\n",
       "      <td>3554ILCCVY</td>\n",
       "    </tr>\n",
       "    <tr>\n",
       "      <th>2357</th>\n",
       "      <td>politics and practices of international law</td>\n",
       "      <td>7324F101IY</td>\n",
       "    </tr>\n",
       "    <tr>\n",
       "      <th>3057</th>\n",
       "      <td>the politics of international law</td>\n",
       "      <td>7324P261ZY</td>\n",
       "    </tr>\n",
       "  </tbody>\n",
       "</table>\n",
       "</div>"
      ],
      "text/plain": [
       "                                          course_name course_catalogue_number\n",
       "2489                         public international law              3802PUQPVY\n",
       "2410  principles and foundations of international law              3554PRFIVY\n",
       "1472    international law and contemporary challenges              3554ILCCVY\n",
       "2357      politics and practices of international law              7324F101IY\n",
       "3057                the politics of international law              7324P261ZY"
      ]
     },
     "execution_count": 36,
     "metadata": {},
     "output_type": "execute_result"
    }
   ],
   "source": [
    "print(tracks[6])\n",
    "recommend_courses(li_course_ids[6], sentbert_embeddings, courses)"
   ]
  },
  {
   "cell_type": "code",
   "execution_count": 37,
   "id": "1f34b2e4-97c0-4404-ad0d-bc7e23b55988",
   "metadata": {},
   "outputs": [
    {
     "name": "stdout",
     "output_type": "stream",
     "text": [
      "psychology/economics\n",
      "\n"
     ]
    },
    {
     "data": {
      "text/html": [
       "<div>\n",
       "<style scoped>\n",
       "    .dataframe tbody tr th:only-of-type {\n",
       "        vertical-align: middle;\n",
       "    }\n",
       "\n",
       "    .dataframe tbody tr th {\n",
       "        vertical-align: top;\n",
       "    }\n",
       "\n",
       "    .dataframe thead th {\n",
       "        text-align: right;\n",
       "    }\n",
       "</style>\n",
       "<table border=\"1\" class=\"dataframe\">\n",
       "  <thead>\n",
       "    <tr style=\"text-align: right;\">\n",
       "      <th></th>\n",
       "      <th>course_name</th>\n",
       "      <th>course_catalogue_number</th>\n",
       "    </tr>\n",
       "  </thead>\n",
       "  <tbody>\n",
       "    <tr>\n",
       "      <th>2110</th>\n",
       "      <td>motivation and cognition</td>\n",
       "      <td>3802MOQPVY</td>\n",
       "    </tr>\n",
       "    <tr>\n",
       "      <th>775</th>\n",
       "      <td>current topics psychology and ai</td>\n",
       "      <td>7203BM45XY</td>\n",
       "    </tr>\n",
       "    <tr>\n",
       "      <th>1241</th>\n",
       "      <td>fundamentals of psychology</td>\n",
       "      <td>3802FUQPVY</td>\n",
       "    </tr>\n",
       "    <tr>\n",
       "      <th>21</th>\n",
       "      <td>a critical look on psychologys past and future</td>\n",
       "      <td>3803CLPFVY</td>\n",
       "    </tr>\n",
       "    <tr>\n",
       "      <th>2477</th>\n",
       "      <td>psychological toolkit understanding social</td>\n",
       "      <td>7201721PXY</td>\n",
       "    </tr>\n",
       "  </tbody>\n",
       "</table>\n",
       "</div>"
      ],
      "text/plain": [
       "                                         course_name course_catalogue_number\n",
       "2110                        motivation and cognition              3802MOQPVY\n",
       "775                 current topics psychology and ai              7203BM45XY\n",
       "1241                      fundamentals of psychology              3802FUQPVY\n",
       "21    a critical look on psychologys past and future              3803CLPFVY\n",
       "2477      psychological toolkit understanding social              7201721PXY"
      ]
     },
     "execution_count": 37,
     "metadata": {},
     "output_type": "execute_result"
    }
   ],
   "source": [
    "print(tracks[7])\n",
    "recommend_courses(li_course_ids[7], sentbert_embeddings, courses)"
   ]
  },
  {
   "cell_type": "code",
   "execution_count": 38,
   "id": "4b4f3ea8-6012-4d65-bd27-7d516ab8dbdf",
   "metadata": {},
   "outputs": [
    {
     "name": "stdout",
     "output_type": "stream",
     "text": [
      "political science/law\n",
      "\n"
     ]
    },
    {
     "data": {
      "text/html": [
       "<div>\n",
       "<style scoped>\n",
       "    .dataframe tbody tr th:only-of-type {\n",
       "        vertical-align: middle;\n",
       "    }\n",
       "\n",
       "    .dataframe tbody tr th {\n",
       "        vertical-align: top;\n",
       "    }\n",
       "\n",
       "    .dataframe thead th {\n",
       "        text-align: right;\n",
       "    }\n",
       "</style>\n",
       "<table border=\"1\" class=\"dataframe\">\n",
       "  <thead>\n",
       "    <tr style=\"text-align: right;\">\n",
       "      <th></th>\n",
       "      <th>course_name</th>\n",
       "      <th>course_catalogue_number</th>\n",
       "    </tr>\n",
       "  </thead>\n",
       "  <tbody>\n",
       "    <tr>\n",
       "      <th>1685</th>\n",
       "      <td>legal and social philosophy</td>\n",
       "      <td>900356SSCY</td>\n",
       "    </tr>\n",
       "    <tr>\n",
       "      <th>1201</th>\n",
       "      <td>freedom dreams social justice and struggles for</td>\n",
       "      <td>113221576Y</td>\n",
       "    </tr>\n",
       "    <tr>\n",
       "      <th>1361</th>\n",
       "      <td>history of political thought</td>\n",
       "      <td>73210026FY</td>\n",
       "    </tr>\n",
       "    <tr>\n",
       "      <th>2489</th>\n",
       "      <td>public international law</td>\n",
       "      <td>3802PUQPVY</td>\n",
       "    </tr>\n",
       "    <tr>\n",
       "      <th>1584</th>\n",
       "      <td>introduction to political science</td>\n",
       "      <td>7321E020FY</td>\n",
       "    </tr>\n",
       "  </tbody>\n",
       "</table>\n",
       "</div>"
      ],
      "text/plain": [
       "                                          course_name course_catalogue_number\n",
       "1685                      legal and social philosophy              900356SSCY\n",
       "1201  freedom dreams social justice and struggles for              113221576Y\n",
       "1361                     history of political thought              73210026FY\n",
       "2489                         public international law              3802PUQPVY\n",
       "1584                introduction to political science              7321E020FY"
      ]
     },
     "execution_count": 38,
     "metadata": {},
     "output_type": "execute_result"
    }
   ],
   "source": [
    "print(tracks[8])\n",
    "recommend_courses(li_course_ids[8], sentbert_embeddings, courses)"
   ]
  },
  {
   "cell_type": "code",
   "execution_count": 39,
   "id": "b396fcee-1ea5-41cb-a6bf-9a489a7181e9",
   "metadata": {},
   "outputs": [
    {
     "name": "stdout",
     "output_type": "stream",
     "text": [
      "HUMANITIES\n",
      "\n",
      "history/philosophy\n",
      "\n"
     ]
    },
    {
     "data": {
      "text/html": [
       "<div>\n",
       "<style scoped>\n",
       "    .dataframe tbody tr th:only-of-type {\n",
       "        vertical-align: middle;\n",
       "    }\n",
       "\n",
       "    .dataframe tbody tr th {\n",
       "        vertical-align: top;\n",
       "    }\n",
       "\n",
       "    .dataframe thead th {\n",
       "        text-align: right;\n",
       "    }\n",
       "</style>\n",
       "<table border=\"1\" class=\"dataframe\">\n",
       "  <thead>\n",
       "    <tr style=\"text-align: right;\">\n",
       "      <th></th>\n",
       "      <th>course_name</th>\n",
       "      <th>course_catalogue_number</th>\n",
       "    </tr>\n",
       "  </thead>\n",
       "  <tbody>\n",
       "    <tr>\n",
       "      <th>706</th>\n",
       "      <td>creating objects defining methods philosophy</td>\n",
       "      <td>189421036Y</td>\n",
       "    </tr>\n",
       "    <tr>\n",
       "      <th>1355</th>\n",
       "      <td>history and philosophy of the humanities</td>\n",
       "      <td>187421516Y</td>\n",
       "    </tr>\n",
       "    <tr>\n",
       "      <th>2285</th>\n",
       "      <td>philosophy of the humanities lca and english</td>\n",
       "      <td>109221056Y</td>\n",
       "    </tr>\n",
       "    <tr>\n",
       "      <th>2272</th>\n",
       "      <td>philosophy of science</td>\n",
       "      <td>900274HUMY</td>\n",
       "    </tr>\n",
       "    <tr>\n",
       "      <th>259</th>\n",
       "      <td>art science and technology</td>\n",
       "      <td>129216826Y</td>\n",
       "    </tr>\n",
       "  </tbody>\n",
       "</table>\n",
       "</div>"
      ],
      "text/plain": [
       "                                       course_name course_catalogue_number\n",
       "706   creating objects defining methods philosophy              189421036Y\n",
       "1355      history and philosophy of the humanities              187421516Y\n",
       "2285  philosophy of the humanities lca and english              109221056Y\n",
       "2272                         philosophy of science              900274HUMY\n",
       "259                     art science and technology              129216826Y"
      ]
     },
     "execution_count": 39,
     "metadata": {},
     "output_type": "execute_result"
    }
   ],
   "source": [
    "print(majors[2])\n",
    "print(tracks[9])\n",
    "recommend_courses(li_course_ids[9], sentbert_embeddings, courses)"
   ]
  },
  {
   "cell_type": "code",
   "execution_count": 40,
   "id": "df950569-b984-4110-9004-63eeffe9355d",
   "metadata": {},
   "outputs": [
    {
     "name": "stdout",
     "output_type": "stream",
     "text": [
      "cultural analysis\n",
      "\n"
     ]
    },
    {
     "data": {
      "text/html": [
       "<div>\n",
       "<style scoped>\n",
       "    .dataframe tbody tr th:only-of-type {\n",
       "        vertical-align: middle;\n",
       "    }\n",
       "\n",
       "    .dataframe tbody tr th {\n",
       "        vertical-align: top;\n",
       "    }\n",
       "\n",
       "    .dataframe thead th {\n",
       "        text-align: right;\n",
       "    }\n",
       "</style>\n",
       "<table border=\"1\" class=\"dataframe\">\n",
       "  <thead>\n",
       "    <tr style=\"text-align: right;\">\n",
       "      <th></th>\n",
       "      <th>course_name</th>\n",
       "      <th>course_catalogue_number</th>\n",
       "    </tr>\n",
       "  </thead>\n",
       "  <tbody>\n",
       "    <tr>\n",
       "      <th>3239</th>\n",
       "      <td>twentiethcentury theory and its afterlives</td>\n",
       "      <td>129221116Y</td>\n",
       "    </tr>\n",
       "    <tr>\n",
       "      <th>1569</th>\n",
       "      <td>introduction to literary and cultural analysis</td>\n",
       "      <td>129111072Y</td>\n",
       "    </tr>\n",
       "    <tr>\n",
       "      <th>591</th>\n",
       "      <td>concepts for reading contemporary cultures</td>\n",
       "      <td>129121042Y</td>\n",
       "    </tr>\n",
       "    <tr>\n",
       "      <th>259</th>\n",
       "      <td>art science and technology</td>\n",
       "      <td>129216826Y</td>\n",
       "    </tr>\n",
       "    <tr>\n",
       "      <th>2285</th>\n",
       "      <td>philosophy of the humanities lca and english</td>\n",
       "      <td>109221056Y</td>\n",
       "    </tr>\n",
       "  </tbody>\n",
       "</table>\n",
       "</div>"
      ],
      "text/plain": [
       "                                         course_name course_catalogue_number\n",
       "3239      twentiethcentury theory and its afterlives              129221116Y\n",
       "1569  introduction to literary and cultural analysis              129111072Y\n",
       "591       concepts for reading contemporary cultures              129121042Y\n",
       "259                       art science and technology              129216826Y\n",
       "2285    philosophy of the humanities lca and english              109221056Y"
      ]
     },
     "execution_count": 40,
     "metadata": {},
     "output_type": "execute_result"
    }
   ],
   "source": [
    "print(tracks[10])\n",
    "recommend_courses(li_course_ids[10], sentbert_embeddings, courses)"
   ]
  },
  {
   "cell_type": "code",
   "execution_count": 41,
   "id": "86c0c4be-ba3b-42c5-a1a8-48866bc86d04",
   "metadata": {},
   "outputs": [
    {
     "name": "stdout",
     "output_type": "stream",
     "text": [
      "media/film\n",
      "\n"
     ]
    },
    {
     "data": {
      "text/html": [
       "<div>\n",
       "<style scoped>\n",
       "    .dataframe tbody tr th:only-of-type {\n",
       "        vertical-align: middle;\n",
       "    }\n",
       "\n",
       "    .dataframe tbody tr th {\n",
       "        vertical-align: top;\n",
       "    }\n",
       "\n",
       "    .dataframe thead th {\n",
       "        text-align: right;\n",
       "    }\n",
       "</style>\n",
       "<table border=\"1\" class=\"dataframe\">\n",
       "  <thead>\n",
       "    <tr style=\"text-align: right;\">\n",
       "      <th></th>\n",
       "      <th>course_name</th>\n",
       "      <th>course_catalogue_number</th>\n",
       "    </tr>\n",
       "  </thead>\n",
       "  <tbody>\n",
       "    <tr>\n",
       "      <th>1146</th>\n",
       "      <td>film theories</td>\n",
       "      <td>159421036Y</td>\n",
       "    </tr>\n",
       "    <tr>\n",
       "      <th>1138</th>\n",
       "      <td>film analysis</td>\n",
       "      <td>119221012Y</td>\n",
       "    </tr>\n",
       "    <tr>\n",
       "      <th>491</th>\n",
       "      <td>cinema histories and cultures</td>\n",
       "      <td>159410226Y</td>\n",
       "    </tr>\n",
       "    <tr>\n",
       "      <th>132</th>\n",
       "      <td>advanced topics in media and culture film</td>\n",
       "      <td>119221062Y</td>\n",
       "    </tr>\n",
       "    <tr>\n",
       "      <th>259</th>\n",
       "      <td>art science and technology</td>\n",
       "      <td>129216826Y</td>\n",
       "    </tr>\n",
       "  </tbody>\n",
       "</table>\n",
       "</div>"
      ],
      "text/plain": [
       "                                    course_name course_catalogue_number\n",
       "1146                              film theories              159421036Y\n",
       "1138                              film analysis              119221012Y\n",
       "491               cinema histories and cultures              159410226Y\n",
       "132   advanced topics in media and culture film              119221062Y\n",
       "259                  art science and technology              129216826Y"
      ]
     },
     "execution_count": 41,
     "metadata": {},
     "output_type": "execute_result"
    }
   ],
   "source": [
    "print(tracks[11])\n",
    "recommend_courses(li_course_ids[11], sentbert_embeddings, courses)"
   ]
  },
  {
   "cell_type": "code",
   "execution_count": 42,
   "id": "4fa82eaa-9a1b-43c7-81df-9793808aea6a",
   "metadata": {},
   "outputs": [
    {
     "name": "stdout",
     "output_type": "stream",
     "text": [
      "art history/history\n",
      "\n"
     ]
    },
    {
     "data": {
      "text/html": [
       "<div>\n",
       "<style scoped>\n",
       "    .dataframe tbody tr th:only-of-type {\n",
       "        vertical-align: middle;\n",
       "    }\n",
       "\n",
       "    .dataframe tbody tr th {\n",
       "        vertical-align: top;\n",
       "    }\n",
       "\n",
       "    .dataframe thead th {\n",
       "        text-align: right;\n",
       "    }\n",
       "</style>\n",
       "<table border=\"1\" class=\"dataframe\">\n",
       "  <thead>\n",
       "    <tr style=\"text-align: right;\">\n",
       "      <th></th>\n",
       "      <th>course_name</th>\n",
       "      <th>course_catalogue_number</th>\n",
       "    </tr>\n",
       "  </thead>\n",
       "  <tbody>\n",
       "    <tr>\n",
       "      <th>2990</th>\n",
       "      <td>the art market and culture industry</td>\n",
       "      <td>900341HUMY</td>\n",
       "    </tr>\n",
       "    <tr>\n",
       "      <th>2072</th>\n",
       "      <td>modern art globally oriented ii</td>\n",
       "      <td>109221276Y</td>\n",
       "    </tr>\n",
       "    <tr>\n",
       "      <th>259</th>\n",
       "      <td>art science and technology</td>\n",
       "      <td>129216826Y</td>\n",
       "    </tr>\n",
       "    <tr>\n",
       "      <th>681</th>\n",
       "      <td>core module 3 contemporary concepts and</td>\n",
       "      <td>150511062Y</td>\n",
       "    </tr>\n",
       "    <tr>\n",
       "      <th>1351</th>\n",
       "      <td>historicism anachronism memory how not to</td>\n",
       "      <td>129121036Y</td>\n",
       "    </tr>\n",
       "  </tbody>\n",
       "</table>\n",
       "</div>"
      ],
      "text/plain": [
       "                                    course_name course_catalogue_number\n",
       "2990        the art market and culture industry              900341HUMY\n",
       "2072            modern art globally oriented ii              109221276Y\n",
       "259                  art science and technology              129216826Y\n",
       "681     core module 3 contemporary concepts and              150511062Y\n",
       "1351  historicism anachronism memory how not to              129121036Y"
      ]
     },
     "execution_count": 42,
     "metadata": {},
     "output_type": "execute_result"
    }
   ],
   "source": [
    "print(tracks[12])\n",
    "recommend_courses(li_course_ids[12], sentbert_embeddings, courses)"
   ]
  },
  {
   "cell_type": "markdown",
   "id": "98dc908f-1794-41da-aa06-ef40682c918a",
   "metadata": {},
   "source": [
    "Sources for this part of the code:\n",
    "* https://www.geeksforgeeks.org/python-convert-a-string-representation-of-list-into-list/"
   ]
  },
  {
   "cell_type": "markdown",
   "id": "11100fac-7618-45f5-b94f-8641e34f81d8",
   "metadata": {},
   "source": [
    "## Evaluation"
   ]
  },
  {
   "cell_type": "markdown",
   "id": "5961686d-6df6-4ac7-9edb-e32a3af81e24",
   "metadata": {},
   "source": [
    "**Normalised Discounted Cumulative Gain Metric**\n",
    "\n",
    "Takes as an input the relevance score obtained manually, and computes the NDCG score. "
   ]
  },
  {
   "cell_type": "code",
   "execution_count": 43,
   "id": "82780fbe-6321-43a2-b018-6a3f6d9f6705",
   "metadata": {},
   "outputs": [],
   "source": [
    "#the relevance order in which the program recommends the courses\n",
    "from sklearn.metrics import ndcg_score\n",
    "y_score = np.array([[5,4,3,2,1]])\n",
    "\n",
    "def compute_ndcg(ground_truth):\n",
    "    y_true = np.array([ground_truth])\n",
    "    return ndcg_score(y_true, y_score)"
   ]
  },
  {
   "cell_type": "markdown",
   "id": "db60b960-8650-4673-bcd0-b30926bf822a",
   "metadata": {},
   "source": [
    "Comparing the hierarchical accuracies between the models:"
   ]
  },
  {
   "cell_type": "code",
   "execution_count": 44,
   "id": "421fe0da-c509-4b1f-b2a3-8c1ede95ffa1",
   "metadata": {},
   "outputs": [
    {
     "name": "stdout",
     "output_type": "stream",
     "text": [
      "SCIENCE\n",
      "\n",
      "math/information\n",
      "\n",
      "Base Model: TF-IDF Vectorizer: 0.509 \n",
      "\n",
      "Alternate Model: SentenceBERT Transformer: 0.595\n"
     ]
    }
   ],
   "source": [
    "print(majors[0])\n",
    "print(tracks[0])\n",
    "print(f\"Base Model: TF-IDF Vectorizer: {compute_ndcg([0,0,1,4,1]):.3f} \\n\\nAlternate Model: SentenceBERT Transformer: {compute_ndcg([1,0,0,0,3]):.3f}\")"
   ]
  },
  {
   "cell_type": "code",
   "execution_count": 45,
   "id": "75edbc36-4101-4117-8b92-8439879ec25a",
   "metadata": {},
   "outputs": [
    {
     "name": "stdout",
     "output_type": "stream",
     "text": [
      "biomed\n",
      "\n",
      "Base Model: TF-IDF Vectorizer: 0.994 \n",
      "\n",
      "Alternate Model: SentenceBERT Transformer: 0.982\n"
     ]
    }
   ],
   "source": [
    "print(tracks[1])\n",
    "print(f\"Base Model: TF-IDF Vectorizer: {compute_ndcg([5,4,3,4,0]):.3f} \\n\\nAlternate Model: SentenceBERT Transformer: {compute_ndcg([5,4,4,4,5]):.3f}\")"
   ]
  },
  {
   "cell_type": "code",
   "execution_count": 46,
   "id": "27fecbd5-54cd-45ad-af1c-96b8b8e526e0",
   "metadata": {},
   "outputs": [
    {
     "name": "stdout",
     "output_type": "stream",
     "text": [
      "physics\n",
      "\n",
      "model 1: 0.991 \n",
      "\n",
      "Alternate Model: SentenceBERT Transformer: 0.968\n"
     ]
    }
   ],
   "source": [
    "print(tracks[2])\n",
    "print(f\"model 1: {compute_ndcg([5,4,3,0,2]):.3f} \\n\\nAlternate Model: SentenceBERT Transformer: {compute_ndcg([4,5,3,3,3]):.3f}\")"
   ]
  },
  {
   "cell_type": "code",
   "execution_count": 47,
   "id": "5cdc03d4-88fe-4fb8-b851-8ee6a3a364ed",
   "metadata": {},
   "outputs": [
    {
     "name": "stdout",
     "output_type": "stream",
     "text": [
      "bio/environment\n",
      "\n",
      "Base Model: TF-IDF Vectorizer: 0.836 \n",
      "\n",
      "Alternate Model: SentenceBERT Transformer: 0.911\n"
     ]
    }
   ],
   "source": [
    "print(tracks[3])\n",
    "print(f\"Base Model: TF-IDF Vectorizer: {compute_ndcg([2,5,1,0,0]):.3f} \\n\\nAlternate Model: SentenceBERT Transformer: {compute_ndcg([3,5,4,1,2]):.3f}\")"
   ]
  },
  {
   "cell_type": "code",
   "execution_count": 48,
   "id": "58751b6b-9b2b-4767-9f06-96a5ec4e114b",
   "metadata": {},
   "outputs": [
    {
     "name": "stdout",
     "output_type": "stream",
     "text": [
      "information/neuro\n",
      "\n",
      "Base Model: TF-IDF Vectorizer: 0.896 \n",
      "\n",
      "Alternate Model: SentenceBERT Transformer: 0.905\n"
     ]
    }
   ],
   "source": [
    "print(tracks[4])\n",
    "print(f\"Base Model: TF-IDF Vectorizer: {compute_ndcg([2,3,1,3,3]):.3f} \\n\\nAlternate Model: SentenceBERT Transformer: {compute_ndcg([3,4,4,5,4]):.3f}\")"
   ]
  },
  {
   "cell_type": "code",
   "execution_count": 49,
   "id": "3b80c2d2-17bc-40c9-9f39-f19e2568d186",
   "metadata": {},
   "outputs": [
    {
     "name": "stdout",
     "output_type": "stream",
     "text": [
      "SOCIAL SCIENCE\n",
      "\n",
      "economics\n",
      "\n",
      "Base Model: TF-IDF Vectorizer: 0.760 \n",
      "\n",
      "Alternate Model: SentenceBERT Transformer: 0.805\n"
     ]
    }
   ],
   "source": [
    "print(majors[1])\n",
    "print(tracks[5])\n",
    "print(f\"Base Model: TF-IDF Vectorizer: {compute_ndcg([1,5,1,3,0]):.3f} \\n\\nAlternate Model: SentenceBERT Transformer: {compute_ndcg([2,2,4,5,3]):.3f}\")"
   ]
  },
  {
   "cell_type": "code",
   "execution_count": 50,
   "id": "40f62138-7e54-47e0-ac80-a339c84c39c6",
   "metadata": {},
   "outputs": [
    {
     "name": "stdout",
     "output_type": "stream",
     "text": [
      "law, ir\n",
      "\n",
      "Base Model: TF-IDF Vectorizer: 0.912 \n",
      "\n",
      "Alternate Model: SentenceBERT Transformer: 1.000\n"
     ]
    }
   ],
   "source": [
    "print(tracks[6])\n",
    "print(f\"Base Model: TF-IDF Vectorizer: {compute_ndcg([3,5,5,5,5]):.3f} \\n\\nAlternate Model: SentenceBERT Transformer: {compute_ndcg([5,5,5,5,5,]):.3f}\")"
   ]
  },
  {
   "cell_type": "code",
   "execution_count": 51,
   "id": "37bd2d35-afb1-4f87-bcda-ce67d710441e",
   "metadata": {},
   "outputs": [
    {
     "name": "stdout",
     "output_type": "stream",
     "text": [
      "psychology/economics\n",
      "\n",
      "Base Model: TF-IDF Vectorizer: 0.870 \n",
      "\n",
      "Alternate Model: SentenceBERT Transformer: 0.803\n"
     ]
    }
   ],
   "source": [
    "print(tracks[7])\n",
    "print(f\"Base Model: TF-IDF Vectorizer: {compute_ndcg([2,2,1,3,3]):.3f} \\n\\nAlternate Model: SentenceBERT Transformer: {compute_ndcg([2,1,3,2,4]):.3f}\")"
   ]
  },
  {
   "cell_type": "code",
   "execution_count": 52,
   "id": "6804c0b9-7c37-417c-9b30-995d8978e67b",
   "metadata": {},
   "outputs": [
    {
     "name": "stdout",
     "output_type": "stream",
     "text": [
      "political science/law\n",
      "\n",
      "Base Model: TF-IDF Vectorizer: 0.952 \n",
      "\n",
      "Alternate Model: SentenceBERT Transformer: 0.914\n"
     ]
    }
   ],
   "source": [
    "print(tracks[8])\n",
    "print(f\"Base Model: TF-IDF Vectorizer: {compute_ndcg([4,2,4,2,4]):.3f} \\n\\nAlternate Model: SentenceBERT Transformer: {compute_ndcg([3,5,3,3,4]):.3f}\")"
   ]
  },
  {
   "cell_type": "code",
   "execution_count": 53,
   "id": "5d5169c9-a5be-4279-ab85-fe0a489e6f6a",
   "metadata": {},
   "outputs": [
    {
     "name": "stdout",
     "output_type": "stream",
     "text": [
      "HUMANITIES\n",
      "\n",
      "history/philosophy\n",
      "\n",
      "Base Model: TF-IDF Vectorizer: 0.805 \n",
      "\n",
      "Alternate Model: SentenceBERT Transformer: 0.908\n"
     ]
    }
   ],
   "source": [
    "print(majors[2])\n",
    "print(tracks[9])\n",
    "print(f\"Base Model: TF-IDF Vectorizer: {compute_ndcg([2,0,3,1,3]):.3f} \\n\\nAlternate Model: SentenceBERT Transformer: {compute_ndcg([3,5,5,2,1]):.3f}\")"
   ]
  },
  {
   "cell_type": "code",
   "execution_count": 54,
   "id": "17e7a1a0-a140-4941-a94c-e486472e5c0f",
   "metadata": {},
   "outputs": [
    {
     "name": "stdout",
     "output_type": "stream",
     "text": [
      "cultural analysis\n",
      "\n",
      "Base Model: TF-IDF Vectorizer: 0.715 \n",
      "\n",
      "Alternate Model: SentenceBERT Transformer: 0.861\n"
     ]
    }
   ],
   "source": [
    "print(tracks[10])\n",
    "print(f\"Base Model: TF-IDF Vectorizer: {compute_ndcg([0,3,3,4,4]):.3f} \\n\\nAlternate Model: SentenceBERT Transformer: {compute_ndcg([2,5,5,2,2]):.3f}\")"
   ]
  },
  {
   "cell_type": "code",
   "execution_count": 55,
   "id": "17f3643d-54a0-4189-893b-0d06219df420",
   "metadata": {},
   "outputs": [
    {
     "name": "stdout",
     "output_type": "stream",
     "text": [
      "media/film\n",
      "\n",
      "Base Model: TF-IDF Vectorizer: 1.000 \n",
      "\n",
      "Alternate Model: SentenceBERT Transformer: 1.000\n"
     ]
    }
   ],
   "source": [
    "print(tracks[11])\n",
    "print(f\"Base Model: TF-IDF Vectorizer: {compute_ndcg([5,5,5,5,5]):.3f} \\n\\nAlternate Model: SentenceBERT Transformer: {compute_ndcg([5,5,5,5,0]):.3f}\")"
   ]
  },
  {
   "cell_type": "code",
   "execution_count": 56,
   "id": "4c7ba275-0ca5-4b68-a098-ff1c73e4443b",
   "metadata": {},
   "outputs": [
    {
     "name": "stdout",
     "output_type": "stream",
     "text": [
      "art history/history\n",
      "\n",
      "Base Model: TF-IDF Vectorizer: 0.879 \n",
      "\n",
      "Alternate Model: SentenceBERT Transformer: 0.796\n"
     ]
    }
   ],
   "source": [
    "print(tracks[12])\n",
    "print(f\"Base Model: TF-IDF Vectorizer: {compute_ndcg([2,4,4,2,4]):.3f} \\n\\nAlternate Model: SentenceBERT Transformer: {compute_ndcg([2,2,0,4,0]):.3f}\")"
   ]
  },
  {
   "cell_type": "markdown",
   "id": "605c19e1-a989-4251-a171-159188640d97",
   "metadata": {},
   "source": [
    "**Diversity Metric**\n",
    "\n",
    "Takes as an input the embeddings of the recommended courses computes intra-list diversity of these courses."
   ]
  },
  {
   "cell_type": "code",
   "execution_count": 71,
   "id": "b1206112-e9da-4953-a554-82703e011c36",
   "metadata": {},
   "outputs": [],
   "source": [
    "def compute_ild(recommended_course_embeddings):\n",
    "    # Compute cosine similarity between each embedding\n",
    "    similarity_matrix = cosine_similarity(recommended_course_embeddings)\n",
    "    n = len(recommended_course_embeddings)\n",
    "\n",
    "    # This returns only the indicies of the upper part of the matrix, ignoring the diagonal and ignoring anything below the diagonal (so we don't compare\n",
    "    # courses with themselves or compare two different courses twice)\n",
    "    upper_tri_indices = np.triu_indices(n, k=1)\n",
    "    similarities = similarity_matrix[upper_tri_indices]\n",
    "\n",
    "    dissimilarities = 1 - similarities\n",
    "    ild = dissimilarities.mean()\n",
    "    return ild"
   ]
  },
  {
   "cell_type": "markdown",
   "id": "906e9974-f6b8-413c-beef-78ec2f0af16f",
   "metadata": {},
   "source": [
    "Next we evaluate the recommended courses based on intra-list diversity."
   ]
  },
  {
   "cell_type": "code",
   "execution_count": 85,
   "id": "911fa39f-cde7-4c5d-b3f4-03369c8b3ba2",
   "metadata": {},
   "outputs": [
    {
     "name": "stdout",
     "output_type": "stream",
     "text": [
      "SCIENCE\n",
      "\n",
      "math/information\n",
      "\n",
      "Base Model: TF-IDF Vectorizer: 0.882\n",
      "\n",
      "Alternate Model: SentenceBERT Transformer: 0.334\n"
     ]
    }
   ],
   "source": [
    "print(majors[0])\n",
    "print(tracks[0])\n",
    "print(f\"Base Model: TF-IDF Vectorizer: {compute_ild(tfidf_embeddings[[1241, 1613, 2272, 2739, 2029]]):.3f}\")\n",
    "print(f\"\\nAlternate Model: SentenceBERT Transformer: {compute_ild(sentbert_embeddings[[2452, 775, 118, 2542, 1553]]):.3f}\")"
   ]
  },
  {
   "cell_type": "code",
   "execution_count": 86,
   "id": "69c3aa4e-19e5-40a3-8be9-50f666fd5779",
   "metadata": {},
   "outputs": [
    {
     "name": "stdout",
     "output_type": "stream",
     "text": [
      "biomed\n",
      "\n",
      "Base Model: TF-IDF Vectorizer: 0.863\n",
      "\n",
      "Alternate Model: SentenceBERT Transformer: 0.353\n"
     ]
    }
   ],
   "source": [
    "print(tracks[1])\n",
    "print(f\"Base Model: TF-IDF Vectorizer: {compute_ild(tfidf_embeddings[[1561, 1298, 1613, 2160, 1338]]):.3f}\")\n",
    "print(f\"\\nAlternate Model: SentenceBERT Transformer: {compute_ild(sentbert_embeddings[[394, 2161, 1561, 2160, 1369]]):.3f}\")"
   ]
  },
  {
   "cell_type": "code",
   "execution_count": 87,
   "id": "74136cb0-22e2-470e-ad42-864100d80ec4",
   "metadata": {},
   "outputs": [
    {
     "name": "stdout",
     "output_type": "stream",
     "text": [
      "physics\n",
      "\n",
      "Base Model: TF-IDF Vectorizer: 0.894\n",
      "\n",
      "Alternate Model: SentenceBERT Transformer: 0.336\n"
     ]
    }
   ],
   "source": [
    "print(tracks[2])\n",
    "print(f\"Base Model: TF-IDF Vectorizer: {compute_ild(tfidf_embeddings[[2308, 2882, 1984, 448, 1982]]):.3f}\")\n",
    "print(f\"\\nAlternate Model: SentenceBERT Transformer: {compute_ild(sentbert_embeddings[[594, 1991, 2178, 893, 72]]):.3f}\")"
   ]
  },
  {
   "cell_type": "code",
   "execution_count": 88,
   "id": "73263120-fa74-41c8-815c-47974b17600c",
   "metadata": {},
   "outputs": [
    {
     "name": "stdout",
     "output_type": "stream",
     "text": [
      "bio/environment\n",
      "\n",
      "Base Model: TF-IDF Vectorizer: 0.901\n",
      "\n",
      "Alternate Model: SentenceBERT Transformer: 0.232\n"
     ]
    }
   ],
   "source": [
    "print(tracks[3])\n",
    "print(f\"Base Model: TF-IDF Vectorizer: {compute_ild(tfidf_embeddings[[448, 2960, 513, 859, 3255]]):.3f}\")\n",
    "print(f\"\\nAlternate Model: SentenceBERT Transformer: {compute_ild(sentbert_embeddings[[1555, 2960, 766, 1554, 1378]]):.3f}\")"
   ]
  },
  {
   "cell_type": "code",
   "execution_count": 89,
   "id": "597cc52d-c5f5-4375-8339-faec4430de32",
   "metadata": {},
   "outputs": [
    {
     "name": "stdout",
     "output_type": "stream",
     "text": [
      "information/neuro\n",
      "\n",
      "Base Model: TF-IDF Vectorizer: 0.850\n",
      "\n",
      "Alternate Model: SentenceBERT Transformer: 0.208\n"
     ]
    }
   ],
   "source": [
    "print(tracks[4])\n",
    "print(f\"Base Model: TF-IDF Vectorizer: {compute_ild(tfidf_embeddings[[2160, 1376, 1613, 1240, 3032]]):.3f}\")\n",
    "print(f\"\\nAlternate Model: SentenceBERT Transformer: {compute_ild(sentbert_embeddings[[540, 2161, 1240, 261, 1107]]):.3f}\")"
   ]
  },
  {
   "cell_type": "code",
   "execution_count": 90,
   "id": "fead4f8b-d3ee-4562-96ee-c26b494257ee",
   "metadata": {},
   "outputs": [
    {
     "name": "stdout",
     "output_type": "stream",
     "text": [
      "SOCIAL SCIENCE\n",
      "\n",
      "economics\n",
      "\n",
      "Base Model: TF-IDF Vectorizer: 0.897\n",
      "\n",
      "Alternate Model: SentenceBERT Transformer: 0.225\n"
     ]
    }
   ],
   "source": [
    "print(majors[1])\n",
    "print(tracks[5])\n",
    "print(f\"Base Model: TF-IDF Vectorizer: {compute_ild(tfidf_embeddings[[448, 1010, 1007, 118, 2890]]):.3f}\")\n",
    "print(f\"\\nAlternate Model: SentenceBERT Transformer: {compute_ild(sentbert_embeddings[[512, 1378, 2959, 516, 1000]]):.3f}\")"
   ]
  },
  {
   "cell_type": "code",
   "execution_count": 91,
   "id": "1d14a3ac-67fd-476e-a6be-230e96e652ab",
   "metadata": {},
   "outputs": [
    {
     "name": "stdout",
     "output_type": "stream",
     "text": [
      "law, ir\n",
      "\n",
      "Base Model: TF-IDF Vectorizer: 0.344\n",
      "\n",
      "Alternate Model: SentenceBERT Transformer: 0.164\n"
     ]
    }
   ],
   "source": [
    "print(tracks[6])\n",
    "print(f\"Base Model: TF-IDF Vectorizer: {compute_ild(tfidf_embeddings[[1475, 2357, 2489, 3057, 2410]]):.3f}\")\n",
    "print(f\"\\nAlternate Model: SentenceBERT Transformer: {compute_ild(sentbert_embeddings[[2489, 2410, 1472, 2357, 3057]]):.3f}\")"
   ]
  },
  {
   "cell_type": "code",
   "execution_count": 92,
   "id": "d4c6cf6f-8ee1-45b8-916e-858e5f5f7610",
   "metadata": {},
   "outputs": [
    {
     "name": "stdout",
     "output_type": "stream",
     "text": [
      "psychology/economics\n",
      "\n",
      "Base Model: TF-IDF Vectorizer: 0.717\n",
      "\n",
      "Alternate Model: SentenceBERT Transformer: 0.251\n"
     ]
    }
   ],
   "source": [
    "print(tracks[7])\n",
    "print(f\"Base Model: TF-IDF Vectorizer: {compute_ild(tfidf_embeddings[[1241, 1613, 1589, 359, 2152]]):.3f}\")\n",
    "print(f\"\\nAlternate Model: SentenceBERT Transformer: {compute_ild(sentbert_embeddings[[2110, 775, 1241, 21, 2477]]):.3f}\")"
   ]
  },
  {
   "cell_type": "code",
   "execution_count": 93,
   "id": "b48d8df0-b84d-40cf-996b-6f2187752f60",
   "metadata": {},
   "outputs": [
    {
     "name": "stdout",
     "output_type": "stream",
     "text": [
      "political science/law\n",
      "\n",
      "Base Model: TF-IDF Vectorizer: 0.466\n",
      "\n",
      "Alternate Model: SentenceBERT Transformer: 0.338\n"
     ]
    }
   ],
   "source": [
    "print(tracks[8])\n",
    "print(f\"Base Model: TF-IDF Vectorizer: {compute_ild(tfidf_embeddings[[1384, 1360, 1466, 1435, 1070]]):.3f}\")\n",
    "print(f\"\\nAlternate Model: SentenceBERT Transformer: {compute_ild(sentbert_embeddings[[1685, 1201, 1361, 2489, 1584]]):.3f}\")"
   ]
  },
  {
   "cell_type": "code",
   "execution_count": 94,
   "id": "266af141-7f55-4281-b2ae-6887ae8f343e",
   "metadata": {},
   "outputs": [
    {
     "name": "stdout",
     "output_type": "stream",
     "text": [
      "HUMANITIES\n",
      "\n",
      "history/philosophy\n",
      "\n",
      "Base Model: TF-IDF Vectorizer: 0.851\n",
      "\n",
      "Alternate Model: SentenceBERT Transformer: 0.224\n"
     ]
    }
   ],
   "source": [
    "print(majors[2])\n",
    "print(tracks[9])\n",
    "print(f\"Base Model: TF-IDF Vectorizer: {compute_ild(tfidf_embeddings[[1582, 2029, 706, 2272, 3043]]):.3f}\")\n",
    "print(f\"\\nAlternate Model: SentenceBERT Transformer: {compute_ild(sentbert_embeddings[[706, 1355, 2285, 2272, 259]]):.3f}\")"
   ]
  },
  {
   "cell_type": "code",
   "execution_count": 95,
   "id": "201c2d50-9bb9-41ab-94fe-475e130cc395",
   "metadata": {},
   "outputs": [
    {
     "name": "stdout",
     "output_type": "stream",
     "text": [
      "cultural analysis\n",
      "\n",
      "Base Model: TF-IDF Vectorizer: 0.786\n",
      "\n",
      "Alternate Model: SentenceBERT Transformer: 0.184\n"
     ]
    }
   ],
   "source": [
    "print(tracks[10])\n",
    "print(f\"Base Model: TF-IDF Vectorizer: {compute_ild(tfidf_embeddings[[1582, 1643, 1259, 1256, 2537]]):.3f}\")\n",
    "print(f\"\\nAlternate Model: SentenceBERT Transformer: {compute_ild(sentbert_embeddings[[3239, 1569, 591, 259, 2285]]):.3f}\")"
   ]
  },
  {
   "cell_type": "code",
   "execution_count": 96,
   "id": "0f87541b-0c0f-4361-a9b9-26aca297be32",
   "metadata": {},
   "outputs": [
    {
     "name": "stdout",
     "output_type": "stream",
     "text": [
      "media/film\n",
      "\n",
      "Base Model: TF-IDF Vectorizer: 0.686\n",
      "\n",
      "Alternate Model: SentenceBERT Transformer: 0.247\n"
     ]
    }
   ],
   "source": [
    "print(tracks[11])\n",
    "print(f\"Base Model: TF-IDF Vectorizer: {compute_ild(tfidf_embeddings[[1146, 1138, 3144, 1144, 1145]]):.3f}\")\n",
    "print(f\"\\nAlternate Model: SentenceBERT Transformer: {compute_ild(sentbert_embeddings[[1146, 1138, 491, 132, 259]]):.3f}\")"
   ]
  },
  {
   "cell_type": "code",
   "execution_count": 97,
   "id": "cce22e99-1bdb-465a-8061-b15ca08ddc32",
   "metadata": {},
   "outputs": [
    {
     "name": "stdout",
     "output_type": "stream",
     "text": [
      "art history/history\n",
      "\n",
      "Base Model: TF-IDF Vectorizer: 0.658\n",
      "\n",
      "Alternate Model: SentenceBERT Transformer: 0.242\n"
     ]
    }
   ],
   "source": [
    "print(tracks[12])\n",
    "print(f\"Base Model: TF-IDF Vectorizer: {compute_ild(tfidf_embeddings[[2990, 27, 256, 2072, 145]]):.3f}\")\n",
    "print(f\"\\nAlternate Model: SentenceBERT Transformer: {compute_ild(sentbert_embeddings[[2990, 2072, 259, 681, 1351]]):.3f}\")"
   ]
  },
  {
   "cell_type": "markdown",
   "id": "90ad8215-af73-433e-9ba9-a4db0e871025",
   "metadata": {},
   "source": [
    "Sources for this part of the code:\n",
    "- ChatGPT: https://chatgpt.com/share/68373ff5-3e78-800d-8d41-b1cd95c2cd62\n",
    "\n",
    "- https://scikit-learn.org/stable/modules/generated/sklearn.metrics.ndcg_score.html\n",
    "\n",
    "- https://arxiv.org/abs/2307.04644"
   ]
  },
  {
   "cell_type": "code",
   "execution_count": null,
   "id": "a424c758-6ed4-4b82-a8fe-6232ff53548e",
   "metadata": {},
   "outputs": [],
   "source": []
  }
 ],
 "metadata": {
  "kernelspec": {
   "display_name": "Python 3 (ipykernel)",
   "language": "python",
   "name": "python3"
  },
  "language_info": {
   "codemirror_mode": {
    "name": "ipython",
    "version": 3
   },
   "file_extension": ".py",
   "mimetype": "text/x-python",
   "name": "python",
   "nbconvert_exporter": "python",
   "pygments_lexer": "ipython3",
   "version": "3.10.12"
  }
 },
 "nbformat": 4,
 "nbformat_minor": 5
}
