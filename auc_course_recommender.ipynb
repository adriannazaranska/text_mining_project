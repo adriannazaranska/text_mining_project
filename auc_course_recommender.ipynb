{
 "cells": [
  {
   "cell_type": "markdown",
   "id": "7ff05913-5ea1-42a5-9df4-eaf159900930",
   "metadata": {},
   "source": [
    "# AUC Course Recommender\n",
    "## Description\n",
    "In this notebook is the source code for the Amsterdam University College (AUC) Course Recommender. This course recommender is part of a project for the Text Mining course at AUC."
   ]
  },
  {
   "cell_type": "markdown",
   "id": "8414d2e0-5945-4c37-91d7-5515d7abb683",
   "metadata": {},
   "source": [
    "## Code\n",
    "### Imports:"
   ]
  },
  {
   "cell_type": "code",
   "execution_count": 1,
   "id": "d266089f-734d-452d-a09a-13e1cf8a8dcc",
   "metadata": {},
   "outputs": [],
   "source": [
    "import pandas as pd\n",
    "import numpy as np\n",
    "import re\n",
    "from sklearn.metrics.pairwise import cosine_similarity\n",
    "from gensim.parsing.preprocessing import remove_stopwords\n",
    "from sentence_transformers import SentenceTransformer"
   ]
  },
  {
   "cell_type": "markdown",
   "id": "2582a417-d31d-45ad-8a7f-57f0fe06122a",
   "metadata": {},
   "source": [
    "### Loading and Preprocessing the Data"
   ]
  },
  {
   "cell_type": "markdown",
   "id": "5b0fcd2a-72d4-4372-9603-47c2ad5295ac",
   "metadata": {},
   "source": [
    "Loading the data in as a pandas dataframe:"
   ]
  },
  {
   "cell_type": "code",
   "execution_count": 4,
   "id": "ee728795-e823-47b3-9745-bae932c185b8",
   "metadata": {},
   "outputs": [
    {
     "name": "stdout",
     "output_type": "stream",
     "text": [
      "(3812, 8)\n"
     ]
    }
   ],
   "source": [
    "data = pd.read_csv(\"datasets/recommender_dataset.csv\")\n",
    "print(data.shape)"
   ]
  },
  {
   "cell_type": "markdown",
   "id": "810590b6-12b1-4323-9a5b-402db671595f",
   "metadata": {},
   "source": [
    "Next we drop the rows which have nothing in the course_catalogue_number column. These rows are empty because the course scraper did not scrape information from courses whose websites were not written in English, meaning that after dropping these rows all courses in the dataset are taught in English."
   ]
  },
  {
   "cell_type": "code",
   "execution_count": 6,
   "id": "39e5cb04-6d99-4f92-8702-39a0887a376b",
   "metadata": {},
   "outputs": [
    {
     "name": "stdout",
     "output_type": "stream",
     "text": [
      "(3345, 8)\n"
     ]
    }
   ],
   "source": [
    "courses = data.dropna(subset=['course_catalogue_number', 'is_part_of', 'language_of_instruction', 'course_description'])\n",
    "print(courses.shape)"
   ]
  },
  {
   "cell_type": "markdown",
   "id": "0ea291ae-aa38-4abe-aa84-a7a0eb13b58f",
   "metadata": {},
   "source": [
    "Example of course description before preprocessing:"
   ]
  },
  {
   "cell_type": "code",
   "execution_count": 8,
   "id": "d8f5a483-1fe2-486a-afc4-00c91adf7020",
   "metadata": {},
   "outputs": [
    {
     "name": "stdout",
     "output_type": "stream",
     "text": [
      "Upon completing this course, you should be able to: identify and use different schools of thought in strategic management based on a solid understanding of their assumptions, strengths and weaknesses; critically reflect on different theories and perspectives in relation to competitive and cooperative strategy and compare them with alternative views; select, apply and combine analytical tools in diagnosing or addressing strategic issues at the business and network level in real-life cases; analyse the competitive, cooperative and coopetitive strategies of organizations, assess the impact of changes in these strategies, and formulate recommendations for improvement; adequately analyse the external and internal environment of an organization to derive relevant insights that can inform strategic decision-making; identify when and how to change or modify a business model over time and recognize relevant enabling and inhibiting factors; map the ecosystem(s) and alliance networks in which organizations operate and identify potential strategy blindspots; apply ‘parallel thinking’: what should a strategy look like and how to make sure that it is effectuated.\n",
      "This course is about competitive and cooperative strategy. Competitive strategy is concerned with making choices on how to create and maintain a competitive advantage in a particular business area (industry or product market), resulting in above-average returns, by delivering a unique value proposition. This value proposition can derive from choosing a set of activities that differ from those of competitors or that are performed differently. The course focuses on both pipeline and platform businesses and their strategic choices in the context of competitive dynamics. Firms are typically not fully independently operating entities that strive to enhance their competitive advantage entirely on their own strength. After all, most firms are embedded in networks of interdependent and cooperative relationships with other organizations. Hence, this course pays attention also to strategic choices at the network level, where firms are part of ecosystems and engage in cooperative arrangements to further their goals. The course fosters an integrative view of strategy, covering strategic analysis, strategy formulation and strategy implementation. By examining what makes some strategies strong and viable, while others remain weak and vulnerable, you enhance your ability to consider the impact of particular changes and adjustments on the opportunities for strengthening competitiveness.\n",
      "LENGTH: 2561\n"
     ]
    }
   ],
   "source": [
    "print(courses.iloc[0][\"course_description\"])\n",
    "print(\"LENGTH:\" ,len(courses.iloc[0][\"course_description\"]))"
   ]
  },
  {
   "cell_type": "markdown",
   "id": "7f043a79-e1e8-45de-989f-fc5c3827e200",
   "metadata": {},
   "source": [
    "Now we remove the stop words from dataframe's columns, as these act as noise that do not add much discriminative value in terms of similarity. "
   ]
  },
  {
   "cell_type": "code",
   "execution_count": 10,
   "id": "e6a324b2-1717-4ca5-b845-6b241eb914a3",
   "metadata": {},
   "outputs": [],
   "source": [
    "courses = courses.reset_index(drop=True)\n",
    "for i in range(len(courses)):\n",
    "    courses.loc[i, 'course_name'] = courses.loc[i, 'course_name'].lower()\n",
    "    courses.loc[i, 'college_graduate'] = courses.loc[i, 'college_graduate'].lower()\n",
    "    courses.loc[i, 'language_of_instruction'] = courses.loc[i, 'language_of_instruction'].lower()\n",
    "    courses.loc[i, 'is_part_of'] = courses['is_part_of'][i].lower()\n",
    "    courses.loc[i, 'is_part_of'] = remove_stopwords(courses.loc[i, 'is_part_of'])\n",
    "    courses.loc[i, 'course_description'] = courses.loc[i, \"course_description\"].lower()\n",
    "    courses.loc[i, 'course_description'] = remove_stopwords(courses.loc[i, 'course_description'])"
   ]
  },
  {
   "cell_type": "markdown",
   "id": "77a74281-cac0-47c2-a55b-7b5ac707c019",
   "metadata": {},
   "source": [
    "We also remove punctuation from the text, as this also acts as noise:"
   ]
  },
  {
   "cell_type": "code",
   "execution_count": 12,
   "id": "b346da1b-8c9b-4be4-9d10-9f807d5d03b6",
   "metadata": {},
   "outputs": [],
   "source": [
    "for i in range(len(courses)):\n",
    "    courses.loc[i, 'course_name'] = re.sub(r'[^\\w\\s]+', '', courses['course_name'][i])\n",
    "    courses.loc[i, 'is_part_of'] = re.sub(r'[^\\w\\s]+', '', courses['is_part_of'][i])\n",
    "    courses.loc[i, 'college_graduate'] = re.sub(r'[^\\w\\s]+', '', courses['college_graduate'][i])\n",
    "    courses.loc[i, 'course_description'] = re.sub(r'[^\\w\\s]+', '', courses['course_description'][i])"
   ]
  },
  {
   "cell_type": "markdown",
   "id": "4762a23d-1b9f-428c-a52a-83c4736a392f",
   "metadata": {},
   "source": [
    "Example of course description after preprocessing:"
   ]
  },
  {
   "cell_type": "code",
   "execution_count": 14,
   "id": "c02cd68f-47da-44bf-91a9-1ef6ede0ade3",
   "metadata": {},
   "outputs": [
    {
     "name": "stdout",
     "output_type": "stream",
     "text": [
      "completing course able to identify use different schools thought strategic management based solid understanding assumptions strengths weaknesses critically reflect different theories perspectives relation competitive cooperative strategy compare alternative views select apply combine analytical tools diagnosing addressing strategic issues business network level reallife cases analyse competitive cooperative coopetitive strategies organizations assess impact changes strategies formulate recommendations improvement adequately analyse external internal environment organization derive relevant insights inform strategic decisionmaking identify change modify business model time recognize relevant enabling inhibiting factors map ecosystems alliance networks organizations operate identify potential strategy blindspots apply parallel thinking strategy look like sure effectuated course competitive cooperative strategy competitive strategy concerned making choices create maintain competitive advantage particular business area industry product market resulting aboveaverage returns delivering unique value proposition value proposition derive choosing set activities differ competitors performed differently course focuses pipeline platform businesses strategic choices context competitive dynamics firms typically fully independently operating entities strive enhance competitive advantage entirely strength all firms embedded networks interdependent cooperative relationships organizations hence course pays attention strategic choices network level firms ecosystems engage cooperative arrangements goals course fosters integrative view strategy covering strategic analysis strategy formulation strategy implementation examining makes strategies strong viable remain weak vulnerable enhance ability consider impact particular changes adjustments opportunities strengthening competitiveness\n",
      "LENGTH:  1895\n"
     ]
    }
   ],
   "source": [
    "print(courses.iloc[0][\"course_description\"])\n",
    "print(\"LENGTH: \", len(courses.iloc[0][\"course_description\"]))"
   ]
  },
  {
   "cell_type": "markdown",
   "id": "c1108a63-be32-4126-b67e-25c4fe0c5fc7",
   "metadata": {},
   "source": [
    "Sources for this part of the code:\n",
    "* https://pandas.pydata.org/docs/reference/api/pandas.DataFrame.loc.html\n",
    "* https://www.w3schools.com/python/pandas/ref_df_reset_index.asp#:~:text=Definition%20and%20Usage,this%2C%20use%20the%20drop%20parameter.\n",
    "* https://pandas.pydata.org/docs/reference/api/pandas.DataFrame.reset_index.html\n",
    "* https://www.geeksforgeeks.org/removing-stop-words-nltk-python/\n",
    "* https://towardsdatascience.com/remove-punctuation-pandas-3e461efe9584/\n",
    "* https://www.geeksforgeeks.org/python-remove-punctuation-from-string/"
   ]
  },
  {
   "cell_type": "markdown",
   "id": "4c0d70e0-3567-42a7-a2d1-597a2df78c4f",
   "metadata": {},
   "source": [
    "### Vectorization"
   ]
  },
  {
   "cell_type": "markdown",
   "id": "145d0156-68fc-4193-888d-7e9480f16435",
   "metadata": {},
   "source": [
    "Loading the SentenceTransformer model in."
   ]
  },
  {
   "cell_type": "code",
   "execution_count": 18,
   "id": "3fc1bca0-066e-480d-8f28-9ef57353c1c8",
   "metadata": {},
   "outputs": [],
   "source": [
    "model = SentenceTransformer(\"all-MiniLM-L6-v2\")"
   ]
  },
  {
   "cell_type": "markdown",
   "id": "10ae1791-90c9-4bc9-8b37-d4f69ef6b135",
   "metadata": {},
   "source": [
    "Combining the colunms which have the main informations about the courses just into one column as one text"
   ]
  },
  {
   "cell_type": "code",
   "execution_count": 20,
   "id": "538adfbe-13d7-4f54-91c5-772d60a62d1f",
   "metadata": {},
   "outputs": [],
   "source": [
    "courses['combined_text'] = courses['course_name'] + courses['is_part_of'] + courses['college_graduate'] + courses['course_description']"
   ]
  },
  {
   "cell_type": "markdown",
   "id": "d877ba3c-2d13-4d75-8e47-365c33f8ea89",
   "metadata": {},
   "source": [
    "encoding the combined_text column into the model and checkin it shape"
   ]
  },
  {
   "cell_type": "code",
   "execution_count": 22,
   "id": "12c50ee5-7720-41ab-9590-8b0008f44d0f",
   "metadata": {},
   "outputs": [
    {
     "name": "stdout",
     "output_type": "stream",
     "text": [
      "(3345, 384)\n"
     ]
    }
   ],
   "source": [
    "embeddings = model.encode(courses['combined_text'])\n",
    "print(embeddings.shape)"
   ]
  },
  {
   "cell_type": "markdown",
   "id": "11a1e711-5d37-4cae-b39d-3ffcf07e0b14",
   "metadata": {},
   "source": [
    "Sources for this part of the code:\n",
    "* https://sbert.net/docs/quickstart.html#sentence-transformer\n",
    "* https://peaceful0907.medium.com/sentence-embedding-by-bert-and-sentence-similarity-759f7beccbf1"
   ]
  },
  {
   "cell_type": "markdown",
   "id": "f26ca921-6255-42e8-8d00-cbd80aa2379b",
   "metadata": {},
   "source": [
    "### Recommender"
   ]
  },
  {
   "cell_type": "code",
   "execution_count": 25,
   "id": "2cd23408-c237-4d00-b43e-767f1176d205",
   "metadata": {},
   "outputs": [],
   "source": [
    "def recommend_courses(li_course_ids, embeddings, courses_df, top_n=5):\n",
    "    #making a dictionary which will have the course catalogue numbers and the idexes of the vectors\n",
    "    ids_idx = {}\n",
    "    for idx, cid in enumerate(courses_df['course_catalogue_number']):\n",
    "        ids_idx[cid] = idx\n",
    "\n",
    "    #getting the indexes of the courses in the li_course_ids\n",
    "    course_idx = []\n",
    "    for cid in li_course_ids:\n",
    "        course_idx.append(ids_idx[cid])\n",
    "\n",
    "    #getting the embbedings of the courses in the li_course_ids - soruice\n",
    "    course_emb = embeddings[course_idx]\n",
    "\n",
    "    #taking the mean of the course_emb\n",
    "    av_emb = np.mean(course_emb, axis=0).reshape(1, -1)\n",
    "    \n",
    "    #calculating the cosine similarities and flattening them to one dimension\n",
    "    cosine_sim = cosine_similarity(av_emb, embeddings).flatten()\n",
    "    \n",
    "    #making the cosine similarities a list and sorting it\n",
    "    sim_scores = list(enumerate(cosine_sim))\n",
    "    sim_scores = sorted(sim_scores, key=lambda x: x[1], reverse=True)\n",
    "    \n",
    "    #removing the courses from the sim_scores which were in the li_course_ids - might be worng\n",
    "    index_to_id = courses_df['course_catalogue_number'].tolist()\n",
    "    \n",
    "    selected_indicies = [index_to_id.index(cid) for cid in li_course_ids if cid in index_to_id]\n",
    "    \n",
    "    sim_scores = [s for s in sim_scores if s[0] not in selected_indicies]\n",
    "    \n",
    "    #getting the top 5 courses from the similaritie scores - also might be wrong\n",
    "    course_indices = [i[0] for i in sim_scores[:top_n]]\n",
    "    \n",
    "    \n",
    "    #returning the name of the course and it's course catalogue number\n",
    "    return courses_df.iloc[course_indices][['course_name', 'course_catalogue_number']]"
   ]
  },
  {
   "cell_type": "markdown",
   "id": "de34b9a1-84f7-4936-9603-58b2f5ff4195",
   "metadata": {},
   "source": [
    "Sources for this part of the code:\n",
    "* https://scikit-learn.org/stable/modules/generated/sklearn.metrics.pairwise.cosine_similarity.html\n",
    "* https://numpy.org/doc/stable/reference/generated/numpy.matrix.flatten.html\n",
    "* https://ioflood.com/blog/dataframe-to-list-pandas/#:~:text=You%20can%20use%20the%20toList,tolist()%20.&text=In%20the%20example%20above%2C%20we,1%2C%202%2C%203%5D.\n",
    "* https://www.programiz.com/python-programming/methods/list/index"
   ]
  },
  {
   "cell_type": "markdown",
   "id": "79842d7b-7966-4c4f-87a1-225485d64377",
   "metadata": {},
   "source": [
    "### Testing"
   ]
  },
  {
   "cell_type": "markdown",
   "id": "b7e7c787-45f8-48fe-af44-05c6623529bd",
   "metadata": {},
   "source": [
    "Opening the test dataset:"
   ]
  },
  {
   "cell_type": "code",
   "execution_count": 29,
   "id": "4d59bb99-d501-41cc-9290-bcf7ccb0d1ab",
   "metadata": {},
   "outputs": [],
   "source": [
    "majors = []\n",
    "tracks = []\n",
    "li_course_ids = []\n",
    "with open(\"datasets/test_set.txt\", 'r') as f:\n",
    "    for l in f:\n",
    "        if l[0] == '[':\n",
    "            li_course_ids.append(eval(l))\n",
    "        elif l.isupper():\n",
    "            majors.append(l)\n",
    "        elif l.islower():\n",
    "            tracks.append(l)"
   ]
  },
  {
   "cell_type": "markdown",
   "id": "15b89b9a-f012-48b7-8d43-1cde934bf319",
   "metadata": {},
   "source": [
    "Using the recommender function on the test dataset to test it's preformance"
   ]
  },
  {
   "cell_type": "code",
   "execution_count": 31,
   "id": "b147b816-5643-4599-9baf-f393eb87ccc3",
   "metadata": {
    "scrolled": true
   },
   "outputs": [
    {
     "name": "stdout",
     "output_type": "stream",
     "text": [
      "SCIENCE\n",
      "\n",
      "math/information\n",
      "\n"
     ]
    },
    {
     "data": {
      "text/html": [
       "<div>\n",
       "<style scoped>\n",
       "    .dataframe tbody tr th:only-of-type {\n",
       "        vertical-align: middle;\n",
       "    }\n",
       "\n",
       "    .dataframe tbody tr th {\n",
       "        vertical-align: top;\n",
       "    }\n",
       "\n",
       "    .dataframe thead th {\n",
       "        text-align: right;\n",
       "    }\n",
       "</style>\n",
       "<table border=\"1\" class=\"dataframe\">\n",
       "  <thead>\n",
       "    <tr style=\"text-align: right;\">\n",
       "      <th></th>\n",
       "      <th>course_name</th>\n",
       "      <th>course_catalogue_number</th>\n",
       "    </tr>\n",
       "  </thead>\n",
       "  <tbody>\n",
       "    <tr>\n",
       "      <th>2452</th>\n",
       "      <td>programming in psychological science</td>\n",
       "      <td>7205RM39XY</td>\n",
       "    </tr>\n",
       "    <tr>\n",
       "      <th>775</th>\n",
       "      <td>current topics psychology and ai</td>\n",
       "      <td>7203BM45XY</td>\n",
       "    </tr>\n",
       "    <tr>\n",
       "      <th>118</th>\n",
       "      <td>advanced research methods and statistics</td>\n",
       "      <td>900323ACCY</td>\n",
       "    </tr>\n",
       "    <tr>\n",
       "      <th>2542</th>\n",
       "      <td>rationality cognition and reasoning</td>\n",
       "      <td>187413086Y</td>\n",
       "    </tr>\n",
       "    <tr>\n",
       "      <th>1553</th>\n",
       "      <td>introduction to digital methods  programming</td>\n",
       "      <td>113221416Y</td>\n",
       "    </tr>\n",
       "  </tbody>\n",
       "</table>\n",
       "</div>"
      ],
      "text/plain": [
       "                                       course_name course_catalogue_number\n",
       "2452          programming in psychological science              7205RM39XY\n",
       "775               current topics psychology and ai              7203BM45XY\n",
       "118       advanced research methods and statistics              900323ACCY\n",
       "2542           rationality cognition and reasoning              187413086Y\n",
       "1553  introduction to digital methods  programming              113221416Y"
      ]
     },
     "execution_count": 31,
     "metadata": {},
     "output_type": "execute_result"
    }
   ],
   "source": [
    "print(majors[0])\n",
    "print(tracks[0])\n",
    "recommend_courses(li_course_ids[0], embeddings, courses)"
   ]
  },
  {
   "cell_type": "code",
   "execution_count": 32,
   "id": "a440d2c0-56d3-4817-a484-20e0733c1508",
   "metadata": {},
   "outputs": [
    {
     "name": "stdout",
     "output_type": "stream",
     "text": [
      "biomed\n",
      "\n"
     ]
    },
    {
     "data": {
      "text/html": [
       "<div>\n",
       "<style scoped>\n",
       "    .dataframe tbody tr th:only-of-type {\n",
       "        vertical-align: middle;\n",
       "    }\n",
       "\n",
       "    .dataframe tbody tr th {\n",
       "        vertical-align: top;\n",
       "    }\n",
       "\n",
       "    .dataframe thead th {\n",
       "        text-align: right;\n",
       "    }\n",
       "</style>\n",
       "<table border=\"1\" class=\"dataframe\">\n",
       "  <thead>\n",
       "    <tr style=\"text-align: right;\">\n",
       "      <th></th>\n",
       "      <th>course_name</th>\n",
       "      <th>course_catalogue_number</th>\n",
       "    </tr>\n",
       "  </thead>\n",
       "  <tbody>\n",
       "    <tr>\n",
       "      <th>394</th>\n",
       "      <td>biomedical systems biology</td>\n",
       "      <td>5234BISB6Y</td>\n",
       "    </tr>\n",
       "    <tr>\n",
       "      <th>2161</th>\n",
       "      <td>neurosystems</td>\n",
       "      <td>5052NEU12Y</td>\n",
       "    </tr>\n",
       "    <tr>\n",
       "      <th>1561</th>\n",
       "      <td>introduction to health and wellbeing</td>\n",
       "      <td>900106SCIY</td>\n",
       "    </tr>\n",
       "    <tr>\n",
       "      <th>2160</th>\n",
       "      <td>neuroscience from cell to behaviour</td>\n",
       "      <td>5244NCTB5Y</td>\n",
       "    </tr>\n",
       "    <tr>\n",
       "      <th>1369</th>\n",
       "      <td>hormones and homeostasis</td>\n",
       "      <td>900262SCIY</td>\n",
       "    </tr>\n",
       "  </tbody>\n",
       "</table>\n",
       "</div>"
      ],
      "text/plain": [
       "                               course_name course_catalogue_number\n",
       "394             biomedical systems biology              5234BISB6Y\n",
       "2161                          neurosystems              5052NEU12Y\n",
       "1561  introduction to health and wellbeing              900106SCIY\n",
       "2160   neuroscience from cell to behaviour              5244NCTB5Y\n",
       "1369              hormones and homeostasis              900262SCIY"
      ]
     },
     "execution_count": 32,
     "metadata": {},
     "output_type": "execute_result"
    }
   ],
   "source": [
    "print(tracks[1])\n",
    "recommend_courses(li_course_ids[1], embeddings, courses)"
   ]
  },
  {
   "cell_type": "code",
   "execution_count": 33,
   "id": "6ca67234-a2d0-4d7e-ad09-c8a39d6d807a",
   "metadata": {},
   "outputs": [
    {
     "name": "stdout",
     "output_type": "stream",
     "text": [
      "physics\n",
      "\n"
     ]
    },
    {
     "data": {
      "text/html": [
       "<div>\n",
       "<style scoped>\n",
       "    .dataframe tbody tr th:only-of-type {\n",
       "        vertical-align: middle;\n",
       "    }\n",
       "\n",
       "    .dataframe tbody tr th {\n",
       "        vertical-align: top;\n",
       "    }\n",
       "\n",
       "    .dataframe thead th {\n",
       "        text-align: right;\n",
       "    }\n",
       "</style>\n",
       "<table border=\"1\" class=\"dataframe\">\n",
       "  <thead>\n",
       "    <tr style=\"text-align: right;\">\n",
       "      <th></th>\n",
       "      <th>course_name</th>\n",
       "      <th>course_catalogue_number</th>\n",
       "    </tr>\n",
       "  </thead>\n",
       "  <tbody>\n",
       "    <tr>\n",
       "      <th>594</th>\n",
       "      <td>condensed matter theory 1</td>\n",
       "      <td>53541CMT3Y</td>\n",
       "    </tr>\n",
       "    <tr>\n",
       "      <th>1991</th>\n",
       "      <td>mathematics of physics</td>\n",
       "      <td>900334SCIY</td>\n",
       "    </tr>\n",
       "    <tr>\n",
       "      <th>2178</th>\n",
       "      <td>numerical mathematics</td>\n",
       "      <td>900228SCIY</td>\n",
       "    </tr>\n",
       "    <tr>\n",
       "      <th>893</th>\n",
       "      <td>discrete mathematics and algebra</td>\n",
       "      <td>900397SCIY</td>\n",
       "    </tr>\n",
       "    <tr>\n",
       "      <th>72</th>\n",
       "      <td>advanced computational condensed matter</td>\n",
       "      <td>5354ACCM3Y</td>\n",
       "    </tr>\n",
       "  </tbody>\n",
       "</table>\n",
       "</div>"
      ],
      "text/plain": [
       "                                  course_name course_catalogue_number\n",
       "594                 condensed matter theory 1              53541CMT3Y\n",
       "1991                   mathematics of physics              900334SCIY\n",
       "2178                    numerical mathematics              900228SCIY\n",
       "893          discrete mathematics and algebra              900397SCIY\n",
       "72    advanced computational condensed matter              5354ACCM3Y"
      ]
     },
     "execution_count": 33,
     "metadata": {},
     "output_type": "execute_result"
    }
   ],
   "source": [
    "print(tracks[2])\n",
    "recommend_courses(li_course_ids[2], embeddings, courses)"
   ]
  },
  {
   "cell_type": "code",
   "execution_count": 34,
   "id": "af37cba0-0d9d-4f01-95ab-7fec095426d6",
   "metadata": {},
   "outputs": [
    {
     "name": "stdout",
     "output_type": "stream",
     "text": [
      "bio/environment\n",
      "\n"
     ]
    },
    {
     "data": {
      "text/html": [
       "<div>\n",
       "<style scoped>\n",
       "    .dataframe tbody tr th:only-of-type {\n",
       "        vertical-align: middle;\n",
       "    }\n",
       "\n",
       "    .dataframe tbody tr th {\n",
       "        vertical-align: top;\n",
       "    }\n",
       "\n",
       "    .dataframe thead th {\n",
       "        text-align: right;\n",
       "    }\n",
       "</style>\n",
       "<table border=\"1\" class=\"dataframe\">\n",
       "  <thead>\n",
       "    <tr style=\"text-align: right;\">\n",
       "      <th></th>\n",
       "      <th>course_name</th>\n",
       "      <th>course_catalogue_number</th>\n",
       "    </tr>\n",
       "  </thead>\n",
       "  <tbody>\n",
       "    <tr>\n",
       "      <th>1555</th>\n",
       "      <td>introduction to environmental sciences</td>\n",
       "      <td>900181SCIY</td>\n",
       "    </tr>\n",
       "    <tr>\n",
       "      <th>2960</th>\n",
       "      <td>system earth</td>\n",
       "      <td>900283SCIY</td>\n",
       "    </tr>\n",
       "    <tr>\n",
       "      <th>766</th>\n",
       "      <td>current topics in biology</td>\n",
       "      <td>5224CTIB6Y</td>\n",
       "    </tr>\n",
       "    <tr>\n",
       "      <th>1554</th>\n",
       "      <td>introduction to environmental humanities</td>\n",
       "      <td>129221066Y</td>\n",
       "    </tr>\n",
       "    <tr>\n",
       "      <th>1378</th>\n",
       "      <td>human environment interactions</td>\n",
       "      <td>5264HUEI6Y</td>\n",
       "    </tr>\n",
       "  </tbody>\n",
       "</table>\n",
       "</div>"
      ],
      "text/plain": [
       "                                   course_name course_catalogue_number\n",
       "1555    introduction to environmental sciences              900181SCIY\n",
       "2960                              system earth              900283SCIY\n",
       "766                  current topics in biology              5224CTIB6Y\n",
       "1554  introduction to environmental humanities              129221066Y\n",
       "1378            human environment interactions              5264HUEI6Y"
      ]
     },
     "execution_count": 34,
     "metadata": {},
     "output_type": "execute_result"
    }
   ],
   "source": [
    "print(tracks[3])\n",
    "recommend_courses(li_course_ids[3], embeddings, courses)"
   ]
  },
  {
   "cell_type": "code",
   "execution_count": 35,
   "id": "30a465eb-cb03-4f50-b0bb-56551e4b421f",
   "metadata": {},
   "outputs": [
    {
     "name": "stdout",
     "output_type": "stream",
     "text": [
      "information/neuro\n",
      "\n"
     ]
    },
    {
     "data": {
      "text/html": [
       "<div>\n",
       "<style scoped>\n",
       "    .dataframe tbody tr th:only-of-type {\n",
       "        vertical-align: middle;\n",
       "    }\n",
       "\n",
       "    .dataframe tbody tr th {\n",
       "        vertical-align: top;\n",
       "    }\n",
       "\n",
       "    .dataframe thead th {\n",
       "        text-align: right;\n",
       "    }\n",
       "</style>\n",
       "<table border=\"1\" class=\"dataframe\">\n",
       "  <thead>\n",
       "    <tr style=\"text-align: right;\">\n",
       "      <th></th>\n",
       "      <th>course_name</th>\n",
       "      <th>course_catalogue_number</th>\n",
       "    </tr>\n",
       "  </thead>\n",
       "  <tbody>\n",
       "    <tr>\n",
       "      <th>540</th>\n",
       "      <td>cognitive neurobiology</td>\n",
       "      <td>5052CONE6Y</td>\n",
       "    </tr>\n",
       "    <tr>\n",
       "      <th>2161</th>\n",
       "      <td>neurosystems</td>\n",
       "      <td>5052NEU12Y</td>\n",
       "    </tr>\n",
       "    <tr>\n",
       "      <th>1240</th>\n",
       "      <td>fundamentals of neuroscience</td>\n",
       "      <td>5053FUN12Y</td>\n",
       "    </tr>\n",
       "    <tr>\n",
       "      <th>261</th>\n",
       "      <td>artificial cognition pattern recognition</td>\n",
       "      <td>900102SSCY</td>\n",
       "    </tr>\n",
       "    <tr>\n",
       "      <th>1107</th>\n",
       "      <td>experimental neurobiology</td>\n",
       "      <td>5244EXNE5Y</td>\n",
       "    </tr>\n",
       "  </tbody>\n",
       "</table>\n",
       "</div>"
      ],
      "text/plain": [
       "                                   course_name course_catalogue_number\n",
       "540                     cognitive neurobiology              5052CONE6Y\n",
       "2161                              neurosystems              5052NEU12Y\n",
       "1240              fundamentals of neuroscience              5053FUN12Y\n",
       "261   artificial cognition pattern recognition              900102SSCY\n",
       "1107                 experimental neurobiology              5244EXNE5Y"
      ]
     },
     "execution_count": 35,
     "metadata": {},
     "output_type": "execute_result"
    }
   ],
   "source": [
    "print(tracks[4])\n",
    "recommend_courses(li_course_ids[4], embeddings, courses)"
   ]
  },
  {
   "cell_type": "code",
   "execution_count": 36,
   "id": "dee7ef28-a418-4dd3-b592-a12c52bc12b4",
   "metadata": {},
   "outputs": [
    {
     "name": "stdout",
     "output_type": "stream",
     "text": [
      "SOCIAL SCIENCE\n",
      "\n",
      "economics\n",
      "\n"
     ]
    },
    {
     "data": {
      "text/html": [
       "<div>\n",
       "<style scoped>\n",
       "    .dataframe tbody tr th:only-of-type {\n",
       "        vertical-align: middle;\n",
       "    }\n",
       "\n",
       "    .dataframe tbody tr th {\n",
       "        vertical-align: top;\n",
       "    }\n",
       "\n",
       "    .dataframe thead th {\n",
       "        text-align: right;\n",
       "    }\n",
       "</style>\n",
       "<table border=\"1\" class=\"dataframe\">\n",
       "  <thead>\n",
       "    <tr style=\"text-align: right;\">\n",
       "      <th></th>\n",
       "      <th>course_name</th>\n",
       "      <th>course_catalogue_number</th>\n",
       "    </tr>\n",
       "  </thead>\n",
       "  <tbody>\n",
       "    <tr>\n",
       "      <th>512</th>\n",
       "      <td>climate and environmental conflicts in the</td>\n",
       "      <td>73230268LY</td>\n",
       "    </tr>\n",
       "    <tr>\n",
       "      <th>1378</th>\n",
       "      <td>human environment interactions</td>\n",
       "      <td>5264HUEI6Y</td>\n",
       "    </tr>\n",
       "    <tr>\n",
       "      <th>2959</th>\n",
       "      <td>system change how to navigate complex societal</td>\n",
       "      <td>3803SYNSKY</td>\n",
       "    </tr>\n",
       "    <tr>\n",
       "      <th>516</th>\n",
       "      <td>climate change economics</td>\n",
       "      <td>6414M0504Y</td>\n",
       "    </tr>\n",
       "    <tr>\n",
       "      <th>1000</th>\n",
       "      <td>environment  international sustainable develop...</td>\n",
       "      <td>73433E509Y</td>\n",
       "    </tr>\n",
       "  </tbody>\n",
       "</table>\n",
       "</div>"
      ],
      "text/plain": [
       "                                            course_name  \\\n",
       "512          climate and environmental conflicts in the   \n",
       "1378                     human environment interactions   \n",
       "2959     system change how to navigate complex societal   \n",
       "516                            climate change economics   \n",
       "1000  environment  international sustainable develop...   \n",
       "\n",
       "     course_catalogue_number  \n",
       "512               73230268LY  \n",
       "1378              5264HUEI6Y  \n",
       "2959              3803SYNSKY  \n",
       "516               6414M0504Y  \n",
       "1000              73433E509Y  "
      ]
     },
     "execution_count": 36,
     "metadata": {},
     "output_type": "execute_result"
    }
   ],
   "source": [
    "print(majors[1])\n",
    "print(tracks[5])\n",
    "recommend_courses(li_course_ids[5], embeddings, courses)"
   ]
  },
  {
   "cell_type": "code",
   "execution_count": 37,
   "id": "267d689b-00f3-4845-a0b8-e8a452b8bde0",
   "metadata": {},
   "outputs": [
    {
     "name": "stdout",
     "output_type": "stream",
     "text": [
      "law, ir\n",
      "\n"
     ]
    },
    {
     "data": {
      "text/html": [
       "<div>\n",
       "<style scoped>\n",
       "    .dataframe tbody tr th:only-of-type {\n",
       "        vertical-align: middle;\n",
       "    }\n",
       "\n",
       "    .dataframe tbody tr th {\n",
       "        vertical-align: top;\n",
       "    }\n",
       "\n",
       "    .dataframe thead th {\n",
       "        text-align: right;\n",
       "    }\n",
       "</style>\n",
       "<table border=\"1\" class=\"dataframe\">\n",
       "  <thead>\n",
       "    <tr style=\"text-align: right;\">\n",
       "      <th></th>\n",
       "      <th>course_name</th>\n",
       "      <th>course_catalogue_number</th>\n",
       "    </tr>\n",
       "  </thead>\n",
       "  <tbody>\n",
       "    <tr>\n",
       "      <th>2489</th>\n",
       "      <td>public international law</td>\n",
       "      <td>3802PUQPVY</td>\n",
       "    </tr>\n",
       "    <tr>\n",
       "      <th>2410</th>\n",
       "      <td>principles and foundations of international law</td>\n",
       "      <td>3554PRFIVY</td>\n",
       "    </tr>\n",
       "    <tr>\n",
       "      <th>1472</th>\n",
       "      <td>international law and contemporary challenges</td>\n",
       "      <td>3554ILCCVY</td>\n",
       "    </tr>\n",
       "    <tr>\n",
       "      <th>2357</th>\n",
       "      <td>politics and practices of international law</td>\n",
       "      <td>7324F101IY</td>\n",
       "    </tr>\n",
       "    <tr>\n",
       "      <th>3057</th>\n",
       "      <td>the politics of international law</td>\n",
       "      <td>7324P261ZY</td>\n",
       "    </tr>\n",
       "  </tbody>\n",
       "</table>\n",
       "</div>"
      ],
      "text/plain": [
       "                                          course_name course_catalogue_number\n",
       "2489                         public international law              3802PUQPVY\n",
       "2410  principles and foundations of international law              3554PRFIVY\n",
       "1472    international law and contemporary challenges              3554ILCCVY\n",
       "2357      politics and practices of international law              7324F101IY\n",
       "3057                the politics of international law              7324P261ZY"
      ]
     },
     "execution_count": 37,
     "metadata": {},
     "output_type": "execute_result"
    }
   ],
   "source": [
    "print(tracks[6])\n",
    "recommend_courses(li_course_ids[6], embeddings, courses)"
   ]
  },
  {
   "cell_type": "code",
   "execution_count": 38,
   "id": "1f34b2e4-97c0-4404-ad0d-bc7e23b55988",
   "metadata": {},
   "outputs": [
    {
     "name": "stdout",
     "output_type": "stream",
     "text": [
      "psychology/economics\n",
      "\n"
     ]
    },
    {
     "data": {
      "text/html": [
       "<div>\n",
       "<style scoped>\n",
       "    .dataframe tbody tr th:only-of-type {\n",
       "        vertical-align: middle;\n",
       "    }\n",
       "\n",
       "    .dataframe tbody tr th {\n",
       "        vertical-align: top;\n",
       "    }\n",
       "\n",
       "    .dataframe thead th {\n",
       "        text-align: right;\n",
       "    }\n",
       "</style>\n",
       "<table border=\"1\" class=\"dataframe\">\n",
       "  <thead>\n",
       "    <tr style=\"text-align: right;\">\n",
       "      <th></th>\n",
       "      <th>course_name</th>\n",
       "      <th>course_catalogue_number</th>\n",
       "    </tr>\n",
       "  </thead>\n",
       "  <tbody>\n",
       "    <tr>\n",
       "      <th>2110</th>\n",
       "      <td>motivation and cognition</td>\n",
       "      <td>3802MOQPVY</td>\n",
       "    </tr>\n",
       "    <tr>\n",
       "      <th>775</th>\n",
       "      <td>current topics psychology and ai</td>\n",
       "      <td>7203BM45XY</td>\n",
       "    </tr>\n",
       "    <tr>\n",
       "      <th>1241</th>\n",
       "      <td>fundamentals of psychology</td>\n",
       "      <td>3802FUQPVY</td>\n",
       "    </tr>\n",
       "    <tr>\n",
       "      <th>21</th>\n",
       "      <td>a critical look on psychologys past and future</td>\n",
       "      <td>3803CLPFVY</td>\n",
       "    </tr>\n",
       "    <tr>\n",
       "      <th>2477</th>\n",
       "      <td>psychological toolkit understanding social</td>\n",
       "      <td>7201721PXY</td>\n",
       "    </tr>\n",
       "  </tbody>\n",
       "</table>\n",
       "</div>"
      ],
      "text/plain": [
       "                                         course_name course_catalogue_number\n",
       "2110                        motivation and cognition              3802MOQPVY\n",
       "775                 current topics psychology and ai              7203BM45XY\n",
       "1241                      fundamentals of psychology              3802FUQPVY\n",
       "21    a critical look on psychologys past and future              3803CLPFVY\n",
       "2477      psychological toolkit understanding social              7201721PXY"
      ]
     },
     "execution_count": 38,
     "metadata": {},
     "output_type": "execute_result"
    }
   ],
   "source": [
    "print(tracks[7])\n",
    "recommend_courses(li_course_ids[7], embeddings, courses)"
   ]
  },
  {
   "cell_type": "code",
   "execution_count": 39,
   "id": "4b4f3ea8-6012-4d65-bd27-7d516ab8dbdf",
   "metadata": {},
   "outputs": [
    {
     "name": "stdout",
     "output_type": "stream",
     "text": [
      "political science/law\n",
      "\n"
     ]
    },
    {
     "data": {
      "text/html": [
       "<div>\n",
       "<style scoped>\n",
       "    .dataframe tbody tr th:only-of-type {\n",
       "        vertical-align: middle;\n",
       "    }\n",
       "\n",
       "    .dataframe tbody tr th {\n",
       "        vertical-align: top;\n",
       "    }\n",
       "\n",
       "    .dataframe thead th {\n",
       "        text-align: right;\n",
       "    }\n",
       "</style>\n",
       "<table border=\"1\" class=\"dataframe\">\n",
       "  <thead>\n",
       "    <tr style=\"text-align: right;\">\n",
       "      <th></th>\n",
       "      <th>course_name</th>\n",
       "      <th>course_catalogue_number</th>\n",
       "    </tr>\n",
       "  </thead>\n",
       "  <tbody>\n",
       "    <tr>\n",
       "      <th>1685</th>\n",
       "      <td>legal and social philosophy</td>\n",
       "      <td>900356SSCY</td>\n",
       "    </tr>\n",
       "    <tr>\n",
       "      <th>1201</th>\n",
       "      <td>freedom dreams social justice and struggles for</td>\n",
       "      <td>113221576Y</td>\n",
       "    </tr>\n",
       "    <tr>\n",
       "      <th>1361</th>\n",
       "      <td>history of political thought</td>\n",
       "      <td>73210026FY</td>\n",
       "    </tr>\n",
       "    <tr>\n",
       "      <th>2489</th>\n",
       "      <td>public international law</td>\n",
       "      <td>3802PUQPVY</td>\n",
       "    </tr>\n",
       "    <tr>\n",
       "      <th>1584</th>\n",
       "      <td>introduction to political science</td>\n",
       "      <td>7321E020FY</td>\n",
       "    </tr>\n",
       "  </tbody>\n",
       "</table>\n",
       "</div>"
      ],
      "text/plain": [
       "                                          course_name course_catalogue_number\n",
       "1685                      legal and social philosophy              900356SSCY\n",
       "1201  freedom dreams social justice and struggles for              113221576Y\n",
       "1361                     history of political thought              73210026FY\n",
       "2489                         public international law              3802PUQPVY\n",
       "1584                introduction to political science              7321E020FY"
      ]
     },
     "execution_count": 39,
     "metadata": {},
     "output_type": "execute_result"
    }
   ],
   "source": [
    "print(tracks[8])\n",
    "recommend_courses(li_course_ids[8], embeddings, courses)"
   ]
  },
  {
   "cell_type": "code",
   "execution_count": 40,
   "id": "b396fcee-1ea5-41cb-a6bf-9a489a7181e9",
   "metadata": {},
   "outputs": [
    {
     "name": "stdout",
     "output_type": "stream",
     "text": [
      "HUMANITIES\n",
      "\n",
      "history/philosophy\n",
      "\n"
     ]
    },
    {
     "data": {
      "text/html": [
       "<div>\n",
       "<style scoped>\n",
       "    .dataframe tbody tr th:only-of-type {\n",
       "        vertical-align: middle;\n",
       "    }\n",
       "\n",
       "    .dataframe tbody tr th {\n",
       "        vertical-align: top;\n",
       "    }\n",
       "\n",
       "    .dataframe thead th {\n",
       "        text-align: right;\n",
       "    }\n",
       "</style>\n",
       "<table border=\"1\" class=\"dataframe\">\n",
       "  <thead>\n",
       "    <tr style=\"text-align: right;\">\n",
       "      <th></th>\n",
       "      <th>course_name</th>\n",
       "      <th>course_catalogue_number</th>\n",
       "    </tr>\n",
       "  </thead>\n",
       "  <tbody>\n",
       "    <tr>\n",
       "      <th>706</th>\n",
       "      <td>creating objects defining methods philosophy</td>\n",
       "      <td>189421036Y</td>\n",
       "    </tr>\n",
       "    <tr>\n",
       "      <th>1355</th>\n",
       "      <td>history and philosophy of the humanities</td>\n",
       "      <td>187421516Y</td>\n",
       "    </tr>\n",
       "    <tr>\n",
       "      <th>2285</th>\n",
       "      <td>philosophy of the humanities lca and english</td>\n",
       "      <td>109221056Y</td>\n",
       "    </tr>\n",
       "    <tr>\n",
       "      <th>2272</th>\n",
       "      <td>philosophy of science</td>\n",
       "      <td>900274HUMY</td>\n",
       "    </tr>\n",
       "    <tr>\n",
       "      <th>259</th>\n",
       "      <td>art science and technology</td>\n",
       "      <td>129216826Y</td>\n",
       "    </tr>\n",
       "  </tbody>\n",
       "</table>\n",
       "</div>"
      ],
      "text/plain": [
       "                                       course_name course_catalogue_number\n",
       "706   creating objects defining methods philosophy              189421036Y\n",
       "1355      history and philosophy of the humanities              187421516Y\n",
       "2285  philosophy of the humanities lca and english              109221056Y\n",
       "2272                         philosophy of science              900274HUMY\n",
       "259                     art science and technology              129216826Y"
      ]
     },
     "execution_count": 40,
     "metadata": {},
     "output_type": "execute_result"
    }
   ],
   "source": [
    "print(majors[2])\n",
    "print(tracks[9])\n",
    "recommend_courses(li_course_ids[9], embeddings, courses)"
   ]
  },
  {
   "cell_type": "code",
   "execution_count": 41,
   "id": "df950569-b984-4110-9004-63eeffe9355d",
   "metadata": {},
   "outputs": [
    {
     "name": "stdout",
     "output_type": "stream",
     "text": [
      "cultural analysis\n",
      "\n"
     ]
    },
    {
     "data": {
      "text/html": [
       "<div>\n",
       "<style scoped>\n",
       "    .dataframe tbody tr th:only-of-type {\n",
       "        vertical-align: middle;\n",
       "    }\n",
       "\n",
       "    .dataframe tbody tr th {\n",
       "        vertical-align: top;\n",
       "    }\n",
       "\n",
       "    .dataframe thead th {\n",
       "        text-align: right;\n",
       "    }\n",
       "</style>\n",
       "<table border=\"1\" class=\"dataframe\">\n",
       "  <thead>\n",
       "    <tr style=\"text-align: right;\">\n",
       "      <th></th>\n",
       "      <th>course_name</th>\n",
       "      <th>course_catalogue_number</th>\n",
       "    </tr>\n",
       "  </thead>\n",
       "  <tbody>\n",
       "    <tr>\n",
       "      <th>3239</th>\n",
       "      <td>twentiethcentury theory and its afterlives</td>\n",
       "      <td>129221116Y</td>\n",
       "    </tr>\n",
       "    <tr>\n",
       "      <th>1569</th>\n",
       "      <td>introduction to literary and cultural analysis</td>\n",
       "      <td>129111072Y</td>\n",
       "    </tr>\n",
       "    <tr>\n",
       "      <th>591</th>\n",
       "      <td>concepts for reading contemporary cultures</td>\n",
       "      <td>129121042Y</td>\n",
       "    </tr>\n",
       "    <tr>\n",
       "      <th>259</th>\n",
       "      <td>art science and technology</td>\n",
       "      <td>129216826Y</td>\n",
       "    </tr>\n",
       "    <tr>\n",
       "      <th>2285</th>\n",
       "      <td>philosophy of the humanities lca and english</td>\n",
       "      <td>109221056Y</td>\n",
       "    </tr>\n",
       "  </tbody>\n",
       "</table>\n",
       "</div>"
      ],
      "text/plain": [
       "                                         course_name course_catalogue_number\n",
       "3239      twentiethcentury theory and its afterlives              129221116Y\n",
       "1569  introduction to literary and cultural analysis              129111072Y\n",
       "591       concepts for reading contemporary cultures              129121042Y\n",
       "259                       art science and technology              129216826Y\n",
       "2285    philosophy of the humanities lca and english              109221056Y"
      ]
     },
     "execution_count": 41,
     "metadata": {},
     "output_type": "execute_result"
    }
   ],
   "source": [
    "print(tracks[10])\n",
    "recommend_courses(li_course_ids[10], embeddings, courses)"
   ]
  },
  {
   "cell_type": "code",
   "execution_count": 42,
   "id": "86c0c4be-ba3b-42c5-a1a8-48866bc86d04",
   "metadata": {},
   "outputs": [
    {
     "name": "stdout",
     "output_type": "stream",
     "text": [
      "media/film\n",
      "\n"
     ]
    },
    {
     "data": {
      "text/html": [
       "<div>\n",
       "<style scoped>\n",
       "    .dataframe tbody tr th:only-of-type {\n",
       "        vertical-align: middle;\n",
       "    }\n",
       "\n",
       "    .dataframe tbody tr th {\n",
       "        vertical-align: top;\n",
       "    }\n",
       "\n",
       "    .dataframe thead th {\n",
       "        text-align: right;\n",
       "    }\n",
       "</style>\n",
       "<table border=\"1\" class=\"dataframe\">\n",
       "  <thead>\n",
       "    <tr style=\"text-align: right;\">\n",
       "      <th></th>\n",
       "      <th>course_name</th>\n",
       "      <th>course_catalogue_number</th>\n",
       "    </tr>\n",
       "  </thead>\n",
       "  <tbody>\n",
       "    <tr>\n",
       "      <th>1146</th>\n",
       "      <td>film theories</td>\n",
       "      <td>159421036Y</td>\n",
       "    </tr>\n",
       "    <tr>\n",
       "      <th>1138</th>\n",
       "      <td>film analysis</td>\n",
       "      <td>119221012Y</td>\n",
       "    </tr>\n",
       "    <tr>\n",
       "      <th>491</th>\n",
       "      <td>cinema histories and cultures</td>\n",
       "      <td>159410226Y</td>\n",
       "    </tr>\n",
       "    <tr>\n",
       "      <th>132</th>\n",
       "      <td>advanced topics in media and culture film</td>\n",
       "      <td>119221062Y</td>\n",
       "    </tr>\n",
       "    <tr>\n",
       "      <th>259</th>\n",
       "      <td>art science and technology</td>\n",
       "      <td>129216826Y</td>\n",
       "    </tr>\n",
       "  </tbody>\n",
       "</table>\n",
       "</div>"
      ],
      "text/plain": [
       "                                    course_name course_catalogue_number\n",
       "1146                              film theories              159421036Y\n",
       "1138                              film analysis              119221012Y\n",
       "491               cinema histories and cultures              159410226Y\n",
       "132   advanced topics in media and culture film              119221062Y\n",
       "259                  art science and technology              129216826Y"
      ]
     },
     "execution_count": 42,
     "metadata": {},
     "output_type": "execute_result"
    }
   ],
   "source": [
    "print(tracks[11])\n",
    "recommend_courses(li_course_ids[11], embeddings, courses)"
   ]
  },
  {
   "cell_type": "code",
   "execution_count": 43,
   "id": "4fa82eaa-9a1b-43c7-81df-9793808aea6a",
   "metadata": {},
   "outputs": [
    {
     "name": "stdout",
     "output_type": "stream",
     "text": [
      "art history/history\n",
      "\n"
     ]
    },
    {
     "data": {
      "text/html": [
       "<div>\n",
       "<style scoped>\n",
       "    .dataframe tbody tr th:only-of-type {\n",
       "        vertical-align: middle;\n",
       "    }\n",
       "\n",
       "    .dataframe tbody tr th {\n",
       "        vertical-align: top;\n",
       "    }\n",
       "\n",
       "    .dataframe thead th {\n",
       "        text-align: right;\n",
       "    }\n",
       "</style>\n",
       "<table border=\"1\" class=\"dataframe\">\n",
       "  <thead>\n",
       "    <tr style=\"text-align: right;\">\n",
       "      <th></th>\n",
       "      <th>course_name</th>\n",
       "      <th>course_catalogue_number</th>\n",
       "    </tr>\n",
       "  </thead>\n",
       "  <tbody>\n",
       "    <tr>\n",
       "      <th>2990</th>\n",
       "      <td>the art market and culture industry</td>\n",
       "      <td>900341HUMY</td>\n",
       "    </tr>\n",
       "    <tr>\n",
       "      <th>2072</th>\n",
       "      <td>modern art globally oriented ii</td>\n",
       "      <td>109221276Y</td>\n",
       "    </tr>\n",
       "    <tr>\n",
       "      <th>259</th>\n",
       "      <td>art science and technology</td>\n",
       "      <td>129216826Y</td>\n",
       "    </tr>\n",
       "    <tr>\n",
       "      <th>681</th>\n",
       "      <td>core module 3 contemporary concepts and</td>\n",
       "      <td>150511062Y</td>\n",
       "    </tr>\n",
       "    <tr>\n",
       "      <th>1351</th>\n",
       "      <td>historicism anachronism memory how not to</td>\n",
       "      <td>129121036Y</td>\n",
       "    </tr>\n",
       "  </tbody>\n",
       "</table>\n",
       "</div>"
      ],
      "text/plain": [
       "                                    course_name course_catalogue_number\n",
       "2990        the art market and culture industry              900341HUMY\n",
       "2072            modern art globally oriented ii              109221276Y\n",
       "259                  art science and technology              129216826Y\n",
       "681     core module 3 contemporary concepts and              150511062Y\n",
       "1351  historicism anachronism memory how not to              129121036Y"
      ]
     },
     "execution_count": 43,
     "metadata": {},
     "output_type": "execute_result"
    }
   ],
   "source": [
    "print(tracks[12])\n",
    "recommend_courses(li_course_ids[12], embeddings, courses)"
   ]
  },
  {
   "cell_type": "markdown",
   "id": "98dc908f-1794-41da-aa06-ef40682c918a",
   "metadata": {},
   "source": [
    "Sources for this part of the code:\n",
    "* https://www.geeksforgeeks.org/python-convert-a-string-representation-of-list-into-list/"
   ]
  }
 ],
 "metadata": {
  "kernelspec": {
   "display_name": "Python 3 (ipykernel)",
   "language": "python",
   "name": "python3"
  },
  "language_info": {
   "codemirror_mode": {
    "name": "ipython",
    "version": 3
   },
   "file_extension": ".py",
   "mimetype": "text/x-python",
   "name": "python",
   "nbconvert_exporter": "python",
   "pygments_lexer": "ipython3",
   "version": "3.11.8"
  }
 },
 "nbformat": 4,
 "nbformat_minor": 5
}
