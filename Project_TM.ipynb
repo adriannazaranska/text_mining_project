{
 "cells": [
  {
   "cell_type": "markdown",
   "id": "7ff05913-5ea1-42a5-9df4-eaf159900930",
   "metadata": {},
   "source": [
    "# Text Mining Project: AUC Courses Recommender\n",
    "## Desrciption\n",
    "In this notebook you will find the source code for the Amsterdam University College (AUC) Course Recommender which was made for a Project for the course called Text Mining. "
   ]
  },
  {
   "cell_type": "markdown",
   "id": "8414d2e0-5945-4c37-91d7-5515d7abb683",
   "metadata": {},
   "source": [
    "## Code\n",
    "### Imports:"
   ]
  },
  {
   "cell_type": "code",
   "execution_count": 184,
   "id": "d266089f-734d-452d-a09a-13e1cf8a8dcc",
   "metadata": {},
   "outputs": [],
   "source": [
    "import pandas as pd\n",
    "import numpy as np\n",
    "import nltk\n",
    "import re\n",
    "import string\n",
    "from sklearn.metrics.pairwise import cosine_similarity\n",
    "from gensim.parsing.preprocessing import remove_stopwords\n",
    "from gensim.models.doc2vec import Doc2Vec, TaggedDocument"
   ]
  },
  {
   "cell_type": "markdown",
   "id": "2582a417-d31d-45ad-8a7f-57f0fe06122a",
   "metadata": {},
   "source": [
    "### Loading and Preprocessing the Data"
   ]
  },
  {
   "cell_type": "markdown",
   "id": "5b0fcd2a-72d4-4372-9603-47c2ad5295ac",
   "metadata": {},
   "source": [
    "Loading the data in as a DataFrame"
   ]
  },
  {
   "cell_type": "code",
   "execution_count": 5,
   "id": "ee728795-e823-47b3-9745-bae932c185b8",
   "metadata": {},
   "outputs": [],
   "source": [
    "data = pd.read_csv(\"datasets/recommender_dataset.csv\")"
   ]
  },
  {
   "cell_type": "markdown",
   "id": "810590b6-12b1-4323-9a5b-402db671595f",
   "metadata": {},
   "source": [
    "Droping the rows which had noting in the row in the course_catalogue_number column."
   ]
  },
  {
   "cell_type": "code",
   "execution_count": 8,
   "id": "39e5cb04-6d99-4f92-8702-39a0887a376b",
   "metadata": {},
   "outputs": [],
   "source": [
    "courses = data.dropna(subset=['course_catalogue_number', 'is_part_of', 'language_of_instruction', 'course_description'])"
   ]
  },
  {
   "cell_type": "markdown",
   "id": "7f043a79-e1e8-45de-989f-fc5c3827e200",
   "metadata": {},
   "source": [
    "Removing the stop words from columns"
   ]
  },
  {
   "cell_type": "code",
   "execution_count": 17,
   "id": "e6a324b2-1717-4ca5-b845-6b241eb914a3",
   "metadata": {},
   "outputs": [],
   "source": [
    "courses = courses.reset_index(drop=True)\n",
    "for i in range(1, int(len(courses))):\n",
    "    courses.loc[i, 'course_name'] = courses.loc[i, 'course_name'].lower()\n",
    "    courses.loc[i, 'college_graduate'] = courses.loc[i, 'college_graduate'].lower()\n",
    "    courses.loc[i, 'language_of_instruction'] = courses.loc[i, 'language_of_instruction'].lower()\n",
    "    courses.loc[i, 'is_part_of'] = courses['is_part_of'][i].lower()\n",
    "    courses.loc[i, 'is_part_of'] = remove_stopwords(courses.loc[i, 'is_part_of'])\n",
    "    courses.loc[i, 'course_description'] = courses.iloc[i, 7].lower()\n",
    "    courses.loc[i, 'course_description'] = remove_stopwords(courses.loc[i, 'course_description'])"
   ]
  },
  {
   "cell_type": "markdown",
   "id": "77a74281-cac0-47c2-a55b-7b5ac707c019",
   "metadata": {},
   "source": [
    "Removing punctuation from the text"
   ]
  },
  {
   "cell_type": "code",
   "execution_count": 20,
   "id": "b346da1b-8c9b-4be4-9d10-9f807d5d03b6",
   "metadata": {},
   "outputs": [],
   "source": [
    "for i in range(len(courses)):\n",
    "    courses.loc[i, 'course_name'] = re.sub(r'[^\\w\\s]+', '', courses['course_name'][i])\n",
    "    courses.loc[i, 'is_part_of'] = re.sub(r'[^\\w\\s]+', '', courses['is_part_of'][i])\n",
    "    courses.loc[i, 'college_graduate'] = re.sub(r'[^\\w\\s]+', '', courses['college_graduate'][i])\n",
    "    courses.loc[i, 'course_description'] = re.sub(r'[^\\w\\s]+', '', courses['course_description'][i])"
   ]
  },
  {
   "cell_type": "markdown",
   "id": "c1108a63-be32-4126-b67e-25c4fe0c5fc7",
   "metadata": {},
   "source": [
    "Soueces for this part of the code:\n",
    "* https://pandas.pydata.org/docs/reference/api/pandas.DataFrame.loc.html\n",
    "* https://www.w3schools.com/python/pandas/ref_df_reset_index.asp#:~:text=Definition%20and%20Usage,this%2C%20use%20the%20drop%20parameter.\n",
    "* https://pandas.pydata.org/docs/reference/api/pandas.DataFrame.reset_index.html\n",
    "* https://www.geeksforgeeks.org/removing-stop-words-nltk-python/\n",
    "* https://towardsdatascience.com/remove-punctuation-pandas-3e461efe9584/\n",
    "* https://www.geeksforgeeks.org/python-remove-punctuation-from-string/"
   ]
  },
  {
   "cell_type": "markdown",
   "id": "695f9a6a-4a25-42a0-baf3-cdeb0780dcd6",
   "metadata": {},
   "source": [
    "### Tokenization"
   ]
  },
  {
   "cell_type": "markdown",
   "id": "b4382f74-9aa1-4b65-a53d-7488a8a36301",
   "metadata": {},
   "source": [
    "Tokenization of columns: 'course_name', 'is_part_of', 'college_graduate', and 'course_description'"
   ]
  },
  {
   "cell_type": "code",
   "execution_count": 31,
   "id": "af545fd2-c87a-44a6-bb56-f24f92b2c457",
   "metadata": {},
   "outputs": [],
   "source": [
    "for i in range(len(courses)):\n",
    "    courses.loc[i, 'course_name'] = nltk.tokenize.WordPunctTokenizer().tokenize(courses['course_name'][i])\n",
    "    courses.loc[i, 'is_part_of'] = nltk.tokenize.WordPunctTokenizer().tokenize(courses['is_part_of'][i])\n",
    "    courses.loc[i, 'college_graduate'] = nltk.tokenize.WordPunctTokenizer().tokenize(courses['college_graduate'][i])\n",
    "    courses.loc[i, 'course_description'] = nltk.tokenize.WordPunctTokenizer().tokenize(courses['course_description'][i])"
   ]
  },
  {
   "cell_type": "markdown",
   "id": "8cabb998-fe48-4c36-8621-e0eaec63b0bc",
   "metadata": {},
   "source": [
    "Making a new column with all of the text from the row."
   ]
  },
  {
   "cell_type": "code",
   "execution_count": 29,
   "id": "18e8f5b6-0b6d-42b7-88a3-d3e214c202c0",
   "metadata": {},
   "outputs": [],
   "source": [
    "courses['combined_text'] = courses['course_name'] + courses['is_part_of'] + courses['college_graduate'] + courses['course_description']"
   ]
  },
  {
   "cell_type": "markdown",
   "id": "7bb5e9bc-7ede-4325-a7d2-f597f998c1c7",
   "metadata": {},
   "source": [
    "Soueces for this part of the code:\n",
    "* https://www.nltk.org/api/nltk.tokenize.regexp.html\n",
    "* https://www.kaggle.com/code/kanikanarang94/tokenization-using-nltk\n",
    "* https://saturncloud.io/blog/how-to-combine-two-columns-in-a-pandas-dataframe/"
   ]
  },
  {
   "cell_type": "markdown",
   "id": "4c0d70e0-3567-42a7-a2d1-597a2df78c4f",
   "metadata": {},
   "source": [
    "### Vectorization"
   ]
  },
  {
   "cell_type": "markdown",
   "id": "2081209c-d4ad-44ab-80ac-bc14aba28b1a",
   "metadata": {},
   "source": [
    "Tagging the column courses['combined_text'] in order to be able to vectorize it with doc2vec."
   ]
  },
  {
   "cell_type": "code",
   "execution_count": 34,
   "id": "8733d2b5-321b-4954-b55b-7b45142515ff",
   "metadata": {},
   "outputs": [],
   "source": [
    "tagged_data = [TaggedDocument(words=word_tokenize(str(_d)), tags=[str(i)]) for i, _d in enumerate(courses['combined_text'])]"
   ]
  },
  {
   "cell_type": "markdown",
   "id": "68cae78b-90f7-4181-8351-a5776501a5e9",
   "metadata": {},
   "source": [
    "Below I am vectorizing the column courses['combined_text']."
   ]
  },
  {
   "cell_type": "code",
   "execution_count": 37,
   "id": "59e70b85-51d0-459d-80d8-33ccd1055d0c",
   "metadata": {},
   "outputs": [
    {
     "name": "stdout",
     "output_type": "stream",
     "text": [
      "iteration 0\n",
      "iteration 1\n",
      "iteration 2\n",
      "iteration 3\n",
      "iteration 4\n",
      "iteration 5\n",
      "iteration 6\n",
      "iteration 7\n",
      "iteration 8\n",
      "iteration 9\n",
      "iteration 10\n",
      "iteration 11\n",
      "iteration 12\n",
      "iteration 13\n",
      "iteration 14\n",
      "iteration 15\n",
      "iteration 16\n",
      "iteration 17\n",
      "iteration 18\n",
      "iteration 19\n",
      "iteration 20\n",
      "iteration 21\n",
      "iteration 22\n",
      "iteration 23\n",
      "iteration 24\n",
      "iteration 25\n",
      "iteration 26\n",
      "iteration 27\n",
      "iteration 28\n",
      "iteration 29\n",
      "iteration 30\n",
      "iteration 31\n",
      "iteration 32\n",
      "iteration 33\n",
      "iteration 34\n",
      "iteration 35\n",
      "iteration 36\n",
      "iteration 37\n",
      "iteration 38\n",
      "iteration 39\n",
      "iteration 40\n",
      "iteration 41\n",
      "iteration 42\n",
      "iteration 43\n",
      "iteration 44\n",
      "iteration 45\n",
      "iteration 46\n",
      "iteration 47\n",
      "iteration 48\n",
      "iteration 49\n",
      "iteration 50\n",
      "iteration 51\n",
      "iteration 52\n",
      "iteration 53\n",
      "iteration 54\n",
      "iteration 55\n",
      "iteration 56\n",
      "iteration 57\n",
      "iteration 58\n",
      "iteration 59\n",
      "iteration 60\n",
      "iteration 61\n",
      "iteration 62\n",
      "iteration 63\n",
      "iteration 64\n",
      "iteration 65\n",
      "iteration 66\n",
      "iteration 67\n",
      "iteration 68\n",
      "iteration 69\n",
      "iteration 70\n",
      "iteration 71\n",
      "iteration 72\n",
      "iteration 73\n",
      "iteration 74\n",
      "iteration 75\n",
      "iteration 76\n",
      "iteration 77\n",
      "iteration 78\n",
      "iteration 79\n",
      "iteration 80\n",
      "iteration 81\n",
      "iteration 82\n",
      "iteration 83\n",
      "iteration 84\n",
      "iteration 85\n",
      "iteration 86\n",
      "iteration 87\n",
      "iteration 88\n",
      "iteration 89\n",
      "iteration 90\n",
      "iteration 91\n",
      "iteration 92\n",
      "iteration 93\n",
      "iteration 94\n",
      "iteration 95\n",
      "iteration 96\n",
      "iteration 97\n",
      "iteration 98\n",
      "iteration 99\n"
     ]
    }
   ],
   "source": [
    "params = {\n",
    "    'vector_size': 100, # dimension of embeddings\n",
    "    'window': 5, # window -/+ before and after focus word\n",
    "    'epochs': 5, # number of iterations over the corpus\n",
    "    'min_count': 5, # filter on words whose frequency is below this count\n",
    "    'workers': 4, # how many cores to use\n",
    "    'alpha': 0.05 # initial learning rate for SGD. This is lambda in the class notes\n",
    "}\n",
    "\n",
    "model = Doc2Vec(**params)\n",
    "  \n",
    "model.build_vocab(tagged_data)\n",
    "\n",
    "max_epochs = 100\n",
    "\n",
    "for epoch in range(max_epochs):\n",
    "    print('iteration {0}'.format(epoch))\n",
    "    model.train(tagged_data,\n",
    "                total_examples=model.corpus_count,\n",
    "                epochs=1)\n",
    "    model.alpha = 0.2\n",
    "    model.min_alpha = model.alpha"
   ]
  },
  {
   "cell_type": "markdown",
   "id": "220eac8d-fa67-4c0e-9fd1-fc159374f2b6",
   "metadata": {},
   "source": [
    "Soueces for this part of the code (those sources are also relevent in the following part of this notebook):\n",
    "* https://radimrehurek.com/gensim/models/doc2vec.html\n",
    "* https://radimrehurek.com/gensim/auto_examples/tutorials/run_doc2vec_lee.html\n",
    "* https://medium.com/@mishra.thedeepak/doc2vec-simple-implementation-example-df2afbbfbad5\n",
    "* https://spotintelligence.com/2023/09/06/doc2vec/#What_is_Doc2Vec"
   ]
  },
  {
   "cell_type": "markdown",
   "id": "f26ca921-6255-42e8-8d00-cbd80aa2379b",
   "metadata": {},
   "source": [
    "### Recommender"
   ]
  },
  {
   "cell_type": "code",
   "execution_count": 150,
   "id": "2cd23408-c237-4d00-b43e-767f1176d205",
   "metadata": {},
   "outputs": [],
   "source": [
    "def recommend_courses(li_course_ids, model, courses_df, top_n=5):\n",
    "    #selecting the courses from the data - might be wrong\n",
    "    selected_texts = []\n",
    "    for cid in li_course_ids:\n",
    "        row = courses_df[courses_df['course_catalogue_number'] == cid]\n",
    "        if not (len(row) == 0):\n",
    "            selected_texts.append(nltk.tokenize.WordPunctTokenizer().tokenize(str(row.iloc[0]['combined_text'])))\n",
    "\n",
    "    #getting the vectors in form the doc2vec model and making one vector out of all the courses in the li_course_ids\n",
    "    vectors = [model.infer_vector(tokens) for tokens in selected_texts]\n",
    "    av_vector = np.mean(vectors, axis=0).reshape(1, -1)\n",
    "    all_vectors = np.array([model.dv[i] for i in range(len(model.dv))])\n",
    "    \n",
    "    #calculating the cosine similarities and flattening them to one dimension\n",
    "    cosine_sim = cosine_similarity(av_vector, all_vectors).flatten()\n",
    "    \n",
    "    #making the cosine similarities a list and sorting it\n",
    "    sim_scores = list(enumerate(cosine_sim))\n",
    "    sim_scores = sorted(sim_scores, key=lambda x: x[1], reverse=True)\n",
    "    \n",
    "    #removing the courses from the sim_scores which were in the li_course_ids - might be worng\n",
    "    idex_to_id = courses_df['course_catalogue_number'].tolist()\n",
    "    selected_indicies = [idex_to_id.index(cid) for cid in li_course_ids if cid in idex_to_id]\n",
    "    sim_scores = [s for s in sim_scores if s[0] not in selected_indicies]\n",
    "    \n",
    "    #getting the top 5 courses from the similaritie scores - also might be wrong\n",
    "    course_indices = [i[0] for i in sim_scores[:top_n]]\n",
    "    \n",
    "    #returning the \n",
    "    return courses_df.iloc[course_indices][['course_name', 'course_catalogue_number']]"
   ]
  },
  {
   "cell_type": "markdown",
   "id": "de34b9a1-84f7-4936-9603-58b2f5ff4195",
   "metadata": {},
   "source": [
    "Soueces for this part of the code:\n",
    "* https://scikit-learn.org/stable/modules/generated/sklearn.metrics.pairwise.cosine_similarity.html\n",
    "* https://numpy.org/doc/stable/reference/generated/numpy.matrix.flatten.html\n",
    "* https://ioflood.com/blog/dataframe-to-list-pandas/#:~:text=You%20can%20use%20the%20toList,tolist()%20.&text=In%20the%20example%20above%2C%20we,1%2C%202%2C%203%5D.\n",
    "* https://www.programiz.com/python-programming/methods/list/index"
   ]
  },
  {
   "cell_type": "markdown",
   "id": "79842d7b-7966-4c4f-87a1-225485d64377",
   "metadata": {},
   "source": [
    "### Testing"
   ]
  },
  {
   "cell_type": "markdown",
   "id": "b7e7c787-45f8-48fe-af44-05c6623529bd",
   "metadata": {},
   "source": [
    "Opening of the test dataset."
   ]
  },
  {
   "cell_type": "code",
   "execution_count": 155,
   "id": "4d59bb99-d501-41cc-9290-bcf7ccb0d1ab",
   "metadata": {},
   "outputs": [],
   "source": [
    "majors = []\n",
    "tracks = []\n",
    "li_coourse_ids = []\n",
    "with open(\"datasets/test_set.txt\", 'r') as f:\n",
    "    for l in f:\n",
    "        if l[0] == '[':\n",
    "            li_coourse_ids.append(eval(l))\n",
    "        elif l.isupper():\n",
    "            majors.append(l)\n",
    "        elif l.islower():\n",
    "            tracks.append(l)"
   ]
  },
  {
   "cell_type": "code",
   "execution_count": 157,
   "id": "b147b816-5643-4599-9baf-f393eb87ccc3",
   "metadata": {
    "scrolled": true
   },
   "outputs": [
    {
     "name": "stdout",
     "output_type": "stream",
     "text": [
      "SCIENCE\n",
      "\n",
      "math\n",
      "\n"
     ]
    },
    {
     "data": {
      "text/html": [
       "<div>\n",
       "<style scoped>\n",
       "    .dataframe tbody tr th:only-of-type {\n",
       "        vertical-align: middle;\n",
       "    }\n",
       "\n",
       "    .dataframe tbody tr th {\n",
       "        vertical-align: top;\n",
       "    }\n",
       "\n",
       "    .dataframe thead th {\n",
       "        text-align: right;\n",
       "    }\n",
       "</style>\n",
       "<table border=\"1\" class=\"dataframe\">\n",
       "  <thead>\n",
       "    <tr style=\"text-align: right;\">\n",
       "      <th></th>\n",
       "      <th>course_name</th>\n",
       "      <th>course_catalogue_number</th>\n",
       "    </tr>\n",
       "  </thead>\n",
       "  <tbody>\n",
       "    <tr>\n",
       "      <th>3269</th>\n",
       "      <td>urban research project</td>\n",
       "      <td>75150004ZY</td>\n",
       "    </tr>\n",
       "    <tr>\n",
       "      <th>2393</th>\n",
       "      <td>presentation applied anthropology inside</td>\n",
       "      <td>7313TP103Y</td>\n",
       "    </tr>\n",
       "    <tr>\n",
       "      <th>2358</th>\n",
       "      <td>politics and protest the latin american state</td>\n",
       "      <td>137221016Y</td>\n",
       "    </tr>\n",
       "    <tr>\n",
       "      <th>1994</th>\n",
       "      <td>matter materiality and material culture</td>\n",
       "      <td>141412172Y</td>\n",
       "    </tr>\n",
       "    <tr>\n",
       "      <th>1464</th>\n",
       "      <td>international financial management</td>\n",
       "      <td>6614ZF005Y</td>\n",
       "    </tr>\n",
       "  </tbody>\n",
       "</table>\n",
       "</div>"
      ],
      "text/plain": [
       "                                        course_name course_catalogue_number\n",
       "3269                         urban research project              75150004ZY\n",
       "2393       presentation applied anthropology inside              7313TP103Y\n",
       "2358  politics and protest the latin american state              137221016Y\n",
       "1994        matter materiality and material culture              141412172Y\n",
       "1464             international financial management              6614ZF005Y"
      ]
     },
     "execution_count": 157,
     "metadata": {},
     "output_type": "execute_result"
    }
   ],
   "source": [
    "print(majors[0])\n",
    "print(tracks[0])\n",
    "recommend_courses(li_coourse_ids[0], model, courses)"
   ]
  },
  {
   "cell_type": "code",
   "execution_count": 159,
   "id": "a440d2c0-56d3-4817-a484-20e0733c1508",
   "metadata": {},
   "outputs": [
    {
     "name": "stdout",
     "output_type": "stream",
     "text": [
      "biomed\n",
      "\n"
     ]
    },
    {
     "data": {
      "text/html": [
       "<div>\n",
       "<style scoped>\n",
       "    .dataframe tbody tr th:only-of-type {\n",
       "        vertical-align: middle;\n",
       "    }\n",
       "\n",
       "    .dataframe tbody tr th {\n",
       "        vertical-align: top;\n",
       "    }\n",
       "\n",
       "    .dataframe thead th {\n",
       "        text-align: right;\n",
       "    }\n",
       "</style>\n",
       "<table border=\"1\" class=\"dataframe\">\n",
       "  <thead>\n",
       "    <tr style=\"text-align: right;\">\n",
       "      <th></th>\n",
       "      <th>course_name</th>\n",
       "      <th>course_catalogue_number</th>\n",
       "    </tr>\n",
       "  </thead>\n",
       "  <tbody>\n",
       "    <tr>\n",
       "      <th>2356</th>\n",
       "      <td>politics and international relations in antiquity</td>\n",
       "      <td>13822E116Y</td>\n",
       "    </tr>\n",
       "    <tr>\n",
       "      <th>1342</th>\n",
       "      <td>heart development function and disease</td>\n",
       "      <td>5234HDFD6Y</td>\n",
       "    </tr>\n",
       "    <tr>\n",
       "      <th>616</th>\n",
       "      <td>conservation principles and practice 2 book and</td>\n",
       "      <td>146421386Y</td>\n",
       "    </tr>\n",
       "    <tr>\n",
       "      <th>1227</th>\n",
       "      <td>from the margins to the mainstream gender</td>\n",
       "      <td>7324G200ZY</td>\n",
       "    </tr>\n",
       "    <tr>\n",
       "      <th>1166</th>\n",
       "      <td>financial economics and quantitative methods</td>\n",
       "      <td>3784FEM6VY</td>\n",
       "    </tr>\n",
       "  </tbody>\n",
       "</table>\n",
       "</div>"
      ],
      "text/plain": [
       "                                            course_name  \\\n",
       "2356  politics and international relations in antiquity   \n",
       "1342             heart development function and disease   \n",
       "616     conservation principles and practice 2 book and   \n",
       "1227          from the margins to the mainstream gender   \n",
       "1166       financial economics and quantitative methods   \n",
       "\n",
       "     course_catalogue_number  \n",
       "2356              13822E116Y  \n",
       "1342              5234HDFD6Y  \n",
       "616               146421386Y  \n",
       "1227              7324G200ZY  \n",
       "1166              3784FEM6VY  "
      ]
     },
     "execution_count": 159,
     "metadata": {},
     "output_type": "execute_result"
    }
   ],
   "source": [
    "print(tracks[1])\n",
    "recommend_courses(li_coourse_ids[1], model, courses)"
   ]
  },
  {
   "cell_type": "code",
   "execution_count": 161,
   "id": "6ca67234-a2d0-4d7e-ad09-c8a39d6d807a",
   "metadata": {},
   "outputs": [
    {
     "name": "stdout",
     "output_type": "stream",
     "text": [
      "physics\n",
      "\n"
     ]
    },
    {
     "data": {
      "text/html": [
       "<div>\n",
       "<style scoped>\n",
       "    .dataframe tbody tr th:only-of-type {\n",
       "        vertical-align: middle;\n",
       "    }\n",
       "\n",
       "    .dataframe tbody tr th {\n",
       "        vertical-align: top;\n",
       "    }\n",
       "\n",
       "    .dataframe thead th {\n",
       "        text-align: right;\n",
       "    }\n",
       "</style>\n",
       "<table border=\"1\" class=\"dataframe\">\n",
       "  <thead>\n",
       "    <tr style=\"text-align: right;\">\n",
       "      <th></th>\n",
       "      <th>course_name</th>\n",
       "      <th>course_catalogue_number</th>\n",
       "    </tr>\n",
       "  </thead>\n",
       "  <tbody>\n",
       "    <tr>\n",
       "      <th>1660</th>\n",
       "      <td>language proficiency sign language of the</td>\n",
       "      <td>135110226Y</td>\n",
       "    </tr>\n",
       "    <tr>\n",
       "      <th>1631</th>\n",
       "      <td>italian language proficiency and culture 4</td>\n",
       "      <td>127121046Y</td>\n",
       "    </tr>\n",
       "    <tr>\n",
       "      <th>54</th>\n",
       "      <td>acquisition change and variation in slavic lan...</td>\n",
       "      <td>184415116Y</td>\n",
       "    </tr>\n",
       "    <tr>\n",
       "      <th>3115</th>\n",
       "      <td>thesis preparation theoretical physics</td>\n",
       "      <td>5354TPTP3Y</td>\n",
       "    </tr>\n",
       "    <tr>\n",
       "      <th>1096</th>\n",
       "      <td>evolution of language and music</td>\n",
       "      <td>5102EVTM6Y</td>\n",
       "    </tr>\n",
       "  </tbody>\n",
       "</table>\n",
       "</div>"
      ],
      "text/plain": [
       "                                            course_name  \\\n",
       "1660          language proficiency sign language of the   \n",
       "1631         italian language proficiency and culture 4   \n",
       "54    acquisition change and variation in slavic lan...   \n",
       "3115             thesis preparation theoretical physics   \n",
       "1096                    evolution of language and music   \n",
       "\n",
       "     course_catalogue_number  \n",
       "1660              135110226Y  \n",
       "1631              127121046Y  \n",
       "54                184415116Y  \n",
       "3115              5354TPTP3Y  \n",
       "1096              5102EVTM6Y  "
      ]
     },
     "execution_count": 161,
     "metadata": {},
     "output_type": "execute_result"
    }
   ],
   "source": [
    "print(tracks[2])\n",
    "recommend_courses(li_coourse_ids[2], model, courses)"
   ]
  },
  {
   "cell_type": "code",
   "execution_count": 163,
   "id": "af37cba0-0d9d-4f01-95ab-7fec095426d6",
   "metadata": {},
   "outputs": [
    {
     "name": "stdout",
     "output_type": "stream",
     "text": [
      "bio/environment\n",
      "\n"
     ]
    },
    {
     "data": {
      "text/html": [
       "<div>\n",
       "<style scoped>\n",
       "    .dataframe tbody tr th:only-of-type {\n",
       "        vertical-align: middle;\n",
       "    }\n",
       "\n",
       "    .dataframe tbody tr th {\n",
       "        vertical-align: top;\n",
       "    }\n",
       "\n",
       "    .dataframe thead th {\n",
       "        text-align: right;\n",
       "    }\n",
       "</style>\n",
       "<table border=\"1\" class=\"dataframe\">\n",
       "  <thead>\n",
       "    <tr style=\"text-align: right;\">\n",
       "      <th></th>\n",
       "      <th>course_name</th>\n",
       "      <th>course_catalogue_number</th>\n",
       "    </tr>\n",
       "  </thead>\n",
       "  <tbody>\n",
       "    <tr>\n",
       "      <th>1460</th>\n",
       "      <td>international economic cooperation</td>\n",
       "      <td>6414M0159Y</td>\n",
       "    </tr>\n",
       "    <tr>\n",
       "      <th>2016</th>\n",
       "      <td>memory  conflict in eastern and southeastern e...</td>\n",
       "      <td>142414096Y</td>\n",
       "    </tr>\n",
       "    <tr>\n",
       "      <th>1275</th>\n",
       "      <td>geopolitical economy of energy in eurasia</td>\n",
       "      <td>7323C155LY</td>\n",
       "    </tr>\n",
       "    <tr>\n",
       "      <th>1146</th>\n",
       "      <td>film theories</td>\n",
       "      <td>159421036Y</td>\n",
       "    </tr>\n",
       "    <tr>\n",
       "      <th>1675</th>\n",
       "      <td>law justice and morality</td>\n",
       "      <td>3801LJMOVY</td>\n",
       "    </tr>\n",
       "  </tbody>\n",
       "</table>\n",
       "</div>"
      ],
      "text/plain": [
       "                                            course_name  \\\n",
       "1460                 international economic cooperation   \n",
       "2016  memory  conflict in eastern and southeastern e...   \n",
       "1275          geopolitical economy of energy in eurasia   \n",
       "1146                                      film theories   \n",
       "1675                           law justice and morality   \n",
       "\n",
       "     course_catalogue_number  \n",
       "1460              6414M0159Y  \n",
       "2016              142414096Y  \n",
       "1275              7323C155LY  \n",
       "1146              159421036Y  \n",
       "1675              3801LJMOVY  "
      ]
     },
     "execution_count": 163,
     "metadata": {},
     "output_type": "execute_result"
    }
   ],
   "source": [
    "print(tracks[3])\n",
    "recommend_courses(li_coourse_ids[3], model, courses)"
   ]
  },
  {
   "cell_type": "code",
   "execution_count": 165,
   "id": "30a465eb-cb03-4f50-b0bb-56551e4b421f",
   "metadata": {},
   "outputs": [
    {
     "name": "stdout",
     "output_type": "stream",
     "text": [
      "information/neuro\n",
      "\n"
     ]
    },
    {
     "data": {
      "text/html": [
       "<div>\n",
       "<style scoped>\n",
       "    .dataframe tbody tr th:only-of-type {\n",
       "        vertical-align: middle;\n",
       "    }\n",
       "\n",
       "    .dataframe tbody tr th {\n",
       "        vertical-align: top;\n",
       "    }\n",
       "\n",
       "    .dataframe thead th {\n",
       "        text-align: right;\n",
       "    }\n",
       "</style>\n",
       "<table border=\"1\" class=\"dataframe\">\n",
       "  <thead>\n",
       "    <tr style=\"text-align: right;\">\n",
       "      <th></th>\n",
       "      <th>course_name</th>\n",
       "      <th>course_catalogue_number</th>\n",
       "    </tr>\n",
       "  </thead>\n",
       "  <tbody>\n",
       "    <tr>\n",
       "      <th>1680</th>\n",
       "      <td>leadership and organisational culture</td>\n",
       "      <td>7202BA04XY</td>\n",
       "    </tr>\n",
       "    <tr>\n",
       "      <th>1127</th>\n",
       "      <td>field school 1</td>\n",
       "      <td>110121146Y</td>\n",
       "    </tr>\n",
       "    <tr>\n",
       "      <th>2628</th>\n",
       "      <td>research methods 1</td>\n",
       "      <td>73415B006Y</td>\n",
       "    </tr>\n",
       "    <tr>\n",
       "      <th>2375</th>\n",
       "      <td>poststructuralism</td>\n",
       "      <td>187421316Y</td>\n",
       "    </tr>\n",
       "    <tr>\n",
       "      <th>44</th>\n",
       "      <td>academic skills tutoring</td>\n",
       "      <td>77411001AY</td>\n",
       "    </tr>\n",
       "  </tbody>\n",
       "</table>\n",
       "</div>"
      ],
      "text/plain": [
       "                                course_name course_catalogue_number\n",
       "1680  leadership and organisational culture              7202BA04XY\n",
       "1127                         field school 1              110121146Y\n",
       "2628                     research methods 1              73415B006Y\n",
       "2375                      poststructuralism              187421316Y\n",
       "44                 academic skills tutoring              77411001AY"
      ]
     },
     "execution_count": 165,
     "metadata": {},
     "output_type": "execute_result"
    }
   ],
   "source": [
    "print(tracks[4])\n",
    "recommend_courses(li_coourse_ids[4], model, courses)"
   ]
  },
  {
   "cell_type": "code",
   "execution_count": 167,
   "id": "dee7ef28-a418-4dd3-b592-a12c52bc12b4",
   "metadata": {},
   "outputs": [
    {
     "name": "stdout",
     "output_type": "stream",
     "text": [
      "SOCIAL SCIENCE\n",
      "\n",
      "economics\n",
      "\n"
     ]
    },
    {
     "data": {
      "text/html": [
       "<div>\n",
       "<style scoped>\n",
       "    .dataframe tbody tr th:only-of-type {\n",
       "        vertical-align: middle;\n",
       "    }\n",
       "\n",
       "    .dataframe tbody tr th {\n",
       "        vertical-align: top;\n",
       "    }\n",
       "\n",
       "    .dataframe thead th {\n",
       "        text-align: right;\n",
       "    }\n",
       "</style>\n",
       "<table border=\"1\" class=\"dataframe\">\n",
       "  <thead>\n",
       "    <tr style=\"text-align: right;\">\n",
       "      <th></th>\n",
       "      <th>course_name</th>\n",
       "      <th>course_catalogue_number</th>\n",
       "    </tr>\n",
       "  </thead>\n",
       "  <tbody>\n",
       "    <tr>\n",
       "      <th>8</th>\n",
       "      <td>12a machine learning and reasoning for health</td>\n",
       "      <td>4604MM117Y</td>\n",
       "    </tr>\n",
       "    <tr>\n",
       "      <th>1566</th>\n",
       "      <td>introduction to international relations</td>\n",
       "      <td>7321M127LY</td>\n",
       "    </tr>\n",
       "    <tr>\n",
       "      <th>2827</th>\n",
       "      <td>sociology concepts issues and research</td>\n",
       "      <td>73310201AY</td>\n",
       "    </tr>\n",
       "    <tr>\n",
       "      <th>2978</th>\n",
       "      <td>term paper argumentative discourse across domains</td>\n",
       "      <td>165418516Y</td>\n",
       "    </tr>\n",
       "    <tr>\n",
       "      <th>316</th>\n",
       "      <td>bachelors internship econometrics</td>\n",
       "      <td>6013B0362Y</td>\n",
       "    </tr>\n",
       "  </tbody>\n",
       "</table>\n",
       "</div>"
      ],
      "text/plain": [
       "                                            course_name  \\\n",
       "8         12a machine learning and reasoning for health   \n",
       "1566            introduction to international relations   \n",
       "2827             sociology concepts issues and research   \n",
       "2978  term paper argumentative discourse across domains   \n",
       "316                   bachelors internship econometrics   \n",
       "\n",
       "     course_catalogue_number  \n",
       "8                 4604MM117Y  \n",
       "1566              7321M127LY  \n",
       "2827              73310201AY  \n",
       "2978              165418516Y  \n",
       "316               6013B0362Y  "
      ]
     },
     "execution_count": 167,
     "metadata": {},
     "output_type": "execute_result"
    }
   ],
   "source": [
    "print(majors[1])\n",
    "print(tracks[5])\n",
    "recommend_courses(li_coourse_ids[5], model, courses)"
   ]
  },
  {
   "cell_type": "code",
   "execution_count": 169,
   "id": "267d689b-00f3-4845-a0b8-e8a452b8bde0",
   "metadata": {},
   "outputs": [
    {
     "name": "stdout",
     "output_type": "stream",
     "text": [
      "psychology/economics\n",
      "\n"
     ]
    },
    {
     "data": {
      "text/html": [
       "<div>\n",
       "<style scoped>\n",
       "    .dataframe tbody tr th:only-of-type {\n",
       "        vertical-align: middle;\n",
       "    }\n",
       "\n",
       "    .dataframe tbody tr th {\n",
       "        vertical-align: top;\n",
       "    }\n",
       "\n",
       "    .dataframe thead th {\n",
       "        text-align: right;\n",
       "    }\n",
       "</style>\n",
       "<table border=\"1\" class=\"dataframe\">\n",
       "  <thead>\n",
       "    <tr style=\"text-align: right;\">\n",
       "      <th></th>\n",
       "      <th>course_name</th>\n",
       "      <th>course_catalogue_number</th>\n",
       "    </tr>\n",
       "  </thead>\n",
       "  <tbody>\n",
       "    <tr>\n",
       "      <th>77</th>\n",
       "      <td>advanced creative writing</td>\n",
       "      <td>900324HUMY</td>\n",
       "    </tr>\n",
       "    <tr>\n",
       "      <th>3322</th>\n",
       "      <td>working with quantitative data</td>\n",
       "      <td>75050005FY</td>\n",
       "    </tr>\n",
       "    <tr>\n",
       "      <th>3124</th>\n",
       "      <td>thesis seminar english literature and culture</td>\n",
       "      <td>178418636Y</td>\n",
       "    </tr>\n",
       "    <tr>\n",
       "      <th>2766</th>\n",
       "      <td>seminar mathematical logic</td>\n",
       "      <td>5314SEML3Y</td>\n",
       "    </tr>\n",
       "    <tr>\n",
       "      <th>2791</th>\n",
       "      <td>skills and research methods for political science</td>\n",
       "      <td>3802SRPPVY</td>\n",
       "    </tr>\n",
       "  </tbody>\n",
       "</table>\n",
       "</div>"
      ],
      "text/plain": [
       "                                            course_name  \\\n",
       "77                            advanced creative writing   \n",
       "3322                     working with quantitative data   \n",
       "3124      thesis seminar english literature and culture   \n",
       "2766                         seminar mathematical logic   \n",
       "2791  skills and research methods for political science   \n",
       "\n",
       "     course_catalogue_number  \n",
       "77                900324HUMY  \n",
       "3322              75050005FY  \n",
       "3124              178418636Y  \n",
       "2766              5314SEML3Y  \n",
       "2791              3802SRPPVY  "
      ]
     },
     "execution_count": 169,
     "metadata": {},
     "output_type": "execute_result"
    }
   ],
   "source": [
    "print(tracks[6])\n",
    "recommend_courses(li_coourse_ids[6], model, courses)"
   ]
  },
  {
   "cell_type": "code",
   "execution_count": 171,
   "id": "1f34b2e4-97c0-4404-ad0d-bc7e23b55988",
   "metadata": {},
   "outputs": [
    {
     "name": "stdout",
     "output_type": "stream",
     "text": [
      "political science/law\n",
      "\n"
     ]
    },
    {
     "data": {
      "text/html": [
       "<div>\n",
       "<style scoped>\n",
       "    .dataframe tbody tr th:only-of-type {\n",
       "        vertical-align: middle;\n",
       "    }\n",
       "\n",
       "    .dataframe tbody tr th {\n",
       "        vertical-align: top;\n",
       "    }\n",
       "\n",
       "    .dataframe thead th {\n",
       "        text-align: right;\n",
       "    }\n",
       "</style>\n",
       "<table border=\"1\" class=\"dataframe\">\n",
       "  <thead>\n",
       "    <tr style=\"text-align: right;\">\n",
       "      <th></th>\n",
       "      <th>course_name</th>\n",
       "      <th>course_catalogue_number</th>\n",
       "    </tr>\n",
       "  </thead>\n",
       "  <tbody>\n",
       "    <tr>\n",
       "      <th>2762</th>\n",
       "      <td>semantics and philosophy</td>\n",
       "      <td>187421126Y</td>\n",
       "    </tr>\n",
       "    <tr>\n",
       "      <th>1950</th>\n",
       "      <td>mastering your masters</td>\n",
       "      <td>77613905AY</td>\n",
       "    </tr>\n",
       "    <tr>\n",
       "      <th>2389</th>\n",
       "      <td>prejudice  stereotyping</td>\n",
       "      <td>7205RS25XY</td>\n",
       "    </tr>\n",
       "    <tr>\n",
       "      <th>2106</th>\n",
       "      <td>morality of markets</td>\n",
       "      <td>3803MOQPKY</td>\n",
       "    </tr>\n",
       "    <tr>\n",
       "      <th>3249</th>\n",
       "      <td>understanding molecular simulation</td>\n",
       "      <td>5254UNMS6Y</td>\n",
       "    </tr>\n",
       "  </tbody>\n",
       "</table>\n",
       "</div>"
      ],
      "text/plain": [
       "                             course_name course_catalogue_number\n",
       "2762            semantics and philosophy              187421126Y\n",
       "1950              mastering your masters              77613905AY\n",
       "2389             prejudice  stereotyping              7205RS25XY\n",
       "2106                 morality of markets              3803MOQPKY\n",
       "3249  understanding molecular simulation              5254UNMS6Y"
      ]
     },
     "execution_count": 171,
     "metadata": {},
     "output_type": "execute_result"
    }
   ],
   "source": [
    "print(tracks[7])\n",
    "recommend_courses(li_coourse_ids[7], model, courses)"
   ]
  },
  {
   "cell_type": "code",
   "execution_count": 173,
   "id": "cede2c29-351a-4eb0-8cdb-2c977474727a",
   "metadata": {},
   "outputs": [
    {
     "name": "stdout",
     "output_type": "stream",
     "text": [
      "history/philosophy\n",
      "\n"
     ]
    },
    {
     "data": {
      "text/html": [
       "<div>\n",
       "<style scoped>\n",
       "    .dataframe tbody tr th:only-of-type {\n",
       "        vertical-align: middle;\n",
       "    }\n",
       "\n",
       "    .dataframe tbody tr th {\n",
       "        vertical-align: top;\n",
       "    }\n",
       "\n",
       "    .dataframe thead th {\n",
       "        text-align: right;\n",
       "    }\n",
       "</style>\n",
       "<table border=\"1\" class=\"dataframe\">\n",
       "  <thead>\n",
       "    <tr style=\"text-align: right;\">\n",
       "      <th></th>\n",
       "      <th>course_name</th>\n",
       "      <th>course_catalogue_number</th>\n",
       "    </tr>\n",
       "  </thead>\n",
       "  <tbody>\n",
       "    <tr>\n",
       "      <th>1519</th>\n",
       "      <td>internship seminar preservation and presentation</td>\n",
       "      <td>158621106Y</td>\n",
       "    </tr>\n",
       "    <tr>\n",
       "      <th>1433</th>\n",
       "      <td>integrated coastal dune management</td>\n",
       "      <td>5264ICDM6Y</td>\n",
       "    </tr>\n",
       "    <tr>\n",
       "      <th>673</th>\n",
       "      <td>core course holocaust and genocide studies</td>\n",
       "      <td>143414000Y</td>\n",
       "    </tr>\n",
       "    <tr>\n",
       "      <th>550</th>\n",
       "      <td>coming together coming apart theories and</td>\n",
       "      <td>111121116Y</td>\n",
       "    </tr>\n",
       "    <tr>\n",
       "      <th>2176</th>\n",
       "      <td>nuclear magnetic resonance</td>\n",
       "      <td>5254NUMR6Y</td>\n",
       "    </tr>\n",
       "  </tbody>\n",
       "</table>\n",
       "</div>"
      ],
      "text/plain": [
       "                                           course_name course_catalogue_number\n",
       "1519  internship seminar preservation and presentation              158621106Y\n",
       "1433                integrated coastal dune management              5264ICDM6Y\n",
       "673         core course holocaust and genocide studies              143414000Y\n",
       "550          coming together coming apart theories and              111121116Y\n",
       "2176                        nuclear magnetic resonance              5254NUMR6Y"
      ]
     },
     "execution_count": 173,
     "metadata": {},
     "output_type": "execute_result"
    }
   ],
   "source": [
    "print(tracks[8])\n",
    "recommend_courses(li_coourse_ids[8], model, courses)"
   ]
  },
  {
   "cell_type": "code",
   "execution_count": 175,
   "id": "4b4f3ea8-6012-4d65-bd27-7d516ab8dbdf",
   "metadata": {},
   "outputs": [
    {
     "name": "stdout",
     "output_type": "stream",
     "text": [
      "HUMANITIES\n",
      "\n",
      "history/philosophy\n",
      "\n"
     ]
    },
    {
     "data": {
      "text/html": [
       "<div>\n",
       "<style scoped>\n",
       "    .dataframe tbody tr th:only-of-type {\n",
       "        vertical-align: middle;\n",
       "    }\n",
       "\n",
       "    .dataframe tbody tr th {\n",
       "        vertical-align: top;\n",
       "    }\n",
       "\n",
       "    .dataframe thead th {\n",
       "        text-align: right;\n",
       "    }\n",
       "</style>\n",
       "<table border=\"1\" class=\"dataframe\">\n",
       "  <thead>\n",
       "    <tr style=\"text-align: right;\">\n",
       "      <th></th>\n",
       "      <th>course_name</th>\n",
       "      <th>course_catalogue_number</th>\n",
       "    </tr>\n",
       "  </thead>\n",
       "  <tbody>\n",
       "    <tr>\n",
       "      <th>2275</th>\n",
       "      <td>philosophy of science</td>\n",
       "      <td>7012B2005Y</td>\n",
       "    </tr>\n",
       "    <tr>\n",
       "      <th>2964</th>\n",
       "      <td>tax treaties i</td>\n",
       "      <td>3094TAXTVY</td>\n",
       "    </tr>\n",
       "    <tr>\n",
       "      <th>1725</th>\n",
       "      <td>logic and the human factor in forensic reasoning</td>\n",
       "      <td>5274LTHF6Y</td>\n",
       "    </tr>\n",
       "    <tr>\n",
       "      <th>717</th>\n",
       "      <td>critical cultural theory and the politics of</td>\n",
       "      <td>187421526Y</td>\n",
       "    </tr>\n",
       "    <tr>\n",
       "      <th>2384</th>\n",
       "      <td>practical project</td>\n",
       "      <td>148621026Y</td>\n",
       "    </tr>\n",
       "  </tbody>\n",
       "</table>\n",
       "</div>"
      ],
      "text/plain": [
       "                                           course_name course_catalogue_number\n",
       "2275                             philosophy of science              7012B2005Y\n",
       "2964                                    tax treaties i              3094TAXTVY\n",
       "1725  logic and the human factor in forensic reasoning              5274LTHF6Y\n",
       "717       critical cultural theory and the politics of              187421526Y\n",
       "2384                                 practical project              148621026Y"
      ]
     },
     "execution_count": 175,
     "metadata": {},
     "output_type": "execute_result"
    }
   ],
   "source": [
    "print(majors[2])\n",
    "print(tracks[8])\n",
    "recommend_courses(li_coourse_ids[8], model, courses)"
   ]
  },
  {
   "cell_type": "code",
   "execution_count": 177,
   "id": "b396fcee-1ea5-41cb-a6bf-9a489a7181e9",
   "metadata": {},
   "outputs": [
    {
     "name": "stdout",
     "output_type": "stream",
     "text": [
      "cultural analysis\n",
      "\n"
     ]
    },
    {
     "data": {
      "text/html": [
       "<div>\n",
       "<style scoped>\n",
       "    .dataframe tbody tr th:only-of-type {\n",
       "        vertical-align: middle;\n",
       "    }\n",
       "\n",
       "    .dataframe tbody tr th {\n",
       "        vertical-align: top;\n",
       "    }\n",
       "\n",
       "    .dataframe thead th {\n",
       "        text-align: right;\n",
       "    }\n",
       "</style>\n",
       "<table border=\"1\" class=\"dataframe\">\n",
       "  <thead>\n",
       "    <tr style=\"text-align: right;\">\n",
       "      <th></th>\n",
       "      <th>course_name</th>\n",
       "      <th>course_catalogue_number</th>\n",
       "    </tr>\n",
       "  </thead>\n",
       "  <tbody>\n",
       "    <tr>\n",
       "      <th>560</th>\n",
       "      <td>comparative european tort law</td>\n",
       "      <td>3802TOQPVY</td>\n",
       "    </tr>\n",
       "    <tr>\n",
       "      <th>752</th>\n",
       "      <td>cultures of european governance</td>\n",
       "      <td>142424042Y</td>\n",
       "    </tr>\n",
       "    <tr>\n",
       "      <th>1519</th>\n",
       "      <td>internship seminar preservation and presentation</td>\n",
       "      <td>158621106Y</td>\n",
       "    </tr>\n",
       "    <tr>\n",
       "      <th>1202</th>\n",
       "      <td>freedom alienation and the crisis of modernity</td>\n",
       "      <td>7323A076LY</td>\n",
       "    </tr>\n",
       "    <tr>\n",
       "      <th>2700</th>\n",
       "      <td>research workshop survey</td>\n",
       "      <td>774111003Y</td>\n",
       "    </tr>\n",
       "  </tbody>\n",
       "</table>\n",
       "</div>"
      ],
      "text/plain": [
       "                                           course_name course_catalogue_number\n",
       "560                      comparative european tort law              3802TOQPVY\n",
       "752                    cultures of european governance              142424042Y\n",
       "1519  internship seminar preservation and presentation              158621106Y\n",
       "1202    freedom alienation and the crisis of modernity              7323A076LY\n",
       "2700                          research workshop survey              774111003Y"
      ]
     },
     "execution_count": 177,
     "metadata": {},
     "output_type": "execute_result"
    }
   ],
   "source": [
    "print(tracks[9])\n",
    "recommend_courses(li_coourse_ids[9], model, courses)"
   ]
  },
  {
   "cell_type": "code",
   "execution_count": 179,
   "id": "df950569-b984-4110-9004-63eeffe9355d",
   "metadata": {},
   "outputs": [
    {
     "name": "stdout",
     "output_type": "stream",
     "text": [
      "media/film\n",
      "\n"
     ]
    },
    {
     "data": {
      "text/html": [
       "<div>\n",
       "<style scoped>\n",
       "    .dataframe tbody tr th:only-of-type {\n",
       "        vertical-align: middle;\n",
       "    }\n",
       "\n",
       "    .dataframe tbody tr th {\n",
       "        vertical-align: top;\n",
       "    }\n",
       "\n",
       "    .dataframe thead th {\n",
       "        text-align: right;\n",
       "    }\n",
       "</style>\n",
       "<table border=\"1\" class=\"dataframe\">\n",
       "  <thead>\n",
       "    <tr style=\"text-align: right;\">\n",
       "      <th></th>\n",
       "      <th>course_name</th>\n",
       "      <th>course_catalogue_number</th>\n",
       "    </tr>\n",
       "  </thead>\n",
       "  <tbody>\n",
       "    <tr>\n",
       "      <th>169</th>\n",
       "      <td>reading the city amsterdam literary classics</td>\n",
       "      <td>120217656Y</td>\n",
       "    </tr>\n",
       "    <tr>\n",
       "      <th>2525</th>\n",
       "      <td>quantum optics</td>\n",
       "      <td>5354QUOP6Y</td>\n",
       "    </tr>\n",
       "    <tr>\n",
       "      <th>3142</th>\n",
       "      <td>thinking postcolonial europe</td>\n",
       "      <td>111221416Y</td>\n",
       "    </tr>\n",
       "    <tr>\n",
       "      <th>1008</th>\n",
       "      <td>environmental economics</td>\n",
       "      <td>900122SSCY</td>\n",
       "    </tr>\n",
       "    <tr>\n",
       "      <th>2722</th>\n",
       "      <td>russian  east european literatures the classics</td>\n",
       "      <td>133221096Y</td>\n",
       "    </tr>\n",
       "  </tbody>\n",
       "</table>\n",
       "</div>"
      ],
      "text/plain": [
       "                                          course_name course_catalogue_number\n",
       "169      reading the city amsterdam literary classics              120217656Y\n",
       "2525                                   quantum optics              5354QUOP6Y\n",
       "3142                     thinking postcolonial europe              111221416Y\n",
       "1008                          environmental economics              900122SSCY\n",
       "2722  russian  east european literatures the classics              133221096Y"
      ]
     },
     "execution_count": 179,
     "metadata": {},
     "output_type": "execute_result"
    }
   ],
   "source": [
    "print(tracks[10])\n",
    "recommend_courses(li_coourse_ids[10], model, courses)"
   ]
  },
  {
   "cell_type": "code",
   "execution_count": 181,
   "id": "86c0c4be-ba3b-42c5-a1a8-48866bc86d04",
   "metadata": {},
   "outputs": [
    {
     "name": "stdout",
     "output_type": "stream",
     "text": [
      "art history/history\n",
      "\n"
     ]
    },
    {
     "data": {
      "text/html": [
       "<div>\n",
       "<style scoped>\n",
       "    .dataframe tbody tr th:only-of-type {\n",
       "        vertical-align: middle;\n",
       "    }\n",
       "\n",
       "    .dataframe tbody tr th {\n",
       "        vertical-align: top;\n",
       "    }\n",
       "\n",
       "    .dataframe thead th {\n",
       "        text-align: right;\n",
       "    }\n",
       "</style>\n",
       "<table border=\"1\" class=\"dataframe\">\n",
       "  <thead>\n",
       "    <tr style=\"text-align: right;\">\n",
       "      <th></th>\n",
       "      <th>course_name</th>\n",
       "      <th>course_catalogue_number</th>\n",
       "    </tr>\n",
       "  </thead>\n",
       "  <tbody>\n",
       "    <tr>\n",
       "      <th>1281</th>\n",
       "      <td>german 2 intermediate</td>\n",
       "      <td>11112L206Y</td>\n",
       "    </tr>\n",
       "    <tr>\n",
       "      <th>1669</th>\n",
       "      <td>law and economics ii empirical legal studies</td>\n",
       "      <td>3013L4Q0KY</td>\n",
       "    </tr>\n",
       "    <tr>\n",
       "      <th>725</th>\n",
       "      <td>critical theories</td>\n",
       "      <td>187421256Y</td>\n",
       "    </tr>\n",
       "    <tr>\n",
       "      <th>1311</th>\n",
       "      <td>good research practices</td>\n",
       "      <td>776500206Y</td>\n",
       "    </tr>\n",
       "    <tr>\n",
       "      <th>2826</th>\n",
       "      <td>sociology of the other</td>\n",
       "      <td>900274SSCY</td>\n",
       "    </tr>\n",
       "  </tbody>\n",
       "</table>\n",
       "</div>"
      ],
      "text/plain": [
       "                                       course_name course_catalogue_number\n",
       "1281                         german 2 intermediate              11112L206Y\n",
       "1669  law and economics ii empirical legal studies              3013L4Q0KY\n",
       "725                              critical theories              187421256Y\n",
       "1311                       good research practices              776500206Y\n",
       "2826                        sociology of the other              900274SSCY"
      ]
     },
     "execution_count": 181,
     "metadata": {},
     "output_type": "execute_result"
    }
   ],
   "source": [
    "print(tracks[11])\n",
    "recommend_courses(li_coourse_ids[11], model, courses)"
   ]
  },
  {
   "cell_type": "markdown",
   "id": "98dc908f-1794-41da-aa06-ef40682c918a",
   "metadata": {},
   "source": [
    "Soueces for this part of the code:\n",
    "* https://www.geeksforgeeks.org/python-convert-a-string-representation-of-list-into-list/"
   ]
  }
 ],
 "metadata": {
  "kernelspec": {
   "display_name": "Python 3 (ipykernel)",
   "language": "python",
   "name": "python3"
  },
  "language_info": {
   "codemirror_mode": {
    "name": "ipython",
    "version": 3
   },
   "file_extension": ".py",
   "mimetype": "text/x-python",
   "name": "python",
   "nbconvert_exporter": "python",
   "pygments_lexer": "ipython3",
   "version": "3.11.8"
  }
 },
 "nbformat": 4,
 "nbformat_minor": 5
}
